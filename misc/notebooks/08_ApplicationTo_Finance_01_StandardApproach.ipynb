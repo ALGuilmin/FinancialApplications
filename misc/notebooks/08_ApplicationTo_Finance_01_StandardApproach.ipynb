{
 "cells": [
  {
   "cell_type": "markdown",
   "id": "140c4007",
   "metadata": {},
   "source": [
    "# Application of amplitude estimation to Finances: Standard Approach"
   ]
  },
  {
   "cell_type": "markdown",
   "id": "8c15c443",
   "metadata": {},
   "source": [
    "The reference for this notebook will be:\n",
    "\n",
    "* NEASQC deliverable: *D5.1: Review of state-of-the-art for Pricing and Computation of VaR https://www.neasqc.eu/wp-content/uploads/2021/06/NEASQC_D5.1_Review-of-state-of-the-art-for-Pricing-and-Computation-of-VaR_R2.0_Final.pdf*"
   ]
  },
  {
   "cell_type": "markdown",
   "id": "89c063a9",
   "metadata": {},
   "source": [
    "In finance one of the most important tasks is computing the \"fair\" price of a **derivative contract** whose defintion (following investopedia) is the following:\n",
    "\n",
    "*A derivative is a contract between two or more parties whose value is based on an agreed-upon underlying financial asset (like a security) or set of assets (like an index).*\n",
    "\n",
    "Usually, the problem of computing the price of a **derivative contract** can be reduced to computing an expectation of a given input function $f(x)$ when $x$ follows a proability density $p(x)$. \n",
    "\n",
    "$$\\mathbb{E}[f]=\\int_a^bp(x)f(x)dx$$\n",
    "\n",
    "This integral can be approximated by the Riemann sum:\n",
    "\n",
    "$$\\mathbb{E}[f] = \\sum_{i=0}^{2^n-1} p(x_i)f(x_i)dx$$\n",
    "\n",
    "In this notebook we are going to show how to use the **Amplitude Estimation** algorithm to compute this values"
   ]
  },
  {
   "cell_type": "code",
   "execution_count": null,
   "id": "ddb6a0fd",
   "metadata": {},
   "outputs": [],
   "source": [
    "import sys\n",
    "sys.path.append(\"../../\")"
   ]
  },
  {
   "cell_type": "code",
   "execution_count": null,
   "id": "903ccf00",
   "metadata": {},
   "outputs": [],
   "source": [
    "import numpy as np\n",
    "import pandas as pd\n",
    "import matplotlib.pyplot as plt\n",
    "import qat.lang.AQASM as qlm\n",
    "from copy import deepcopy"
   ]
  },
  {
   "cell_type": "code",
   "execution_count": null,
   "id": "2e6667ab",
   "metadata": {},
   "outputs": [],
   "source": [
    "%matplotlib inline"
   ]
  },
  {
   "cell_type": "code",
   "execution_count": null,
   "id": "3e2761d3",
   "metadata": {},
   "outputs": [],
   "source": [
    "#This cell loads the QLM solver.\n",
    "#QLMaaS == False -> uses PyLinalg\n",
    "#QLMaaS == True -> try to use LinAlg (for using QPU as CESGA QLM one)\n",
    "from QQuantLib.utils.qlm_solver import get_qpu\n",
    "QLMaaS = False\n",
    "linalg_qpu = get_qpu(QLMaaS)"
   ]
  },
  {
   "cell_type": "code",
   "execution_count": null,
   "id": "0ef7577c",
   "metadata": {},
   "outputs": [],
   "source": [
    "#See 01_DataLoading_Module_Use for the use of this function\n",
    "from QQuantLib.utils.data_extracting import get_results"
   ]
  },
  {
   "cell_type": "markdown",
   "id": "20303f08",
   "metadata": {},
   "source": [
    "## 1. Defining the problem\n",
    "\n",
    "First thing we need to do for transforming our expectation computation in an **amplitude estimation** problem is defining the density probability $p(x)$ and the function to evaluate $f(x)$. We cannot work with a continuous variables so we need to discretize $p(x)$ and $f(x)$. \n",
    "\n",
    "We are going to define the following toy problem:\n",
    "\n",
    "* Domain: our $x$ will be a set of $2^{n}$ integers numbers.\n",
    "\n",
    "$$x \\in \\{0, 1, 2, ..., 2^n-1\\}$$\n",
    "\n",
    "* $p(x)$: Over our domain we are going to define a properly normalised density distribution in the form:\n",
    "\n",
    "$$p(x)=\\frac{x}{\\sum_{i=0}^{2^{n}-1}i}$$\n",
    "\n",
    "* $f(x)$: Over our domain we are going to define the following properly normalised function:\n",
    "\n",
    "$$f(x) = \\frac{x}{2^n-1}$$\n",
    "\n",
    "\n",
    "**BE AWARE**\n",
    "\n",
    "Is **MANDATORY** that $p(x)$ and $f(x)$ are properly normalised. Following conditions **must be** satisfied:\n",
    "\n",
    "* For $p(x)$ is mandatory that: $\\sum_{i=0}^{2^{n}} p(x_i) = 1$\n",
    "* For $f(x)$ is mandatory that: $f(x_i) \\leq 1 \\forall i$"
   ]
  },
  {
   "cell_type": "code",
   "execution_count": null,
   "id": "0ed1fa24",
   "metadata": {},
   "outputs": [],
   "source": [
    "#n will define the maximum numbers of our domain\n",
    "n = 5\n",
    "N = 2**n\n",
    "#Domain\n",
    "x = np.arange(N)\n",
    "#p(x) density probability\n",
    "p_X = x/np.sum(x)\n",
    "#f(x) function to evaluate\n",
    "f_X = x/np.max(x)"
   ]
  },
  {
   "cell_type": "code",
   "execution_count": null,
   "id": "4ce74d0f",
   "metadata": {},
   "outputs": [],
   "source": [
    "#Testing normalised conditions!\n",
    "\n",
    "print('p(x) condition: {}'.format(np.sum(p_X) == 1))\n",
    "print('f(x) condition: {}'.format(np.max(f_X) <= 1))"
   ]
  },
  {
   "cell_type": "code",
   "execution_count": null,
   "id": "44acaebc",
   "metadata": {},
   "outputs": [],
   "source": [
    "fig, ax1 = plt.subplots()\n",
    "ax1.bar(x, p_X, label='p(x)')\n",
    "ax1.set_ylabel('p(x)', color = 'b')\n",
    "ax1.tick_params(axis='y', labelcolor='b')\n",
    "ax2 = ax1.twinx()\n",
    "ax2.plot(x, f_X, color='r', label = 'f(x)')\n",
    "ax2.set_ylabel('f(x)', color='r')\n",
    "ax2.tick_params(axis='y', labelcolor='r')\n",
    "fig.legend(['p(x)', 'f(x)'])"
   ]
  },
  {
   "cell_type": "markdown",
   "id": "5cd029b7",
   "metadata": {},
   "source": [
    "## 2. Loading data"
   ]
  },
  {
   "cell_type": "markdown",
   "id": "cee2e0d0",
   "metadata": {},
   "source": [
    "Second part is loading the data ($p(x)$ and $f(x)$) into the quantum state. Most widely approach used in the literature for this is creating following 2 loading operators:\n",
    "\n",
    "1. $\\mathcal{P}$. for loading $p(x)$\n",
    "2. $\\mathcal{F}$. for loading $f(x)$\n",
    "\n",
    "So the main idea is begin with an initial $n+1$ qbits state:\n",
    "\n",
    "$$|0\\rangle \\otimes|0\\rangle_{n}$$\n",
    "\n",
    "An apply the following loading operation:\n",
    "\n",
    "$$|\\Psi\\rangle=\\mathcal{F}\\left(I\\otimes\\mathcal{P}\\right)|0\\rangle\\otimes|0\\rangle_{n}$$\n",
    "\n",
    "\n",
    "We are going through this for our toy example:\n",
    "\n",
    "* Probability loading:\n",
    "\n",
    "$$\\left(I\\otimes\\mathcal{P}\\right)|0\\rangle\\otimes|0\\rangle_{n} = |0\\rangle\\otimes \\sum_{i=0}^{2^{n}-1}\\sqrt{p(x_i)}|i\\rangle_{n}$$\n",
    "\n",
    "* Function loading:\n",
    "\n",
    "$$\\mathcal{F}\\left(I\\otimes\\mathcal{P}\\right)|0\\rangle\\otimes|0\\rangle_{n}= \\mathcal{F} |0\\rangle\\otimes \\sum_{i=0}^{2^{n}-1}\\sqrt{p(x_i)}|i\\rangle_{n}=$$\n",
    "\n",
    "$$ = |0\\rangle\\otimes \\sum_{i=0}^{2^{n}-1}\\sqrt{p(x_i)f(x_i)}|i\\rangle_{n} + |1\\rangle\\otimes\\sum_{i=0}^{2^{n}-1}\\sqrt{p(x_i)(1-f(x_i))}|i\\rangle_{n}$$\n",
    "\n",
    "For doing this operations *load_probability* and *load_array* functions from **QQuantLib/DL/data_loading** module will be used (see notebook **01_DataLoading_Module_Use.ipynb**)"
   ]
  },
  {
   "cell_type": "code",
   "execution_count": null,
   "id": "7df66281",
   "metadata": {},
   "outputs": [],
   "source": [
    "from QQuantLib.DL.data_loading import load_probability, load_array"
   ]
  },
  {
   "cell_type": "code",
   "execution_count": null,
   "id": "586e24ca",
   "metadata": {},
   "outputs": [],
   "source": [
    "p_gate = load_probability(p_X)\n",
    "f_gate = load_array(np.sqrt(f_X))"
   ]
  },
  {
   "cell_type": "code",
   "execution_count": null,
   "id": "0b38d2aa",
   "metadata": {},
   "outputs": [],
   "source": [
    "%qatdisplay p_gate --depth 0 --svg\n",
    "%qatdisplay f_gate --depth 0 --svg"
   ]
  },
  {
   "cell_type": "markdown",
   "id": "948e00cb",
   "metadata": {},
   "source": [
    "Now we compound the two operators $\\mathcal{P}$ aqnd $\\mathcal{F}$ for creating the necesary loading circuit"
   ]
  },
  {
   "cell_type": "code",
   "execution_count": null,
   "id": "68431c4b",
   "metadata": {},
   "outputs": [],
   "source": [
    "toy_oracle = qlm.QRoutine()\n",
    "toy_register = toy_oracle.new_wires(f_gate.arity)\n",
    "toy_oracle.apply(p_gate, toy_register[:p_gate.arity])\n",
    "toy_oracle.apply(f_gate, toy_register)"
   ]
  },
  {
   "cell_type": "code",
   "execution_count": null,
   "id": "3b81314f",
   "metadata": {},
   "outputs": [],
   "source": [
    "%qatdisplay toy_oracle --depth 0 --svg"
   ]
  },
  {
   "cell_type": "markdown",
   "id": "427e75e3",
   "metadata": {},
   "source": [
    "We can test if the loading was properly implemented. For doing this we are going to use **get_results** from *data_extracting* module"
   ]
  },
  {
   "cell_type": "code",
   "execution_count": null,
   "id": "6e9efbd6",
   "metadata": {},
   "outputs": [],
   "source": [
    "toy_results,_,_,_,_ = get_results(toy_oracle, linalg_qpu=linalg_qpu)"
   ]
  },
  {
   "cell_type": "code",
   "execution_count": null,
   "id": "d943cb83",
   "metadata": {},
   "outputs": [],
   "source": [
    "toy_results"
   ]
  },
  {
   "cell_type": "markdown",
   "id": "c825743b",
   "metadata": {},
   "source": [
    "We have loaded \n",
    "$$p(x)f(x) \\forall x$$\n",
    "\n",
    "into the following quantum states: \n",
    "\n",
    "$$|0\\rangle\\otimes \\sqrt{p(x_i)f(x_i)}|i\\rangle_{n}$$ \n",
    "\n",
    "where \n",
    "\n",
    "$$|i\\rangle_{n} \\in \\{|0\\rangle_{n}, |1\\rangle_{n}, ..., |2^n-1\\rangle_{n}\\}$$. \n",
    "\n",
    "For testing the loading was done properly we need to test thhose **States** where the the first qbit is $|0\\rangle$ (the $2^{n}$ first registers of the DataFrame)\n"
   ]
  },
  {
   "cell_type": "code",
   "execution_count": null,
   "id": "dfa151ed",
   "metadata": {},
   "outputs": [],
   "source": [
    "np.isclose(toy_results[\"Probability\"][0:2**p_gate.arity], p_X*f_X).all()"
   ]
  },
  {
   "cell_type": "markdown",
   "id": "655ed9f3",
   "metadata": {},
   "source": [
    "Additionally the integral we are looking for is stored in: $|0\\rangle\\otimes \\sum_{i=0}^{2^{n}-1}\\sqrt{p(x_i)f(x_i)}|i\\rangle_{n}$. So we can use the **get_results** and only measure the last qbit for getting this integral:\n"
   ]
  },
  {
   "cell_type": "code",
   "execution_count": null,
   "id": "2115b757",
   "metadata": {},
   "outputs": [],
   "source": [
    "LastQbitState,_,_,_,_ = get_results(toy_oracle, linalg_qpu=linalg_qpu, qubits=[f_gate.arity-1])"
   ]
  },
  {
   "cell_type": "code",
   "execution_count": null,
   "id": "db304dca",
   "metadata": {},
   "outputs": [],
   "source": [
    "LastQbitState"
   ]
  },
  {
   "cell_type": "markdown",
   "id": "573948dc",
   "metadata": {},
   "source": [
    "As can be seen the integral is loaded in the amplitude of the $|0\\rangle$ state of the last qbit"
   ]
  },
  {
   "cell_type": "code",
   "execution_count": null,
   "id": "7f33898b",
   "metadata": {},
   "outputs": [],
   "source": [
    "np.isclose(LastQbitState['Probability'].iloc[0], sum(p_X*f_X))"
   ]
  },
  {
   "cell_type": "markdown",
   "id": "82666923",
   "metadata": {},
   "source": [
    "## 3. Amplitude Estimation Problem.\n",
    "\n",
    "When we finish the complete loading data our quantum state will be:\n",
    "\n",
    "$$|\\Psi\\rangle = |0\\rangle\\otimes \\sum_{i=0}^{2^{n}-1}\\sqrt{p(x_i)f(x_i)}|i\\rangle_{n} + |1\\rangle\\otimes\\sum_{i=0}^{2^{n}-1}\\sqrt{p(x_i)(1-f(x_i))}|i\\rangle_{n}$$\n",
    "\n",
    "Now we can define two orthogonal states  $|\\Psi_{1}\\rangle$ y $|\\Psi_{0}\\rangle$ in the following way:\n",
    "\n",
    "$$\\sqrt{a}|\\Psi_{0}\\rangle = |0\\rangle \\otimes\\sum_{i=0}^{2^{n}-1}\\sqrt{p(x_i)f(x_i)}|i\\rangle_{n}$$\n",
    "\n",
    "and\n",
    "\n",
    "$$\\sqrt{1-a}|\\Psi_{1}\\rangle = |1\\rangle\\otimes\\sum_{i=0}^{2^{n}-1}\\sqrt{p(x_i)(1-f(x_i))}|i\\rangle_{n}$$\n",
    "\n",
    "\n",
    "So our $|\\Psi\\rangle$ will be:\n",
    "\n",
    "$$|\\Psi\\rangle=\\sqrt{a}|\\Psi_{0}\\rangle+\\sqrt{1-a}|\\Psi_{1}\\rangle$$\n",
    "\n",
    "The probability of measuring $|0\\rangle$ in the leftmost qubit is:\n",
    "\n",
    "$$ a = \\sum_{i=0}^{2^{n}-1}\\left|\\sqrt{p(x_i)f(x_i)}\\right|^2$$\n",
    "\n",
    "So we have transformed the expectation value computation in an **amplitude estimation** problem and we can use all the clasess we have programed for solving it. We are going to solve this toy **amplitude estimation** problem using the following modules:\n",
    "\n",
    "1. Maximum Likelihood Amplitude Estimation (MLAE)\n",
    "2. Amplitude Estimation using classical Quantum Phase Estimation (CQPEAE)\n",
    "3. Amplitude Estimation using iterative Quantum Phase Estimation (IQPEAE)\n",
    "4. Iterative Quantum Amplitude Estimation (IQAE)"
   ]
  },
  {
   "cell_type": "markdown",
   "id": "50958afd",
   "metadata": {},
   "source": [
    "For using the different classes for solving our toy problem we need to provide always:\n",
    "\n",
    "* Oracle (*toy_oracle*)\n",
    "* target: in the toy case this will be the $|0\\rangle$ state of the last qbit\n",
    "* index: index of the last qbit"
   ]
  },
  {
   "cell_type": "code",
   "execution_count": null,
   "id": "792beec0",
   "metadata": {},
   "outputs": [],
   "source": [
    "target = [0]\n",
    "index = [toy_oracle.arity-1]"
   ]
  },
  {
   "cell_type": "markdown",
   "id": "2fe948af",
   "metadata": {},
   "source": [
    "### 3.1 MLAE"
   ]
  },
  {
   "cell_type": "code",
   "execution_count": null,
   "id": "725dbeac",
   "metadata": {},
   "outputs": [],
   "source": [
    "from QQuantLib.AE.maximum_likelihood_ae import MLAE"
   ]
  },
  {
   "cell_type": "code",
   "execution_count": null,
   "id": "bedbea0e",
   "metadata": {},
   "outputs": [],
   "source": [
    "mlae_dict = {\n",
    "    'qpu': linalg_qpu,\n",
    "}\n",
    "mlae = MLAE(\n",
    "    toy_oracle,\n",
    "    target = target,\n",
    "    index = index, \n",
    "    **mlae_dict\n",
    ")\n",
    "\n",
    "mlae_a = mlae.run()\n",
    "print('mlae_a: ', mlae_a)"
   ]
  },
  {
   "cell_type": "code",
   "execution_count": null,
   "id": "d75137d0",
   "metadata": {},
   "outputs": [],
   "source": [
    "mlae.circuit_statistics"
   ]
  },
  {
   "cell_type": "code",
   "execution_count": null,
   "id": "8be67bcb",
   "metadata": {},
   "outputs": [],
   "source": [
    "mlae.run_time"
   ]
  },
  {
   "cell_type": "code",
   "execution_count": null,
   "id": "fd51e6fe",
   "metadata": {},
   "outputs": [],
   "source": [
    "mlae.time_pdf"
   ]
  },
  {
   "cell_type": "markdown",
   "id": "f3ed03d6",
   "metadata": {},
   "source": [
    "### 3.2 cQPE_AE"
   ]
  },
  {
   "cell_type": "code",
   "execution_count": null,
   "id": "2c087511",
   "metadata": {},
   "outputs": [],
   "source": [
    "from QQuantLib.AE.ae_classical_qpe import CQPEAE"
   ]
  },
  {
   "cell_type": "code",
   "execution_count": null,
   "id": "05781356",
   "metadata": {},
   "outputs": [],
   "source": [
    "ae_cqpe_dict = {\n",
    "    'qpu': linalg_qpu,\n",
    "    'auxiliar_qbits_number': 8,\n",
    "    'shots': 100\n",
    "}\n",
    "\n",
    "ae_cqpe = CQPEAE(\n",
    "    toy_oracle,\n",
    "    target = target,\n",
    "    index = index, \n",
    "    **ae_cqpe_dict\n",
    ")\n",
    "ae_cqpe_a  = ae_cqpe.run()\n",
    "\n",
    "print('ae_cqpe_a: ', ae_cqpe_a)"
   ]
  },
  {
   "cell_type": "code",
   "execution_count": null,
   "id": "a88f3902",
   "metadata": {},
   "outputs": [],
   "source": [
    "ae_cqpe.circuit_statistics"
   ]
  },
  {
   "cell_type": "code",
   "execution_count": null,
   "id": "fa29cdbf",
   "metadata": {},
   "outputs": [],
   "source": [
    "ae_cqpe.cqpe.time_pdf"
   ]
  },
  {
   "cell_type": "code",
   "execution_count": null,
   "id": "a3712bee",
   "metadata": {},
   "outputs": [],
   "source": [
    "ae_cqpe.run_time"
   ]
  },
  {
   "cell_type": "markdown",
   "id": "e46af981",
   "metadata": {},
   "source": [
    "### 3.3 IQPE_AE"
   ]
  },
  {
   "cell_type": "code",
   "execution_count": null,
   "id": "18821449",
   "metadata": {},
   "outputs": [],
   "source": [
    "from QQuantLib.AE.ae_iterative_quantum_pe import IQPEAE"
   ]
  },
  {
   "cell_type": "code",
   "execution_count": null,
   "id": "b4acb617",
   "metadata": {},
   "outputs": [],
   "source": [
    "ae_iqpe_dict = {\n",
    "    'qpu': linalg_qpu,\n",
    "    'cbits_number': 8,\n",
    "    'shots': 10\n",
    "}\n",
    "\n",
    "ae_iqpe = IQPEAE(\n",
    "    toy_oracle,\n",
    "    target = target,\n",
    "    index = index, \n",
    "    **ae_iqpe_dict\n",
    ")\n",
    "\n",
    "ae_iqpe_a  = ae_iqpe.run()\n",
    "\n",
    "print('ae_iqpe_a: ', ae_iqpe_a)"
   ]
  },
  {
   "cell_type": "code",
   "execution_count": null,
   "id": "082e9e45",
   "metadata": {},
   "outputs": [],
   "source": [
    "ae_iqpe.circuit_statistics"
   ]
  },
  {
   "cell_type": "code",
   "execution_count": null,
   "id": "b0c2d96f",
   "metadata": {},
   "outputs": [],
   "source": [
    "ae_iqpe.iqpe_object.time_pdf"
   ]
  },
  {
   "cell_type": "code",
   "execution_count": null,
   "id": "e95a414f",
   "metadata": {},
   "outputs": [],
   "source": [
    "ae_iqpe.run_time"
   ]
  },
  {
   "cell_type": "markdown",
   "id": "75ae6a30",
   "metadata": {},
   "source": [
    "### 3.4 IQAE"
   ]
  },
  {
   "cell_type": "code",
   "execution_count": null,
   "id": "09f9ad03",
   "metadata": {},
   "outputs": [],
   "source": [
    "from QQuantLib.AE.iterative_quantum_ae import IQAE"
   ]
  },
  {
   "cell_type": "code",
   "execution_count": null,
   "id": "903a56ea",
   "metadata": {
    "scrolled": false
   },
   "outputs": [],
   "source": [
    "iqae_dict = {\n",
    "    'qpu': linalg_qpu,\n",
    "    #'shots': 10\n",
    "}\n",
    "\n",
    "iqae = IQAE(\n",
    "    toy_oracle,\n",
    "    target = target,\n",
    "    index = index, \n",
    "    **iqae_dict\n",
    ")\n",
    "\n",
    "iqae_a = iqae.run()\n",
    "\n",
    "print('iqae_a: ', iqae_a)\n"
   ]
  },
  {
   "cell_type": "code",
   "execution_count": null,
   "id": "b330f3cb",
   "metadata": {
    "scrolled": true
   },
   "outputs": [],
   "source": [
    "iqae.circuit_statistics"
   ]
  },
  {
   "cell_type": "code",
   "execution_count": null,
   "id": "91c6f688",
   "metadata": {},
   "outputs": [],
   "source": [
    "iqae.time_pdf"
   ]
  },
  {
   "cell_type": "code",
   "execution_count": null,
   "id": "acca5cfe",
   "metadata": {},
   "outputs": [],
   "source": [
    "iqae.run_time"
   ]
  },
  {
   "cell_type": "markdown",
   "id": "f03d3837",
   "metadata": {},
   "source": [
    "## SUMMARY"
   ]
  },
  {
   "cell_type": "code",
   "execution_count": null,
   "id": "ccf26147",
   "metadata": {},
   "outputs": [],
   "source": [
    "methods = ['MLAE', 'CQPEAE', 'IQPEAE', 'IQAE']\n",
    "a_estimated = [mlae.ae, ae_cqpe.ae, ae_iqpe.ae, iqae.ae]\n",
    "Expectation_Integral = sum(p_X*f_X)\n",
    "a_error = [\n",
    "    abs(mlae.ae-Expectation_Integral), \n",
    "    abs(ae_cqpe.ae-Expectation_Integral), \n",
    "    abs(ae_iqpe.ae-Expectation_Integral),\n",
    "    abs(iqae.ae-Expectation_Integral),\n",
    "]\n",
    "\n",
    "\n",
    "dic_staff = {\n",
    "    'Estimated_a': a_estimated,\n",
    "    'Expectation': Expectation_Integral,\n",
    "    'Error_a': a_error\n",
    "}"
   ]
  },
  {
   "cell_type": "code",
   "execution_count": null,
   "id": "9f2248cb",
   "metadata": {},
   "outputs": [],
   "source": [
    "Results = pd.DataFrame(dic_staff, index=methods)"
   ]
  },
  {
   "cell_type": "code",
   "execution_count": null,
   "id": "12a57767",
   "metadata": {},
   "outputs": [],
   "source": [
    "Results"
   ]
  },
  {
   "cell_type": "code",
   "execution_count": null,
   "id": "bf660696",
   "metadata": {},
   "outputs": [],
   "source": []
  },
  {
   "cell_type": "code",
   "execution_count": null,
   "id": "3acdbcc1",
   "metadata": {},
   "outputs": [],
   "source": []
  }
 ],
 "metadata": {
  "kernelspec": {
   "display_name": "Python 3 (ipykernel)",
   "language": "python",
   "name": "python3"
  },
  "language_info": {
   "codemirror_mode": {
    "name": "ipython",
    "version": 3
   },
   "file_extension": ".py",
   "mimetype": "text/x-python",
   "name": "python",
   "nbconvert_exporter": "python",
   "pygments_lexer": "ipython3",
   "version": "3.9.9"
  }
 },
 "nbformat": 4,
 "nbformat_minor": 5
}
