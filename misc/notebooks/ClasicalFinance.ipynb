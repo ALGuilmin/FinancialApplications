{
 "cells": [
  {
   "cell_type": "code",
   "execution_count": null,
   "id": "6f9c020b",
   "metadata": {},
   "outputs": [],
   "source": [
    "import sys\n",
    "sys.path.append(\"../../\")"
   ]
  },
  {
   "cell_type": "code",
   "execution_count": null,
   "id": "b817941d",
   "metadata": {},
   "outputs": [],
   "source": [
    "from QQuantLib.utils.classical_finance import *\n",
    "import matplotlib.pyplot as plt"
   ]
  },
  {
   "cell_type": "markdown",
   "id": "cd1c1e57",
   "metadata": {},
   "source": [
    "# 1 Derivatives"
   ]
  },
  {
   "cell_type": "markdown",
   "id": "d13c36e1",
   "metadata": {},
   "source": [
    "A definition of a derivative contract (from investopedia) is the following: \n",
    "\n",
    "*A derivative is a contract between two or more parties whose value is based on an agreed-upon underlying financial asset (like a security) or set of assets (like an index).*\n",
    "\n",
    "Next we give some examples."
   ]
  },
  {
   "cell_type": "markdown",
   "id": "0600a8d6",
   "metadata": {},
   "source": [
    "## 1.2 Call option"
   ]
  },
  {
   "cell_type": "markdown",
   "id": "2dda1604",
   "metadata": {},
   "source": [
    "A call option pays at expiry (maturity):\n",
    "\n",
    "$$V(T,K) = \\max(S_T-K,0).\\qquad (1)$$\n",
    "\n",
    "Here $T$ is called the maturity, $K$ is the strike and $S_T$ is the price of the underlying at maturity (which is unknown)."
   ]
  },
  {
   "cell_type": "code",
   "execution_count": null,
   "id": "8eadbf13",
   "metadata": {},
   "outputs": [],
   "source": [
    "S = np.linspace(0,100,101)\n",
    "K = 50\n",
    "payoff = call_payoff(S,K)\n",
    "\n",
    "\n",
    "plt.plot(S,payoff)\n",
    "plt.grid()\n",
    "plt.xlabel(\"Price underlying\")\n",
    "plt.ylabel(\"Payoff\")"
   ]
  },
  {
   "cell_type": "markdown",
   "id": "a01da0b5",
   "metadata": {},
   "source": [
    "## 1.3 Binary call option"
   ]
  },
  {
   "cell_type": "markdown",
   "id": "c7e1d1ef",
   "metadata": {},
   "source": [
    "A binary call option pays at expiry (maturity):\n",
    "\n",
    "$$V(T,K) = \n",
    "\\begin{cases}\n",
    "&1\\quad \\text{if}\\quad S\\geq K,\\\\\n",
    "&0\\quad \\text{if}\\quad S<K.\n",
    "\\end{cases}.\\qquad (1)$$\n",
    "\n",
    "Here $T$ is called the maturity, $K$ is the strike and $S_T$ is the price of the underlying at maturity (which is unknown)."
   ]
  },
  {
   "cell_type": "code",
   "execution_count": null,
   "id": "586292f2",
   "metadata": {},
   "outputs": [],
   "source": [
    "S = np.linspace(0,100,101)\n",
    "K = 50\n",
    "payoff = digital_call_payoff(S,K)\n",
    "\n",
    "\n",
    "plt.plot(S,payoff)\n",
    "plt.grid()\n",
    "plt.xlabel(\"Price underlying\")\n",
    "plt.ylabel(\"Payoff\")"
   ]
  },
  {
   "cell_type": "markdown",
   "id": "1f2e1fd1",
   "metadata": {},
   "source": [
    "# 2. Pricing under the Black-Scholes model"
   ]
  },
  {
   "cell_type": "markdown",
   "id": "5b96022b",
   "metadata": {},
   "source": [
    "## 2.1 The pricing problem"
   ]
  },
  {
   "cell_type": "markdown",
   "id": "a9a3fea5",
   "metadata": {},
   "source": [
    "The goal in pricing is obtaining the \"fair\" price of a derivatives contract $V$. In other words, how much should someone pay for buying the derivative."
   ]
  },
  {
   "cell_type": "markdown",
   "id": "e8811035",
   "metadata": {},
   "source": [
    "## 2.2 The Black-Scholes model"
   ]
  },
  {
   "cell_type": "markdown",
   "id": "d6994471",
   "metadata": {},
   "source": [
    "When we speak about modelling in pricing we usually refer to building a Stochastic Differential Equation which is a model for the underlying. The Black-Scholes model assumes that the price of a given underlying $S_t$ is modelled through the SDE:\n",
    "\n",
    "$$dS_t = \\mu S_tdt+\\sigma S_tdW_t,\\qquad (2)$$\n",
    "\n",
    "where $\\mu$ is a constant called drift, $\\sigma$ is another constant called volatility and $W_t$ is a Wiener process (a random variable with normal probability density function with variance $t$). "
   ]
  },
  {
   "cell_type": "markdown",
   "id": "3bef2611",
   "metadata": {},
   "source": [
    "## 2.3 The Black-Scholes PDE"
   ]
  },
  {
   "cell_type": "markdown",
   "id": "99adfabf",
   "metadata": {},
   "source": [
    "Given a model for the underlying and some additional hypothesis (dynamic hedging, absence of arbitrage...), we can conclude that the \"fair\" price of a derivatives contract $V$ whose payoff depends on the price of the underlying $V = V(S_T)$ at some maturity $T$ has to obey the equation:\n",
    "\n",
    "$$\\dfrac{\\partial V}{\\partial t}+\\dfrac{1}{2}\\sigma^2 S^2\\dfrac{\\partial^2 V}{\\partial S^2}+rS\\dfrac{\\partial V}{\\partial S}-rV = 0,\\qquad (3)$$\n",
    "\n",
    "where $r$ is a constant called risk free rate (in principle is just a number that we can take from the market). This PDE is widely known as \"Black-Scholes PDE\". The particular conditions of each specific derivatives contract are encoded in the boundary conditions."
   ]
  },
  {
   "cell_type": "markdown",
   "id": "45a8dba0",
   "metadata": {},
   "source": [
    "## 2.4 The SDE expectation"
   ]
  },
  {
   "cell_type": "markdown",
   "id": "fb4b926e",
   "metadata": {},
   "source": [
    " Feymann-Kàc's theorem connects parabolic PDEs and stochastic process. Through it we can pose the solution of Black-Scholes PDE as\n",
    "\n",
    "$$V(t,S_t) = e^{-r(T-t)}\\mathbb{E}^r_t\\left[V(S_T)\\right],\\qquad (4)$$\n",
    "\n",
    "where $\\mathbb{E}^r$ denotes the expectation under the risk neutral measure. In other words, it is like assuming a dynamic for the underlying of the form:\n",
    "\n",
    "$$dS_t = r S_tdt+\\sigma S_tdW_t.\\qquad (5)$$\n",
    "\n",
    "When we change the original drift $\\mu$ to the drift $r$ we say that we have changed from the real-world measure to the risk-free measure."
   ]
  },
  {
   "cell_type": "markdown",
   "id": "44f7ecfe",
   "metadata": {},
   "source": [
    "## 2.5 The explicit integral"
   ]
  },
  {
   "cell_type": "markdown",
   "id": "79b2e380",
   "metadata": {},
   "source": [
    "\n",
    "\n",
    "We have a thrid way of expressing the solution of this problem. In this case we explicitely write the expectation:\n",
    "\n",
    "$$V(t,S_t) = e^{-r(T-t)}\\mathbb{E}^r_t\\left[S_T\\right] = e^{-r(T-t)}\\int_{\\mathbb{R}}p(T,S)V(S).\\qquad (6)$$\n",
    "\n",
    "Where $p = p(S,t)$ is just the probability density of the random variable $S$ at time $t$. Here we see that the problem has been transformed to that of performing the previous integral. However, in order to do that we first need to know the probability density $p$. Luckily, since we know the SDE, we know that it has an associated Fokker-Planck PDE of the form:\n",
    "\n",
    "$$\\dfrac{\\partial p}{\\partial t} =-\\dfrac{\\partial}{\\partial S}\\left(rS\\right)+\\dfrac{\\partial^2}{\\partial S^2}\\left(\\dfrac{1}{2}\\sigma^2S^2\\right),\\qquad (7)$$\n",
    "\n"
   ]
  },
  {
   "cell_type": "markdown",
   "id": "6897df0b",
   "metadata": {},
   "source": [
    "We will work with some parameters:"
   ]
  },
  {
   "cell_type": "code",
   "execution_count": null,
   "id": "c7b3938a",
   "metadata": {},
   "outputs": [],
   "source": [
    "r = 0.05 \n",
    "volatility = 0.3\n",
    "maturity = 1.\n",
    "s_0 = 1.\n",
    "strike = np.array([0.5, 0.75, 1., 1.25, 1.5])"
   ]
  },
  {
   "cell_type": "markdown",
   "id": "8733181f",
   "metadata": {},
   "source": [
    "# 3 Black-Scholes numerical methods"
   ]
  },
  {
   "cell_type": "markdown",
   "id": "71464485",
   "metadata": {},
   "source": [
    "Here we give a very concise review of some numerical techniques used to price derivative contracts under the Black-Scholes model. There three ways of obtaining the prices of the derivatives contracts:\n",
    "- Solving the Black-Scholes PDE.\n",
    "- Solving the Black-Scholes (risk free) SDE.\n",
    "- Computing explicitely the integral.\n",
    "\n",
    "As Black-Scholes is a very simple modle, we already have analytical solutions. However, we will use it as a toy example to show the different techniques work."
   ]
  },
  {
   "cell_type": "markdown",
   "id": "4f1f650f",
   "metadata": {},
   "source": [
    "## 3.1 Solving the Black-Scholes PDE"
   ]
  },
  {
   "cell_type": "markdown",
   "id": "815d2893",
   "metadata": {},
   "source": [
    "### 3.1.1 The analytical solution"
   ]
  },
  {
   "cell_type": "markdown",
   "id": "43d83d88",
   "metadata": {},
   "source": [
    "The Black-Scholes PDE (3) has an analytical solution for call options of the form:\n",
    "\n",
    "$$C(S,T) = S\\Phi(d_1)-Ke^{-rT}\\Phi(d_2).$$\n"
   ]
  },
  {
   "cell_type": "code",
   "execution_count": null,
   "id": "e9726887",
   "metadata": {},
   "outputs": [],
   "source": [
    "call_price = bs_call_price(s_0,r,volatility,maturity,strike)"
   ]
  },
  {
   "cell_type": "code",
   "execution_count": null,
   "id": "30150ec4",
   "metadata": {},
   "outputs": [],
   "source": [
    "plt.xlabel(r\"$K$\")\n",
    "plt.ylabel(\"Call price BS model\")\n",
    "plt.scatter(strike,call_price,label = \"Exact price\",color = \"b\")\n",
    "plt.legend()\n",
    "plt.grid()"
   ]
  },
  {
   "cell_type": "markdown",
   "id": "db0f5ac7",
   "metadata": {},
   "source": [
    "### 3.1.2 When you don't have the analytical solution"
   ]
  },
  {
   "cell_type": "markdown",
   "id": "ea8265ec",
   "metadata": {},
   "source": [
    "When you don't have the analytical solution for the equation you have to consider any of the standard methods for solving PDEs. That includes finite differences (because the domian is usually easy to describe in the financial problems) or finite elements."
   ]
  },
  {
   "cell_type": "markdown",
   "id": "75c69f5c",
   "metadata": {},
   "source": [
    "## 3.2 Solving Black-Scholes SDE"
   ]
  },
  {
   "cell_type": "markdown",
   "id": "7327ce31",
   "metadata": {},
   "source": [
    "### 3.2.1 Black-Scholes exact SDE solution"
   ]
  },
  {
   "cell_type": "markdown",
   "id": "a30660bb",
   "metadata": {},
   "source": [
    "The solution of Black-Scholes risk free SDE (5) is:\n",
    "\n",
    "$$S_T = S_0e^{\\sigma W_T+(r-\\sigma^2/2)T},$$\n",
    "\n",
    "where $W_T$ is a random variable with gaussian probability of mean zero and variance $T$. The strategy to obtain the price of the call given this information is:\n",
    "\n",
    "- Generating samples of the gaussian with mean zero and variance $T$.\n",
    "- Compute the associated underling price.\n",
    "- Compute the associated payoff.\n",
    "- Average (approximate the expectation) and apply discount."
   ]
  },
  {
   "cell_type": "code",
   "execution_count": null,
   "id": "f3f6a7b4",
   "metadata": {},
   "outputs": [],
   "source": [
    "number_samples = 1000"
   ]
  },
  {
   "cell_type": "code",
   "execution_count": null,
   "id": "a1547a4f",
   "metadata": {},
   "outputs": [],
   "source": [
    "exact_MC_samples = bs_exact_samples(s_0,r,volatility,maturity,number_samples)\n",
    "exact_MC_call_price = np.zeros(len(strike))\n",
    "for i in range(len(strike)):\n",
    "    exact_MC_call_price[i] = np.exp(-r*maturity)*np.sum(call_payoff(exact_MC_samples,strike[i]))/number_samples"
   ]
  },
  {
   "cell_type": "code",
   "execution_count": null,
   "id": "899fe53e",
   "metadata": {},
   "outputs": [],
   "source": [
    "plt.xlabel(r\"$K$\")\n",
    "plt.ylabel(\"Call price BS model\")\n",
    "plt.scatter(strike,exact_MC_call_price,label = \"MC solution\",color = \"black\")\n",
    "plt.legend()\n",
    "plt.grid()"
   ]
  },
  {
   "cell_type": "markdown",
   "id": "a140581f",
   "metadata": {},
   "source": [
    "### 3.2.2 Black-Scholes approximate SDE solution"
   ]
  },
  {
   "cell_type": "markdown",
   "id": "8dbb97ed",
   "metadata": {},
   "source": [
    "Most of the times we don't have the solution of the SDE. In those cases we need to simulate the SDE in order to generate the samples of the underlying price. That can be easily achived doing, for example, through an Euler-Maruyama scheme:\n",
    "\n",
    "$$S_{t+\\Delta t} = S_t+rS_t\\Delta t+\\sigma S_t \\sqrt{\\Delta t}N(0,1).$$\n",
    "\n",
    "In this case the strategy to do the pricing is:\n",
    "\n",
    "- Generate samples of the underlying price.\n",
    "    - Sample from the normal distribution of mean zero and variance one.\n",
    "    - Update the state from $t$ to $t+\\Delta t$.\n",
    "    - Redo the previous steps until we get to maturity.\n",
    "- Compute the associated payoff.\n",
    "- Average (approximate the expectation) and apply discount."
   ]
  },
  {
   "cell_type": "code",
   "execution_count": null,
   "id": "675c323b",
   "metadata": {},
   "outputs": [],
   "source": [
    "number_samples = 1000\n",
    "time_steps = 10"
   ]
  },
  {
   "cell_type": "code",
   "execution_count": null,
   "id": "dda8913f",
   "metadata": {},
   "outputs": [],
   "source": [
    "em_MC_samples = bs_em_samples(s_0,r,volatility,maturity,number_samples,time_steps)\n",
    "em_MC_call_price = np.zeros(len(strike))\n",
    "for i in range(len(strike)):\n",
    "    em_MC_call_price[i] = np.exp(-r*maturity)*np.sum(call_payoff(em_MC_samples,strike[i]))/number_samples"
   ]
  },
  {
   "cell_type": "code",
   "execution_count": null,
   "id": "cf3c63db",
   "metadata": {},
   "outputs": [],
   "source": [
    "plt.xlabel(r\"$K$\")\n",
    "plt.ylabel(\"Call price BS model\")\n",
    "plt.scatter(strike,em_MC_call_price,label = \"MC EM solution\",color = \"green\")\n",
    "plt.legend()\n",
    "plt.grid()"
   ]
  },
  {
   "cell_type": "markdown",
   "id": "9fd24b98",
   "metadata": {},
   "source": [
    "## 3.3 Black-Scholes explicit integral "
   ]
  },
  {
   "cell_type": "markdown",
   "id": "401e7d3a",
   "metadata": {},
   "source": [
    "### 3.3.1 Exact solution of the SDE"
   ]
  },
  {
   "cell_type": "markdown",
   "id": "b1249a2a",
   "metadata": {},
   "source": [
    "Given the solution of the SDE we can try to solve the explicitely integral in equation (6). \n",
    "\n",
    "$$\\int_{\\mathbb{R}}p(T,S)V(S) dS= \\int_{\\mathbb{R}}p(x)\\max\\left(S_0e^{\\sigma x+(r-\\sigma^2/2)T},0\\right)dx,$$\n",
    "\n",
    "where $p(x)$ is a the normal density function with mean zero and variance $T$.\n",
    "\n",
    "We approximate this integral using a cuadrature rule. In our case we will use the most simple one, Riemann cuadrature:\n",
    "\n",
    "$$\\int_{\\mathbb{R}}p(x)\\max\\left(S_0e^{\\sigma x+(r-\\sigma^2/2)T},0\\right)dx \\approx \\int^{\\max}_{\\min}p(x)\\max\\left(S_0e^{\\sigma x+(r-\\sigma^2/2)T},0\\right)dx\\approx \\sum_{i=0}^{N}p(x_i)\\max\\left(S_0e^{\\sigma x_i+(r-\\sigma^2/2)T},0\\right)\\Delta x$$"
   ]
  },
  {
   "cell_type": "code",
   "execution_count": null,
   "id": "ba1f4893",
   "metadata": {},
   "outputs": [],
   "source": [
    "x = np.linspace(-4,4,1000)"
   ]
  },
  {
   "cell_type": "code",
   "execution_count": null,
   "id": "65b21e23",
   "metadata": {},
   "outputs": [],
   "source": [
    "s_t, probability_gaussian = bs_SDE_solution(x,s_0,r,volatility,maturity)\n",
    "SDE_cuadrature_call_price = np.zeros(len(strike))\n",
    "for i in range(len(strike)):\n",
    "    payoff_call = call_payoff(s_t,strike[i])\n",
    "    SDE_cuadrature_call_price[i] = np.exp(-r*maturity)*np.dot(probability_gaussian,payoff_call)"
   ]
  },
  {
   "cell_type": "code",
   "execution_count": null,
   "id": "756d680b",
   "metadata": {},
   "outputs": [],
   "source": [
    "plt.xlabel(r\"$K$\")\n",
    "plt.ylabel(\"Call price BS model\")\n",
    "plt.scatter(strike,SDE_cuadrature_call_price,label = \"SDE solution cuadrature\",color = \"orange\")\n",
    "plt.legend()\n",
    "plt.grid()"
   ]
  },
  {
   "cell_type": "markdown",
   "id": "ced7c493",
   "metadata": {},
   "source": [
    "###  3.3.2 Black-Scholes explicit integral from Fokker-Planck solution"
   ]
  },
  {
   "cell_type": "markdown",
   "id": "7e85ed56",
   "metadata": {},
   "source": [
    "If we know the solution of the Fokker-Planck equation we can try to solve the explicitely integral in equation (6). \n",
    "\n",
    "$$\\int_{\\mathbb{R}}p(T,S)V(S) dS= \\int_{\\mathbb{R}}p(S,T)\\max\\left(S-K,0\\right)dS,$$\n",
    "\n",
    "where $p(S,T)$ is the solution of the Fokker-Planck equation at time $T$. As this is a very simmple model, we know that the solution of the Fokker-Planck equation has the form:\n",
    "\n",
    "$$p(S,T) = \\dfrac{1}{S_T\\sigma\\sqrt{2\\pi T}}\\exp\\left(-\\dfrac{\\left(\\log(S_T)-\\mu\\right)}{2\\sigma^2T}\\right)$$\n",
    "\n",
    "We again approximate this integral using a cuadrature rule. In our case we will use the most simple one, Riemann cuadrature:\n",
    "\n",
    "$$\\int_{\\mathbb{R}}p(S,T)\\max\\left(S-K,0\\right)dS \\approx \\int^{\\max}_{\\min}p(S,T)\\max\\left(S-K,0\\right)dS\\approx \\sum_{i=0}^{N}p(x_i)\\max p(S_i,T)\\max\\left(S_i-K,0\\right)\\Delta S$$"
   ]
  },
  {
   "cell_type": "code",
   "execution_count": null,
   "id": "88275c30",
   "metadata": {},
   "outputs": [],
   "source": [
    "x = np.linspace(0.5*np.min(strike),2*np.max(strike),1000)\n",
    "\n",
    "density_bs = bs_density(x,s_0,r,volatility,maturity)\n",
    "density_bs = density_bs/np.sum(density_bs)\n",
    "density_cuadrature_call_price = np.zeros(len(strike))\n",
    "for i in range(len(strike)):\n",
    "    payoff_call = call_payoff(x,strike[i])\n",
    "    density_cuadrature_call_price[i] = np.exp(-r*maturity)*np.dot(density_bs,payoff_call)\n",
    "\n",
    "plt.scatter(strike,density_cuadrature_call_price,label = \"Density cuadrature\",color = \"r\")\n",
    "plt.grid()"
   ]
  },
  {
   "cell_type": "markdown",
   "id": "d2452450",
   "metadata": {},
   "source": [
    "### 3.3.3 Black-Scholes explicit integral from Fokker-Planck approximation"
   ]
  },
  {
   "cell_type": "markdown",
   "id": "590fac22",
   "metadata": {},
   "source": [
    "Usually we don't have the solution of the Fokker-Planck equation. In such cases we need to perform an additional step to the integration:\n",
    "\n",
    "- Solve numerically the Fokker-Planck PDE (with finite differences for instance).\n",
    "- Compute the integral.\n",
    "\n",
    "If we have to solve a PDE, why don't we directly solve Black-Scholes PDE? The answer is that Black-Scholes PDE gives us the solution for one derivatives contract. In contrast, if we have solved the Fokker-Planck solution we can reuse this result for many different derivatives contracts (with the additional overhead of performing the integral). "
   ]
  },
  {
   "cell_type": "markdown",
   "id": "f9f796d8",
   "metadata": {},
   "source": [
    "### 3.3.4 Black-Scholes all-paths approach"
   ]
  },
  {
   "cell_type": "markdown",
   "id": "e605fe99",
   "metadata": {},
   "source": [
    "This last approach is not very common in finance. However, as it is the method used in the quantum Monte Carlo, we will explain how it works. When we use the Euler-Maruyama approximation of the SDE:\n",
    "\n",
    "$$S_{t+\\Delta t} = S_t+rS_t\\Delta t+\\sigma S_t \\sqrt{\\Delta t}N(0,1),$$\n",
    "\n",
    "we usually sample from the normal distribution and build different paths. In this new approach we start by considering a discrete version of the normal distribution (similar to what we will do with the binomial model). Let's say that we have a discrete probability distribution composed of $M$ points. Then, we are going to compute the probability of all the possible paths that could produce this distribution. At the end we just have to approximate the expectation as a discrete average over all possible paths.\n"
   ]
  },
  {
   "cell_type": "code",
   "execution_count": null,
   "id": "2adb8e73",
   "metadata": {},
   "outputs": [],
   "source": [
    "number_samples = 1000\n",
    "time_steps = 10\n",
    "discretization = 5\n",
    "bounds = 4.0\n",
    "\n",
    "s_t, p_t = bs_tree(s_0,r,volatility,maturity,number_samples,time_steps,discretization,bounds)\n",
    "tree_call_price = np.zeros(len(strike))\n",
    "for i in range(len(strike)):\n",
    "    tree_call_price[i] = np.exp(-r*maturity)*np.dot(p_t[-1],call_payoff(s_t[-1],strike[i]))\n",
    "\n",
    "\n",
    "plt.scatter(strike,tree_call_price,label = \"Tree solution\",color = \"pink\")\n",
    "plt.grid()"
   ]
  },
  {
   "cell_type": "code",
   "execution_count": null,
   "id": "4e29dac2",
   "metadata": {},
   "outputs": [],
   "source": []
  }
 ],
 "metadata": {
  "kernelspec": {
   "display_name": "Python 3 (ipykernel)",
   "language": "python",
   "name": "python3"
  },
  "language_info": {
   "codemirror_mode": {
    "name": "ipython",
    "version": 3
   },
   "file_extension": ".py",
   "mimetype": "text/x-python",
   "name": "python",
   "nbconvert_exporter": "python",
   "pygments_lexer": "ipython3",
   "version": "3.9.11"
  }
 },
 "nbformat": 4,
 "nbformat_minor": 5
}
