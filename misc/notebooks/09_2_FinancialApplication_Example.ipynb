{
 "cells": [
  {
   "cell_type": "markdown",
   "id": "140c4007",
   "metadata": {},
   "source": [
    "# Application of amplitude estimation to option pricing"
   ]
  },
  {
   "cell_type": "markdown",
   "id": "89c063a9",
   "metadata": {},
   "source": [
    "One of the tasks in finance is that of computing the price of a derivatives contract. Usually, the problem of computing the price of a derivatives contract can be reduced to computing an expectation. In the first part of this notebook we will use the amplitude estimation algorithm to compute an expectation given an input function $f(x)$ and a proability density $p(x)$.\n",
    "\n",
    "$$\\mathbb{E}[f]=\\int_a^bp(x)f(x)dx$$\n",
    "\n",
    "This integral can be approximated by the Riemann sum:\n",
    "\n",
    "$$\\mathbb{E}[f] = \\sum_{i=0}^{2^n-1} p(x_i)f(x_i)dx$$\n",
    "\n",
    "In the second part of this notebook we will use this same strategy to price a call option."
   ]
  },
  {
   "cell_type": "code",
   "execution_count": null,
   "id": "ddb6a0fd",
   "metadata": {},
   "outputs": [],
   "source": [
    "import sys\n",
    "sys.path.append(\"../../\")"
   ]
  },
  {
   "cell_type": "code",
   "execution_count": null,
   "id": "903ccf00",
   "metadata": {},
   "outputs": [],
   "source": [
    "import numpy as np\n",
    "import pandas as pd\n",
    "import matplotlib.pyplot as plt\n",
    "import qat.lang.AQASM as qlm\n",
    "from copy import deepcopy"
   ]
  },
  {
   "cell_type": "code",
   "execution_count": null,
   "id": "2e6667ab",
   "metadata": {},
   "outputs": [],
   "source": [
    "%matplotlib inline"
   ]
  },
  {
   "cell_type": "code",
   "execution_count": null,
   "id": "3e2761d3",
   "metadata": {},
   "outputs": [],
   "source": [
    "#This cell loads the QLM solver.\n",
    "#QLMaaS == False -> uses PyLinalg\n",
    "#QLMaaS == True -> try to use LinAlg (for using QPU as CESGA QLM one)\n",
    "from QQuantLib.utils.qlm_solver import get_qpu\n",
    "QLMaaS = False\n",
    "linalg_qpu = get_qpu(QLMaaS)"
   ]
  },
  {
   "cell_type": "code",
   "execution_count": null,
   "id": "0ef7577c",
   "metadata": {},
   "outputs": [],
   "source": [
    "#See 01_DataLoading_Module_Use for the use of this function\n",
    "from QQuantLib.utils.data_extracting import get_results"
   ]
  },
  {
   "cell_type": "markdown",
   "id": "20303f08",
   "metadata": {},
   "source": [
    "## 1. Defining the problem"
   ]
  },
  {
   "cell_type": "markdown",
   "id": "599deb7c",
   "metadata": {},
   "source": [
    "As we cannot work with a continuous variable we will define a discrete probability distribution and a the value of a function $f$ in the same points where the probability distribution is defined. Here $N = 2^n$ is the size of the discretized probability distribution and the size of the array. In this specific example $n = 3$ and $N = 8$."
   ]
  },
  {
   "cell_type": "code",
   "execution_count": null,
   "id": "7f5f411b",
   "metadata": {},
   "outputs": [],
   "source": [
    "n = 3\n",
    "N = 2**n\n",
    "x = np.arange(N)"
   ]
  },
  {
   "cell_type": "markdown",
   "id": "384ffacf",
   "metadata": {},
   "source": [
    "The discrete probability distribution has to be properly normalised:\n",
    "\n",
    "$$p_d = \\dfrac{1}{0+1+2+3+4+5+6+7}\\left(0,1,2,3,4,5,6,7\\right),$$\n",
    "which is saved in the variable *probability*."
   ]
  },
  {
   "cell_type": "markdown",
   "id": "985be16f",
   "metadata": {},
   "source": [
    "p_X = x/np.sum(x)"
   ]
  },
  {
   "cell_type": "markdown",
   "id": "7f80b4bf",
   "metadata": {},
   "source": [
    "The discretized function will be:\n",
    "\n",
    "$$f = \\dfrac{1}{7}\\left(0,1,2,3,4,5,6,7\\right).$$\n",
    "\n",
    "Note that it is properly normalised\n",
    "\n"
   ]
  },
  {
   "cell_type": "code",
   "execution_count": null,
   "id": "ff5513b2",
   "metadata": {},
   "outputs": [],
   "source": [
    "f_X = x/np.max(x)"
   ]
  },
  {
   "cell_type": "markdown",
   "id": "5cd029b7",
   "metadata": {},
   "source": [
    "## 2. Standard procedure"
   ]
  },
  {
   "cell_type": "markdown",
   "id": "cee2e0d0",
   "metadata": {},
   "source": [
    "The most widely approach used in the literature to compute:\n",
    "\n",
    "$$\\mathbb{E}[f] = \\sum_{i=0}^{2^n-1} p(x_i)f(x_i)dx$$\n",
    "\n",
    "begins defining an initial $n+1$ qbits state:\n",
    "\n",
    "$$|0\\rangle \\otimes|0\\rangle_{n}$$\n",
    "\n",
    "In rightmost register we will load the discrete probability distribution:\n",
    "\n",
    "$$\\mathbb{1}\\otimes\\mathcal{P}|0\\rangle \\otimes|0\\rangle_{n} = |0\\rangle\\otimes\\left[\\sqrt{p_0}|0\\rangle+\\sqrt{p_1}|1\\rangle+\\sqrt{p_2}|2\\rangle+\\sqrt{p_3}|3\\rangle+\\sqrt{p_4}|4\\rangle+\\sqrt{p_5}|5\\rangle+\\sqrt{p_6}|6\\rangle+\\sqrt{p_7}|7\\rangle\\right]$$\n",
    "\n",
    "Then we load the square root of the function controlled to the leftmost register:\n",
    "\n",
    "$$|\\Psi\\rangle=\\mathcal{F}\\left(I\\otimes\\mathcal{P}\\right)|0\\rangle\\otimes|0\\rangle_{n} = |0\\rangle\\otimes\\left[\\sqrt{p_0f_0}|0\\rangle+\\sqrt{p_1f_1}|1\\rangle+\\sqrt{p_2f_2}|2\\rangle+\\sqrt{p_3f_3}|3\\rangle+\\sqrt{p_4f_4}|4\\rangle+\\sqrt{p_5f_5}|5\\rangle+\\sqrt{p_6f_6}|6\\rangle+\\sqrt{p_7f_7}|7\\rangle\\right]+...$$\n",
    "\n",
    "For doing this operations *load_probability* and *load_array* functions from **QQuantLib/DL/data_loading** module will be used (see notebook **01_DataLoading_Module_Use.ipynb**)"
   ]
  },
  {
   "cell_type": "code",
   "execution_count": null,
   "id": "7df66281",
   "metadata": {},
   "outputs": [],
   "source": [
    "from QQuantLib.DL.data_loading import load_probability, load_array, uniform_distribution"
   ]
  },
  {
   "cell_type": "code",
   "execution_count": null,
   "id": "586e24ca",
   "metadata": {},
   "outputs": [],
   "source": [
    "p_gate = load_probability(p_X)\n",
    "f_gate = load_array(np.sqrt(f_X))"
   ]
  },
  {
   "cell_type": "markdown",
   "id": "948e00cb",
   "metadata": {},
   "source": [
    "Now we compound the two operators $\\mathcal{P}$ aqnd $\\mathcal{F}$ for creating the necesary loading circuit"
   ]
  },
  {
   "cell_type": "code",
   "execution_count": null,
   "id": "68431c4b",
   "metadata": {},
   "outputs": [],
   "source": [
    "oracle1 = qlm.QRoutine()\n",
    "register1 = oracle1.new_wires(f_gate.arity)\n",
    "oracle1.apply(p_gate, register1[:p_gate.arity])\n",
    "oracle1.apply(f_gate, register1)"
   ]
  },
  {
   "cell_type": "code",
   "execution_count": null,
   "id": "3b81314f",
   "metadata": {},
   "outputs": [],
   "source": [
    "%qatdisplay oracle1 --depth 0 --svg"
   ]
  },
  {
   "cell_type": "markdown",
   "id": "e2a42a30",
   "metadata": {},
   "source": [
    "Now that the data is loaded into the quantum circuit we will see how can we retrieve:\n",
    "\n",
    "$$\\mathbb{E}[f] = \\sum_{i=0}^{2^n-1} p(x_i)f(x_i)dx$$\n",
    "\n",
    "We express the quantum state resulting from the loading proccess: $|\\Psi\\rangle$ as a linear combination of two orthogonal states $|\\Psi_{1}\\rangle$ y $|\\Psi_{0}\\rangle$:\n",
    "\n",
    "$$|\\Psi\\rangle=\\sqrt{a}|\\Psi_{0}\\rangle+\\sqrt{1-a}|\\Psi_{1}\\rangle$$\n",
    "\n",
    "where:\n",
    "$$\n",
    "\\begin{array}{l}\n",
    "&\\sqrt{a}|\\Psi_{0}\\rangle = |0\\rangle \\otimes\\sum_{i=0}^{2^{n}-1}\\sqrt{p(x_i)f(x_i)}|i\\rangle_{n},\\\\\\\\\n",
    "&\\sqrt{1-a}|\\Psi_{1}\\rangle = |1\\rangle\\otimes\\sum_{i=0}^{2^{n}-1}\\sqrt{p(x_i)(1-f(x_i))}|i\\rangle_{n}.\n",
    "\\end{array}\n",
    "$$\n",
    "The probability of measuring $|0\\rangle$ in the leftmost qubit is:\n",
    "\n",
    "$$ a = \\sum_{i=0}^{2^{n}-1}\\left|\\sqrt{p(x_i)f(x_i)}\\right|^2,$$\n",
    "\n",
    "so estimating $a$ gives as an approximation of the value of the integral.\n",
    "\n",
    "For doing this measurement as fast as possible we will use *run* function from **QQuantLib/AE/iterative_quantum_ae.py**. For more information on this topic check the corresponding notebook."
   ]
  },
  {
   "cell_type": "code",
   "execution_count": null,
   "id": "f02c75f6",
   "metadata": {},
   "outputs": [],
   "source": [
    "from QQuantLib.AE.iterative_quantum_ae import IQAE"
   ]
  },
  {
   "cell_type": "code",
   "execution_count": null,
   "id": "f6357caf",
   "metadata": {},
   "outputs": [],
   "source": [
    "target = [0]\n",
    "index = [3]\n",
    "iqae = IQAE(oracle = oracle1,target = target, index = index)"
   ]
  },
  {
   "cell_type": "code",
   "execution_count": null,
   "id": "c1e6b5bc",
   "metadata": {},
   "outputs": [],
   "source": [
    "epsilon = 0.001\n",
    "N = 1000\n",
    "alpha = 0.05 \n",
    "bounds = iqae.run(epsilon = epsilon,N = N,alpha = alpha)"
   ]
  },
  {
   "cell_type": "code",
   "execution_count": null,
   "id": "8bfa4b71",
   "metadata": {},
   "outputs": [],
   "source": [
    "print(\"Estimation: \",bounds)\n",
    "print(\"Exact solution: \",np.dot(p_X,f_X))"
   ]
  },
  {
   "cell_type": "markdown",
   "id": "c9673589",
   "metadata": {},
   "source": [
    "## 3. Problems of the standard procedure"
   ]
  },
  {
   "cell_type": "markdown",
   "id": "b5723d73",
   "metadata": {},
   "source": [
    "Note that standard way of computing this sum has one major problem. If we have negative values in $f$, we won't be able to compute the correct sum because, when we measure the leftmost qubit we are taking the absolute value:\n",
    "$$\\sum_{i=0}^{2^{n}-1}\\left|\\sqrt{p(x_i)f(x_i)}\\right|^2 = \\sum_{i=0}^{2^{n}-1}p(x_i)\\left|f(x_i)\\right| $$\n",
    "To demonstrate it let us define a new function $f$ which is negative int the first half:\n",
    "$$f = \\dfrac{1}{7}\\left(-0,-1,-2,-3,4,5,6,7\\right).$$"
   ]
  },
  {
   "cell_type": "code",
   "execution_count": null,
   "id": "a749a28b",
   "metadata": {},
   "outputs": [],
   "source": [
    "f2 = np.copy(f_X)\n",
    "f2[1] = -f_X[1]\n",
    "f2[2] = -f_X[2]\n",
    "f2[3] = -f_X[3]\n",
    "print(f2)"
   ]
  },
  {
   "cell_type": "markdown",
   "id": "ffae33d1",
   "metadata": {},
   "source": [
    "We generate the oracle:"
   ]
  },
  {
   "cell_type": "code",
   "execution_count": null,
   "id": "01814f17",
   "metadata": {},
   "outputs": [],
   "source": [
    "f2_gate = load_array(np.sqrt(np.abs(f2)))\n",
    "oracle2 = qlm.QRoutine()\n",
    "register2 = oracle2.new_wires(n+1)\n",
    "oracle2.apply(p_gate, register2[:n])\n",
    "oracle2.apply(f2_gate, register2)"
   ]
  },
  {
   "cell_type": "markdown",
   "id": "e8e9faff",
   "metadata": {},
   "source": [
    "We solve it as before."
   ]
  },
  {
   "cell_type": "code",
   "execution_count": null,
   "id": "c153e74e",
   "metadata": {},
   "outputs": [],
   "source": [
    "target = [0]\n",
    "index = [3]\n",
    "iqae = IQAE(oracle = oracle2,target = target, index = index)"
   ]
  },
  {
   "cell_type": "code",
   "execution_count": null,
   "id": "a051021c",
   "metadata": {},
   "outputs": [],
   "source": [
    "epsilon = 0.001\n",
    "N = 100\n",
    "alpha = 0.05 \n",
    "bounds = iqae.run(epsilon = epsilon,N = N,alpha = alpha)"
   ]
  },
  {
   "cell_type": "code",
   "execution_count": null,
   "id": "93e2372a",
   "metadata": {},
   "outputs": [],
   "source": [
    "print(\"Estimation: \",bounds)\n",
    "print(\"Exact solution: \",np.dot(p_X,f2))"
   ]
  },
  {
   "cell_type": "markdown",
   "id": "60f2ea36",
   "metadata": {},
   "source": [
    "## 4. First proposal of solution"
   ]
  },
  {
   "cell_type": "markdown",
   "id": "b9f06a3a",
   "metadata": {},
   "source": [
    "To avoid this problem there is an easy workaround. Instead of loading the discrete probability distribution as a probability, we will load it as a function. This requires an extra qubit. The base probability distribution will now be a uniform distribution. As a summary we define the state:\n",
    "$$|\\Psi\\rangle = \\dfrac{1}{\\sqrt{N}}|0\\rangle|0\\rangle\\left[f_0 p_0|0\\rangle+f_1 p_1|1\\rangle+f_2 p_2|2\\rangle+f_3 p_3|3\\rangle+f_4 p_4|4\\rangle+f_5 p_5|5\\rangle+f_6 p_6|6\\rangle+f_7 p_7|7\\rangle\\right]+...$$"
   ]
  },
  {
   "cell_type": "code",
   "execution_count": null,
   "id": "fa2c0acf",
   "metadata": {},
   "outputs": [],
   "source": [
    "p3_gate = load_array(p_X)\n",
    "f3_gate = load_array(f2,id_name = \"2\")"
   ]
  },
  {
   "cell_type": "markdown",
   "id": "a5af6249",
   "metadata": {},
   "source": [
    "To be able to compute:\n",
    "\n",
    "$$\\mathbb{E}[f] = \\sum_{i=0}^{2^n-1} p(x_i)f(x_i)dx,$$\n",
    "\n",
    "we do a Hadamard transform of the state $|\\Psi\\rangle$:\n",
    "$$\\mathbb{1}\\otimes\\mathbb{1}\\otimes H|\\Psi\\rangle = \\dfrac{1}{N}|0\\rangle|0\\rangle\\left[f_0 p_0+f_1 p_1+f_2 p_2+f_3 p_3+f_4 p_4+f_5 p_5+f_6 p_6+f_7 p_7\\right]|0\\rangle+...$$\n",
    "\n"
   ]
  },
  {
   "cell_type": "code",
   "execution_count": null,
   "id": "4b84952b",
   "metadata": {},
   "outputs": [],
   "source": [
    "oracle3 = qlm.QRoutine()\n",
    "register3 = oracle3.new_wires(n+2)\n",
    "oracle3.apply(uniform_distribution(n),register3[:n])\n",
    "oracle3.apply(p3_gate, [register3[:n],register3[n]])\n",
    "oracle3.apply(f3_gate, [register3[:n],register3[n+1]])\n",
    "oracle3.apply(uniform_distribution(n),register3[:n])"
   ]
  },
  {
   "cell_type": "code",
   "execution_count": null,
   "id": "52d853ab",
   "metadata": {},
   "outputs": [],
   "source": [
    "%qatdisplay oracle3 --depth 0 --svg"
   ]
  },
  {
   "cell_type": "markdown",
   "id": "a6f6184a",
   "metadata": {},
   "source": [
    "Last, we express the quantum state resulting from the loading proccess as a linear combination of two orthogonal states $|\\Psi_{1}\\rangle$ y $|\\Psi_{0}\\rangle$:\n",
    "\n",
    "$$\\sqrt{a}|\\Psi_{0}\\rangle+\\sqrt{1-a}|\\Psi_{1}\\rangle$$\n",
    "\n",
    "where:\n",
    "$$\n",
    "\\begin{array}{l}\n",
    "&\\sqrt{a}|\\Psi_{0}\\rangle = \\left[\\dfrac{1}{N}\\sum_{i=0}^{2^{n}-1}p(x_i)f(x_i)\\right]|0\\rangle \\otimes|0\\rangle \\otimes|0\\rangle,\\\\\\\\\n",
    "\\end{array}\n",
    "$$\n",
    "The probability of measuring $|0\\rangle \\otimes|0\\rangle \\otimes|0\\rangle$ is:\n",
    "\n",
    "$$ a= \\left|\\dfrac{1}{N}\\sum_{i=0}^{2^{n}-1}p(x_i)f(x_i)\\right|^2,$$\n",
    "\n",
    "so then computing $\\sqrt{a}$ gives us an estimation."
   ]
  },
  {
   "cell_type": "code",
   "execution_count": null,
   "id": "40cfb709",
   "metadata": {},
   "outputs": [],
   "source": [
    "target = [0,0,0,0,0]\n",
    "index = [0,1,2,3,4]\n",
    "iqae = IQAE(oracle = oracle3,target = target, index = index)"
   ]
  },
  {
   "cell_type": "code",
   "execution_count": null,
   "id": "4d080052",
   "metadata": {},
   "outputs": [],
   "source": [
    "epsilon = 0.001\n",
    "N = 100\n",
    "alpha = 0.05 \n",
    "bounds = iqae.run(epsilon = epsilon,N = N,alpha = alpha)"
   ]
  },
  {
   "cell_type": "code",
   "execution_count": null,
   "id": "e1770d36",
   "metadata": {},
   "outputs": [],
   "source": [
    "print(\"Estimation: \",2**n*np.sqrt(bounds[0]),2**n*np.sqrt(bounds[1]))\n",
    "print(\"Exact solution: \",np.dot(p_X,f2))"
   ]
  },
  {
   "cell_type": "markdown",
   "id": "0c0457b0",
   "metadata": {},
   "source": [
    "## 5. Problems of the first proposal of solution"
   ]
  },
  {
   "cell_type": "markdown",
   "id": "04489fce",
   "metadata": {},
   "source": [
    "We have solved one of the issue, but we still face one major problem. If the expectation of $f$ is negative, we won't be able to notice it, again because we are taking the absolute value.\n",
    "To demonstrate it let us define a new linear function $f$ which is negative in the second half:\n",
    "$$f = \\dfrac{1}{7}\\left(0,1,2,3,-4,-5,-6,-7\\right).$$"
   ]
  },
  {
   "cell_type": "code",
   "execution_count": null,
   "id": "6c1163e4",
   "metadata": {},
   "outputs": [],
   "source": [
    "f3 = np.copy(f_X)\n",
    "f3[4] = -f_X[4]\n",
    "f3[5] = -f_X[5]\n",
    "f3[6] = -f_X[6]\n",
    "f3[7] = -f_X[7]"
   ]
  },
  {
   "cell_type": "code",
   "execution_count": null,
   "id": "4013f9b3",
   "metadata": {},
   "outputs": [],
   "source": [
    "p4_gate = load_array(p_X)\n",
    "f4_gate = load_array(f3,id_name = \"2\")"
   ]
  },
  {
   "cell_type": "code",
   "execution_count": null,
   "id": "64b5d447",
   "metadata": {},
   "outputs": [],
   "source": [
    "oracle4 = qlm.QRoutine()\n",
    "register4 = oracle4.new_wires(n+2)\n",
    "oracle4.apply(uniform_distribution(n),register4[:n])\n",
    "oracle4.apply(p4_gate, [register4[:n],register4[n]])\n",
    "oracle4.apply(f4_gate, [register4[:n],register4[n+1]])\n",
    "oracle4.apply(uniform_distribution(n),register4[:n])"
   ]
  },
  {
   "cell_type": "code",
   "execution_count": null,
   "id": "1da7be48",
   "metadata": {},
   "outputs": [],
   "source": [
    "target = [0,0,0,0,0]\n",
    "index = [0,1,2,3,4]\n",
    "iqae = IQAE(oracle = oracle4,target = target, index = index)"
   ]
  },
  {
   "cell_type": "code",
   "execution_count": null,
   "id": "6a1ac12f",
   "metadata": {},
   "outputs": [],
   "source": [
    "epsilon = 0.001\n",
    "N = 556\n",
    "alpha = 0.05 \n",
    "bounds = iqae.run(epsilon = epsilon,N = N,alpha = alpha)"
   ]
  },
  {
   "cell_type": "code",
   "execution_count": null,
   "id": "7cd1b834",
   "metadata": {},
   "outputs": [],
   "source": [
    "print(\"Estimation: \",2**n*np.sqrt(bounds[0]),2**n*np.sqrt(bounds[1]))\n",
    "print(\"Exact solution: \",np.dot(p_X,f3))"
   ]
  },
  {
   "cell_type": "markdown",
   "id": "d58057cf",
   "metadata": {},
   "source": [
    "Here we see that the module is correct but not the sign. Of course this becomes critical as it is not the same obtining an expected positve result or a negative one. For instance, think of the return on an investment."
   ]
  },
  {
   "cell_type": "code",
   "execution_count": null,
   "id": "8576c4d1",
   "metadata": {},
   "outputs": [],
   "source": [
    "iqae.display_information(epsilon = epsilon,N = N,alpha = alpha)"
   ]
  },
  {
   "cell_type": "markdown",
   "id": "978a4710",
   "metadata": {},
   "source": [
    "## 6. A more definitive approach"
   ]
  },
  {
   "cell_type": "markdown",
   "id": "0e84288a",
   "metadata": {},
   "source": [
    "The solution to this is using an algorithm which distinguishes the sign of the underlying amplitude. For that we propose the RQAE, for more information check the corresponding notebook and article."
   ]
  },
  {
   "cell_type": "code",
   "execution_count": null,
   "id": "0638a074",
   "metadata": {},
   "outputs": [],
   "source": [
    "from QQuantLib.AE.real_quantum_ae import RQAE"
   ]
  },
  {
   "cell_type": "code",
   "execution_count": null,
   "id": "0c24f0d2",
   "metadata": {},
   "outputs": [],
   "source": [
    "target = [0]*(n+2)\n",
    "index = np.arange(n+2)\n",
    "rqae = RQAE(oracle = oracle4,target = target, index = index)"
   ]
  },
  {
   "cell_type": "code",
   "execution_count": null,
   "id": "83415f13",
   "metadata": {},
   "outputs": [],
   "source": [
    "q = 2\n",
    "epsilon = 0.001\n",
    "gamma = 0.05 \n",
    "bounds = rqae.run(q = q, epsilon = epsilon,gamma = gamma)"
   ]
  },
  {
   "cell_type": "code",
   "execution_count": null,
   "id": "82392552",
   "metadata": {},
   "outputs": [],
   "source": [
    "print(\"Estimation: \",2**n*bounds[0],2**n*bounds[1])\n",
    "print(\"Exact solution: \",np.dot(p_X,f3))"
   ]
  },
  {
   "cell_type": "code",
   "execution_count": null,
   "id": "a1dca741",
   "metadata": {},
   "outputs": [],
   "source": [
    "rqae.display_information(q = q, epsilon = epsilon,gamma = gamma)"
   ]
  },
  {
   "cell_type": "markdown",
   "id": "25f0bbd9",
   "metadata": {},
   "source": [
    "## 7. Call option under the Black-Scholes model"
   ]
  },
  {
   "cell_type": "markdown",
   "id": "a78d50f7",
   "metadata": {},
   "source": [
    "Now we will use this same strategy to compute the prices of a plain vanilla under the assumptions of the Black-Scholes model. In order to do that, we have to choose some parameters for the pricing model, in this case:\n",
    "- Current underlying price ($S_0$): 2\n",
    "- Risk-free rate ($r$): 4\\%\n",
    "- The volatility ($\\sigma$): 10\\%\n",
    "\n",
    "Next, we define the parameters of the call option:\n",
    "- Maturity ($T$): 300 days \n",
    "- Strike ($K$): 1.9"
   ]
  },
  {
   "cell_type": "code",
   "execution_count": null,
   "id": "6dfc3ddf",
   "metadata": {},
   "outputs": [],
   "source": [
    "S0 = 2\n",
    "r = 0.04\n",
    "sigma = 0.1\n",
    "T = 300/365\n",
    "K = 1.9"
   ]
  },
  {
   "cell_type": "markdown",
   "id": "50c85528",
   "metadata": {},
   "source": [
    "The price of a call option can be approximated as:\n",
    "$$C(S_0,K,T) = e^{-rT}\\mathbb{E}_r[(S_T-K)^+]$$\n",
    "In the next cell we compute the approximated value when we approximate the probability distribution and the payoff with $2^n$ points."
   ]
  },
  {
   "cell_type": "code",
   "execution_count": null,
   "id": "26be4f41",
   "metadata": {},
   "outputs": [],
   "source": [
    "from QQuantLib.utils.utils import bs_probability, call_payoff"
   ]
  },
  {
   "cell_type": "code",
   "execution_count": null,
   "id": "5fc419d9",
   "metadata": {},
   "outputs": [],
   "source": [
    "n = 3\n",
    "x = np.linspace(1,3,2**n)\n",
    "probability = bs_probability(x,S0,r,sigma,T)\n",
    "payoff = call_payoff(x,K)\n",
    "classical_price_estimation = np.exp(-r*T)*np.dot(probability,payoff)"
   ]
  },
  {
   "cell_type": "markdown",
   "id": "0ec87ce0",
   "metadata": {},
   "source": [
    "Now we will compute the approximated price via the quantum computer. Before we load the probability and the payoff into the quantum computer we have to normalise the payoff function."
   ]
  },
  {
   "cell_type": "code",
   "execution_count": null,
   "id": "0b65394e",
   "metadata": {},
   "outputs": [],
   "source": [
    "payoff_normalisation = np.max(payoff)\n",
    "payoff_normalised = payoff/payoff_normalisation"
   ]
  },
  {
   "cell_type": "code",
   "execution_count": null,
   "id": "8c5edb7b",
   "metadata": {},
   "outputs": [],
   "source": [
    "p5_gate = load_array(probability,id_name = \"probability\")\n",
    "f5_gate = load_array(payoff_normalised,id_name = \"payoff\")"
   ]
  },
  {
   "cell_type": "code",
   "execution_count": null,
   "id": "96f91305",
   "metadata": {},
   "outputs": [],
   "source": [
    "oracle5 = qlm.QRoutine()\n",
    "register5 = oracle5.new_wires(n+2)\n",
    "oracle5.apply(uniform_distribution(n),register5[:n])\n",
    "oracle5.apply(p5_gate, [register5[:n],register5[n]])\n",
    "oracle5.apply(f5_gate, [register5[:n],register5[n+1]])\n",
    "oracle5.apply(uniform_distribution(n),register5[:n])"
   ]
  },
  {
   "cell_type": "code",
   "execution_count": null,
   "id": "b34fedb6",
   "metadata": {},
   "outputs": [],
   "source": [
    "target = [0]*(n+2)\n",
    "index = np.arange(n+2)\n",
    "rqae = RQAE(oracle = oracle5,target = target, index = index)"
   ]
  },
  {
   "cell_type": "code",
   "execution_count": null,
   "id": "e503d988",
   "metadata": {},
   "outputs": [],
   "source": [
    "q = 2\n",
    "epsilon = 0.001\n",
    "gamma = 0.05 \n",
    "bounds_rqae = rqae.run(q = q, epsilon = epsilon,gamma = gamma)"
   ]
  },
  {
   "cell_type": "code",
   "execution_count": null,
   "id": "912c1718",
   "metadata": {},
   "outputs": [],
   "source": [
    "quantum_price_estimation = (bounds_rqae[0]+bounds_rqae[1])/2*2**n*payoff_normalisation*np.exp(-r*T)"
   ]
  },
  {
   "cell_type": "markdown",
   "id": "d143dce8",
   "metadata": {},
   "source": [
    "Last, we use function *bs_call_price* to compute the exact price and compare it with the classical and quantum estimation"
   ]
  },
  {
   "cell_type": "code",
   "execution_count": null,
   "id": "cc5d7afe",
   "metadata": {},
   "outputs": [],
   "source": [
    "from QQuantLib.utils.utils import bs_call_price"
   ]
  },
  {
   "cell_type": "code",
   "execution_count": null,
   "id": "ecde2a01",
   "metadata": {},
   "outputs": [],
   "source": [
    "exact_price = bs_call_price(S0,r,sigma,T,K)"
   ]
  },
  {
   "cell_type": "code",
   "execution_count": null,
   "id": "103bbf29",
   "metadata": {},
   "outputs": [],
   "source": [
    "print(\"Exact price: \",exact_price)\n",
    "print(\"Classical estimation: \",classical_price_estimation)\n",
    "print(\"Quantum estimation: \",quantum_price_estimation)"
   ]
  },
  {
   "cell_type": "markdown",
   "id": "29dcd351",
   "metadata": {},
   "source": [
    "Note that this procedure does not provide any quantum advantage."
   ]
  },
  {
   "cell_type": "markdown",
   "id": "4877046b",
   "metadata": {},
   "source": [
    "## 8. Futures payoff under Black-Scholes model "
   ]
  },
  {
   "cell_type": "markdown",
   "id": "dc1de963",
   "metadata": {},
   "source": [
    "To emphasize the advantages of the RQAE method we will use the same strategy to compute the prices of a derivatives contract with linear payoff under the assumptions of the Black-Scholes model. In order to do that, we have to choose some parameters for the pricing model, in this case:\n",
    "- Current underlying price ($S_0$): 2\n",
    "- Risk-free rate ($r$): 4\\%\n",
    "- The volatility ($\\sigma$): 10\\%\n",
    "\n",
    "Next, we define the parameters of the derivatives contract:\n",
    "- Maturity ($T$): 300 days \n",
    "- Strike ($K$): 2.5"
   ]
  },
  {
   "cell_type": "code",
   "execution_count": null,
   "id": "d000e56c",
   "metadata": {},
   "outputs": [],
   "source": [
    "S0 = 2\n",
    "r = 0.04\n",
    "sigma = 0.1\n",
    "T = 300/365\n",
    "K = 2.5"
   ]
  },
  {
   "cell_type": "markdown",
   "id": "b1217b38",
   "metadata": {},
   "source": [
    "The price of this derivatives contract with linear payoff can be approximated:\n",
    "$$C(S_0,K,T) = e^{-rT}\\mathbb{E}_r[S_T-K]$$\n",
    "In the next cell we compute the approximated value when we approximate the probability distribution and the payoff with $2^n$ points."
   ]
  },
  {
   "cell_type": "code",
   "execution_count": null,
   "id": "7584a5b5",
   "metadata": {},
   "outputs": [],
   "source": [
    "n = 3\n",
    "x = np.linspace(1,3,2**n)\n",
    "probability = bs_probability(x,S0,r,sigma,T)\n",
    "payoff = x-K\n",
    "classical_price_estimation = np.exp(-r*T)*np.dot(probability,payoff)\n",
    "print(\"Classical price estimation: \",classical_price_estimation)"
   ]
  },
  {
   "cell_type": "markdown",
   "id": "9f2f5140",
   "metadata": {},
   "source": [
    "As we see the price of this contract is negative. As we saw before, the standard quantum procedure won't work so we use RQAE. With it we compute the approximated price via the quantum computer. Before we load the probability and the payoff into the quantum computer we have to normalise the payoff function."
   ]
  },
  {
   "cell_type": "code",
   "execution_count": null,
   "id": "f2589bf0",
   "metadata": {},
   "outputs": [],
   "source": [
    "payoff_normalisation = np.max(np.abs(payoff))\n",
    "payoff_normalised = payoff/payoff_normalisation"
   ]
  },
  {
   "cell_type": "code",
   "execution_count": null,
   "id": "4f6df82e",
   "metadata": {},
   "outputs": [],
   "source": [
    "p5_gate = load_array(probability,id_name = \"probability\")\n",
    "f5_gate = load_array(payoff_normalised,id_name = \"payoff\")"
   ]
  },
  {
   "cell_type": "code",
   "execution_count": null,
   "id": "22731d56",
   "metadata": {},
   "outputs": [],
   "source": [
    "oracle5 = qlm.QRoutine()\n",
    "register5 = oracle5.new_wires(n+2)\n",
    "oracle5.apply(uniform_distribution(n),register5[:n])\n",
    "oracle5.apply(p5_gate, [register5[:n],register5[n]])\n",
    "oracle5.apply(f5_gate, [register5[:n],register5[n+1]])\n",
    "oracle5.apply(uniform_distribution(n),register5[:n])"
   ]
  },
  {
   "cell_type": "code",
   "execution_count": null,
   "id": "3ee7d673",
   "metadata": {},
   "outputs": [],
   "source": [
    "target = [0]*(n+2)\n",
    "index = np.arange(n+2)\n",
    "rqae = RQAE(oracle = oracle5,target = target, index = index)"
   ]
  },
  {
   "cell_type": "code",
   "execution_count": null,
   "id": "19e1dc16",
   "metadata": {},
   "outputs": [],
   "source": [
    "q = 2\n",
    "epsilon = 0.001\n",
    "gamma = 0.05 \n",
    "bounds_rqae = rqae.run(q = q, epsilon = epsilon,gamma = gamma)"
   ]
  },
  {
   "cell_type": "code",
   "execution_count": null,
   "id": "430c9e69",
   "metadata": {},
   "outputs": [],
   "source": [
    "quantum_price_estimation = (bounds_rqae[0]+bounds_rqae[1])/2*2**n*payoff_normalisation*np.exp(-r*T)"
   ]
  },
  {
   "cell_type": "markdown",
   "id": "21ef6aba",
   "metadata": {},
   "source": [
    "Last, we compare the classical and quantum estimation:"
   ]
  },
  {
   "cell_type": "code",
   "execution_count": null,
   "id": "6fb673c8",
   "metadata": {},
   "outputs": [],
   "source": [
    "print(\"Classical estimation: \",classical_price_estimation)\n",
    "print(\"Quantum estimation: \",quantum_price_estimation)"
   ]
  },
  {
   "cell_type": "markdown",
   "id": "8cc6f9a9",
   "metadata": {},
   "source": [
    "## 8. Computation of VaR"
   ]
  },
  {
   "cell_type": "markdown",
   "id": "3a99aeb5",
   "metadata": {},
   "source": [
    "For a given confidence level $\\alpha$, $VaR_\\alpha(X)$ is the smallest value $x$ such that \n",
    "$$P[X\\leq x]\\geq (1-\\alpha).$$ To compute this quantity we can do a binary search."
   ]
  },
  {
   "cell_type": "markdown",
   "id": "13086ae1",
   "metadata": {},
   "source": [
    "### 8.1 Classical binary search"
   ]
  },
  {
   "cell_type": "markdown",
   "id": "12ba53a3",
   "metadata": {},
   "source": [
    "A binary search for $N = 2^n$ discrete probabilities works as follows:\n",
    "- We begin by computing the cumulative sum for the first $2^{n-1}$ probabilities.\n",
    "- If the probability is lower than the one we demand, we set $2^{n-1} = 2^{n-1}+2^{n-2}$ entries. Otherwise, we set $2^{n-1} = 2^{n-1}-2^{n-2}$ entries.\n",
    "- Now we can start in the first step until $N = 1$, then we stop.\n",
    "In the following cells we do this process in an iterative fashion to compute the VaR\n",
    "\n",
    "We will do this process with the probability distribution from Black-Scholes equation"
   ]
  },
  {
   "cell_type": "code",
   "execution_count": null,
   "id": "8706c631",
   "metadata": {},
   "outputs": [],
   "source": [
    "probability = bs_probability(x,S0,r,sigma,T)\n",
    "#probability = np.array([0,0,0,0,0.96,0.04,0,0])"
   ]
  },
  {
   "cell_type": "code",
   "execution_count": null,
   "id": "285c01cd",
   "metadata": {},
   "outputs": [],
   "source": [
    "alpha = 0.05\n",
    "index = 0\n",
    "sign = 1\n",
    "for i in range(1,n+1):\n",
    "    index = index+sign*2**(n-i)\n",
    "    suma = np.sum(probability[0:index])\n",
    "    if (suma<=1-alpha):\n",
    "        sign = 1\n",
    "    else:\n",
    "        sign = -1\n",
    "if (sign==1): \n",
    "    index = index+sign\n",
    "\n",
    "print(\"El resultado es: \",index)"
   ]
  },
  {
   "cell_type": "code",
   "execution_count": null,
   "id": "b4edea24",
   "metadata": {},
   "outputs": [],
   "source": [
    "np.sum(probability[:index])"
   ]
  },
  {
   "cell_type": "markdown",
   "id": "45a56f6c",
   "metadata": {},
   "source": [
    "### 8.2 Quantum binary search with IQAE"
   ]
  },
  {
   "cell_type": "markdown",
   "id": "7ec3df27",
   "metadata": {},
   "source": [
    "The quantum binary search using IQAE proceeds in the same manner as the classical binary search. The main difference is in the quanutm way we perform the cumulative sum. For that purpose we have defined the step function $s_i^N$. This function flips the leftmost qubit of all the states $j$ with the condition $j\\geq i$. \n",
    "\n",
    "Let us give an example with $3+1$ qubits. We start with the state:\n",
    "$$|\\phi\\rangle_0 = |0\\rangle\\otimes\\left[\\sqrt{p_0}|0\\rangle+\\sqrt{p_1}|1\\rangle+\\sqrt{p_2}|2\\rangle+\\sqrt{p_3}|3\\rangle+\\sqrt{p_4}|4\\rangle+\\sqrt{p_5}|5\\rangle+\\sqrt{p_6}|6\\rangle+\\sqrt{p_7}|7\\rangle\\right].$$\n",
    "An application of the function $s_4^8$ yields:\n",
    "$$s_4^8|\\phi\\rangle_0 = |0\\rangle\\otimes\\left[\\sqrt{p_0}|0\\rangle+\\sqrt{p_1}|1\\rangle+\\sqrt{p_2}|2\\rangle+\\sqrt{p_3}|3\\rangle\\right]+|1\\rangle\\otimes\\left[\\sqrt{p_4}|4\\rangle+\\sqrt{p_5}|5\\rangle+\\sqrt{p_6}|6\\rangle+\\sqrt{p_7}|7\\rangle\\right].$$\n",
    "Now, performing the sum of the first four entries is equivalent to measuring the probability of obtaining $|0\\rangle$ in the leftmost qubit. This is the strategy to perform the cumulative sums.\n",
    "\n",
    "Note that, in the cell where we perform the binary search we only substitute the line of the cumulative sum with this new strategy, the rest remains the same.\n"
   ]
  },
  {
   "cell_type": "code",
   "execution_count": null,
   "id": "cad9f127",
   "metadata": {},
   "outputs": [],
   "source": [
    "from QQuantLib.DL.data_loading import step_array"
   ]
  },
  {
   "cell_type": "code",
   "execution_count": null,
   "id": "2111ab9d",
   "metadata": {},
   "outputs": [],
   "source": [
    "probability = bs_probability(x,S0,r,sigma,T)\n",
    "#probability = np.array([0,0,0,0,0.96,0.04,0,0])\n",
    "p_gate = load_probability(probability)"
   ]
  },
  {
   "cell_type": "code",
   "execution_count": null,
   "id": "6e0f5cb9",
   "metadata": {},
   "outputs": [],
   "source": [
    "N = 100\n",
    "epsilon = 0.01\n",
    "\n",
    "alpha = 0.05\n",
    "index = 0\n",
    "sign = 1\n",
    "for i in range(1,n+1):\n",
    "    index = index+sign*2**(n-i)\n",
    "    # Sum process done in the quantum computer\n",
    "    routine = qlm.QRoutine()\n",
    "    register = routine.new_wires(n+1)\n",
    "    routine.apply(p_gate,register[:n])\n",
    "    routine.apply(step_array(index,2**n),register)\n",
    "    ##########################################\n",
    "    iqae = IQAE(oracle = routine,target = [0], index = [n])\n",
    "    bounds = iqae.run(epsilon = epsilon,N = N,alpha = 0.05)\n",
    "    suma = (bounds[0]+bounds[1])/2\n",
    "    ##########################################\n",
    "    if (suma<=1-alpha):\n",
    "        sign = 1\n",
    "    else:\n",
    "        sign = -1\n",
    "if (sign==1): \n",
    "    index = index+sign\n",
    "\n",
    "print(\"El resultado es: \",index)"
   ]
  },
  {
   "cell_type": "code",
   "execution_count": null,
   "id": "91619a7e",
   "metadata": {},
   "outputs": [],
   "source": [
    "np.sum(probability[:index])"
   ]
  },
  {
   "cell_type": "markdown",
   "id": "22cc5981",
   "metadata": {},
   "source": [
    "### 8.3 Quantum binary search with RQAE"
   ]
  },
  {
   "cell_type": "markdown",
   "id": "8b242a88",
   "metadata": {},
   "source": [
    "Once again, the quantum binary search with RQAE proceeds in the same manner as the classical binary search. The main difference is in the quanutm way we perform the cumulative sum. As here we work with the amplitudes instead of the probabilities we have to perform the sum in the quantum state.\n",
    "\n",
    "Let us give an example with $3+1$ qubits. We start with the state:\n",
    "$$|\\phi\\rangle_0 = \\dfrac{1}{\\sqrt{2^3}}|0\\rangle\\otimes |0\\rangle\\otimes\\left[p_0|0\\rangle+p_1|1\\rangle+p_2|2\\rangle+p_3|3\\rangle+p_4|4\\rangle+p_5|5\\rangle+p_6|6\\rangle+p_7|7\\rangle\\right]+ ....$$\n",
    "An application of the step function $s_4^8$ yields:\n",
    "$$s_4^8|\\phi\\rangle_0 =  \\dfrac{1}{\\sqrt{2^3}}|0\\rangle\\otimes|0\\rangle\\otimes\\left[p_0|0\\rangle+p_1|1\\rangle+p_2|2\\rangle+p_3|3\\rangle\\right]+|1\\rangle\\otimes|0\\rangle\\otimes\\left[p_4|4\\rangle+p_5|5\\rangle+p_6|6\\rangle+p_7|7\\rangle\\right]+....$$\n",
    "Now, performing the sum of the first four entries is equivalent to applying Hadamard gates to the first entries:\n",
    "$$H^{\\otimes3}|\\phi\\rangle_1 =  \\dfrac{p_0+p_1+p_2+p_3}{2^3}|0\\rangle\\otimes|0\\rangle\\otimes|0\\rangle+...$$\n",
    "This is the strategy to perform the cumulative sums.\n",
    "\n",
    "Note that, in the cell where we perform the binary search we only substitute the line of the cumulative sum with this new strategy, the rest remains the same.\n",
    "\n"
   ]
  },
  {
   "cell_type": "code",
   "execution_count": null,
   "id": "91be2572",
   "metadata": {},
   "outputs": [],
   "source": [
    "probability = bs_probability(x,S0,r,sigma,T)\n",
    "#probability = np.array([0,0,0,0,0.96,0.04,0,0])\n",
    "p_gate = load_array(probability,id_name = \"probability\")"
   ]
  },
  {
   "cell_type": "code",
   "execution_count": null,
   "id": "0f52f540",
   "metadata": {},
   "outputs": [],
   "source": [
    "gamma = 0.05\n",
    "q = 2\n",
    "epsilon = 0.01\n",
    "\n",
    "alpha = 0.05\n",
    "index = 0\n",
    "sign = 1\n",
    "for i in range(1,n+1):\n",
    "    index = index+sign*2**(n-i)\n",
    "    # Sum process done in the quantum computer\n",
    "    routine = qlm.QRoutine()\n",
    "    register = routine.new_wires(n+2)\n",
    "    routine.apply(uniform_distribution(n),register[:n])\n",
    "    routine.apply(p_gate,[register[:n],register[n]])\n",
    "    routine.apply(step_array(index,2**n),[register[0:n],register[n+1]])\n",
    "    routine.apply(uniform_distribution(n),register[:n])\n",
    "    ##########################################\n",
    "    rqae = RQAE(oracle = routine,target = [0]*(n+2), index = np.arange(n+2))\n",
    "    bounds = rqae.run(q = q,epsilon = epsilon,gamma = gamma)\n",
    "    suma = np.abs(bounds[1]*2**n)\n",
    "    ##########################################\n",
    "    if (suma<=1-alpha):\n",
    "        sign = 1\n",
    "    else:\n",
    "        sign = -1\n",
    "if (sign==1): \n",
    "    index = index+sign\n",
    "\n",
    "print(\"El resultado es: \",index)"
   ]
  },
  {
   "cell_type": "code",
   "execution_count": null,
   "id": "27557bbc",
   "metadata": {},
   "outputs": [],
   "source": [
    "np.sum(probability[:index])"
   ]
  },
  {
   "cell_type": "code",
   "execution_count": null,
   "id": "6694e2f8",
   "metadata": {},
   "outputs": [],
   "source": []
  }
 ],
 "metadata": {
  "kernelspec": {
   "display_name": "Python 3 (ipykernel)",
   "language": "python",
   "name": "python3"
  },
  "language_info": {
   "codemirror_mode": {
    "name": "ipython",
    "version": 3
   },
   "file_extension": ".py",
   "mimetype": "text/x-python",
   "name": "python",
   "nbconvert_exporter": "python",
   "pygments_lexer": "ipython3",
   "version": "3.9.9"
  }
 },
 "nbformat": 4,
 "nbformat_minor": 5
}
