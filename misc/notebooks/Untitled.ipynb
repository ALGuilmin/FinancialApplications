{
 "cells": [
  {
   "cell_type": "code",
   "execution_count": null,
   "id": "57e986e2",
   "metadata": {},
   "outputs": [],
   "source": [
    "import sys\n",
    "sys.path.append(\"../../\")"
   ]
  },
  {
   "cell_type": "code",
   "execution_count": null,
   "id": "270d99a9",
   "metadata": {},
   "outputs": [],
   "source": [
    "import numpy as np\n",
    "import pandas as pd\n",
    "import matplotlib.pyplot as plt\n",
    "import qat.lang.AQASM as qlm"
   ]
  },
  {
   "cell_type": "code",
   "execution_count": null,
   "id": "fc5c87b4",
   "metadata": {},
   "outputs": [],
   "source": [
    "from QQuantLib.utils.data_extracting import get_results"
   ]
  },
  {
   "cell_type": "code",
   "execution_count": null,
   "id": "fa652e8a",
   "metadata": {},
   "outputs": [],
   "source": [
    "%matplotlib inline"
   ]
  },
  {
   "cell_type": "code",
   "execution_count": null,
   "id": "39c2e8b9",
   "metadata": {},
   "outputs": [],
   "source": [
    "#This cell loads the QLM solver.\n",
    "#QLMaaS == False -> uses PyLinalg\n",
    "#QLMaaS == True -> try to use LinAlg (for using QPU as CESGA QLM one)\n",
    "from QQuantLib.utils.qlm_solver import get_qpu\n",
    "QLMaaS = False\n",
    "linalg_qpu = get_qpu(QLMaaS)"
   ]
  },
  {
   "cell_type": "markdown",
   "id": "cb6b12e2",
   "metadata": {},
   "source": [
    "## OPA"
   ]
  },
  {
   "cell_type": "code",
   "execution_count": null,
   "id": "738dd1e9",
   "metadata": {},
   "outputs": [],
   "source": [
    "from QQuantLib.DL.loading_protocols import Encoding"
   ]
  },
  {
   "cell_type": "code",
   "execution_count": null,
   "id": "9abfe0eb",
   "metadata": {},
   "outputs": [],
   "source": [
    "n = 3\n",
    "N = 2**n\n",
    "x = np.arange(N) \n",
    "f = x / np.max(x)\n",
    "probability = x/np.sum(x)"
   ]
  },
  {
   "cell_type": "code",
   "execution_count": null,
   "id": "cf7a5aea",
   "metadata": {},
   "outputs": [],
   "source": [
    "encoding_dict = {\n",
    "    \"method\": \"multiplexor\"\n",
    "    #\"method\": \"brute_force\"\n",
    "}\n",
    "class_encoding = Encoding(array_function=f, array_probability=probability, **encoding_dict)"
   ]
  },
  {
   "cell_type": "code",
   "execution_count": null,
   "id": "ffc5ccc1",
   "metadata": {},
   "outputs": [],
   "source": [
    "class_encoding.oracle_encoding_01()\n",
    "oracle = class_encoding.oracle\n",
    "%qatdisplay oracle --depth "
   ]
  },
  {
   "cell_type": "code",
   "execution_count": null,
   "id": "f6547ba2",
   "metadata": {},
   "outputs": [],
   "source": [
    "results,_,_,_ = get_results(oracle, linalg_qpu=linalg_qpu, qubits=[n])"
   ]
  },
  {
   "cell_type": "code",
   "execution_count": null,
   "id": "e883d40f",
   "metadata": {
    "scrolled": false
   },
   "outputs": [],
   "source": [
    "results"
   ]
  },
  {
   "cell_type": "code",
   "execution_count": null,
   "id": "a3d85d73",
   "metadata": {},
   "outputs": [],
   "source": [
    "np.isclose(results['Probability'].iloc[0], np.sum(f*probability))"
   ]
  },
  {
   "cell_type": "code",
   "execution_count": null,
   "id": "151c0792",
   "metadata": {},
   "outputs": [],
   "source": [
    "class_encoding.oracle_encoding_02()\n",
    "oracle = class_encoding.oracle\n",
    "\n",
    "%qatdisplay oracle --depth "
   ]
  },
  {
   "cell_type": "code",
   "execution_count": null,
   "id": "9d384a6f",
   "metadata": {},
   "outputs": [],
   "source": [
    "results,_,_,_ = get_results(oracle, linalg_qpu=linalg_qpu)"
   ]
  },
  {
   "cell_type": "code",
   "execution_count": null,
   "id": "8e34a217",
   "metadata": {
    "scrolled": false
   },
   "outputs": [],
   "source": [
    "np.isclose(np.sqrt(results['Probability'].iloc[0])*2**n, np.sum(f*probability))"
   ]
  },
  {
   "cell_type": "code",
   "execution_count": null,
   "id": "620db3a8",
   "metadata": {},
   "outputs": [],
   "source": [
    "class_encoding.oracle_encoding_03()\n",
    "oracle = class_encoding.oracle\n",
    "%qatdisplay oracle --depth "
   ]
  },
  {
   "cell_type": "code",
   "execution_count": null,
   "id": "98b2358d",
   "metadata": {},
   "outputs": [],
   "source": [
    "results,_,_,_ = get_results(oracle, linalg_qpu=linalg_qpu)"
   ]
  },
  {
   "cell_type": "code",
   "execution_count": null,
   "id": "82e9f68a",
   "metadata": {},
   "outputs": [],
   "source": [
    "np.isclose(np.sqrt(results['Probability'].iloc[0]), np.sum(f*probability))"
   ]
  },
  {
   "cell_type": "code",
   "execution_count": null,
   "id": "eb18914b",
   "metadata": {},
   "outputs": [],
   "source": []
  },
  {
   "cell_type": "code",
   "execution_count": null,
   "id": "d278e3df",
   "metadata": {},
   "outputs": [],
   "source": []
  }
 ],
 "metadata": {
  "kernelspec": {
   "display_name": "Python 3 (ipykernel)",
   "language": "python",
   "name": "python3"
  },
  "language_info": {
   "codemirror_mode": {
    "name": "ipython",
    "version": 3
   },
   "file_extension": ".py",
   "mimetype": "text/x-python",
   "name": "python",
   "nbconvert_exporter": "python",
   "pygments_lexer": "ipython3",
   "version": "3.9.11"
  }
 },
 "nbformat": 4,
 "nbformat_minor": 5
}
