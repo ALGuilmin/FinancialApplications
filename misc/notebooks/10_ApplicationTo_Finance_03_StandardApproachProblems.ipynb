{
 "cells": [
  {
   "cell_type": "markdown",
   "id": "140c4007",
   "metadata": {},
   "source": [
    "# Application of amplitude estimation to Finances: Standard Approach Problems\n",
    "\n",
    "In notebook *08_ApplicationTo_Finance_01_StandardApproach* we explain how to use **amplitude amplifications** techniques to compute expectation values and in the notebook: *09_ApplicationTo_Finance_02_Call_Option_BlackScholes* we use this for developing a complete price estimation for an *european call option* under the **Black Scholes** model.\n",
    "\n",
    "In this notebook we are going to point out several problems of this standard approach and give some proposal solutions in order to avoid them.\n"
   ]
  },
  {
   "cell_type": "code",
   "execution_count": null,
   "id": "6b1a8b89",
   "metadata": {},
   "outputs": [],
   "source": [
    "import sys\n",
    "sys.path.append(\"../../\")"
   ]
  },
  {
   "cell_type": "code",
   "execution_count": null,
   "id": "3c0bcacf",
   "metadata": {},
   "outputs": [],
   "source": [
    "import numpy as np\n",
    "import pandas as pd\n",
    "import matplotlib.pyplot as plt\n",
    "import qat.lang.AQASM as qlm\n",
    "from copy import deepcopy"
   ]
  },
  {
   "cell_type": "code",
   "execution_count": null,
   "id": "eab4d599",
   "metadata": {},
   "outputs": [],
   "source": [
    "%matplotlib inline"
   ]
  },
  {
   "cell_type": "code",
   "execution_count": null,
   "id": "d4673fae",
   "metadata": {},
   "outputs": [],
   "source": [
    "#This cell loads the QLM solver.\n",
    "#QLMaaS == False -> uses PyLinalg\n",
    "#QLMaaS == True -> try to use LinAlg (for using QPU as CESGA QLM one)\n",
    "from QQuantLib.utils.qlm_solver import get_qpu\n",
    "QLMaaS = False\n",
    "linalg_qpu = get_qpu(QLMaaS)"
   ]
  },
  {
   "cell_type": "code",
   "execution_count": null,
   "id": "bd2de143",
   "metadata": {},
   "outputs": [],
   "source": [
    "#See 01_DataLoading_Module_Use for the use of this function\n",
    "from QQuantLib.utils.data_extracting import get_results"
   ]
  },
  {
   "cell_type": "markdown",
   "id": "91e0f9bc",
   "metadata": {},
   "source": [
    "## 1. Amplitude Amplification and Expectation value computations.\n",
    "\n",
    "As explained in notebook: *08_ApplicationTo_Finance_01_StandardApproach* the idea is compute the expectation of a function  $f(x)$ when $x$ follows proability density $p(x)$:\n",
    "\n",
    "$$\\mathbb{E}[f]=\\int_a^bp(x)f(x)dx$$\n",
    "\n",
    "that can be expresed as a Riemman sum:\n",
    "\n",
    "$$\\mathbb{E}[f] = \\sum_{i=0}^{2^n-1} p(x_i)f(x_i)$$\n",
    "\n",
    "using **amplitude amplification** algorithms. \n",
    "\n",
    "In this kind of algorithms we have a quantum state $|\\Psi\\rangle$ that can be decomposed in the following way:\n",
    "\n",
    "$$|\\Psi\\rangle=\\sqrt{a}|\\Psi_{0}\\rangle+\\sqrt{1-a}|\\Psi_{1}\\rangle$$\n",
    "\n",
    "where:\n",
    "$$\n",
    "\\begin{array}{l}\n",
    "&\\sqrt{a}|\\Psi_{0}\\rangle = |0\\rangle \\otimes\\sum_{i=0}^{2^{n}-1}\\sqrt{p(x_i)f(x_i)}|i\\rangle_{n},\\\\\\\\\n",
    "&\\sqrt{1-a}|\\Psi_{1}\\rangle = |1\\rangle\\otimes\\sum_{i=0}^{2^{n}-1}\\sqrt{p(x_i)(1-f(x_i))}|i\\rangle_{n}.\n",
    "\\end{array}\n",
    "$$\n",
    "The probability of measuring $|0\\rangle$ in the leftmost qubit is:\n",
    "\n",
    "$$ a = \\sum_{i=0}^{2^{n}-1}\\left|\\sqrt{p(x_i)f(x_i)}\\right|^2,$$"
   ]
  },
  {
   "cell_type": "markdown",
   "id": "ee3f7211",
   "metadata": {},
   "source": [
    "## 2. Problems of the standard procedure\n",
    "\n",
    "One of the major problems of the procedure summarize in Section 1 is the following:\n",
    "\n",
    "If we have negative values in $f$, we won't be able to compute the correct sum because, when we measure the leftmost qubit we are taking the absolute value:\n",
    "\n",
    "$$\\sum_{i=0}^{2^{n}-1}\\left|\\sqrt{p(x_i)f(x_i)}\\right|^2 = \\sum_{i=0}^{2^{n}-1}p(x_i)\\left|f(x_i)\\right| $$\n",
    "\n",
    "For demonstrating this we are going to develop following example:\n",
    "\n",
    "* Domain: our $x$ will be a set of $2^{n}$ integers numbers.\n",
    "* $p(x)$: Over our domain we are going to define a properly normalised density distribution in the form:\n",
    "$$p(x)=\\frac{x}{\\sum_{i=0}^{2^{n}-1}i}$$\n",
    "\n",
    "we are going to use $n=3$ and the following function $f(x)$:\n",
    "\n",
    "$$f = \\dfrac{1}{7}\\left(-0,-1,-2,-3,4,5,6,7\\right).$$\n"
   ]
  },
  {
   "cell_type": "code",
   "execution_count": null,
   "id": "d9dceac7",
   "metadata": {},
   "outputs": [],
   "source": [
    "n = 3\n",
    "N = 2**n\n",
    "x = np.arange(N)\n",
    "\n",
    "p_X = x/np.sum(x)\n",
    "\n",
    "f_X = np.copy(p_X)\n",
    "f_X[1] = -p_X[1]\n",
    "f_X[2] = -p_X[2]\n",
    "f_X[3] = -p_X[3]\n",
    "print(f_X)"
   ]
  },
  {
   "cell_type": "markdown",
   "id": "4e94986a",
   "metadata": {},
   "source": [
    "Now we load the data using the usual way"
   ]
  },
  {
   "cell_type": "code",
   "execution_count": null,
   "id": "b32c2aaf",
   "metadata": {},
   "outputs": [],
   "source": [
    "from QQuantLib.DL.data_loading import load_probability, load_array, uniform_distribution"
   ]
  },
  {
   "cell_type": "code",
   "execution_count": null,
   "id": "64541710",
   "metadata": {
    "scrolled": true
   },
   "outputs": [],
   "source": [
    "p_gate = load_probability(p_X)\n",
    "#For avoiding problems we need to provide absolute values of f\n",
    "f_gate = load_array(np.sqrt(np.abs(f_X)))\n",
    "\n",
    "\n",
    "oracle_problem = qlm.QRoutine()\n",
    "register_problem = oracle_problem.new_wires(n+1)\n",
    "oracle_problem.apply(p_gate, register_problem[:n])\n",
    "oracle_problem.apply(f_gate, register_problem)\n",
    "\n",
    "%qatdisplay oracle_problem --svg"
   ]
  },
  {
   "cell_type": "code",
   "execution_count": null,
   "id": "3328357f",
   "metadata": {},
   "outputs": [],
   "source": [
    "#Testing normalisation conditions\n",
    "print('p(x) condition: {}'.format(np.isclose(np.sum(p_X), 1)))\n",
    "print('f(x) condition: {}'.format(np.max(f_X) <= 1))"
   ]
  },
  {
   "cell_type": "code",
   "execution_count": null,
   "id": "56c4eed9",
   "metadata": {},
   "outputs": [],
   "source": [
    "print(\"Exact solution: \",np.dot(p_X,f_X))"
   ]
  },
  {
   "cell_type": "markdown",
   "id": "8bfe9a44",
   "metadata": {},
   "source": [
    "Now we can use the **amplitude estimation** algorithms for calculating the desired integral"
   ]
  },
  {
   "cell_type": "code",
   "execution_count": null,
   "id": "7de172e2",
   "metadata": {},
   "outputs": [],
   "source": [
    "target = [0]\n",
    "index = [oracle_problem.arity-1]"
   ]
  },
  {
   "cell_type": "code",
   "execution_count": null,
   "id": "67407fa2",
   "metadata": {},
   "outputs": [],
   "source": [
    "from QQuantLib.AE.maximum_likelihood_ae import MLAE\n",
    "\n",
    "mlae_dict = {\n",
    "    'qpu': linalg_qpu,\n",
    "}\n",
    "mlae = MLAE(\n",
    "    oracle_problem,\n",
    "    target = target,\n",
    "    index = index, \n",
    "    **mlae_dict\n",
    ")\n",
    "\n",
    "mlae_a = mlae.run()\n",
    "print('mlae_a: ', mlae_a)"
   ]
  },
  {
   "cell_type": "code",
   "execution_count": null,
   "id": "2b33c9cd",
   "metadata": {},
   "outputs": [],
   "source": [
    "from QQuantLib.AE.ae_classical_qpe import CQPEAE\n",
    "\n",
    "ae_cqpe_dict = {\n",
    "    'qpu': linalg_qpu,\n",
    "    'auxiliar_qbits_number': 8,\n",
    "    'shots': 100\n",
    "}\n",
    "\n",
    "ae_cqpe = CQPEAE(\n",
    "    oracle_problem,\n",
    "    target = target,\n",
    "    index = index, \n",
    "    **ae_cqpe_dict\n",
    ")\n",
    "ae_cqpe_a  = ae_cqpe.run()\n",
    "\n",
    "print('ae_cqpe_a: ', ae_cqpe_a)"
   ]
  },
  {
   "cell_type": "code",
   "execution_count": null,
   "id": "c37c80be",
   "metadata": {},
   "outputs": [],
   "source": [
    "from QQuantLib.AE.ae_iterative_quantum_pe import IQPEAE\n",
    "\n",
    "ae_iqpe_dict = {\n",
    "    'qpu': linalg_qpu,\n",
    "    'cbits_number': 8,\n",
    "    'shots': 10\n",
    "}\n",
    "\n",
    "ae_iqpe = IQPEAE(\n",
    "    oracle_problem,\n",
    "    target = target,\n",
    "    index = index, \n",
    "    **ae_iqpe_dict\n",
    ")\n",
    "\n",
    "ae_iqpe_a  = ae_iqpe.run()\n",
    "\n",
    "print('ae_iqpe_a: ', ae_iqpe_a)"
   ]
  },
  {
   "cell_type": "code",
   "execution_count": null,
   "id": "729ba4a0",
   "metadata": {},
   "outputs": [],
   "source": [
    "from QQuantLib.AE.iterative_quantum_ae import IQAE\n",
    "\n",
    "iqae_dict = {\n",
    "    'qpu': linalg_qpu\n",
    "}\n",
    "\n",
    "iqae = IQAE(\n",
    "    oracle_problem,\n",
    "    target = target,\n",
    "    index = index, \n",
    "    **iqae_dict\n",
    ")\n",
    "\n",
    "iqae_a = iqae.run()\n",
    "\n",
    "print('iqae_a: ', iqae_a)"
   ]
  },
  {
   "cell_type": "code",
   "execution_count": null,
   "id": "0e28b6d1",
   "metadata": {},
   "outputs": [],
   "source": [
    "methods = ['MLAE', 'CQPEAE', 'IQPEAE', 'IQAE']\n",
    "a_estimated = [mlae.ae, ae_cqpe.ae, ae_iqpe.ae, iqae.ae]\n",
    "\n",
    "\n",
    "dic_staff = {\n",
    "    'AE_a': a_estimated,\n",
    "}\n",
    "\n",
    "Results = pd.DataFrame(dic_staff, index=methods)\n",
    "Results['Exact_Solution'] = np.dot(p_X,f_X)"
   ]
  },
  {
   "cell_type": "code",
   "execution_count": null,
   "id": "fc9ad0d6",
   "metadata": {},
   "outputs": [],
   "source": [
    "Results"
   ]
  },
  {
   "cell_type": "markdown",
   "id": "a004c2b6",
   "metadata": {},
   "source": [
    "**As can be seen none of all the used methods give us the correct answer!**"
   ]
  },
  {
   "cell_type": "markdown",
   "id": "60f2ea36",
   "metadata": {},
   "source": [
    "## 3. New Loading Data Procedure"
   ]
  },
  {
   "cell_type": "markdown",
   "id": "272217da",
   "metadata": {},
   "source": [
    "The reason for the fail showed in Section 2 is our loading data procedure. If we review the notebook: *01_Data_Loading_Module_Use* we see that our *load_probability*  function from the **DL/data_loading** module loads the $\\sqrt{p(x)}$. Additionally when we load the function $f(x)$ we, really, load the $\\sqrt{f(x)}$. \n",
    "\n",
    "On easy workarond for dealing with section 2 problem is changing our data loading procedure in the following ways:\n",
    "* We are going to load $p(x)$ and $f(x)$ instead of $\\sqrt{p(x)}$ and $\\sqrt{f(x)}$\n",
    "* The probability distribution will be loaded as a function insted of using the probability density procedure.\n",
    "\n",
    "If we have discretized the $p(x)$ and the $f(x)$ functions in $2^{n}$ values this new loading procedure will need $n+2$ qbits instead of the $n+1$ qbit of the original procedure.\n",
    "\n",
    "Here we resumen the new loading data protocol:\n"
   ]
  },
  {
   "cell_type": "markdown",
   "id": "3084d477",
   "metadata": {},
   "source": [
    "1. We begin with a $n+2$ qbits state (the 1 and 2 superscript is for indetifiyng the qbit, and the $n$ subscript is for spcifing a n qbits state)\n",
    "\n",
    "$$|0\\rangle^1 \\otimes |0\\rangle^2 \\otimes|0\\rangle_{n}$$\n",
    "\n",
    "2. We apply uniform distribution over the $n$ qbits state (the 1 and 2 subscripts are for indicating over each qbit the operator should be applied)\n",
    "\n",
    "$$\\big(I_1 \\otimes I_2 \\otimes H^{\\otimes n}\\big)\\big(|0\\rangle^1 \\otimes |0\\rangle^2 \\otimes|0\\rangle_{n}\\big) = |0\\rangle^1 \\otimes |0\\rangle^2 \\otimes H^{\\otimes n}|0\\rangle_{n}=$$\n",
    "$$=|0\\rangle^1 \\otimes |0\\rangle^2 \\otimes \\frac{1}{\\sqrt{2^n}} \\sum_{i=0}^{2^{n}-1}|i\\rangle_{n}$$\n",
    "\n"
   ]
  },
  {
   "cell_type": "markdown",
   "id": "393776b9",
   "metadata": {},
   "source": [
    "3. We apply the **loading function operator** for loading the probability distribution $p(X)$: $\\mathcal{F(p)}$ over the qbit $|0\\rangle^2$\n",
    "\n",
    "$$\\big(I_1 \\otimes \\mathcal{F_2(p)}\\big) \\big(|0\\rangle^1 \\otimes |0\\rangle^2 \\otimes \\frac{1}{\\sqrt{2^n}} \\sum_{i=0}^{2^{n}-1}|i\\rangle_{n} \\big) =$$\n",
    "$$= |0\\rangle^1 \\otimes \\mathcal{F_2(p)} \\big( |0\\rangle^2 \\otimes \\frac{1}{\\sqrt{2^n}} \\sum_{i=0}^{2^{n}-1}|i\\rangle_{n} \\big)= $$\n",
    "\n",
    "$$=|0\\rangle^1 \\otimes \\frac{1}{\\sqrt{2^n}} \\sum_{i=0}^{2^{n}-1}|i\\rangle_{n} \\otimes [ p(i) |0\\rangle^2 +  \\sin(\\theta_{p(i)}) |1\\rangle^2] =$$\n",
    "\n",
    "\n",
    "$$=|0\\rangle^1 \\otimes |0\\rangle^2 \\otimes \\frac{1}{\\sqrt{2^n}} \\sum_{i=0}^{2^{n}-1}p(i)|i\\rangle_{n} +  |0\\rangle^1 \\otimes |1\\rangle^2 \\otimes ...$$\n",
    "4. In the last expresion we only are interested in the terms with $|0\\rangle^1 \\otimes |0\\rangle^2$ the other states do not interest us, so in the following steps we delete them from the formulas. So the importan part will be:\n",
    "\n",
    "$$|0\\rangle^1 \\otimes |0\\rangle^2 \\otimes \\frac{1}{\\sqrt{2^n}} \\sum_{i=0}^{2^{n}-1}p(i)|i\\rangle_{n}$$"
   ]
  },
  {
   "cell_type": "markdown",
   "id": "5b6f6f6c",
   "metadata": {},
   "source": [
    "5. Now we apply the **loading function operator** for loading $f(x)$: $\\mathcal{F(f)}$ over the qbit $|0\\rangle^1$\n",
    "\n",
    "$$\\big(I_2 \\otimes \\mathcal{F_1(f)}\\big) \\big(|0\\rangle^1 \\otimes |0\\rangle^2 \\otimes \\frac{1}{\\sqrt{2^n}} \\sum_{i=0}^{2^{n}-1}p(i)|i\\rangle_{n} \\big)=$$\n",
    "\n",
    "$$=|0\\rangle^2 \\otimes \\mathcal{F_1(f)} \\big(|0\\rangle^1 \\otimes \\frac{1}{\\sqrt{2^n}} \\sum_{i=0}^{2^{n}-1}p(i)|i\\rangle_{n}\\big)=$$\n",
    "\n",
    "\n",
    "$$=|0\\rangle^2 \\otimes \\frac{1}{\\sqrt{2^n}} \\sum_{i=0}^{2^{n}-1}p(i)|i\\rangle_{n} \\otimes [ f(i) |0\\rangle^1 +  \\sin(\\theta_{f(i)}) |1\\rangle^1] = $$\n",
    "\n",
    "$$=|0\\rangle^1 \\otimes |0\\rangle^2 \\otimes \\frac{1}{\\sqrt{2^n}} \\sum_{i=0}^{2^{n}-1}p(i)f(i)|i\\rangle_{n} + |1\\rangle^1 \\otimes |0\\rangle^2 \\otimes ...$$\n",
    "\n",
    "6. Again we are interested only on the therms with $|0\\rangle^1 \\otimes |0\\rangle^2$ so we take off from the formulas the other terms. So the important part will be:\n",
    "\n",
    "$$|0\\rangle^1 \\otimes |0\\rangle^2 \\otimes \\frac{1}{\\sqrt{2^n}} \\sum_{i=0}^{2^{n}-1}p(i)f(i)|i\\rangle_{n}$$"
   ]
  },
  {
   "cell_type": "markdown",
   "id": "28895d35",
   "metadata": {},
   "source": [
    "7. Finally we apply another uniform distribution over the $n$ qbits state:\n",
    "\n",
    "$$\\big(I_1 \\otimes I_2 \\otimes H^{\\otimes n}\\big) \\big(|0\\rangle^1 \\otimes |0\\rangle^2 \\otimes \\frac{1}{\\sqrt{2^n}} \\sum_{i=0}^{2^{n}-1}p(i)f(i)|i\\rangle_{n}\\big) =$$\n",
    "$$=|0\\rangle^1 \\otimes |0\\rangle^2 \\otimes \\frac{1}{\\sqrt{2^n}} \\sum_{i=0}^{2^{n}-1}p(i)f(i)H^{\\otimes n}|i\\rangle_{n}$$\n",
    "\n",
    "\n",
    "The final state of our new loading protocol will be in the form:\n",
    "\n",
    "$$|\\Psi \\rangle = |0\\rangle^1 \\otimes |0\\rangle^2 \\otimes \\frac{1}{\\sqrt{2^n}} \\sum_{i=0}^{2^{n}-1}p(i)f(i)H^{\\otimes n}|i\\rangle_{n} + |0\\rangle^1 \\otimes |1\\rangle^2 \\otimes ... + |1\\rangle^1 \\otimes |0\\rangle^2 \\otimes ... + |1\\rangle^1 \\otimes |1\\rangle^2 \\otimes ...$$\n",
    "\n",
    "The uniform distribution acting over any $|i\\rangle_n$ state can be expresed as:\n",
    "\n",
    "$$H^{\\otimes n}|i\\rangle_{n} = \\frac{1}{\\sqrt{2^n}}\\sum_{j=0}^{2^{n}-1} (-1)^{ij}|j\\rangle_n=\\frac{1}{\\sqrt{2^n}}[|0\\rangle_n + \\sum_{j=1}^{2^{n}-1} (-1)^{ij}|j\\rangle_n]$$ \n",
    "\n",
    "So replacing it in our final state:\n",
    "\n",
    "$$|\\Psi \\rangle = |0\\rangle^1 \\otimes |0\\rangle^2 \\otimes \\frac{1}{2^n} \\sum_{i=0}^{2^{n}-1}p(i)f(i)|0\\rangle_n + |0\\rangle^1 \\otimes |0\\rangle^2 \\otimes \\frac{1}{2^n}\\sum_{j=1}^{2^{n}-1} (-1)^{ij}p(i)f(i)|j\\rangle_n + |0\\rangle^1 \\otimes |1\\rangle^2 \\otimes ... + |1\\rangle^1 \\otimes |0\\rangle^2 \\otimes ... + |1\\rangle^1 \\otimes |1\\rangle^2 \\otimes ...$$\n",
    "\n",
    "\n",
    "As can be seen the term that carries the information we need is: $|0\\rangle^1 \\otimes |0\\rangle^2 \\otimes|0\\rangle_n$. We do not care from other terms so we can write the final state in the following way:\n",
    "\n",
    "\n",
    "$$|\\Psi \\rangle = \\frac{1}{2^n}\\sum_{i=0}^{2^{n}-1}p(i)f(i)|0\\rangle^1 \\otimes |0\\rangle^2 \\otimes|0\\rangle_n+...$$\n",
    "\n",
    "All this procedure is implemented in the following cell:"
   ]
  },
  {
   "cell_type": "code",
   "execution_count": null,
   "id": "f6ae3b14",
   "metadata": {},
   "outputs": [],
   "source": [
    "new_oracle = qlm.QRoutine()\n",
    "#For new data loading procedure we need n+2 qbits\n",
    "new_registers = new_oracle.new_wires(n+2)\n",
    "#Step 2 of Procedure: apply Uniform distribution \n",
    "new_oracle.apply(uniform_distribution(n),new_registers[:n])\n",
    "#Step 3 of Procedure: apply loading function operator for loading p(x)\n",
    "new_p_gate = load_array(p_X, id_name = 'p(x)')\n",
    "new_oracle.apply(new_p_gate, [new_registers[:n], new_registers[n]])\n",
    "#Step 5 of Procedure: apply loading function operator for loading f(x)\n",
    "new_f_gate = load_array(f_X, id_name = 'f(x)')\n",
    "new_oracle.apply(new_f_gate, [new_registers[:n], new_registers[n+1]])\n",
    "#Step 7 of Procedure: apply Uniform distribution \n",
    "new_oracle.apply(uniform_distribution(n),new_registers[:n])"
   ]
  },
  {
   "cell_type": "code",
   "execution_count": null,
   "id": "c4253748",
   "metadata": {},
   "outputs": [],
   "source": [
    "%qatdisplay new_oracle --svg"
   ]
  },
  {
   "cell_type": "markdown",
   "id": "a6f6184a",
   "metadata": {},
   "source": [
    "Now with the new loading procedure we can again express the quantum state as a linear combination of two orthogonal states $|\\Psi_{1}\\rangle$ y $|\\Psi_{0}\\rangle$:\n",
    "\n",
    "$$|\\Psi\\rangle = \\sqrt{a}|\\Psi_{0}\\rangle+\\sqrt{1-a}|\\Psi_{1}\\rangle$$\n",
    "\n",
    "where:\n",
    "$$\\sqrt{a}|\\Psi_{0}\\rangle = \\left[\\dfrac{1}{2^n}\\sum_{i=0}^{2^{n}-1}p(i)f(i)\\right]|0\\rangle^1 \\otimes|0\\rangle^2 \\otimes|0\\rangle_n$$\n",
    "\n",
    "Now we can remove the super-index from 1 qbit $|0\\rangle$ state:\n",
    "\n",
    "$$\\sqrt{a}|\\Psi_{0}\\rangle = \\left[\\dfrac{1}{2^n}\\sum_{i=0}^{2^{n}-1}p(i)f(i)\\right]|0\\rangle \\otimes|0\\rangle \\otimes|0\\rangle_n$$\n",
    " \n",
    "\n",
    "The probability of measuring $|0\\rangle \\otimes|0\\rangle \\otimes|0\\rangle_n$ is:\n",
    "\n",
    "$$ a= \\left|\\dfrac{1}{N}\\sum_{i=0}^{2^{n}-1}p(i)f(i)\\right|^2,$$\n",
    "\n",
    "so then computing $\\sqrt{a}$ gives us an estimation.\n",
    "\n",
    "Now we can use again the *amplitude estimation* routines, but using the right target and index!!"
   ]
  },
  {
   "cell_type": "code",
   "execution_count": null,
   "id": "40cfb709",
   "metadata": {},
   "outputs": [],
   "source": [
    "new_target = [0 for i in range(new_oracle.arity)]\n",
    "print('new_target: ', new_target)\n",
    "new_index = [i for i in range(new_oracle.arity)]\n",
    "print('new_index: ', new_index)"
   ]
  },
  {
   "cell_type": "code",
   "execution_count": null,
   "id": "a011fa92",
   "metadata": {},
   "outputs": [],
   "source": [
    "from QQuantLib.AE.maximum_likelihood_ae import MLAE\n",
    "\n",
    "m_k = [0, 1, 10, 20, 30, 32, 34, 36, 38, 40, 42, 44, 46, 48, 50]\n",
    "n_k = [100 for i in m_k]\n",
    "\n",
    "\n",
    "mlae_dict = {\n",
    "    'qpu': linalg_qpu,\n",
    "    'schedule': [m_k, n_k]\n",
    "}\n",
    "mlae = MLAE(\n",
    "    new_oracle,\n",
    "    target = new_target,\n",
    "    index = new_index, \n",
    "    **mlae_dict\n",
    ")\n",
    "\n",
    "mlae_a = mlae.run()\n",
    "print('mlae_a: ', mlae_a)"
   ]
  },
  {
   "cell_type": "code",
   "execution_count": null,
   "id": "7c499868",
   "metadata": {},
   "outputs": [],
   "source": [
    "from QQuantLib.AE.ae_classical_qpe import CQPEAE\n",
    "\n",
    "ae_cqpe_dict = {\n",
    "    'qpu': linalg_qpu,\n",
    "    'auxiliar_qbits_number': 12,\n",
    "    'shots': 50\n",
    "}\n",
    "\n",
    "ae_cqpe = CQPEAE(\n",
    "    new_oracle,\n",
    "    target = new_target,\n",
    "    index = new_index, \n",
    "    **ae_cqpe_dict\n",
    ")\n",
    "ae_cqpe_a  = ae_cqpe.run()\n",
    "\n",
    "print('ae_cqpe_a: ', ae_cqpe_a)"
   ]
  },
  {
   "cell_type": "code",
   "execution_count": null,
   "id": "030a09f1",
   "metadata": {},
   "outputs": [],
   "source": [
    "ae_cqpe.run_time"
   ]
  },
  {
   "cell_type": "code",
   "execution_count": null,
   "id": "39fe2e2d",
   "metadata": {},
   "outputs": [],
   "source": [
    "from QQuantLib.AE.ae_iterative_quantum_pe import IQPEAE\n",
    "\n",
    "ae_iqpe_dict = {\n",
    "    'qpu': linalg_qpu,\n",
    "    'cbits_number': 12,\n",
    "    'shots': 10\n",
    "}\n",
    "\n",
    "ae_iqpe = IQPEAE(\n",
    "    new_oracle,\n",
    "    target = new_target,\n",
    "    index = new_index, \n",
    "    **ae_iqpe_dict\n",
    ")\n",
    "\n",
    "ae_iqpe_a  = ae_iqpe.run()\n",
    "\n",
    "print('ae_iqpe_a: ', ae_iqpe_a)"
   ]
  },
  {
   "cell_type": "code",
   "execution_count": null,
   "id": "0d838ac1",
   "metadata": {},
   "outputs": [],
   "source": [
    "ae_iqpe.run_time"
   ]
  },
  {
   "cell_type": "code",
   "execution_count": null,
   "id": "6670e55f",
   "metadata": {},
   "outputs": [],
   "source": [
    "from QQuantLib.AE.iterative_quantum_ae import IQAE\n",
    "\n",
    "epsilon = 0.001\n",
    "iqae_dict = {\n",
    "    'qpu': linalg_qpu,\n",
    "    'epsilon': epsilon\n",
    "}\n",
    "\n",
    "iqae = IQAE(\n",
    "    new_oracle,\n",
    "    target = new_target,\n",
    "    index = new_index,  \n",
    "    **iqae_dict\n",
    ")\n",
    "\n",
    "iqae_a = iqae.run()\n",
    "\n",
    "print('iqae_a: ', iqae_a)"
   ]
  },
  {
   "cell_type": "markdown",
   "id": "9301f3a5",
   "metadata": {},
   "source": [
    "**BE AWARE**\n",
    "\n",
    "Now the **amplitude estimation** routines will estimate:\n",
    "\n",
    "$$ a= \\left|\\dfrac{1}{2^n}\\sum_{i=0}^{2^{n}-1}p(i)f(i)\\right|^2$$\n",
    "\n",
    "so if we measured $a$ for getting the proper result we need:\n",
    "\n",
    "$$\\sum_{i=0}^{2^{n}-1}p(i)f(i) = 2^n * \\sqrt{a}$$\n",
    "\n",
    "So in order to get the correct a we must provide the $2^n\\sqrt{a}$"
   ]
  },
  {
   "cell_type": "code",
   "execution_count": null,
   "id": "a2ed801a",
   "metadata": {},
   "outputs": [],
   "source": [
    "methods = ['MLAE', 'CQPEAE', 'IQPEAE', 'IQAE']\n",
    "a_estimated = [mlae.ae, ae_cqpe.ae, ae_iqpe.ae, iqae.ae]\n",
    "\n",
    "\n",
    "dic_staff = {\n",
    "    'AE_a': np.sqrt(a_estimated)*2**n,\n",
    "}\n",
    "\n",
    "new_Results = pd.DataFrame(dic_staff, index=methods)\n",
    "new_Results['Exact_Solution'] = np.dot(p_X,f_X)"
   ]
  },
  {
   "cell_type": "code",
   "execution_count": null,
   "id": "1c56d301",
   "metadata": {},
   "outputs": [],
   "source": [
    "new_Results"
   ]
  },
  {
   "cell_type": "markdown",
   "id": "0c0457b0",
   "metadata": {},
   "source": [
    "## 4. More Problems"
   ]
  },
  {
   "cell_type": "markdown",
   "id": "04489fce",
   "metadata": {},
   "source": [
    "With our new data loading procedure we have solve the issue from Section 2 but we still face one major problem: when the expectation of $f$ is negative, we won't be able to notice it, again because we are taking the absolute value. \n",
    "\n",
    "To demonstrate it let us define a new linear function $f$ which is negative in the second half:\n",
    "$$f = \\dfrac{1}{7}\\left(0,1,2,3,-4,-5,-6,-7\\right).$$"
   ]
  },
  {
   "cell_type": "code",
   "execution_count": null,
   "id": "6c1163e4",
   "metadata": {},
   "outputs": [],
   "source": [
    "new_fx = np.copy(f_X)\n",
    "new_fx[4] = -f_X[4]\n",
    "new_fx[5] = -f_X[5]\n",
    "new_fx[6] = -f_X[6]\n",
    "new_fx[7] = -f_X[7]"
   ]
  },
  {
   "cell_type": "code",
   "execution_count": null,
   "id": "61a88088",
   "metadata": {},
   "outputs": [],
   "source": [
    "#Testing normalisation condition\n",
    "print('f(x) condition: {}'.format(np.max(new_fx) <= 1))\n",
    "print('f(x) condition: {}'.format(np.min(new_fx) >= -1))"
   ]
  },
  {
   "cell_type": "code",
   "execution_count": null,
   "id": "24c7b8ce",
   "metadata": {},
   "outputs": [],
   "source": [
    "problem_oracle = qlm.QRoutine()\n",
    "#For new data loading procedure we need n+2 qbits\n",
    "problem_registers = problem_oracle.new_wires(n+2)\n",
    "#Step 2 of Procedure: apply Uniform distribution \n",
    "problem_oracle.apply(uniform_distribution(n), problem_registers[:n])\n",
    "#Step 3 of Procedure: apply loading function operator for loading p(x)\n",
    "new_p_gate = load_array(p_X, id_name = 'p(x)')\n",
    "problem_oracle.apply(new_p_gate, [problem_registers[:n], problem_registers[n]])\n",
    "#Step 5 of Procedure: apply loading function operator for loading f(x)\n",
    "problem_f_gate = load_array(new_fx, id_name = 'f(x)')\n",
    "problem_oracle.apply(problem_f_gate, [problem_registers[:n], problem_registers[n+1]])\n",
    "#Step 7 of Procedure: apply Uniform distribution \n",
    "problem_oracle.apply(uniform_distribution(n),problem_registers[:n])\n",
    "\n",
    "%qatdisplay problem_oracle --svg\n",
    "\n",
    "\n",
    "problem_target = [0 for i in range(problem_oracle.arity)]\n",
    "print('problem_target: ', problem_target)\n",
    "problem_index = [i for i in range(problem_oracle.arity)]\n",
    "print('problem_index: ', problem_index)"
   ]
  },
  {
   "cell_type": "code",
   "execution_count": null,
   "id": "b7314730",
   "metadata": {},
   "outputs": [],
   "source": [
    "from QQuantLib.AE.maximum_likelihood_ae import MLAE\n",
    "\n",
    "m_k = [0, 1, 10, 20, 30, 32, 34, 36, 38, 40, 42, 44, 46, 48, 50]\n",
    "n_k = [100 for i in m_k]\n",
    "\n",
    "\n",
    "mlae_dict = {\n",
    "    'qpu': linalg_qpu,\n",
    "    'schedule': [m_k, n_k]\n",
    "}\n",
    "mlae = MLAE(\n",
    "    problem_oracle,\n",
    "    target = problem_target,\n",
    "    index = problem_index, \n",
    "    **mlae_dict\n",
    ")\n",
    "\n",
    "mlae_a = mlae.run()\n",
    "print('mlae_a: ', mlae_a)"
   ]
  },
  {
   "cell_type": "code",
   "execution_count": null,
   "id": "374d1cc4",
   "metadata": {},
   "outputs": [],
   "source": [
    "from QQuantLib.AE.ae_classical_qpe import CQPEAE\n",
    "\n",
    "ae_cqpe_dict = {\n",
    "    'qpu': linalg_qpu,\n",
    "    'auxiliar_qbits_number': 12,\n",
    "    'shots': 10\n",
    "}\n",
    "\n",
    "ae_cqpe = CQPEAE(\n",
    "    problem_oracle,\n",
    "    target = problem_target,\n",
    "    index = problem_index, \n",
    "    **ae_cqpe_dict\n",
    ")\n",
    "ae_cqpe_a  = ae_cqpe.run()\n",
    "\n",
    "print('ae_cqpe_a: ', ae_cqpe_a)"
   ]
  },
  {
   "cell_type": "code",
   "execution_count": null,
   "id": "743bc683",
   "metadata": {},
   "outputs": [],
   "source": [
    "from QQuantLib.AE.ae_iterative_quantum_pe import IQPEAE\n",
    "\n",
    "ae_iqpe_dict = {\n",
    "    'qpu': linalg_qpu,\n",
    "    'cbits_number': 12,\n",
    "    'shots': 10\n",
    "}\n",
    "\n",
    "ae_iqpe = IQPEAE(\n",
    "    problem_oracle,\n",
    "    target = problem_target,\n",
    "    index = problem_index, \n",
    "    **ae_iqpe_dict\n",
    ")\n",
    "\n",
    "ae_iqpe_a  = ae_iqpe.run()\n",
    "\n",
    "print('ae_iqpe_a: ', ae_iqpe_a)"
   ]
  },
  {
   "cell_type": "code",
   "execution_count": null,
   "id": "20bde08f",
   "metadata": {},
   "outputs": [],
   "source": [
    "from QQuantLib.AE.iterative_quantum_ae import IQAE\n",
    "\n",
    "epsilon = 0.001\n",
    "iqae_dict = {\n",
    "    'qpu': linalg_qpu,\n",
    "    'epsilon': epsilon\n",
    "}\n",
    "\n",
    "iqae = IQAE(\n",
    "    problem_oracle,\n",
    "    target = problem_target,\n",
    "    index = problem_index,  \n",
    "    **iqae_dict\n",
    ")\n",
    "\n",
    "iqae_a = iqae.run()\n",
    "\n",
    "print('iqae_a: ', iqae_a)"
   ]
  },
  {
   "cell_type": "code",
   "execution_count": null,
   "id": "ea5db3db",
   "metadata": {},
   "outputs": [],
   "source": [
    "methods = ['MLAE', 'CQPEAE', 'IQPEAE', 'IQAE']\n",
    "a_estimated = [mlae.ae, ae_cqpe.ae, ae_iqpe.ae, iqae.ae]\n",
    "\n",
    "\n",
    "dic_staff = {\n",
    "    'AE_a': np.sqrt(a_estimated)*2**n,\n",
    "}\n",
    "\n",
    "problem_Results = pd.DataFrame(dic_staff, index=methods)\n",
    "problem_Results['Exact_Solution'] = np.dot(p_X,new_fx)"
   ]
  },
  {
   "cell_type": "code",
   "execution_count": null,
   "id": "b5183e6f",
   "metadata": {},
   "outputs": [],
   "source": [
    "problem_Results"
   ]
  },
  {
   "cell_type": "markdown",
   "id": "978a4710",
   "metadata": {},
   "source": [
    "## 5. RQAE solution"
   ]
  },
  {
   "cell_type": "markdown",
   "id": "0e84288a",
   "metadata": {},
   "source": [
    "In order to solve the problem presented in Section we need an algorithm which distinguishes the sign of the underlying amplitude. For that we propose the RQAE, for more information check the corresponding notebook and article."
   ]
  },
  {
   "cell_type": "code",
   "execution_count": null,
   "id": "0638a074",
   "metadata": {},
   "outputs": [],
   "source": [
    "from QQuantLib.AE.real_quantum_ae import RQAE"
   ]
  },
  {
   "cell_type": "code",
   "execution_count": null,
   "id": "0c24f0d2",
   "metadata": {},
   "outputs": [],
   "source": [
    "q = 2\n",
    "epsilon = 0.001\n",
    "gamma = 0.05 \n",
    "rqae_dict = {\n",
    "    'qpu': linalg_qpu,\n",
    "    'epsilon': epsilon,\n",
    "    'gamma': gamma,\n",
    "    'q': q\n",
    "}\n",
    "\n",
    "rqae = RQAE(\n",
    "    problem_oracle,\n",
    "    target = problem_target,\n",
    "    index = problem_index,\n",
    "    **rqae_dict\n",
    ")"
   ]
  },
  {
   "cell_type": "code",
   "execution_count": null,
   "id": "83415f13",
   "metadata": {},
   "outputs": [],
   "source": [
    "rqae_a = rqae.run()\n",
    "print('rqae_a: ', rqae_a)"
   ]
  },
  {
   "cell_type": "markdown",
   "id": "653d491c",
   "metadata": {},
   "source": [
    "**BE AWARE**\n",
    "\n",
    "The **RQAE** algorithm provide us, directly, the amplitude of the $|0\\rangle \\otimes|0\\rangle \\otimes|0\\rangle_n$ state (the other algorithms provide us the probability so we need to do the square root).\n",
    "\n",
    "So the **RQAE** algorithm give as an estimation of $a$ (as an amplitude) and the correspondent expectation will be:\n",
    "\n",
    "$$\\sum_{i=0}^{2^{n}-1}p(i)f(i) = 2^n * a$$"
   ]
  },
  {
   "cell_type": "code",
   "execution_count": null,
   "id": "090b56d7",
   "metadata": {
    "scrolled": true
   },
   "outputs": [],
   "source": [
    "methods = ['MLAE', 'CQPEAE', 'IQPEAE', 'IQAE', 'RQAE']\n",
    "a_estimated = [\n",
    "    2**n*np.sqrt(mlae.ae), \n",
    "    2**n*np.sqrt(ae_cqpe.ae), \n",
    "    2**n*np.sqrt(ae_iqpe.ae), \n",
    "    2**n*np.sqrt(iqae.ae), \n",
    "    2**n*rqae.ae #Here amplitude is provided by RQAE\n",
    "]\n",
    "\n",
    "\n",
    "dic_staff = {\n",
    "    'AE_a': a_estimated,\n",
    "}\n",
    "\n",
    "problem_Results = pd.DataFrame(dic_staff, index=methods)\n",
    "problem_Results['Exact_Solution'] = np.dot(p_X,new_fx)"
   ]
  },
  {
   "cell_type": "code",
   "execution_count": null,
   "id": "c204efb6",
   "metadata": {},
   "outputs": [],
   "source": [
    "problem_Results"
   ]
  },
  {
   "cell_type": "code",
   "execution_count": null,
   "id": "5e76b989",
   "metadata": {},
   "outputs": [],
   "source": []
  }
 ],
 "metadata": {
  "kernelspec": {
   "display_name": "Python 3 (ipykernel)",
   "language": "python",
   "name": "python3"
  },
  "language_info": {
   "codemirror_mode": {
    "name": "ipython",
    "version": 3
   },
   "file_extension": ".py",
   "mimetype": "text/x-python",
   "name": "python",
   "nbconvert_exporter": "python",
   "pygments_lexer": "ipython3",
   "version": "3.9.9"
  }
 },
 "nbformat": 4,
 "nbformat_minor": 5
}
