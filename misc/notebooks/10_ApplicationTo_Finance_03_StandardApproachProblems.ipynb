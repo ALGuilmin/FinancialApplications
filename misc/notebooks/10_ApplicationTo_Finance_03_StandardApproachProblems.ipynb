{
 "cells": [
  {
   "cell_type": "markdown",
   "id": "140c4007",
   "metadata": {},
   "source": [
    "# Application of amplitude estimation to Finances: Standard Approach Problems\n",
    "\n",
    "In notebook *08_ApplicationTo_Finance_01_StandardApproach* we explain how to use **amplitude amplifications** techniques to compute expectation values and in the notebook: *09_ApplicationTo_Finance_02_Call_Option_BlackScholes* we use this for developing a complete price estimation for an *european call option* under the **Black Scholes** model.\n",
    "\n",
    "In this notebook we are going to poitn out several problems of this standard approach and give some proposal solutions in order to avoid them.\n"
   ]
  },
  {
   "cell_type": "code",
   "execution_count": null,
   "id": "6b1a8b89",
   "metadata": {},
   "outputs": [],
   "source": [
    "import sys\n",
    "sys.path.append(\"../../\")"
   ]
  },
  {
   "cell_type": "code",
   "execution_count": null,
   "id": "3c0bcacf",
   "metadata": {},
   "outputs": [],
   "source": [
    "import numpy as np\n",
    "import pandas as pd\n",
    "import matplotlib.pyplot as plt\n",
    "import qat.lang.AQASM as qlm\n",
    "from copy import deepcopy"
   ]
  },
  {
   "cell_type": "code",
   "execution_count": null,
   "id": "eab4d599",
   "metadata": {},
   "outputs": [],
   "source": [
    "%matplotlib inline"
   ]
  },
  {
   "cell_type": "code",
   "execution_count": null,
   "id": "d4673fae",
   "metadata": {},
   "outputs": [],
   "source": [
    "#This cell loads the QLM solver.\n",
    "#QLMaaS == False -> uses PyLinalg\n",
    "#QLMaaS == True -> try to use LinAlg (for using QPU as CESGA QLM one)\n",
    "from QQuantLib.utils.qlm_solver import get_qpu\n",
    "QLMaaS = False\n",
    "linalg_qpu = get_qpu(QLMaaS)"
   ]
  },
  {
   "cell_type": "code",
   "execution_count": null,
   "id": "bd2de143",
   "metadata": {},
   "outputs": [],
   "source": [
    "#See 01_DataLoading_Module_Use for the use of this function\n",
    "from QQuantLib.utils.data_extracting import get_results"
   ]
  },
  {
   "cell_type": "markdown",
   "id": "91e0f9bc",
   "metadata": {},
   "source": [
    "## 1. Amplitude Amplification and Expectation value computations.\n",
    "\n",
    "As explained in notebook: *08_ApplicationTo_Finance_01_StandardApproach* the idea is compute the expectation of a function  $f(x)$ when $x$ follows proability density $p(x)$:\n",
    "\n",
    "$$\\mathbb{E}[f]=\\int_a^bp(x)f(x)dx$$\n",
    "\n",
    "that can be expresed as a Riemman sum:\n",
    "\n",
    "$$\\mathbb{E}[f] = \\sum_{i=0}^{2^n-1} p(x_i)f(x_i)$$\n",
    "\n",
    "using **amplitude amplification** algorithms. \n",
    "\n",
    "In this kind of algorithms we have a quantum state $|\\Psi\\rangle$ that can be decomposed in the following way:\n",
    "\n",
    "$$|\\Psi\\rangle=\\sqrt{a}|\\Psi_{0}\\rangle+\\sqrt{1-a}|\\Psi_{1}\\rangle$$\n",
    "\n",
    "where:\n",
    "$$\n",
    "\\begin{array}{l}\n",
    "&\\sqrt{a}|\\Psi_{0}\\rangle = |0\\rangle \\otimes\\sum_{i=0}^{2^{n}-1}\\sqrt{p(x_i)f(x_i)}|i\\rangle_{n},\\\\\\\\\n",
    "&\\sqrt{1-a}|\\Psi_{1}\\rangle = |1\\rangle\\otimes\\sum_{i=0}^{2^{n}-1}\\sqrt{p(x_i)(1-f(x_i))}|i\\rangle_{n}.\n",
    "\\end{array}\n",
    "$$\n",
    "The probability of measuring $|0\\rangle$ in the leftmost qubit is:\n",
    "\n",
    "$$ a = \\sum_{i=0}^{2^{n}-1}\\left|\\sqrt{p(x_i)f(x_i)}\\right|^2,$$"
   ]
  },
  {
   "cell_type": "markdown",
   "id": "ee3f7211",
   "metadata": {},
   "source": [
    "## 2. Problems of the standard procedure\n",
    "\n",
    "One of the major problems of the procedure summarize in Section 1 is the following:\n",
    "\n",
    "If we have negative values in $f$, we won't be able to compute the correct sum because, when we measure the leftmost qubit we are taking the absolute value:\n",
    "\n",
    "$$\\sum_{i=0}^{2^{n}-1}\\left|\\sqrt{p(x_i)f(x_i)}\\right|^2 = \\sum_{i=0}^{2^{n}-1}p(x_i)\\left|f(x_i)\\right| $$\n",
    "\n",
    "For demonstrating this we are going to develop following example:\n",
    "\n",
    "* Domain: our $x$ will be a set of $2^{n}$ integers numbers.\n",
    "* $p(x)$: Over our domain we are going to define a properly normalised density distribution in the form:\n",
    "$$p(x)=\\frac{x}{\\sum_{i=0}^{2^{n}-1}i}$$\n",
    "\n",
    "we are going to use $n=3$ and the following function $f(x)$:\n",
    "\n",
    "$$f = \\dfrac{1}{7}\\left(-0,-1,-2,-3,4,5,6,7\\right).$$\n"
   ]
  },
  {
   "cell_type": "code",
   "execution_count": null,
   "id": "d9dceac7",
   "metadata": {},
   "outputs": [],
   "source": [
    "n = 3\n",
    "N = 2**n\n",
    "x = np.arange(N)\n",
    "\n",
    "p_X = x/np.sum(x)\n",
    "\n",
    "f_X = np.copy(p_X)\n",
    "f_X[1] = -p_X[1]\n",
    "f_X[2] = -p_X[2]\n",
    "f_X[3] = -p_X[3]\n",
    "print(f_X)"
   ]
  },
  {
   "cell_type": "markdown",
   "id": "4e94986a",
   "metadata": {},
   "source": [
    "Now we load the data using the usual way"
   ]
  },
  {
   "cell_type": "code",
   "execution_count": null,
   "id": "b32c2aaf",
   "metadata": {},
   "outputs": [],
   "source": [
    "from QQuantLib.DL.data_loading import load_probability, load_array, uniform_distribution"
   ]
  },
  {
   "cell_type": "code",
   "execution_count": null,
   "id": "64541710",
   "metadata": {
    "scrolled": true
   },
   "outputs": [],
   "source": [
    "p_gate = load_probability(p_X)\n",
    "#For avoiding problems we need to provide absolute values of f\n",
    "f_gate = load_array(np.sqrt(np.abs(f_X)))\n",
    "\n",
    "\n",
    "oracle_problem = qlm.QRoutine()\n",
    "register_problem = oracle_problem.new_wires(n+1)\n",
    "oracle_problem.apply(p_gate, register_problem[:n])\n",
    "oracle_problem.apply(f_gate, register_problem)\n",
    "\n",
    "%qatdisplay oracle_problem"
   ]
  },
  {
   "cell_type": "code",
   "execution_count": null,
   "id": "3328357f",
   "metadata": {},
   "outputs": [],
   "source": [
    "print('p(x) condition: {}'.format(np.isclose(np.sum(p_X), 1)))\n",
    "print('f(x) condition: {}'.format(np.max(f_X) <= 1))"
   ]
  },
  {
   "cell_type": "code",
   "execution_count": null,
   "id": "56c4eed9",
   "metadata": {},
   "outputs": [],
   "source": [
    "print(\"Exact solution: \",np.dot(p_X,f_X))"
   ]
  },
  {
   "cell_type": "markdown",
   "id": "8bfe9a44",
   "metadata": {},
   "source": [
    "Now we can use the **amplitude estimation** algorithms for calculating the desired integral"
   ]
  },
  {
   "cell_type": "code",
   "execution_count": null,
   "id": "7de172e2",
   "metadata": {},
   "outputs": [],
   "source": [
    "target = [0]\n",
    "index = [oracle_problem.arity-1]"
   ]
  },
  {
   "cell_type": "code",
   "execution_count": null,
   "id": "67407fa2",
   "metadata": {},
   "outputs": [],
   "source": [
    "from QQuantLib.AE.maximum_likelihood_ae import MLAE\n",
    "\n",
    "mlae_dict = {\n",
    "    'qpu': linalg_qpu,\n",
    "}\n",
    "mlae = MLAE(\n",
    "    oracle_problem,\n",
    "    target = target,\n",
    "    index = index, \n",
    "    **mlae_dict\n",
    ")\n",
    "\n",
    "mlae_a = mlae.run()\n",
    "print('mlae_a: ', mlae_a)"
   ]
  },
  {
   "cell_type": "code",
   "execution_count": null,
   "id": "2b33c9cd",
   "metadata": {},
   "outputs": [],
   "source": [
    "from QQuantLib.PE.phase_estimation_wqft import PE_QFT_AE\n",
    "\n",
    "ae_pe_qft_dict = {\n",
    "    'qpu': linalg_qpu,\n",
    "    'auxiliar_qbits_number': 8,\n",
    "    'shots': 100\n",
    "}\n",
    "\n",
    "ae_pe_qft = PE_QFT_AE(\n",
    "    oracle_problem,\n",
    "    target = target,\n",
    "    index = index, \n",
    "    **ae_pe_qft_dict\n",
    ")\n",
    "ae_pe_qft_a  = ae_pe_qft.run()\n",
    "\n",
    "print('ae_pe_qft_a: ', ae_pe_qft_a)"
   ]
  },
  {
   "cell_type": "code",
   "execution_count": null,
   "id": "c37c80be",
   "metadata": {},
   "outputs": [],
   "source": [
    "from QQuantLib.PE.iterative_quantum_pe import IQPE_AE\n",
    "\n",
    "ae_iqpe_dict = {\n",
    "    'qpu': linalg_qpu,\n",
    "    'cbits_number': 8,\n",
    "    'shots': 10\n",
    "}\n",
    "\n",
    "ae_iqpe = IQPE_AE(\n",
    "    oracle_problem,\n",
    "    target = target,\n",
    "    index = index, \n",
    "    **ae_iqpe_dict\n",
    ")\n",
    "\n",
    "ae_iqpe_a  = ae_iqpe.run()\n",
    "\n",
    "print('ae_iqpe_a: ', ae_iqpe_a)"
   ]
  },
  {
   "cell_type": "code",
   "execution_count": null,
   "id": "729ba4a0",
   "metadata": {},
   "outputs": [],
   "source": [
    "from QQuantLib.AE.iterative_quantum_ae import IQAE\n",
    "\n",
    "iqae_dict = {\n",
    "    'qpu': linalg_qpu\n",
    "}\n",
    "\n",
    "iqae = IQAE(\n",
    "    oracle_problem,\n",
    "    target = target,\n",
    "    index = index, \n",
    "    **iqae_dict\n",
    ")\n",
    "\n",
    "iqae_a = iqae.run()\n",
    "\n",
    "print('iqae_a: ', iqae_a)"
   ]
  },
  {
   "cell_type": "code",
   "execution_count": null,
   "id": "0e28b6d1",
   "metadata": {},
   "outputs": [],
   "source": [
    "methods = ['MLAE', 'PE_QFT_AE', 'IQPE_AE', 'IQAE']\n",
    "a_estimated = [mlae.a, ae_pe_qft.a, ae_iqpe.a, iqae.a]\n",
    "\n",
    "\n",
    "dic_staff = {\n",
    "    'AE_a': a_estimated,\n",
    "}\n",
    "\n",
    "Results = pd.DataFrame(dic_staff, index=methods)\n",
    "Results['Exact_Solution'] = np.dot(p_X,f_X)"
   ]
  },
  {
   "cell_type": "code",
   "execution_count": null,
   "id": "fc9ad0d6",
   "metadata": {},
   "outputs": [],
   "source": [
    "Results"
   ]
  },
  {
   "cell_type": "markdown",
   "id": "a004c2b6",
   "metadata": {},
   "source": [
    "As can be seen none of all the used methods give us the correct answer!"
   ]
  },
  {
   "cell_type": "markdown",
   "id": "60f2ea36",
   "metadata": {},
   "source": [
    "## 3. New Loading Data Procedure"
   ]
  },
  {
   "cell_type": "markdown",
   "id": "272217da",
   "metadata": {},
   "source": [
    "The reason for the fail showed in Section 2 is our loading data procedure. If we review the notebook: *01_Data_Loading_Module_Use* we see that our *load_probability*  function from the **DL/data_loading** module loads the $\\sqrt{p(x)}$. Additionally when we load the function $f(x)$ we, really, load the $\\sqrt{f(x)}$. \n",
    "\n",
    "On easy workarond for dealing with section 2 problem is changing our data loading procedure in the following ways:\n",
    "* We are going to load $p(x)$ and $f(x)$ instead of $\\sqrt{p(x)}$ and $\\sqrt{f(x)}$\n",
    "* The probability distribution will be loaded as a function insted of using the probability density procedure.\n",
    "\n",
    "If we have discretized the $p(X)$ and the $f(x)$ functions in $2^{n}$ values this new loading procedure will need $n+2$ qbits instead of the $n+1$ qbit of the original procedure.\n",
    "\n",
    "Here we resumen the new loading data protocol:\n",
    "\n",
    "1. We begin with a $n+2$ qbits state (the 1 and 2 superindices is for indetifiyng the qbit)\n",
    "\n",
    "$$|0\\rangle^1 \\otimes |0\\rangle^2 \\otimes|0\\rangle_{n}$$\n",
    "\n",
    "2. We apply uniform distribution over the $n$ qbits state (the 1 and 2 sub-indices are for indicating over each qbit the operator should be applied)\n",
    "\n",
    "$$(I_1 \\otimes I_2 \\otimes H^{\\otimes n})|0\\rangle^1 \\otimes |0\\rangle^2 \\otimes|0\\rangle_{n} = |0\\rangle^1 \\otimes |0\\rangle^2 \\otimes H^{\\otimes n}|0\\rangle_{n}=|0\\rangle^1 \\otimes |0\\rangle^2 \\otimes \\frac{1}{\\sqrt{2^n}} \\sum_{i=0}^{2^{n}-1}|i\\rangle_{n}$$\n",
    "\n",
    "3. We apply the **loading function operator** for loading the probability distribution $p(X)$: $\\mathcal{F(p)}$ over the qbit $|0\\rangle^2$\n",
    "\n",
    "$$\\big(I_1 \\otimes \\mathcal{F_2(p)}\\big) \\big(|0\\rangle^1 \\otimes |0\\rangle^2 \\otimes \\frac{1}{\\sqrt{2^n}} \\sum_{i=0}^{2^{n}-1}|i\\rangle_{n} \\big) = |0\\rangle^1 \\otimes \\mathcal{F_2(p)} \\big( |0\\rangle^2 \\otimes \\frac{1}{\\sqrt{2^n}} \\sum_{i=0}^{2^{n}-1}|i\\rangle_{n} \\big) $$\n",
    "\n",
    "$$=|0\\rangle^1 \\otimes \\frac{1}{\\sqrt{2^n}} \\sum_{i=0}^{2^{n}-1}|i\\rangle_{n} \\otimes [ p(i) |0\\rangle^2 +  \\sin(\\theta_{p(i)}) |1\\rangle^2] =$$\n",
    "\n",
    "\n",
    "$$=|0\\rangle^1 \\otimes |0\\rangle^2 \\otimes \\frac{1}{\\sqrt{2^n}} \\sum_{i=0}^{2^{n}-1}p(i)|i\\rangle_{n} +  |0\\rangle^1 \\otimes |1\\rangle^2 \\otimes ...$$\n",
    "\n",
    "4. In the last expresion we only are interested in the terms with $|0\\rangle^1 \\otimes |0\\rangle^2$ the other option does not interest us, so in the following steps we delete from the formulas. So the importan part will be:\n",
    "\n",
    "$$|0\\rangle^1 \\otimes |0\\rangle^2 \\otimes \\frac{1}{\\sqrt{2^n}} \\sum_{i=0}^{2^{n}-1}p(i)|i\\rangle_{n}$$\n",
    "\n",
    "5. Now we apply the **loading function operator** for loading $f(x)$: $\\mathcal{F(f)}$ over the qbit $|0\\rangle^1$\n",
    "\n",
    "$$\\big(I_2 \\otimes \\mathcal{F_1(f)}\\big) \\big(|0\\rangle^1 \\otimes |0\\rangle^2 \\otimes \\frac{1}{\\sqrt{2^n}} \\sum_{i=0}^{2^{n}-1}p(i)|i\\rangle_{n} \\big)= |0\\rangle^2 \\otimes \\mathcal{F_1(f)} \\big(|0\\rangle^1 \\otimes \\frac{1}{\\sqrt{2^n}} \\sum_{i=0}^{2^{n}-1}p(i)|i\\rangle_{n}\\big)=$$\n",
    "\n",
    "\n",
    "$$=|0\\rangle^2 \\otimes \\frac{1}{\\sqrt{2^n}} \\sum_{i=0}^{2^{n}-1}p(i)|i\\rangle_{n} \\otimes [ f(i) |0\\rangle^1 +  \\sin(\\theta_{f(i)}) |1\\rangle^1] = $$\n",
    "\n",
    "$$=|0\\rangle^1 \\otimes |0\\rangle^2 \\otimes \\frac{1}{\\sqrt{2^n}} \\sum_{i=0}^{2^{n}-1}p(i)f(i)|i\\rangle_{n} + |1\\rangle^1 \\otimes |0\\rangle^2 \\otimes ...$$\n",
    "\n",
    "6. Again we are interested only on the therms with $|0\\rangle^1 \\otimes |0\\rangle^2$ so we take of from the formulas the other terms. So the important part will be:\n",
    "\n",
    "$$|0\\rangle^1 \\otimes |0\\rangle^2 \\otimes \\frac{1}{\\sqrt{2^n}} \\sum_{i=0}^{2^{n}-1}p(i)f(i)|i\\rangle_{n}$$\n",
    "\n",
    "7. Finally we apply another uniform distribution over the $n$ qbits state:\n",
    "\n",
    "$$\\big(I_1 \\otimes I_2 \\otimes H^{\\otimes n}\\big) \\big(|0\\rangle^1 \\otimes |0\\rangle^2 \\otimes \\frac{1}{\\sqrt{2^n}} \\sum_{i=0}^{2^{n}-1}p(i)f(i)|i\\rangle_{n}\\big) = |0\\rangle^1 \\otimes |0\\rangle^2 \\otimes \\frac{1}{\\sqrt{2^n}} \\sum_{i=0}^{2^{n}-1}p(i)f(i)H^{\\otimes n}|i\\rangle_{n}$$\n",
    "\n",
    "\n",
    "The final state of our new loading protocol will be in the form:\n",
    "\n",
    "$$|\\Psi \\rangle = |0\\rangle^1 \\otimes |0\\rangle^2 \\otimes \\frac{1}{\\sqrt{2^n}} \\sum_{i=0}^{2^{n}-1}p(i)f(i)H^{\\otimes n}|i\\rangle_{n} + |0\\rangle^1 \\otimes |1\\rangle^2 \\otimes ... + |1\\rangle^1 \\otimes |0\\rangle^2 \\otimes ... + |1\\rangle^1 \\otimes |1\\rangle^2 \\otimes ...$$\n",
    "\n",
    "The uniform distribution acting over any $|i\\rangle_n$ state can be expresed as:\n",
    "\n",
    "$$H^{\\otimes n}|i\\rangle_{n} = \\frac{1}{\\sqrt{2^n}}\\sum_{j=0}^{2^{n}-1} (-1)^{ij}|j\\rangle_n=\\frac{1}{\\sqrt{2^n}}[|0\\rangle_n + \\sum_{j=1}^{2^{n}-1} (-1)^{ij}|j\\rangle_n]$$ \n",
    "\n",
    "So replacing it in our final state:\n",
    "\n",
    "$$|\\Psi \\rangle = |0\\rangle^1 \\otimes |0\\rangle^2 \\otimes \\frac{1}{2^n} \\sum_{i=0}^{2^{n}-1}p(i)f(i)|0\\rangle_n + |0\\rangle^1 \\otimes |0\\rangle^2 \\otimes \\frac{1}{2^n}\\sum_{j=1}^{2^{n}-1} (-1)^{ij}p(i)f(i)|j\\rangle_n + |0\\rangle^1 \\otimes |1\\rangle^2 \\otimes ... + |1\\rangle^1 \\otimes |0\\rangle^2 \\otimes ... + |1\\rangle^1 \\otimes |1\\rangle^2 \\otimes ...$$\n",
    "\n",
    "\n",
    "As can be seen the term that carries the information we need is: $|0\\rangle^1 \\otimes |0\\rangle^2 \\otimes|0\\rangle_n$. We do not care from other terms so we can write the final state in the following way:\n",
    "\n",
    "\n",
    "$$|\\Psi \\rangle = \\frac{1}{2^n}\\sum_{i=0}^{2^{n}-1}p(i)f(i)|0\\rangle^1 \\otimes |0\\rangle^2 \\otimes|0\\rangle_n+...$$\n",
    "\n",
    "All this procedure is implemented in the following cell:"
   ]
  },
  {
   "cell_type": "code",
   "execution_count": null,
   "id": "f6ae3b14",
   "metadata": {},
   "outputs": [],
   "source": [
    "new_oracle = qlm.QRoutine()\n",
    "#For new data loading procedure we need n+2 qbits\n",
    "new_registers = new_oracle.new_wires(n+2)\n",
    "#Step 2 of Procedure: apply Uniform distribution \n",
    "new_oracle.apply(uniform_distribution(n),new_registers[:n])\n",
    "#Step 3 of Procedure: apply loading function operator for loading p(x)\n",
    "new_p_gate = load_array(p_X, id_name = 'p(x)')\n",
    "new_oracle.apply(new_p_gate, [new_registers[:n], new_registers[n]])\n",
    "#Step 5 of Procedure: apply loading function operator for loading f(x)\n",
    "new_f_gate = load_array(f_X, id_name = 'f(x)')\n",
    "new_oracle.apply(new_f_gate, [new_registers[:n], new_registers[n+1]])\n",
    "#Step 7 of Procedure: apply Uniform distribution \n",
    "new_oracle.apply(uniform_distribution(n),new_registers[:n])"
   ]
  },
  {
   "cell_type": "code",
   "execution_count": null,
   "id": "c4253748",
   "metadata": {},
   "outputs": [],
   "source": [
    "%qatdisplay new_oracle"
   ]
  },
  {
   "cell_type": "markdown",
   "id": "a6f6184a",
   "metadata": {},
   "source": [
    "Now with the new loading procedure we can again express the quantum state as a linear combination of two orthogonal states $|\\Psi_{1}\\rangle$ y $|\\Psi_{0}\\rangle$:\n",
    "\n",
    "$$|\\Psi\\rangle = \\sqrt{a}|\\Psi_{0}\\rangle+\\sqrt{1-a}|\\Psi_{1}\\rangle$$\n",
    "\n",
    "where:\n",
    "$$\\sqrt{a}|\\Psi_{0}\\rangle = \\left[\\dfrac{1}{2^n}\\sum_{i=0}^{2^{n}-1}p(i)f(i)\\right]|0\\rangle^1 \\otimes|0\\rangle^2 \\otimes|0\\rangle_n$$\n",
    "\n",
    "Now we can remove the super-index from 1 qbit $|0\\rangle$ state:\n",
    "\n",
    "$$\\sqrt{a}|\\Psi_{0}\\rangle = \\left[\\dfrac{1}{2^n}\\sum_{i=0}^{2^{n}-1}p(i)f(i)\\right]|0\\rangle \\otimes|0\\rangle \\otimes|0\\rangle_n$$\n",
    " \n",
    "\n",
    "The probability of measuring $|0\\rangle \\otimes|0\\rangle \\otimes|0\\rangle_n$ is:\n",
    "\n",
    "$$ a= \\left|\\dfrac{1}{N}\\sum_{i=0}^{2^{n}-1}p(i)f(i)\\right|^2,$$\n",
    "\n",
    "so then computing $\\sqrt{a}$ gives us an estimation.\n",
    "\n",
    "Now we can use again the *amplitude estimation* routines, but using the right target and index!!"
   ]
  },
  {
   "cell_type": "code",
   "execution_count": null,
   "id": "40cfb709",
   "metadata": {},
   "outputs": [],
   "source": [
    "new_target = [0 for i in range(new_oracle.arity)]\n",
    "print('new_target: ', new_target)\n",
    "new_index = [i for i in range(new_oracle.arity)]\n",
    "print('new_index: ', new_index)"
   ]
  },
  {
   "cell_type": "code",
   "execution_count": null,
   "id": "a011fa92",
   "metadata": {},
   "outputs": [],
   "source": [
    "from QQuantLib.AE.maximum_likelihood_ae import MLAE\n",
    "\n",
    "m_k = [i for i in range(30)]\n",
    "n_k = [100 for i in m_k]\n",
    "\n",
    "\n",
    "mlae_dict = {\n",
    "    'qpu': linalg_qpu,\n",
    "    'schedule': [m_k, n_k]\n",
    "}\n",
    "mlae = MLAE(\n",
    "    new_oracle,\n",
    "    target = new_target,\n",
    "    index = new_index, \n",
    "    **mlae_dict\n",
    ")\n",
    "\n",
    "mlae_a = mlae.run()\n",
    "print('mlae_a: ', mlae_a)"
   ]
  },
  {
   "cell_type": "code",
   "execution_count": null,
   "id": "7c499868",
   "metadata": {},
   "outputs": [],
   "source": [
    "from QQuantLib.PE.phase_estimation_wqft import PE_QFT_AE\n",
    "\n",
    "ae_pe_qft_dict = {\n",
    "    'qpu': linalg_qpu,\n",
    "    'auxiliar_qbits_number': 10,\n",
    "    'shots': 100\n",
    "}\n",
    "\n",
    "ae_pe_qft = PE_QFT_AE(\n",
    "    new_oracle,\n",
    "    target = new_target,\n",
    "    index = new_index, \n",
    "    **ae_pe_qft_dict\n",
    ")\n",
    "ae_pe_qft_a  = ae_pe_qft.run()\n",
    "\n",
    "print('ae_pe_qft_a: ', ae_pe_qft_a)"
   ]
  },
  {
   "cell_type": "code",
   "execution_count": null,
   "id": "39fe2e2d",
   "metadata": {},
   "outputs": [],
   "source": [
    "from QQuantLib.PE.iterative_quantum_pe import IQPE_AE\n",
    "\n",
    "ae_iqpe_dict = {\n",
    "    'qpu': linalg_qpu,\n",
    "    'cbits_number': 10,\n",
    "    'shots': 10\n",
    "}\n",
    "\n",
    "ae_iqpe = IQPE_AE(\n",
    "    new_oracle,\n",
    "    target = new_target,\n",
    "    index = new_index, \n",
    "    **ae_iqpe_dict\n",
    ")\n",
    "\n",
    "ae_iqpe_a  = ae_iqpe.run()\n",
    "\n",
    "print('ae_iqpe_a: ', ae_iqpe_a)"
   ]
  },
  {
   "cell_type": "code",
   "execution_count": null,
   "id": "6670e55f",
   "metadata": {},
   "outputs": [],
   "source": [
    "from QQuantLib.AE.iterative_quantum_ae import IQAE\n",
    "\n",
    "epsilon = 0.001\n",
    "iqae_dict = {\n",
    "    'qpu': linalg_qpu,\n",
    "    'epsilon': epsilon\n",
    "}\n",
    "\n",
    "iqae = IQAE(\n",
    "    new_oracle,\n",
    "    target = new_target,\n",
    "    index = new_index,  \n",
    "    **iqae_dict\n",
    ")\n",
    "\n",
    "iqae_a = iqae.run()\n",
    "\n",
    "print('iqae_a: ', iqae_a)"
   ]
  },
  {
   "cell_type": "markdown",
   "id": "9301f3a5",
   "metadata": {},
   "source": [
    "**BE AWARE**\n",
    "\n",
    "Now the **amplitude estimation** routines will estimate:\n",
    "\n",
    "$$ a= \\left|\\dfrac{1}{2^n}\\sum_{i=0}^{2^{n}-1}p(i)f(i)\\right|^2$$\n",
    "\n",
    "so if we measured $a$ for getting the proper result we need:\n",
    "\n",
    "$$\\sum_{i=0}^{2^{n}-1}p(i)f(i) = 2^n * \\sqrt{a}$$\n",
    "\n",
    "So in order to get the orrect a we must provide the $\\sqrt{a}$"
   ]
  },
  {
   "cell_type": "code",
   "execution_count": null,
   "id": "a2ed801a",
   "metadata": {},
   "outputs": [],
   "source": [
    "methods = ['MLAE', 'PE_QFT_AE', 'IQPE_AE', 'IQAE']\n",
    "a_estimated = [mlae.a, ae_pe_qft.a, ae_iqpe.a, iqae.a]\n",
    "\n",
    "\n",
    "dic_staff = {\n",
    "    'AE_a': np.sqrt(a_estimated)*2**n,\n",
    "}\n",
    "\n",
    "new_Results = pd.DataFrame(dic_staff, index=methods)\n",
    "new_Results['Exact_Solution'] = np.dot(p_X,f_X)"
   ]
  },
  {
   "cell_type": "code",
   "execution_count": null,
   "id": "1c56d301",
   "metadata": {},
   "outputs": [],
   "source": [
    "new_Results"
   ]
  },
  {
   "cell_type": "code",
   "execution_count": null,
   "id": "87731a8e",
   "metadata": {},
   "outputs": [],
   "source": []
  },
  {
   "cell_type": "code",
   "execution_count": null,
   "id": "42e18260",
   "metadata": {},
   "outputs": [],
   "source": []
  },
  {
   "cell_type": "code",
   "execution_count": null,
   "id": "eefe97c8",
   "metadata": {},
   "outputs": [],
   "source": []
  },
  {
   "cell_type": "markdown",
   "id": "0c0457b0",
   "metadata": {},
   "source": [
    "## 5. Problems of the first proposal of solution"
   ]
  },
  {
   "cell_type": "markdown",
   "id": "04489fce",
   "metadata": {},
   "source": [
    "We have solved one of the issue, but we still face one major problem. If the expectation of $f$ is negative, we won't be able to notice it, again because we are taking the absolute value.\n",
    "To demonstrate it let us define a new linear function $f$ which is negative in the second half:\n",
    "$$f = \\dfrac{1}{7}\\left(0,1,2,3,-4,-5,-6,-7\\right).$$"
   ]
  },
  {
   "cell_type": "code",
   "execution_count": null,
   "id": "6c1163e4",
   "metadata": {},
   "outputs": [],
   "source": [
    "f3 = np.copy(f_X)\n",
    "f3[4] = -f_X[4]\n",
    "f3[5] = -f_X[5]\n",
    "f3[6] = -f_X[6]\n",
    "f3[7] = -f_X[7]"
   ]
  },
  {
   "cell_type": "code",
   "execution_count": null,
   "id": "4013f9b3",
   "metadata": {},
   "outputs": [],
   "source": [
    "p4_gate = load_array(p_X)\n",
    "f4_gate = load_array(f3,id_name = \"2\")"
   ]
  },
  {
   "cell_type": "code",
   "execution_count": null,
   "id": "64b5d447",
   "metadata": {},
   "outputs": [],
   "source": [
    "oracle4 = qlm.QRoutine()\n",
    "register4 = oracle4.new_wires(n+2)\n",
    "oracle4.apply(uniform_distribution(n),register4[:n])\n",
    "oracle4.apply(p4_gate, [register4[:n],register4[n]])\n",
    "oracle4.apply(f4_gate, [register4[:n],register4[n+1]])\n",
    "oracle4.apply(uniform_distribution(n),register4[:n])"
   ]
  },
  {
   "cell_type": "code",
   "execution_count": null,
   "id": "1da7be48",
   "metadata": {},
   "outputs": [],
   "source": [
    "target = [0,0,0,0,0]\n",
    "index = [0,1,2,3,4]\n",
    "iqae = IQAE(oracle = oracle4,target = target, index = index)"
   ]
  },
  {
   "cell_type": "code",
   "execution_count": null,
   "id": "6a1ac12f",
   "metadata": {},
   "outputs": [],
   "source": [
    "epsilon = 0.001\n",
    "N = 556\n",
    "alpha = 0.05 \n",
    "bounds = iqae.run(epsilon = epsilon,N = N,alpha = alpha)"
   ]
  },
  {
   "cell_type": "code",
   "execution_count": null,
   "id": "7cd1b834",
   "metadata": {},
   "outputs": [],
   "source": [
    "print(\"Estimation: \",2**n*np.sqrt(bounds[0]),2**n*np.sqrt(bounds[1]))\n",
    "print(\"Exact solution: \",np.dot(p_X,f3))"
   ]
  },
  {
   "cell_type": "markdown",
   "id": "d58057cf",
   "metadata": {},
   "source": [
    "Here we see that the module is correct but not the sign. Of course this becomes critical as it is not the same obtining an expected positve result or a negative one. For instance, think of the return on an investment."
   ]
  },
  {
   "cell_type": "code",
   "execution_count": null,
   "id": "8576c4d1",
   "metadata": {},
   "outputs": [],
   "source": [
    "iqae.display_information(epsilon = epsilon,N = N,alpha = alpha)"
   ]
  },
  {
   "cell_type": "markdown",
   "id": "978a4710",
   "metadata": {},
   "source": [
    "## 6. A more definitive approach"
   ]
  },
  {
   "cell_type": "markdown",
   "id": "0e84288a",
   "metadata": {},
   "source": [
    "The solution to this is using an algorithm which distinguishes the sign of the underlying amplitude. For that we propose the RQAE, for more information check the corresponding notebook and article."
   ]
  },
  {
   "cell_type": "code",
   "execution_count": null,
   "id": "0638a074",
   "metadata": {},
   "outputs": [],
   "source": [
    "from QQuantLib.AE.real_quantum_ae import RQAE"
   ]
  },
  {
   "cell_type": "code",
   "execution_count": null,
   "id": "0c24f0d2",
   "metadata": {},
   "outputs": [],
   "source": [
    "target = [0]*(n+2)\n",
    "index = np.arange(n+2)\n",
    "rqae = RQAE(oracle = oracle4,target = target, index = index)"
   ]
  },
  {
   "cell_type": "code",
   "execution_count": null,
   "id": "83415f13",
   "metadata": {},
   "outputs": [],
   "source": [
    "q = 2\n",
    "epsilon = 0.001\n",
    "gamma = 0.05 \n",
    "bounds = rqae.run(q = q, epsilon = epsilon,gamma = gamma)"
   ]
  },
  {
   "cell_type": "code",
   "execution_count": null,
   "id": "82392552",
   "metadata": {},
   "outputs": [],
   "source": [
    "print(\"Estimation: \",2**n*bounds[0],2**n*bounds[1])\n",
    "print(\"Exact solution: \",np.dot(p_X,f3))"
   ]
  },
  {
   "cell_type": "code",
   "execution_count": null,
   "id": "a1dca741",
   "metadata": {},
   "outputs": [],
   "source": [
    "rqae.display_information(q = q, epsilon = epsilon,gamma = gamma)"
   ]
  },
  {
   "cell_type": "markdown",
   "id": "25f0bbd9",
   "metadata": {},
   "source": [
    "## 7. Call option under the Black-Scholes model"
   ]
  },
  {
   "cell_type": "markdown",
   "id": "a78d50f7",
   "metadata": {},
   "source": [
    "Now we will use this same strategy to compute the prices of a plain vanilla under the assumptions of the Black-Scholes model. In order to do that, we have to choose some parameters for the pricing model, in this case:\n",
    "- Current underlying price ($S_0$): 2\n",
    "- Risk-free rate ($r$): 4\\%\n",
    "- The volatility ($\\sigma$): 10\\%\n",
    "\n",
    "Next, we define the parameters of the call option:\n",
    "- Maturity ($T$): 300 days \n",
    "- Strike ($K$): 1.9"
   ]
  },
  {
   "cell_type": "code",
   "execution_count": null,
   "id": "6dfc3ddf",
   "metadata": {},
   "outputs": [],
   "source": [
    "S0 = 2\n",
    "r = 0.04\n",
    "sigma = 0.1\n",
    "T = 300/365\n",
    "K = 1.9"
   ]
  },
  {
   "cell_type": "markdown",
   "id": "50c85528",
   "metadata": {},
   "source": [
    "The price of a call option can be approximated as:\n",
    "$$C(S_0,K,T) = e^{-rT}\\mathbb{E}_r[(S_T-K)^+]$$\n",
    "In the next cell we compute the approximated value when we approximate the probability distribution and the payoff with $2^n$ points."
   ]
  },
  {
   "cell_type": "code",
   "execution_count": null,
   "id": "26be4f41",
   "metadata": {},
   "outputs": [],
   "source": [
    "from QQuantLib.utils.utils import bs_probability, call_payoff"
   ]
  },
  {
   "cell_type": "code",
   "execution_count": null,
   "id": "5fc419d9",
   "metadata": {},
   "outputs": [],
   "source": [
    "n = 3\n",
    "x = np.linspace(1,3,2**n)\n",
    "probability = bs_probability(x,S0,r,sigma,T)\n",
    "payoff = call_payoff(x,K)\n",
    "classical_price_estimation = np.exp(-r*T)*np.dot(probability,payoff)"
   ]
  },
  {
   "cell_type": "markdown",
   "id": "0ec87ce0",
   "metadata": {},
   "source": [
    "Now we will compute the approximated price via the quantum computer. Before we load the probability and the payoff into the quantum computer we have to normalise the payoff function."
   ]
  },
  {
   "cell_type": "code",
   "execution_count": null,
   "id": "0b65394e",
   "metadata": {},
   "outputs": [],
   "source": [
    "payoff_normalisation = np.max(payoff)\n",
    "payoff_normalised = payoff/payoff_normalisation"
   ]
  },
  {
   "cell_type": "code",
   "execution_count": null,
   "id": "8c5edb7b",
   "metadata": {},
   "outputs": [],
   "source": [
    "p5_gate = load_array(probability,id_name = \"probability\")\n",
    "f5_gate = load_array(payoff_normalised,id_name = \"payoff\")"
   ]
  },
  {
   "cell_type": "code",
   "execution_count": null,
   "id": "96f91305",
   "metadata": {},
   "outputs": [],
   "source": [
    "oracle5 = qlm.QRoutine()\n",
    "register5 = oracle5.new_wires(n+2)\n",
    "oracle5.apply(uniform_distribution(n),register5[:n])\n",
    "oracle5.apply(p5_gate, [register5[:n],register5[n]])\n",
    "oracle5.apply(f5_gate, [register5[:n],register5[n+1]])\n",
    "oracle5.apply(uniform_distribution(n),register5[:n])"
   ]
  },
  {
   "cell_type": "code",
   "execution_count": null,
   "id": "b34fedb6",
   "metadata": {},
   "outputs": [],
   "source": [
    "target = [0]*(n+2)\n",
    "index = np.arange(n+2)\n",
    "rqae = RQAE(oracle = oracle5,target = target, index = index)"
   ]
  },
  {
   "cell_type": "code",
   "execution_count": null,
   "id": "e503d988",
   "metadata": {},
   "outputs": [],
   "source": [
    "q = 2\n",
    "epsilon = 0.001\n",
    "gamma = 0.05 \n",
    "bounds_rqae = rqae.run(q = q, epsilon = epsilon,gamma = gamma)"
   ]
  },
  {
   "cell_type": "code",
   "execution_count": null,
   "id": "912c1718",
   "metadata": {},
   "outputs": [],
   "source": [
    "quantum_price_estimation = (bounds_rqae[0]+bounds_rqae[1])/2*2**n*payoff_normalisation*np.exp(-r*T)"
   ]
  },
  {
   "cell_type": "markdown",
   "id": "d143dce8",
   "metadata": {},
   "source": [
    "Last, we use function *bs_call_price* to compute the exact price and compare it with the classical and quantum estimation"
   ]
  },
  {
   "cell_type": "code",
   "execution_count": null,
   "id": "cc5d7afe",
   "metadata": {},
   "outputs": [],
   "source": [
    "from QQuantLib.utils.utils import bs_call_price"
   ]
  },
  {
   "cell_type": "code",
   "execution_count": null,
   "id": "ecde2a01",
   "metadata": {},
   "outputs": [],
   "source": [
    "exact_price = bs_call_price(S0,r,sigma,T,K)"
   ]
  },
  {
   "cell_type": "code",
   "execution_count": null,
   "id": "103bbf29",
   "metadata": {},
   "outputs": [],
   "source": [
    "print(\"Exact price: \",exact_price)\n",
    "print(\"Classical estimation: \",classical_price_estimation)\n",
    "print(\"Quantum estimation: \",quantum_price_estimation)"
   ]
  },
  {
   "cell_type": "markdown",
   "id": "29dcd351",
   "metadata": {},
   "source": [
    "Note that this procedure does not provide any quantum advantage."
   ]
  },
  {
   "cell_type": "markdown",
   "id": "4877046b",
   "metadata": {},
   "source": [
    "## 8. Futures payoff under Black-Scholes model "
   ]
  },
  {
   "cell_type": "markdown",
   "id": "dc1de963",
   "metadata": {},
   "source": [
    "To emphasize the advantages of the RQAE method we will use the same strategy to compute the prices of a derivatives contract with linear payoff under the assumptions of the Black-Scholes model. In order to do that, we have to choose some parameters for the pricing model, in this case:\n",
    "- Current underlying price ($S_0$): 2\n",
    "- Risk-free rate ($r$): 4\\%\n",
    "- The volatility ($\\sigma$): 10\\%\n",
    "\n",
    "Next, we define the parameters of the derivatives contract:\n",
    "- Maturity ($T$): 300 days \n",
    "- Strike ($K$): 2.5"
   ]
  },
  {
   "cell_type": "code",
   "execution_count": null,
   "id": "d000e56c",
   "metadata": {},
   "outputs": [],
   "source": [
    "S0 = 2\n",
    "r = 0.04\n",
    "sigma = 0.1\n",
    "T = 300/365\n",
    "K = 2.5"
   ]
  },
  {
   "cell_type": "markdown",
   "id": "b1217b38",
   "metadata": {},
   "source": [
    "The price of this derivatives contract with linear payoff can be approximated:\n",
    "$$C(S_0,K,T) = e^{-rT}\\mathbb{E}_r[S_T-K]$$\n",
    "In the next cell we compute the approximated value when we approximate the probability distribution and the payoff with $2^n$ points."
   ]
  },
  {
   "cell_type": "code",
   "execution_count": null,
   "id": "7584a5b5",
   "metadata": {},
   "outputs": [],
   "source": [
    "n = 3\n",
    "x = np.linspace(1,3,2**n)\n",
    "probability = bs_probability(x,S0,r,sigma,T)\n",
    "payoff = x-K\n",
    "classical_price_estimation = np.exp(-r*T)*np.dot(probability,payoff)\n",
    "print(\"Classical price estimation: \",classical_price_estimation)"
   ]
  },
  {
   "cell_type": "markdown",
   "id": "9f2f5140",
   "metadata": {},
   "source": [
    "As we see the price of this contract is negative. As we saw before, the standard quantum procedure won't work so we use RQAE. With it we compute the approximated price via the quantum computer. Before we load the probability and the payoff into the quantum computer we have to normalise the payoff function."
   ]
  },
  {
   "cell_type": "code",
   "execution_count": null,
   "id": "f2589bf0",
   "metadata": {},
   "outputs": [],
   "source": [
    "payoff_normalisation = np.max(np.abs(payoff))\n",
    "payoff_normalised = payoff/payoff_normalisation"
   ]
  },
  {
   "cell_type": "code",
   "execution_count": null,
   "id": "4f6df82e",
   "metadata": {},
   "outputs": [],
   "source": [
    "p5_gate = load_array(probability,id_name = \"probability\")\n",
    "f5_gate = load_array(payoff_normalised,id_name = \"payoff\")"
   ]
  },
  {
   "cell_type": "code",
   "execution_count": null,
   "id": "22731d56",
   "metadata": {},
   "outputs": [],
   "source": [
    "oracle5 = qlm.QRoutine()\n",
    "register5 = oracle5.new_wires(n+2)\n",
    "oracle5.apply(uniform_distribution(n),register5[:n])\n",
    "oracle5.apply(p5_gate, [register5[:n],register5[n]])\n",
    "oracle5.apply(f5_gate, [register5[:n],register5[n+1]])\n",
    "oracle5.apply(uniform_distribution(n),register5[:n])"
   ]
  },
  {
   "cell_type": "code",
   "execution_count": null,
   "id": "3ee7d673",
   "metadata": {},
   "outputs": [],
   "source": [
    "target = [0]*(n+2)\n",
    "index = np.arange(n+2)\n",
    "rqae = RQAE(oracle = oracle5,target = target, index = index)"
   ]
  },
  {
   "cell_type": "code",
   "execution_count": null,
   "id": "19e1dc16",
   "metadata": {},
   "outputs": [],
   "source": [
    "q = 2\n",
    "epsilon = 0.001\n",
    "gamma = 0.05 \n",
    "bounds_rqae = rqae.run(q = q, epsilon = epsilon,gamma = gamma)"
   ]
  },
  {
   "cell_type": "code",
   "execution_count": null,
   "id": "430c9e69",
   "metadata": {},
   "outputs": [],
   "source": [
    "quantum_price_estimation = (bounds_rqae[0]+bounds_rqae[1])/2*2**n*payoff_normalisation*np.exp(-r*T)"
   ]
  },
  {
   "cell_type": "markdown",
   "id": "21ef6aba",
   "metadata": {},
   "source": [
    "Last, we compare the classical and quantum estimation:"
   ]
  },
  {
   "cell_type": "code",
   "execution_count": null,
   "id": "6fb673c8",
   "metadata": {},
   "outputs": [],
   "source": [
    "print(\"Classical estimation: \",classical_price_estimation)\n",
    "print(\"Quantum estimation: \",quantum_price_estimation)"
   ]
  },
  {
   "cell_type": "markdown",
   "id": "8cc6f9a9",
   "metadata": {},
   "source": [
    "## 8. Computation of VaR"
   ]
  },
  {
   "cell_type": "markdown",
   "id": "3a99aeb5",
   "metadata": {},
   "source": [
    "For a given confidence level $\\alpha$, $VaR_\\alpha(X)$ is the smallest value $x$ such that \n",
    "$$P[X\\leq x]\\geq (1-\\alpha).$$ To compute this quantity we can do a binary search."
   ]
  },
  {
   "cell_type": "markdown",
   "id": "13086ae1",
   "metadata": {},
   "source": [
    "### 8.1 Classical binary search"
   ]
  },
  {
   "cell_type": "markdown",
   "id": "12ba53a3",
   "metadata": {},
   "source": [
    "A binary search for $N = 2^n$ discrete probabilities works as follows:\n",
    "- We begin by computing the cumulative sum for the first $2^{n-1}$ probabilities.\n",
    "- If the probability is lower than the one we demand, we set $2^{n-1} = 2^{n-1}+2^{n-2}$ entries. Otherwise, we set $2^{n-1} = 2^{n-1}-2^{n-2}$ entries.\n",
    "- Now we can start in the first step until $N = 1$, then we stop.\n",
    "In the following cells we do this process in an iterative fashion to compute the VaR\n",
    "\n",
    "We will do this process with the probability distribution from Black-Scholes equation"
   ]
  },
  {
   "cell_type": "code",
   "execution_count": null,
   "id": "8706c631",
   "metadata": {},
   "outputs": [],
   "source": [
    "probability = bs_probability(x,S0,r,sigma,T)\n",
    "#probability = np.array([0,0,0,0,0.96,0.04,0,0])"
   ]
  },
  {
   "cell_type": "code",
   "execution_count": null,
   "id": "285c01cd",
   "metadata": {},
   "outputs": [],
   "source": [
    "alpha = 0.05\n",
    "index = 0\n",
    "sign = 1\n",
    "for i in range(1,n+1):\n",
    "    index = index+sign*2**(n-i)\n",
    "    suma = np.sum(probability[0:index])\n",
    "    if (suma<=1-alpha):\n",
    "        sign = 1\n",
    "    else:\n",
    "        sign = -1\n",
    "if (sign==1): \n",
    "    index = index+sign\n",
    "\n",
    "print(\"El resultado es: \",index)"
   ]
  },
  {
   "cell_type": "code",
   "execution_count": null,
   "id": "b4edea24",
   "metadata": {},
   "outputs": [],
   "source": [
    "np.sum(probability[:index])"
   ]
  },
  {
   "cell_type": "markdown",
   "id": "45a56f6c",
   "metadata": {},
   "source": [
    "### 8.2 Quantum binary search with IQAE"
   ]
  },
  {
   "cell_type": "markdown",
   "id": "7ec3df27",
   "metadata": {},
   "source": [
    "The quantum binary search using IQAE proceeds in the same manner as the classical binary search. The main difference is in the quanutm way we perform the cumulative sum. For that purpose we have defined the step function $s_i^N$. This function flips the leftmost qubit of all the states $j$ with the condition $j\\geq i$. \n",
    "\n",
    "Let us give an example with $3+1$ qubits. We start with the state:\n",
    "$$|\\phi\\rangle_0 = |0\\rangle\\otimes\\left[\\sqrt{p_0}|0\\rangle+\\sqrt{p_1}|1\\rangle+\\sqrt{p_2}|2\\rangle+\\sqrt{p_3}|3\\rangle+\\sqrt{p_4}|4\\rangle+\\sqrt{p_5}|5\\rangle+\\sqrt{p_6}|6\\rangle+\\sqrt{p_7}|7\\rangle\\right].$$\n",
    "An application of the function $s_4^8$ yields:\n",
    "$$s_4^8|\\phi\\rangle_0 = |0\\rangle\\otimes\\left[\\sqrt{p_0}|0\\rangle+\\sqrt{p_1}|1\\rangle+\\sqrt{p_2}|2\\rangle+\\sqrt{p_3}|3\\rangle\\right]+|1\\rangle\\otimes\\left[\\sqrt{p_4}|4\\rangle+\\sqrt{p_5}|5\\rangle+\\sqrt{p_6}|6\\rangle+\\sqrt{p_7}|7\\rangle\\right].$$\n",
    "Now, performing the sum of the first four entries is equivalent to measuring the probability of obtaining $|0\\rangle$ in the leftmost qubit. This is the strategy to perform the cumulative sums.\n",
    "\n",
    "Note that, in the cell where we perform the binary search we only substitute the line of the cumulative sum with this new strategy, the rest remains the same.\n"
   ]
  },
  {
   "cell_type": "code",
   "execution_count": null,
   "id": "cad9f127",
   "metadata": {},
   "outputs": [],
   "source": [
    "from QQuantLib.DL.data_loading import step_array"
   ]
  },
  {
   "cell_type": "code",
   "execution_count": null,
   "id": "2111ab9d",
   "metadata": {},
   "outputs": [],
   "source": [
    "probability = bs_probability(x,S0,r,sigma,T)\n",
    "#probability = np.array([0,0,0,0,0.96,0.04,0,0])\n",
    "p_gate = load_probability(probability)"
   ]
  },
  {
   "cell_type": "code",
   "execution_count": null,
   "id": "6e0f5cb9",
   "metadata": {},
   "outputs": [],
   "source": [
    "N = 100\n",
    "epsilon = 0.01\n",
    "\n",
    "alpha = 0.05\n",
    "index = 0\n",
    "sign = 1\n",
    "for i in range(1,n+1):\n",
    "    index = index+sign*2**(n-i)\n",
    "    # Sum process done in the quantum computer\n",
    "    routine = qlm.QRoutine()\n",
    "    register = routine.new_wires(n+1)\n",
    "    routine.apply(p_gate,register[:n])\n",
    "    routine.apply(step_array(index,2**n),register)\n",
    "    ##########################################\n",
    "    iqae = IQAE(oracle = routine,target = [0], index = [n])\n",
    "    bounds = iqae.run(epsilon = epsilon,N = N,alpha = 0.05)\n",
    "    suma = (bounds[0]+bounds[1])/2\n",
    "    ##########################################\n",
    "    if (suma<=1-alpha):\n",
    "        sign = 1\n",
    "    else:\n",
    "        sign = -1\n",
    "if (sign==1): \n",
    "    index = index+sign\n",
    "\n",
    "print(\"El resultado es: \",index)"
   ]
  },
  {
   "cell_type": "code",
   "execution_count": null,
   "id": "91619a7e",
   "metadata": {},
   "outputs": [],
   "source": [
    "np.sum(probability[:index])"
   ]
  },
  {
   "cell_type": "markdown",
   "id": "22cc5981",
   "metadata": {},
   "source": [
    "### 8.3 Quantum binary search with RQAE"
   ]
  },
  {
   "cell_type": "markdown",
   "id": "8b242a88",
   "metadata": {},
   "source": [
    "Once again, the quantum binary search with RQAE proceeds in the same manner as the classical binary search. The main difference is in the quanutm way we perform the cumulative sum. As here we work with the amplitudes instead of the probabilities we have to perform the sum in the quantum state.\n",
    "\n",
    "Let us give an example with $3+1$ qubits. We start with the state:\n",
    "$$|\\phi\\rangle_0 = \\dfrac{1}{\\sqrt{2^3}}|0\\rangle\\otimes |0\\rangle\\otimes\\left[p_0|0\\rangle+p_1|1\\rangle+p_2|2\\rangle+p_3|3\\rangle+p_4|4\\rangle+p_5|5\\rangle+p_6|6\\rangle+p_7|7\\rangle\\right]+ ....$$\n",
    "An application of the step function $s_4^8$ yields:\n",
    "$$s_4^8|\\phi\\rangle_0 =  \\dfrac{1}{\\sqrt{2^3}}|0\\rangle\\otimes|0\\rangle\\otimes\\left[p_0|0\\rangle+p_1|1\\rangle+p_2|2\\rangle+p_3|3\\rangle\\right]+|1\\rangle\\otimes|0\\rangle\\otimes\\left[p_4|4\\rangle+p_5|5\\rangle+p_6|6\\rangle+p_7|7\\rangle\\right]+....$$\n",
    "Now, performing the sum of the first four entries is equivalent to applying Hadamard gates to the first entries:\n",
    "$$H^{\\otimes3}|\\phi\\rangle_1 =  \\dfrac{p_0+p_1+p_2+p_3}{2^3}|0\\rangle\\otimes|0\\rangle\\otimes|0\\rangle+...$$\n",
    "This is the strategy to perform the cumulative sums.\n",
    "\n",
    "Note that, in the cell where we perform the binary search we only substitute the line of the cumulative sum with this new strategy, the rest remains the same.\n",
    "\n"
   ]
  },
  {
   "cell_type": "code",
   "execution_count": null,
   "id": "91be2572",
   "metadata": {},
   "outputs": [],
   "source": [
    "probability = bs_probability(x,S0,r,sigma,T)\n",
    "#probability = np.array([0,0,0,0,0.96,0.04,0,0])\n",
    "p_gate = load_array(probability,id_name = \"probability\")"
   ]
  },
  {
   "cell_type": "code",
   "execution_count": null,
   "id": "0f52f540",
   "metadata": {},
   "outputs": [],
   "source": [
    "gamma = 0.05\n",
    "q = 2\n",
    "epsilon = 0.01\n",
    "\n",
    "alpha = 0.05\n",
    "index = 0\n",
    "sign = 1\n",
    "for i in range(1,n+1):\n",
    "    index = index+sign*2**(n-i)\n",
    "    # Sum process done in the quantum computer\n",
    "    routine = qlm.QRoutine()\n",
    "    register = routine.new_wires(n+2)\n",
    "    routine.apply(uniform_distribution(n),register[:n])\n",
    "    routine.apply(p_gate,[register[:n],register[n]])\n",
    "    routine.apply(step_array(index,2**n),[register[0:n],register[n+1]])\n",
    "    routine.apply(uniform_distribution(n),register[:n])\n",
    "    ##########################################\n",
    "    rqae = RQAE(oracle = routine,target = [0]*(n+2), index = np.arange(n+2))\n",
    "    bounds = rqae.run(q = q,epsilon = epsilon,gamma = gamma)\n",
    "    suma = np.abs(bounds[1]*2**n)\n",
    "    ##########################################\n",
    "    if (suma<=1-alpha):\n",
    "        sign = 1\n",
    "    else:\n",
    "        sign = -1\n",
    "if (sign==1): \n",
    "    index = index+sign\n",
    "\n",
    "print(\"El resultado es: \",index)"
   ]
  },
  {
   "cell_type": "code",
   "execution_count": null,
   "id": "27557bbc",
   "metadata": {},
   "outputs": [],
   "source": [
    "np.sum(probability[:index])"
   ]
  },
  {
   "cell_type": "code",
   "execution_count": null,
   "id": "6694e2f8",
   "metadata": {},
   "outputs": [],
   "source": []
  }
 ],
 "metadata": {
  "kernelspec": {
   "display_name": "Python 3 (ipykernel)",
   "language": "python",
   "name": "python3"
  },
  "language_info": {
   "codemirror_mode": {
    "name": "ipython",
    "version": 3
   },
   "file_extension": ".py",
   "mimetype": "text/x-python",
   "name": "python",
   "nbconvert_exporter": "python",
   "pygments_lexer": "ipython3",
   "version": "3.9.9"
  }
 },
 "nbformat": 4,
 "nbformat_minor": 5
}
