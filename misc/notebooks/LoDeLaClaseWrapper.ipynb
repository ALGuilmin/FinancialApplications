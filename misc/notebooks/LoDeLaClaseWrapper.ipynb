{
 "cells": [
  {
   "cell_type": "code",
   "execution_count": null,
   "id": "0f722183",
   "metadata": {},
   "outputs": [],
   "source": [
    "import sys\n",
    "sys.path.append(\"../../\")"
   ]
  },
  {
   "cell_type": "code",
   "execution_count": null,
   "id": "1abbaee8",
   "metadata": {},
   "outputs": [],
   "source": [
    "import numpy as np\n",
    "import pandas as pd\n",
    "import matplotlib.pyplot as plt\n",
    "import qat.lang.AQASM as qlm\n",
    "from copy import deepcopy"
   ]
  },
  {
   "cell_type": "code",
   "execution_count": null,
   "id": "f90f01e5",
   "metadata": {},
   "outputs": [],
   "source": [
    "from QQuantLib.DL.data_loading import load_probability, load_array\n",
    "from QQuantLib.AA.amplitude_amplification import grover\n",
    "from QQuantLib.utils.utils import get_histogram\n",
    "class Zalo:\n",
    "    \n",
    "    def __init__(self, p_X, f_X):\n",
    "        \n",
    "        #Test condition in p(x)\n",
    "        print('p(x) condition: {}'.format(np.sum(p_X) == 1))\n",
    "        print('f(x) condition: {}'.format(np.max(f_X) <= 1))\n",
    "        \n",
    "        self.p_gate = load_probability(p_X)\n",
    "        self.f_gate = load_array(np.sqrt(f_X))\n",
    "        \n",
    "        self.oracle = qlm.QRoutine()\n",
    "        register = self.oracle.new_wires(self.f_gate.arity)\n",
    "        self.oracle.apply(self.p_gate, register[:self.p_gate.arity])\n",
    "        self.oracle.apply(self.f_gate, register)\n",
    "        \n",
    "        self.target = [0]\n",
    "        self.index = [self.oracle.arity-1]\n",
    "        \n",
    "    def iqpe(self, n_cbits, shots, linalg_qpu):\n",
    "        from QQuantLib.PE.iterative_quantum_pe import IterativeQuantumPE\n",
    "        self.q_gate = grover(self.oracle, self.target, self.index)\n",
    "        \n",
    "        iqpe_dict = {\n",
    "            'initial_state': self.oracle,\n",
    "            'unitary_operator': self.q_gate,\n",
    "            'qpu' : linalg_qpu,\n",
    "            'cbits_number' : n_cbits,\n",
    "            'shots': 100\n",
    "        }\n",
    "        \n",
    "        self.pe_iqft = IterativeQuantumPE(**iqpe_dict)\n",
    "        self.iqpe.iqpe()\n",
    "        pdf = self.IQPE.sumary\n",
    "        pdf['P']=np.cos(pdf['theta_90'])**2\n",
    "        \n",
    "    def qpe(self, n_cbits, shots, linalg_qpu):\n",
    "        from QQuantLib.PE.phase_estimation_wqft import PhaseEstimationwQFT\n",
    "        self.q_gate = grover(self.oracle, self.target, self.index)\n",
    "        qpe_dict = {\n",
    "            'initial_state': self.oracle,\n",
    "            'unitary_operator': self.q_gate,\n",
    "            'qpu' : linalg_qpu,\n",
    "            'cbits_number' : n_cbits,\n",
    "            'shots': 100\n",
    "        }\n",
    "        self.pe_iqft = PhaseEstimationwQFT(**qpe_dict)     \n",
    "        self.pe_iqft.pe_wqft()\n",
    "        \n",
    "    def mlae(self, schedule, linalg_qpu):\n",
    "        \n",
    "        from  QQuantLib.AE.maximum_likelihood_ae  import MLAE\n",
    "        \n",
    "        target = [0]\n",
    "        index = [self.oracle.arity-1]\n",
    "        \n",
    "        self.mlae = MLAE(\n",
    "            self.oracle,\n",
    "            target = self.target,\n",
    "            index = self.index,\n",
    "            schedule = schedule)\n",
    "        angle = self.mlae.optimize()\n",
    "        \n",
    "    \n",
    "    def iqae(self, linalg_qpu, epsilon = 0.001, alpha = 0.05, N = 1000):\n",
    "        from QQuantLib.AE.iterative_quantum_ae import IQAE\n",
    "        self.iqae = self.IQAE(oracle = self.oracle1,target = self.target, index = self.index)\n",
    "        \n",
    "        epsilon = 0.001\n",
    "        N = 1000\n",
    "        alpha = 0.05         \n",
    "        bounds = self.iqae.run(epsilon = epsilon,N = N,alpha = alpha)\n",
    "        \n"
   ]
  },
  {
   "cell_type": "code",
   "execution_count": null,
   "id": "4d62896c",
   "metadata": {},
   "outputs": [],
   "source": [
    "def p(x):\n",
    "    return x*x\n",
    "def f(x):\n",
    "    return np.sin(x)"
   ]
  },
  {
   "cell_type": "code",
   "execution_count": null,
   "id": "4a0cd9d5",
   "metadata": {},
   "outputs": [],
   "source": [
    "#number of Qbits for the circuit\n",
    "n_qbits = 4"
   ]
  },
  {
   "cell_type": "code",
   "execution_count": null,
   "id": "4a460f3e",
   "metadata": {},
   "outputs": [],
   "source": [
    "#The number of bins \n",
    "m_bins = 2**n_qbits\n",
    "LowerLimit = 0.0\n",
    "UpperLimit = 1.0 \n",
    "\n",
    "X, p_X = get_histogram(p, LowerLimit, UpperLimit, m_bins)\n",
    "f_X = f(X)"
   ]
  },
  {
   "cell_type": "code",
   "execution_count": null,
   "id": "ccc4fbc6",
   "metadata": {},
   "outputs": [],
   "source": [
    "#Test condition in p(x)\n",
    "print('p(x) condition: {}'.format(np.sum(p_X) == 1))\n",
    "print('f(x) condition: {}'.format(np.max(f_X) <= 1))"
   ]
  },
  {
   "cell_type": "code",
   "execution_count": null,
   "id": "c59e7c73",
   "metadata": {},
   "outputs": [],
   "source": [
    "gon = Zalo(p_X, f_X)"
   ]
  },
  {
   "cell_type": "code",
   "execution_count": null,
   "id": "8db9f958",
   "metadata": {},
   "outputs": [],
   "source": [
    "gon"
   ]
  },
  {
   "cell_type": "code",
   "execution_count": null,
   "id": "157e3935",
   "metadata": {},
   "outputs": [],
   "source": []
  }
 ],
 "metadata": {
  "kernelspec": {
   "display_name": "Python [conda env:myqlm] *",
   "language": "python",
   "name": "conda-env-myqlm-py"
  },
  "language_info": {
   "codemirror_mode": {
    "name": "ipython",
    "version": 3
   },
   "file_extension": ".py",
   "mimetype": "text/x-python",
   "name": "python",
   "nbconvert_exporter": "python",
   "pygments_lexer": "ipython3",
   "version": "3.9.11"
  }
 },
 "nbformat": 4,
 "nbformat_minor": 5
}
