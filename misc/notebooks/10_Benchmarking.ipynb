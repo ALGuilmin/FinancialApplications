{
 "cells": [
  {
   "cell_type": "markdown",
   "id": "c3c573ed",
   "metadata": {},
   "source": [
    "# Black-Scholes"
   ]
  },
  {
   "cell_type": "markdown",
   "id": "ffa02964",
   "metadata": {},
   "source": [
    "## The problem\n",
    "\n",
    "We have a **financial asset** whose value at a time $t$ is $S(t)$. The volatility of the asset will be $\\sigma$, and the price of the asset at $t=0$ will be $S_0$. The **risk free rate** will be $r$. Under this considerations we are going to create a **financial product** based on the evolution of the underlying wich a definite duration time (**maturity**): $T$. This product will be characterized by its **return** that will be a function that will depends of the price of the underlying and of the *maturity*:  $f=f(S(t), T)$. The question is: **What is the price of our financial product at a time t when underlying is S(t): $V_f(S(t), t)$?**.\n",
    "\n",
    "So we have:\n",
    "\n",
    "* $S_0 = S(t=0)$ price of the underlying at t=0.\n",
    "* $\\sigma$ volatility of the underlying.\n",
    "* *Risk free rate*: $r$\n",
    "* Return of the financial product: $f=f(S(t), T)$.\n",
    "\n",
    "And we want:\n",
    "\n",
    "* $V_f(S(t), t)$\n"
   ]
  },
  {
   "cell_type": "markdown",
   "id": "b93ca766",
   "metadata": {},
   "source": [
    "## Black-Scholes Model\n",
    "\n",
    "One model for obtaining this $V_f(S(t), t)$ is the **Black-Scholes** which relies in the following assumptions:\n",
    "\n",
    "1. The underlying $S(t)$ follows a lognormal random walk.\n",
    "2. The risk-free interest rate $r$ is a known function of time $t$.\n",
    "3. There are no divindends on the underlying $S$\n",
    "4. Dynamic **delta Hedging** (risk elimination strategy)\n",
    "5. No arbitrage oppotunities.\n",
    "\n",
    "Under this condition the Black-Scholes equation relates underlying $S$ with the price of the financial product $V$:\n",
    "\n",
    "$$\\frac{\\partial V}{\\partial t}+\\frac{1}{2}\\sigma^2S^2\\frac{\\partial^2 V}{\\partial^2 S} + rS\\frac{\\partial V}{ \\partial S} - rV = 0$$"
   ]
  },
  {
   "cell_type": "markdown",
   "id": "2c0f15c9",
   "metadata": {},
   "source": [
    "## Price of financial product\n",
    "\n",
    "So far we have:\n",
    "\n",
    "1. Financial asset with value $S(t)$, volatility $\\sigma$, and risk free rate $r$\n",
    "2. Financial product over the Financial asset $S$ with a maturity $T$ and a return of $f=f(S(t), T)$\n",
    "\n",
    "The price of the financial product for $t$ and $S(t)$ that follows the **Black-Scholes** equation will be the expected value of the function $f$ over the **Black-Scholes** probability density:\n",
    "\n",
    "$$V(t, S(t)) = e^{r(T-t)} \\mathbb{E}_{P_{BS}}[f]$$\n",
    "\n",
    "Where the **Black-Scholes** is the probability density, $P_{BS}$, is given by:\n",
    "\n",
    "$$P_{BS} (S'; t, S(t)) = \\frac{1}{S'\\sigma\\sqrt{2\\pi(T-t)}}exp\\big({-\\frac{(\\log S' -\\mu)^2}{2\\sigma^2(T-t)}}\\big)$$\n",
    "\n",
    "and\n",
    "\n",
    "$$\\mu = (r-\\frac{1}{2}\\sigma^2)(T-t)+\\log S(t)$$\n",
    "\n",
    "\n",
    "The $P_{BS}$ give us the probability density of the underlying value at the maturity time $T$, $S'$, when for a time $t$ the underlaying have a value $S(t)$ (following the **Black-Scholes** equation).\n",
    "\n",
    "So the price of the financial product for $t$ and $S(t)$  will be:\n",
    "\n",
    "$$V(t, S(t))= e^{r(T-t)} \\mathbb{E}_{P_{BS}}[f] =  e^{r(T-t)} \\int_0^\\infty P_{BS} (S'; t, S(t)) f(S')dS'$$\n",
    "\n",
    "\n",
    "The *return* of the financial product at the maturity time is the **Payoff** of the product: $f(S') = Payoff(S')$."
   ]
  },
  {
   "cell_type": "code",
   "execution_count": null,
   "id": "81dcfb8e",
   "metadata": {},
   "outputs": [],
   "source": [
    "import sys\n",
    "sys.path.append(\"../../\")\n",
    "import numpy as np\n",
    "import pandas as pd\n",
    "import matplotlib.pyplot as plt\n"
   ]
  },
  {
   "cell_type": "code",
   "execution_count": null,
   "id": "19c99bab",
   "metadata": {},
   "outputs": [],
   "source": [
    "from QQuantLib.utils.utils import bs_probability, call_payoff"
   ]
  },
  {
   "cell_type": "code",
   "execution_count": null,
   "id": "4a5753cc",
   "metadata": {},
   "outputs": [],
   "source": [
    "bs_probability?"
   ]
  }
 ],
 "metadata": {
  "kernelspec": {
   "display_name": "Python [conda env:myqlm] *",
   "language": "python",
   "name": "conda-env-myqlm-py"
  },
  "language_info": {
   "codemirror_mode": {
    "name": "ipython",
    "version": 3
   },
   "file_extension": ".py",
   "mimetype": "text/x-python",
   "name": "python",
   "nbconvert_exporter": "python",
   "pygments_lexer": "ipython3",
   "version": "3.9.11"
  }
 },
 "nbformat": 4,
 "nbformat_minor": 5
}
