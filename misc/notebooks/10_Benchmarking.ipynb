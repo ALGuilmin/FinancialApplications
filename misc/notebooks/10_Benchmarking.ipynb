{
 "cells": [
  {
   "cell_type": "markdown",
   "id": "c3c573ed",
   "metadata": {},
   "source": [
    "# Black-Scholes"
   ]
  },
  {
   "cell_type": "markdown",
   "id": "ffa02964",
   "metadata": {},
   "source": [
    "## The problem\n",
    "\n",
    "We have a **financial asset** whose value at a time $t$ is $S(t)$. The volatility of the asset will be $\\sigma$. The **risk free rate** will be $r$. Under this considerations we are going to create a **financial product** based on the evolution of the underlying wich a definite duration time (**maturity**): $T$. This product will be characterized by its **return** that will be a function that will depends of the price of the underlying and of the *maturity*:  $f=f(S(t), T)$. The question is: **What is the price of our financial product at a time t when underlying is S(t): $V_f(S(t), t)$?**.\n",
    "\n",
    "So we have:\n",
    "\n",
    "* $S = S(t)$ price of the underlying at $t$.\n",
    "* $\\sigma$ volatility of the underlying.\n",
    "* *Risk free rate*: $r$\n",
    "* Return of the financial product: $f=f(S(t), T)$.\n",
    "\n",
    "And we want:\n",
    "\n",
    "* $V_f(S(t), t)$\n"
   ]
  },
  {
   "cell_type": "markdown",
   "id": "b93ca766",
   "metadata": {},
   "source": [
    "## Black-Scholes Model\n",
    "\n",
    "One model for obtaining this $V_f(S(t), t)$ is the **Black-Scholes** which relies in the following assumptions:\n",
    "\n",
    "1. The underlying $S(t)$ follows a lognormal random walk.\n",
    "2. The risk-free interest rate $r$ is a known function of time $t$.\n",
    "3. There are no divindends on the underlying $S$\n",
    "4. Dynamic **delta Hedging** (risk elimination strategy)\n",
    "5. No arbitrage oppotunities.\n",
    "\n",
    "Under this condition the Black-Scholes equation relates underlying $S$ with the price of the financial product $V$:\n",
    "\n",
    "$$\\frac{\\partial V}{\\partial t}+\\frac{1}{2}\\sigma^2S^2\\frac{\\partial^2 V}{\\partial^2 S} + rS\\frac{\\partial V}{ \\partial S} - rV = 0$$"
   ]
  },
  {
   "cell_type": "markdown",
   "id": "2c0f15c9",
   "metadata": {},
   "source": [
    "## Price of financial product\n",
    "\n",
    "So far we have:\n",
    "\n",
    "1. Financial asset with value $S(t)$, volatility $\\sigma$, and risk free rate $r$\n",
    "2. Financial product over the financial asset $S$ with a maturity $T$ and a return of $f=f(S(t), T)$\n",
    "\n",
    "Under the **Black-Scholes** equation, the value of our *financial product* at time $t$ and correspondient underlying $S(t)$ will be given by the following equation:\n",
    "\n",
    "$$V(t, S(t)) = e^{r(T-t)} \\mathbb{E}_{P_{BS}}[f(S_T)]$$\n",
    "\n",
    "Where \n",
    "\n",
    "* $S_T$ is the value of the underlying asset at the *maturity* time $T$.\n",
    "* $\\mathbb{E}_{P_{BS}}[f(S_T)]$ is the expected value of the return of the *financial product* at maturity time $T$ and asset value $S_T$ when $S_T$ follows a **Black-Scholes** probability density, $P_{BS}$.\n",
    "\n",
    "The **Black-Scholes** probability density, $P_{BS}$ is given by:\n",
    "\n",
    "$$P_{BS} (S_T; t, S(t)) = \\frac{1}{S_T\\sigma\\sqrt{2\\pi(T-t)}}exp\\big({-\\frac{(\\log S_T -\\mu)^2}{2\\sigma^2(T-t)}}\\big)$$\n",
    "\n",
    "and\n",
    "\n",
    "$$\\mu = (r-\\frac{1}{2}\\sigma^2)(T-t)+\\log S(t)$$\n",
    "\n",
    "The $P_{BS}$ give us the probability density of the underlying value at the maturity time $T$, $S_T$, when for a time $t$ the underlaying have a value $S(t)$ (following the **Black-Scholes** equation).\n",
    "\n",
    "So the price of the financial product for $t$ and $S(t)$  will be:\n",
    "\n",
    "$$V(t, S(t))= e^{r(T-t)} \\mathbb{E}_{P_{BS}}[f] =  e^{r(T-t)} \\int_0^\\infty P_{BS} (S_T; t, S(t)) f(S_T)dS_T$$\n",
    "\n",
    "\n",
    "The *return* of the financial product at the maturity time is the **Payoff** of the product: $f(S_T) = Payoff(S_T)$.\n",
    "\n"
   ]
  },
  {
   "cell_type": "markdown",
   "id": "5f522366",
   "metadata": {},
   "source": [
    "## Using Quantum Amplitude Amplification\n",
    "\n",
    "For calculating the price of the *financial product* at a time $t$ and an underlying $S(t)$ we need to compute the expectaction of a function $f(x)$ (the payoff) when x follows a distribution probability $p(x)$ (in the case of the *Black-Scholes* this will be the **Black-Scholes** probability density):\n",
    "\n",
    "$$\\mathbb{E}[f]=\\int_a^bp(x)f(x)dx$$\n",
    "\n",
    "As explained in other Notebooks we can use the *Quantum Amplification Amplitud* algorithm for calculating this value. In these Notebook we are going to use the different algorithms for computing this value for several *financial products* (for different $f(x)$ functions).\n"
   ]
  },
  {
   "cell_type": "code",
   "execution_count": null,
   "id": "81dcfb8e",
   "metadata": {},
   "outputs": [],
   "source": [
    "import sys\n",
    "sys.path.append(\"../../\")\n",
    "import numpy as np\n",
    "import pandas as pd\n",
    "import matplotlib.pyplot as plt\n",
    "import qat.lang.AQASM as qlm\n",
    "from copy import deepcopy"
   ]
  },
  {
   "cell_type": "code",
   "execution_count": null,
   "id": "df0a9614",
   "metadata": {},
   "outputs": [],
   "source": [
    "#This cell loads the QLM solver.\n",
    "#QLMaaS == False -> uses PyLinalg\n",
    "#QLMaaS == True -> try to use LinAlg (for using QPU as CESGA QLM one)\n",
    "from QQuantLib.utils.qlm_solver import get_qpu\n",
    "QLMaaS = False\n",
    "linalg_qpu = get_qpu(QLMaaS)"
   ]
  },
  {
   "cell_type": "markdown",
   "id": "ec4d1306",
   "metadata": {},
   "source": [
    "## 1. European Vanilla Call Option\n",
    "\n",
    "A Vanilla European Call Option is financial product which allows the holder to buy an underlying asset S at a maturity time $T$ at a fixed price $K$ (**strike**) independetly of the value of $S_T$. The return of this option at a time $t$ is:\n",
    "\n",
    "$$f(t, K) = \\max(0, S(t)-K)$$\n",
    "\n",
    "And the final payoff (the return at the maturity time $T$) will be:\n",
    "\n",
    "$$Payoff(S_T)= \\max(0, S_T-K)$$\n",
    "\n",
    "Under the *Black-Scholes* probability density, a asset volatility $\\sigma$ and free risk-rate $r$ the price of a call option at $t=0$ and $S(t=0)=S_0$ will be:\n",
    "\n",
    "$$V(S_0)=  e^{rT} \\int_0^\\infty P_{BS} (S_T; S_0) Payoff(S_T)dS_T$$\n",
    "\n",
    "where\n",
    "\n",
    "$$P_{BS} (S_T; S_0) = \\frac{1}{S_T\\sigma\\sqrt{2\\pi T}}exp\\big({-\\frac{(\\log S_T -\\mu)^2}{2\\sigma^2 T}}\\big)$$\n",
    "\n",
    "and \n",
    "$$\\mu = (r-\\frac{1}{2}\\sigma^2)T+\\log S_0$$\n",
    "\n",
    "\n",
    "We are going to use our different *Quantum Amplitude Amplification* (**QAA**) algorithms to calculate $V(S_0)$ and compare between them and with the classical soltuion (see Below).\n",
    "\n",
    "We are going to use the functions *bs_probability* and *call_payoff* from **QQuantLib/utils/utils** module for the **Black-Scholes** probability density and the return of the Vanilla European Call option respectively"
   ]
  },
  {
   "cell_type": "code",
   "execution_count": null,
   "id": "19c99bab",
   "metadata": {},
   "outputs": [],
   "source": [
    "from QQuantLib.utils.utils import bs_probability, call_payoff"
   ]
  },
  {
   "cell_type": "code",
   "execution_count": null,
   "id": "4a5753cc",
   "metadata": {},
   "outputs": [],
   "source": [
    "#Parameters of out model\n",
    "S0 = 2\n",
    "r = 0.04\n",
    "sigma = 0.1\n",
    "#Maturity of the call option \n",
    "T = 300/365 #300 days\n",
    "#Strike\n",
    "K = 1.9"
   ]
  },
  {
   "cell_type": "code",
   "execution_count": null,
   "id": "d0cb0222",
   "metadata": {},
   "outputs": [],
   "source": [
    "n_qbits = 3\n",
    "x = np.linspace(1,3,2**n_qbits)\n",
    "prob_bs = bs_probability(x,S0,r,sigma,T)\n",
    "payoff_call = call_payoff(x, K)"
   ]
  },
  {
   "cell_type": "code",
   "execution_count": null,
   "id": "b6a38512",
   "metadata": {},
   "outputs": [],
   "source": [
    "#Black-Scholes Probability density\n",
    "plt.plot(x, prob_bs)\n",
    "plt.xlabel(r'$S_T$')\n",
    "plt.ylabel(r'$P(S_T, S_0)$')\n",
    "plt.title(r'Black-Scholes Probability density. r= {} $\\sigma$= {}. $S_0$= {}'.format(r, sigma, S0))"
   ]
  },
  {
   "cell_type": "code",
   "execution_count": null,
   "id": "db6e3744",
   "metadata": {},
   "outputs": [],
   "source": [
    "#European Call Option Payoff\n",
    "plt.plot(x, payoff_call)\n",
    "plt.xlabel(r'$S_T$')\n",
    "plt.ylabel(r'$Payoff(S_T, S_0)$')\n",
    "plt.title(r'European Call Option Payoff. K= {}'.format(K))"
   ]
  },
  {
   "cell_type": "markdown",
   "id": "dfa1ffb1",
   "metadata": {},
   "source": [
    "The value for an European Call Option under the **Black-Scholes** model has an exact solution:\n",
    " \n",
    "$$V(S(t), t)= S(t)*\\Phi(d_1)-Ke^{-r*(T-t)}\\Phi(d_2)$$\n",
    " \n",
    "where:\n",
    "\n",
    "$$d_1 = \\frac{log(\\frac{S(t)}{K})+(r+\\frac{1}{2}\\sigma^2)(T-t)}{\\sigma\\sqrt{T-t}}$$\n",
    "$$d_2 = \\frac{log(\\frac{S(t)}{K})+(r-\\frac{1}{2}\\sigma^2)(T-t)}{\\sigma\\sqrt{T-t}}$$\n",
    "$$\\Phi(x)=\\frac{1}{\\sqrt{2\\pi}}\\int_{-\\infty}^{x} e^{\\frac{-1}{2}\\phi^2}d\\phi$$\n",
    "\n",
    "The *bs_call_price* function from **QQuantLib/utils/utils** module implements the price of a European Call Option. The inputs of the function will be:\n",
    "\n",
    "* $S_0$\n",
    "* Risk free rate: $r$\n",
    "* Volatility $\\sigma$\n",
    "* Maturity: $T$\n",
    "* Strike $K$"
   ]
  },
  {
   "cell_type": "code",
   "execution_count": null,
   "id": "1741f061",
   "metadata": {},
   "outputs": [],
   "source": [
    "from QQuantLib.utils.utils import bs_call_price, test_bins"
   ]
  },
  {
   "cell_type": "code",
   "execution_count": null,
   "id": "a6b53494",
   "metadata": {},
   "outputs": [],
   "source": [
    "classical_price_estimation = np.exp(-r*T)*np.dot(prob_bs,payoff_call)\n",
    "print('classical_price_estimation: ', classical_price_estimation)\n",
    "exact_price = bs_call_price(S0,r,sigma,T,K)\n",
    "print('exact_price: ', exact_price)"
   ]
  },
  {
   "cell_type": "code",
   "execution_count": null,
   "id": "3ad6fbc3",
   "metadata": {},
   "outputs": [],
   "source": [
    "np.dot(prob_bs,payoff_call)"
   ]
  },
  {
   "cell_type": "markdown",
   "id": "42375def",
   "metadata": {},
   "source": [
    "## Quantum Staff\n",
    "\n",
    "For using the different **QAA** algorithms of the **QQuantLib** first thing we allways need (see Notebooks 03_MaximumLikelihood_Class.ipynb, 04_PhaseEstimationwitQFT_Class.ipynb, 05_Iterative_QPE_Class.ipynb and 07_IQAE_RQAE.ipynb) is an oracle where the probability and the return function are loaded.\n",
    "\n",
    "For creating this oracle we use *load_probability* and *load_array* functions from **QQuantLib/DL/data_loading**\n"
   ]
  },
  {
   "cell_type": "code",
   "execution_count": null,
   "id": "af3380d1",
   "metadata": {},
   "outputs": [],
   "source": [
    "from QQuantLib.DL.data_loading import load_probability, load_array, uniform_distribution"
   ]
  },
  {
   "cell_type": "markdown",
   "id": "d8c567c9",
   "metadata": {},
   "source": [
    "It is mandatory that $p(x)$ and $f(x)$ were properly normalized. Following conditions should be fullfilled:\n",
    "\n",
    "* For $p(x)$ is mandatory that: $\\sum_{i=0}^{2^{n}} p(x_i) = 1$\n",
    "* For $f(x)$ is mandatory that: $f(x_i) \\leq 1 \\forall i$"
   ]
  },
  {
   "cell_type": "code",
   "execution_count": null,
   "id": "4aed3a9d",
   "metadata": {},
   "outputs": [],
   "source": [
    "#Test condition in p(x)\n",
    "print('p(x) condition: {}'.format(np.isclose(np.sum(prob_bs),1.0)))\n",
    "print('f(x) condition: {}'.format(np.max(payoff_call) <= 1))"
   ]
  },
  {
   "cell_type": "code",
   "execution_count": null,
   "id": "f8df15be",
   "metadata": {},
   "outputs": [],
   "source": [
    "#we need to normalize payoff_call\n",
    "\n",
    "payoff_call_nomalised = payoff_call/np.max(payoff_call)\n",
    "print('f(x) condition: {}'.format(np.max(payoff_call_nomalised) <= 1))"
   ]
  },
  {
   "cell_type": "code",
   "execution_count": null,
   "id": "a4171029",
   "metadata": {},
   "outputs": [],
   "source": [
    "#Now we can create the Oracle\n",
    "def prob_density_oracle(probability, function_array):\n",
    "    p_gate = load_probability(probability)\n",
    "    f_gate = load_array(function_array)\n",
    "    oracle = qlm.QRoutine()\n",
    "    register = oracle.new_wires(f_gate.arity)\n",
    "    oracle.apply(p_gate, register[:p_gate.arity])\n",
    "    oracle.apply(f_gate, register)\n",
    "    return oracle\n",
    "\n",
    "def func_density_oracle(probability, function_array):\n",
    "    n_qbits = test_bins(probability)\n",
    "    oracle = qlm.QRoutine()\n",
    "    register = oracle.new_wires(n_qbits+2)\n",
    "    oracle.apply(\n",
    "        uniform_distribution(n_qbits), \n",
    "        register[:n_qbits]\n",
    "    )\n",
    "    #Load probability as an array   \n",
    "    p_gate = load_array(probability, id_name = \"probability\")\n",
    "    #Load function as an array\n",
    "    f_gate = load_array(function_array, id_name = \"payoff\")\n",
    "    oracle.apply(p_gate, [register[:n_qbits], register[n_qbits]])\n",
    "    oracle.apply(f_gate, [register[:n_qbits], register[n_qbits+1]])\n",
    "    oracle.apply(\n",
    "        uniform_distribution(n_qbits), \n",
    "        register[:n_qbits]\n",
    "    )    \n",
    "    return oracle"
   ]
  },
  {
   "cell_type": "code",
   "execution_count": null,
   "id": "bb324af5",
   "metadata": {},
   "outputs": [],
   "source": [
    "oracle_prob = prob_density_oracle(prob_bs, np.sqrt(payoff_call_nomalised))\n",
    "oracle_func = func_density_oracle(prob_bs, payoff_call_nomalised)"
   ]
  },
  {
   "cell_type": "code",
   "execution_count": null,
   "id": "befc88d9",
   "metadata": {},
   "outputs": [],
   "source": [
    "#Load Probabilities\n",
    "print('Load probability in the state')\n",
    "%qatdisplay oracle_prob --svg\n",
    "#Load probability as a function\n",
    "print('Load probability in the function')\n",
    "%qatdisplay oracle_func --svg --depth 2"
   ]
  },
  {
   "cell_type": "markdown",
   "id": "7829ec22",
   "metadata": {},
   "source": [
    "Additionally we need to provide what will be the target and the index of the qbits where the Grover operator will be applied"
   ]
  },
  {
   "cell_type": "code",
   "execution_count": null,
   "id": "81211156",
   "metadata": {},
   "outputs": [],
   "source": [
    "target = [0]\n",
    "index = [oracle.arity-1]"
   ]
  },
  {
   "cell_type": "code",
   "execution_count": null,
   "id": "a974bdb0",
   "metadata": {},
   "outputs": [],
   "source": [
    "%qatdisplay oracle"
   ]
  },
  {
   "cell_type": "markdown",
   "id": "483d66ad",
   "metadata": {},
   "source": [
    "We are going to solve the expected value problem using:\n",
    "\n",
    "1. Maximum Likelihood method.\n",
    "2. Classical QPE with QFT (AE_PhaseEstimationwQFT)\n",
    "3. Iterative QPE\n",
    "4. Iterative QAE\n",
    "5. RQAE"
   ]
  },
  {
   "cell_type": "markdown",
   "id": "34e50dee",
   "metadata": {},
   "source": [
    "### Maximum Likelihood"
   ]
  },
  {
   "cell_type": "code",
   "execution_count": null,
   "id": "41cd85a3",
   "metadata": {},
   "outputs": [],
   "source": [
    "from QQuantLib.AE.maximum_likelihood_ae import MLAE"
   ]
  },
  {
   "cell_type": "code",
   "execution_count": null,
   "id": "3043e53c",
   "metadata": {},
   "outputs": [],
   "source": [
    "mlae_dict = {\n",
    "    'qpu': linalg_qpu,\n",
    "}\n",
    "\n",
    "mlae_density = MLAE(\n",
    "    deepcopy(oracle_prob),\n",
    "    target = [0],\n",
    "    index = [oracle_prob.arity-1], \n",
    "    **mlae_dict\n",
    ")\n",
    "mlae_density.schedule = [2**np.arange(10), [100 for i in np.arange(10)]]\n",
    "\n",
    "\n",
    "mlae_function = MLAE(\n",
    "    deepcopy(oracle_func),\n",
    "    target = [0 for i in range(oracle_func.arity)],\n",
    "    index = np.arange(oracle_func.arity), \n",
    "    **mlae_dict\n",
    ")"
   ]
  },
  {
   "cell_type": "code",
   "execution_count": null,
   "id": "07f9c528",
   "metadata": {},
   "outputs": [],
   "source": [
    "np.arange(oracle_func.arity)"
   ]
  },
  {
   "cell_type": "code",
   "execution_count": null,
   "id": "758ab2f9",
   "metadata": {},
   "outputs": [],
   "source": [
    "[0 for i in range(oracle_func.arity)]"
   ]
  },
  {
   "cell_type": "code",
   "execution_count": null,
   "id": "8045cb42",
   "metadata": {},
   "outputs": [],
   "source": [
    "[i for i in range(oracle_func.arity)]"
   ]
  },
  {
   "cell_type": "code",
   "execution_count": null,
   "id": "f23497e7",
   "metadata": {},
   "outputs": [],
   "source": [
    "c=mlae_density._grover_oracle\n",
    "%qatdisplay c --depth 1\n",
    "c=mlae_function._grover_oracle\n",
    "%qatdisplay c --depth 2"
   ]
  },
  {
   "cell_type": "code",
   "execution_count": null,
   "id": "9f7f921d",
   "metadata": {},
   "outputs": [],
   "source": [
    "a_mlae_function = mlae_function.run()\n",
    "a_mlae_density = mlae_density.run()"
   ]
  },
  {
   "cell_type": "code",
   "execution_count": null,
   "id": "16917348",
   "metadata": {},
   "outputs": [],
   "source": [
    "print('a_mlae_function: ', a_mlae_function*np.max(payoff_call)**2)\n",
    "print('a_mlae_density: ', np.exp(-r*T)*a_mlae_density*np.max(payoff_call))"
   ]
  },
  {
   "cell_type": "code",
   "execution_count": null,
   "id": "af1e605f",
   "metadata": {},
   "outputs": [],
   "source": [
    "a_mlae_function"
   ]
  },
  {
   "cell_type": "code",
   "execution_count": null,
   "id": "225178f3",
   "metadata": {},
   "outputs": [],
   "source": [
    "a_mlae_density"
   ]
  },
  {
   "cell_type": "code",
   "execution_count": null,
   "id": "0975ee6c",
   "metadata": {},
   "outputs": [],
   "source": [
    "x=np.linspace(0, np.pi/2.0, 100)\n",
    "plt.plot(x, mlae_function.partial_cost_function(x))"
   ]
  },
  {
   "cell_type": "code",
   "execution_count": null,
   "id": "fe50f3f6",
   "metadata": {},
   "outputs": [],
   "source": [
    "mlae_function.h_k"
   ]
  },
  {
   "cell_type": "code",
   "execution_count": null,
   "id": "8f8b0664",
   "metadata": {},
   "outputs": [],
   "source": [
    "mlae_density.h_k"
   ]
  },
  {
   "cell_type": "code",
   "execution_count": null,
   "id": "c7837bf7",
   "metadata": {},
   "outputs": [],
   "source": [
    "a_mlae_2 = np.exp(-r*T)*a_mlae**np.max(payoff_call)\n",
    "\n",
    "print('a_mlae: ', a_mlae)"
   ]
  },
  {
   "cell_type": "code",
   "execution_count": null,
   "id": "4c01367b",
   "metadata": {},
   "outputs": [],
   "source": [
    " np.exp(-r*T)"
   ]
  },
  {
   "cell_type": "markdown",
   "id": "e1b34fab",
   "metadata": {},
   "source": [
    "### Classical QPE with QFT"
   ]
  },
  {
   "cell_type": "code",
   "execution_count": null,
   "id": "1c174289",
   "metadata": {},
   "outputs": [],
   "source": [
    "from QQuantLib.PE.phase_estimation_wqft import PE_QFT_AE"
   ]
  },
  {
   "cell_type": "code",
   "execution_count": null,
   "id": "0e462530",
   "metadata": {},
   "outputs": [],
   "source": [
    "ae_pe_withQFT_dict = {\n",
    "    'qpu': linalg_qpu,\n",
    "    'auxiliar_qbits_number': 4,\n",
    "    'shots': 10\n",
    "}\n",
    "\n",
    "ae_pe_withQFT = PE_QFT_AE(\n",
    "    oracle=deepcopy(oracle),\n",
    "    target=target,\n",
    "    index=index, \n",
    "    **ae_pe_withQFT_dict\n",
    ")"
   ]
  },
  {
   "cell_type": "code",
   "execution_count": null,
   "id": "eb61ec29",
   "metadata": {},
   "outputs": [],
   "source": [
    "ae_pe_withQFT.run()"
   ]
  },
  {
   "cell_type": "markdown",
   "id": "d4de579e",
   "metadata": {},
   "source": [
    "### Iterative QPE"
   ]
  },
  {
   "cell_type": "code",
   "execution_count": null,
   "id": "a322aa64",
   "metadata": {},
   "outputs": [],
   "source": [
    "from QQuantLib.PE.iterative_quantum_pe import IQPE_AE"
   ]
  },
  {
   "cell_type": "code",
   "execution_count": null,
   "id": "9bd9e5de",
   "metadata": {},
   "outputs": [],
   "source": [
    "ae_pe_iqpe_dict = {\n",
    "    'qpu': linalg_qpu,\n",
    "    'cbits_number': 4,\n",
    "    'shots': 10\n",
    "}\n",
    "\n",
    "ae_pe_iqpe = IQPE_AE(\n",
    "    oracle=deepcopy(oracle),\n",
    "    target=target,\n",
    "    index=index, \n",
    "    **ae_pe_iqpe_dict\n",
    ")"
   ]
  },
  {
   "cell_type": "code",
   "execution_count": null,
   "id": "f49fdee1",
   "metadata": {},
   "outputs": [],
   "source": [
    "ae_pe_iqpe.run()"
   ]
  },
  {
   "cell_type": "markdown",
   "id": "d2d9a2d3",
   "metadata": {},
   "source": [
    "### Iterative QAE"
   ]
  },
  {
   "cell_type": "code",
   "execution_count": null,
   "id": "022f24cf",
   "metadata": {},
   "outputs": [],
   "source": [
    "from QQuantLib.AE.iterative_quantum_ae import IQAE"
   ]
  },
  {
   "cell_type": "code",
   "execution_count": null,
   "id": "cb1872df",
   "metadata": {},
   "outputs": [],
   "source": [
    "epsilon = 0.001\n",
    "N = 100\n",
    "alpha = 0.05\n",
    "\n",
    "iqae_dict = {\n",
    "    'epsilon': epsilon,\n",
    "    'N': N,\n",
    "    'alpha': alpha\n",
    "}\n",
    "\n",
    "iqae = IQAE(\n",
    "    oracle=deepcopy(oracle), \n",
    "    target = target, \n",
    "    index = index, \n",
    "    **iqae_dict\n",
    ")"
   ]
  },
  {
   "cell_type": "code",
   "execution_count": null,
   "id": "35757032",
   "metadata": {},
   "outputs": [],
   "source": [
    "iqae.run()"
   ]
  },
  {
   "cell_type": "markdown",
   "id": "85955ce2",
   "metadata": {},
   "source": [
    "### RQAE"
   ]
  },
  {
   "cell_type": "code",
   "execution_count": null,
   "id": "e6f88587",
   "metadata": {},
   "outputs": [],
   "source": [
    "from QQuantLib.AE.real_quantum_ae import RQAE"
   ]
  },
  {
   "cell_type": "code",
   "execution_count": null,
   "id": "29a908e4",
   "metadata": {},
   "outputs": [],
   "source": [
    "rqae = RQAE(\n",
    "    oracle=deepcopy(oracle), \n",
    "    target = target, \n",
    "    index = index, \n",
    ")    "
   ]
  },
  {
   "cell_type": "code",
   "execution_count": null,
   "id": "b2d6e791",
   "metadata": {},
   "outputs": [],
   "source": [
    "rqae.run()"
   ]
  },
  {
   "cell_type": "code",
   "execution_count": null,
   "id": "9e762864",
   "metadata": {},
   "outputs": [],
   "source": [
    "#Now we can create the Oracle\n",
    "\n",
    "h_gate = uniform_distribution()\n",
    "f_gate = load_array(np.sqrt(payoff_call_nomalised))\n",
    "oracle = qlm.QRoutine()\n",
    "register = oracle.new_wires(f_gate.arity)\n",
    "oracle.apply(p_gate, register[:p_gate.arity])\n",
    "oracle.apply(f_gate, register)"
   ]
  },
  {
   "cell_type": "code",
   "execution_count": null,
   "id": "b31da0bd",
   "metadata": {},
   "outputs": [],
   "source": [
    "oracle3 = qlm.QRoutine()\n",
    "register3 = oracle3.new_wires(n_qbits+2)\n",
    "oracle3.apply(uniform_distribution(n), n_qbits)\n",
    "\n",
    "p_gate = load_array(prob_bs)\n",
    "f_gate = load_array(payoff_call_nomalised)"
   ]
  }
 ],
 "metadata": {
  "kernelspec": {
   "display_name": "Python [conda env:myqlm] *",
   "language": "python",
   "name": "conda-env-myqlm-py"
  },
  "language_info": {
   "codemirror_mode": {
    "name": "ipython",
    "version": 3
   },
   "file_extension": ".py",
   "mimetype": "text/x-python",
   "name": "python",
   "nbconvert_exporter": "python",
   "pygments_lexer": "ipython3",
   "version": "3.9.11"
  }
 },
 "nbformat": 4,
 "nbformat_minor": 5
}
