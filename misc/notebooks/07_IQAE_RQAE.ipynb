{
 "cells": [
  {
   "cell_type": "markdown",
   "id": "7a9496d2",
   "metadata": {},
   "source": [
    "# RQAE and IQAE"
   ]
  },
  {
   "cell_type": "markdown",
   "id": "7d6cb636",
   "metadata": {},
   "source": [
    "Present notebook reviews the **Iterative Quantum Amplitude Estimation** (**MLAE**) and **Real Quantum Amplitude Estimation** (RQAE) algorithms which were implemented into the modules *iterative_quantum_ae* and *real_quantum_ae* respectively within the package *AE* of library *QQuantLib* (**QQuantLib/AE/iterative_quantum_ae.py** and **real_quantum_ae**). "
   ]
  },
  {
   "cell_type": "markdown",
   "id": "bcf02895",
   "metadata": {},
   "source": [
    "Present notebook and modules are based on the following references:\n",
    "\n",
    "* *Grinko, D., Gacon, J., Zoufal, C. & Woerner, S.*. Iterative Quantum Amplitude Estimation. npj Quantum Information 7, 2021. https://www.nature.com/articles/s41534-021-00379-1\n",
    "\n",
    "* *Manzano, A., Musso, D., Leitao, A., Gómez, A., Vázquez, C., Nogueiras, M. & Ordóñez, G.*. Real Quantum Amplitude Estimation. Preprint."
   ]
  },
  {
   "cell_type": "code",
   "execution_count": 1,
   "id": "404b8ec1",
   "metadata": {},
   "outputs": [],
   "source": [
    "import sys\n",
    "sys.path.append(\"../../\")"
   ]
  },
  {
   "cell_type": "code",
   "execution_count": 2,
   "id": "490d094b",
   "metadata": {},
   "outputs": [],
   "source": [
    "import numpy as np\n",
    "import pandas as pd\n",
    "import matplotlib.pyplot as plt\n",
    "import qat.lang.AQASM as qlm"
   ]
  },
  {
   "cell_type": "code",
   "execution_count": 3,
   "id": "21276b3d",
   "metadata": {},
   "outputs": [],
   "source": [
    "%matplotlib inline"
   ]
  },
  {
   "cell_type": "code",
   "execution_count": 4,
   "id": "34403ec1",
   "metadata": {},
   "outputs": [
    {
     "name": "stdout",
     "output_type": "stream",
     "text": [
      "Using PyLinalg\n"
     ]
    }
   ],
   "source": [
    "#This cell loads the QLM solver.\n",
    "#QLMaaS == False -> uses PyLinalg\n",
    "#QLMaaS == True -> try to use LinAlg (for using QPU as CESGA QLM one)\n",
    "from QQuantLib.utils.qlm_solver import get_qpu\n",
    "QLMaaS = False\n",
    "linalg_qpu = get_qpu(QLMaaS)"
   ]
  },
  {
   "cell_type": "code",
   "execution_count": 5,
   "id": "3453cf5d",
   "metadata": {},
   "outputs": [],
   "source": [
    "#See 01_DataLoading_Module_Use for the use of this function\n",
    "from QQuantLib.utils.data_extracting import get_results\n",
    "from QQuantLib.utils.utils import bitfield_to_int"
   ]
  },
  {
   "cell_type": "markdown",
   "id": "55146c4c",
   "metadata": {},
   "source": [
    "## 1. Oracle generation"
   ]
  },
  {
   "cell_type": "markdown",
   "id": "71279f09",
   "metadata": {},
   "source": [
    "Before doing any amplitude estimation we want to load some data into the quantum circuit, as this step is only auxiliary to see how the algorithm works, we are just going to load a discrete probability distribution. In this case we will have a circuit with $n=3$ qubits which makes a total of $N = 2^n = 8$ states. The discrete probability distribution that we are going to load is:\n",
    "$$p_d = \\dfrac{(0,1,2,3,4,5,6,7)}{0+1+2+3+4+5+6+7+8}.$$\n"
   ]
  },
  {
   "cell_type": "code",
   "execution_count": 6,
   "id": "d0b21bcf",
   "metadata": {},
   "outputs": [],
   "source": [
    "n = 3\n",
    "N = 2**n\n",
    "x = np.arange(N)\n",
    "probability = x/np.sum(x)"
   ]
  },
  {
   "cell_type": "markdown",
   "id": "716492db",
   "metadata": {},
   "source": [
    "Note that this probability distribution is properly normalised. For loading this probability into the quantum circuit we will use the function *load_probability* from **QQuantLib/DL/data_loading** module. The state that we are going to get is:\n",
    "    $$|\\Psi\\rangle = \\scriptstyle \\dfrac{1}{\\sqrt{0+1+2+3+4+5+6+7+8}}\\left[\\sqrt{0}|0\\rangle+\\sqrt{1}|1\\rangle+\\sqrt{2}|2\\rangle+\\sqrt{3}|3\\rangle+\\sqrt{4}|4\\rangle+\\sqrt{5}|5\\rangle+\\sqrt{6}|6\\rangle+\\sqrt{7}|7\\rangle\\right].$$"
   ]
  },
  {
   "cell_type": "code",
   "execution_count": 7,
   "id": "b05056d1",
   "metadata": {},
   "outputs": [],
   "source": [
    "from QQuantLib.DL.data_loading import load_probability"
   ]
  },
  {
   "cell_type": "code",
   "execution_count": 8,
   "id": "aab2e90d",
   "metadata": {},
   "outputs": [],
   "source": [
    "oracle = load_probability(probability)"
   ]
  },
  {
   "cell_type": "markdown",
   "id": "08b1fdf8",
   "metadata": {},
   "source": [
    "For more information about loading data into the quantum circuit see the notebook *01_DataLoading_Module_Use*."
   ]
  },
  {
   "cell_type": "markdown",
   "id": "a08e43a5",
   "metadata": {},
   "source": [
    "## 2. IQAE class."
   ]
  },
  {
   "cell_type": "markdown",
   "id": "c977b4c6",
   "metadata": {},
   "source": [
    "The problem of amplitude estimation is the following. Given an oracle:\n",
    "\n",
    "$$\\mathcal{0}|0\\rangle = |\\Psi\\rangle = \\sqrt{a}|\\Psi_0\\rangle +\\sqrt{1-a}|\\Psi_1\\rangle,$$\n",
    "\n",
    "where $|\\Psi_0\\rangle$ and $|\\Psi_1\\rangle$ are orthogonal states, we want to estimate $a$.\n",
    "\n",
    "We have implemented and python class called **IQAE** into the **QQuantLib/AE/iterative_quantum_ae** module that allows us to use the **IQAE** algorithm."
   ]
  },
  {
   "cell_type": "markdown",
   "id": "f8722ea5",
   "metadata": {},
   "source": [
    "### Definition of the problem"
   ]
  },
  {
   "cell_type": "code",
   "execution_count": 9,
   "id": "3de946b0",
   "metadata": {},
   "outputs": [],
   "source": [
    "#import the class\n",
    "from QQuantLib.AE.iterative_quantum_ae import IQAE"
   ]
  },
  {
   "cell_type": "markdown",
   "id": "d94f4a5d",
   "metadata": {},
   "source": [
    "For showing how our class and the algorithm works, we will define the following amplitude estimation problem:\n",
    "$$\n",
    "    \\begin{array}{l}\n",
    "    &\\mathcal{O}\\longrightarrow \\mathcal{P}.\\\\\n",
    "    & |\\Psi\\rangle \\longrightarrow \\scriptstyle \\dfrac{1}{\\sqrt{0+1+2+3+4+5+6+7+8}}\\left[\\sqrt{0}|0\\rangle+\\sqrt{1}|1\\rangle+\\sqrt{2}|2\\rangle+\\sqrt{3}|3\\rangle+\\sqrt{4}|4\\rangle+\\sqrt{5}|5\\rangle+\\sqrt{6}|6\\rangle+\\sqrt{7}|7\\rangle\\right].\\\\\n",
    "    & \\sqrt{a}|\\Psi_0\\rangle \\longrightarrow \\dfrac{\\sqrt{1}}{\\sqrt{0+1+2+3+4+5+6+7+8}}|1\\rangle.\\\\\n",
    "    & \\sqrt{1-a}|\\Psi_1\\rangle \\longrightarrow \\scriptstyle \\dfrac{1}{\\sqrt{0+1+2+3+4+5+6+7+8}}\\left[\\sqrt{0}|0\\rangle+\\sqrt{2}|2\\rangle+\\sqrt{3}|3\\rangle+\\sqrt{4}|4\\rangle+\\sqrt{5}|5\\rangle+\\sqrt{6}|6\\rangle+\\sqrt{7}|7\\rangle\\right].\\\\\n",
    "    \\end{array}\n",
    "$$\n",
    "The target state, in this case is $|1\\rangle$. It's binary representation is $001$. This has to be passed to the target variable as a list. Moreover we have to provide the list of qubits where we are acting, in this case is just $[0,1,2]$, the whole register."
   ]
  },
  {
   "cell_type": "code",
   "execution_count": 10,
   "id": "b69dc476",
   "metadata": {},
   "outputs": [],
   "source": [
    "target = [0,0,1]\n",
    "index = [0,1,2]\n",
    "a = probability[bitfield_to_int(target)]\n",
    "\n",
    "iqae = IQAE(oracle,target = target,index = [0,1,2])"
   ]
  },
  {
   "cell_type": "markdown",
   "id": "f72b5b48",
   "metadata": {},
   "source": [
    "### Execution"
   ]
  },
  {
   "cell_type": "markdown",
   "id": "77776ef4",
   "metadata": {},
   "source": [
    "The only relevant methods for the end user are *run* and *display_information*. First, the method *run* returns an upper and lower bound estimates of the probability $a$: $(a_{\\min},a_{\\max})$. The output is in the form of a list. The function has three inputs:\n",
    "* epsilon: the precision. Ensures that the width of the interval is, at most, $2\\epsilon$.\n",
    "* N: the number of shots on each iteration of the algorithm.\n",
    "* alpha: the accuracy. Ensures that the probability of $a$ not laying within the given interval is, at most, $\\alpha$."
   ]
  },
  {
   "cell_type": "code",
   "execution_count": 11,
   "id": "f710918a",
   "metadata": {},
   "outputs": [],
   "source": [
    "epsilon = 0.001\n",
    "N = 100\n",
    "alpha = 0.05\n",
    "bounds = iqae.run(epsilon = epsilon,N = N, alpha = alpha)"
   ]
  },
  {
   "cell_type": "markdown",
   "id": "983af2f4",
   "metadata": {},
   "source": [
    "Now we will check weather the real value of $a$ lays within the bounds. Most of the times (at least with 95% in this case) it will be the case."
   ]
  },
  {
   "cell_type": "code",
   "execution_count": 12,
   "id": "40ffa39d",
   "metadata": {},
   "outputs": [
    {
     "name": "stdout",
     "output_type": "stream",
     "text": [
      "Bounds:  [0.03546125490577309, 0.036182217734121]\n",
      "Real value:  0.03571428571428571\n"
     ]
    }
   ],
   "source": [
    "print(\"Bounds: \",bounds)\n",
    "print(\"Real value: \",a)"
   ]
  },
  {
   "cell_type": "code",
   "execution_count": 13,
   "id": "1da7c199",
   "metadata": {},
   "outputs": [
    {
     "name": "stdout",
     "output_type": "stream",
     "text": [
      "Correct\n"
     ]
    }
   ],
   "source": [
    "if (a>=bounds[0])&(a<=bounds[1]):\n",
    "    print(\"Correct\")\n",
    "else:\n",
    "    print(\"Incorrect\")"
   ]
  },
  {
   "cell_type": "markdown",
   "id": "6449e115",
   "metadata": {},
   "source": [
    "Second, the method *display_information* displays some informamtion of the inner workings of the method. The function has the same three inputs as in the previous case."
   ]
  },
  {
   "cell_type": "code",
   "execution_count": 14,
   "id": "2431ecc1",
   "metadata": {},
   "outputs": [
    {
     "name": "stdout",
     "output_type": "stream",
     "text": [
      "-------------------------------------------------------------\n",
      "Maximum number of rounds:  9\n",
      "Maximum number of shots per round needed:  618\n",
      "Maximum number of amplifications:  333\n",
      "Maximum number of calls to the oracle:  297622\n",
      "-------------------------------------------------------------\n"
     ]
    }
   ],
   "source": [
    "iqae.display_information(epsilon = epsilon,N = N, alpha = alpha)"
   ]
  },
  {
   "cell_type": "markdown",
   "id": "208218b4",
   "metadata": {},
   "source": [
    "## 3. RQAE class"
   ]
  },
  {
   "cell_type": "markdown",
   "id": "e82c9c6e",
   "metadata": {},
   "source": [
    "The new problem of amplitude estimation is the following. Given an oracle:\n",
    "\n",
    "$$\\mathcal{0}|0\\rangle = |\\Psi\\rangle = a|\\Psi_0\\rangle +\\sqrt{1-a^2}|\\Psi_1\\rangle,$$\n",
    "\n",
    "where $|\\Psi_0\\rangle$ and $|\\Psi_1\\rangle$ are orthogonal states, we want to estimate the real parameter $a$. Note that there is a slight difference with the previous case, now $a$ is not within a square root. Moreover, it is a real parameter, this means that it can take values in the domain $[-1,1]$.\n",
    "\n",
    "We have implemented and python class called **RQAE** into the **QQuantLib/AE/real_quantum_ae** module that allows us to use the **RQAE** algorithm."
   ]
  },
  {
   "cell_type": "markdown",
   "id": "7806f087",
   "metadata": {},
   "source": [
    "### Definition of the problem"
   ]
  },
  {
   "cell_type": "code",
   "execution_count": 15,
   "id": "2ec0df89",
   "metadata": {},
   "outputs": [],
   "source": [
    "#import the class\n",
    "from QQuantLib.AE.real_quantum_ae import RQAE"
   ]
  },
  {
   "cell_type": "markdown",
   "id": "f828361a",
   "metadata": {},
   "source": [
    "For showing how our class and the algorithm works, we will define the following amplitude estimation problem:\n",
    "$$\n",
    "    \\begin{array}{l}\n",
    "    &\\mathcal{O}\\longrightarrow \\mathcal{P}.\\\\\n",
    "    & |\\Psi\\rangle \\longrightarrow \\scriptstyle \\dfrac{1}{\\sqrt{0+1+2+3+4+5+6+7+8}}\\left[\\sqrt{0}|0\\rangle+\\sqrt{1}|1\\rangle+\\sqrt{2}|2\\rangle+\\sqrt{3}|3\\rangle+\\sqrt{4}|4\\rangle+\\sqrt{5}|5\\rangle+\\sqrt{6}|6\\rangle+\\sqrt{7}|7\\rangle\\right].\\\\\n",
    "    & a|\\Psi_0\\rangle \\longrightarrow \\dfrac{\\sqrt{1}}{\\sqrt{0+1+2+3+4+5+6+7+8}}|1\\rangle.\\\\\n",
    "    & \\sqrt{1-a^2}|\\Psi_1\\rangle \\longrightarrow \\scriptstyle \\dfrac{1}{\\sqrt{0+1+2+3+4+5+6+7+8}}\\left[\\sqrt{0}|0\\rangle+\\sqrt{2}|2\\rangle+\\sqrt{3}|3\\rangle+\\sqrt{4}|4\\rangle+\\sqrt{5}|5\\rangle+\\sqrt{6}|6\\rangle+\\sqrt{7}|7\\rangle\\right].\\\\\n",
    "    \\end{array}\n",
    "$$\n",
    "The target state, in this case is $|1\\rangle$. It's binary representation is $001$. This has to be passed to the target variable as a list. Moreover we have to provide the list of qubits where we are acting, in this case is just $[0,1,2]$, the whole register."
   ]
  },
  {
   "cell_type": "code",
   "execution_count": 16,
   "id": "62f7ee9a",
   "metadata": {},
   "outputs": [],
   "source": [
    "target = [0,0,1]\n",
    "index = [0,1,2]\n",
    "a = np.sqrt(probability[bitfield_to_int(target)])\n",
    "\n",
    "rqae = RQAE(oracle,target = [0,0,1],index = [0,1,2])"
   ]
  },
  {
   "cell_type": "markdown",
   "id": "2f250ed4",
   "metadata": {},
   "source": [
    "Note again that a is now defined as an amplitude, that is why we take it's square root."
   ]
  },
  {
   "cell_type": "markdown",
   "id": "9ce31e84",
   "metadata": {},
   "source": [
    "### Execution"
   ]
  },
  {
   "cell_type": "markdown",
   "id": "2bd8af8d",
   "metadata": {},
   "source": [
    "The only relevant methods for the end user are *run* and *display_information*. First, the method *run* returns an upper and lower bound estimates of the amplitude $a$: $(a_{\\min},a_{\\max})$. The output is in the form of a list. The function has three inputs:\n",
    "* q: the ratio of amplifications between iterations. It's value has to be bigger than one. Rule of thumbs $q=2$.\n",
    "* epsilon: the precision. Ensures that the width of the interval is, at most, $2\\epsilon$.\n",
    "* alpha: the accuracy. Ensures that the probability of $a$ not laying within the given interval is, at most, $\\alpha$."
   ]
  },
  {
   "cell_type": "code",
   "execution_count": 17,
   "id": "c085ec63",
   "metadata": {},
   "outputs": [],
   "source": [
    "q = 2\n",
    "epsilon = 0.001\n",
    "gamma = 0.05\n",
    "bounds = rqae.run(q = q,epsilon = epsilon, gamma = gamma)"
   ]
  },
  {
   "cell_type": "markdown",
   "id": "8f3a40a4",
   "metadata": {},
   "source": [
    "Now we will check weather the real value of $a$ lays within the bounds. Most of the times (at least with 95% in this case) it will be the case."
   ]
  },
  {
   "cell_type": "code",
   "execution_count": 18,
   "id": "119bb545",
   "metadata": {},
   "outputs": [
    {
     "name": "stdout",
     "output_type": "stream",
     "text": [
      "Bounds:  [0.18811034064807367, 0.18997788536667365]\n",
      "Real value:  0.1889822365046136\n"
     ]
    }
   ],
   "source": [
    "print(\"Bounds: \",bounds)\n",
    "print(\"Real value: \",a)"
   ]
  },
  {
   "cell_type": "code",
   "execution_count": 19,
   "id": "b495370e",
   "metadata": {},
   "outputs": [
    {
     "name": "stdout",
     "output_type": "stream",
     "text": [
      "Correct\n"
     ]
    }
   ],
   "source": [
    "if (a>=bounds[0])&(a<=bounds[1]):\n",
    "    print(\"Correct\")\n",
    "else:\n",
    "    print(\"Incorrect\")"
   ]
  },
  {
   "cell_type": "markdown",
   "id": "7952bfa4",
   "metadata": {},
   "source": [
    "Second, the method *display_information* displays some informamtion of the inner workings of the method. The function has the same three inputs as in the previous case."
   ]
  },
  {
   "cell_type": "code",
   "execution_count": 20,
   "id": "0e0f3332",
   "metadata": {},
   "outputs": [
    {
     "name": "stdout",
     "output_type": "stream",
     "text": [
      "-------------------------------------------------------------\n",
      "Maximum number of amplifications:  98\n",
      "Maximum number of rounds:  9\n",
      "Number of shots per round:  556\n",
      "Maximum number of calls to the oracle:  164298\n",
      "-------------------------------------------------------------\n"
     ]
    }
   ],
   "source": [
    "rqae.display_information(q = q,epsilon = epsilon, gamma = gamma)"
   ]
  }
 ],
 "metadata": {
  "kernelspec": {
   "display_name": "Python 3 (ipykernel)",
   "language": "python",
   "name": "python3"
  },
  "language_info": {
   "codemirror_mode": {
    "name": "ipython",
    "version": 3
   },
   "file_extension": ".py",
   "mimetype": "text/x-python",
   "name": "python",
   "nbconvert_exporter": "python",
   "pygments_lexer": "ipython3",
   "version": "3.9.5"
  }
 },
 "nbformat": 4,
 "nbformat_minor": 5
}
