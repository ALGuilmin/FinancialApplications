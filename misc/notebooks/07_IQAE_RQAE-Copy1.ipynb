{
 "cells": [
  {
   "cell_type": "markdown",
   "id": "7a9496d2",
   "metadata": {},
   "source": [
    "# IQAE"
   ]
  },
  {
   "cell_type": "markdown",
   "id": "7d6cb636",
   "metadata": {},
   "source": [
    "Present notebook reviews the **Iterative Quantum Amplitude Estimation** (**IAQE**) algorithm which was implemented into the modules *iterative_quantum_ae*  within the package **Amplitude Estimation** of library *QQuantLib* (**QQuantLib/AE/iterative_quantum_ae.py**). "
   ]
  },
  {
   "cell_type": "markdown",
   "id": "bcf02895",
   "metadata": {},
   "source": [
    "Present notebook and modules are based on the following references:\n",
    "\n",
    "* *Grinko, D., Gacon, J., Zoufal, C. & Woerner, S.*. Iterative Quantum Amplitude Estimation. npj Quantum Information 7, 2021. https://www.nature.com/articles/s41534-021-00379-1"
   ]
  },
  {
   "cell_type": "code",
   "execution_count": 1,
   "id": "404b8ec1",
   "metadata": {},
   "outputs": [],
   "source": [
    "import sys\n",
    "sys.path.append(\"../../\")"
   ]
  },
  {
   "cell_type": "code",
   "execution_count": 2,
   "id": "490d094b",
   "metadata": {},
   "outputs": [],
   "source": [
    "import numpy as np\n",
    "import pandas as pd\n",
    "import matplotlib.pyplot as plt\n",
    "import qat.lang.AQASM as qlm"
   ]
  },
  {
   "cell_type": "code",
   "execution_count": 3,
   "id": "21276b3d",
   "metadata": {},
   "outputs": [],
   "source": [
    "%matplotlib inline"
   ]
  },
  {
   "cell_type": "code",
   "execution_count": 4,
   "id": "34403ec1",
   "metadata": {},
   "outputs": [
    {
     "name": "stdout",
     "output_type": "stream",
     "text": [
      "Using PyLinalg\n"
     ]
    }
   ],
   "source": [
    "#This cell loads the QLM solver.\n",
    "#QLMaaS == False -> uses PyLinalg\n",
    "#QLMaaS == True -> try to use LinAlg (for using QPU as CESGA QLM one)\n",
    "from QQuantLib.utils.qlm_solver import get_qpu\n",
    "QLMaaS = False\n",
    "linalg_qpu = get_qpu(QLMaaS)"
   ]
  },
  {
   "cell_type": "code",
   "execution_count": 5,
   "id": "3453cf5d",
   "metadata": {},
   "outputs": [],
   "source": [
    "#See 01_DataLoading_Module_Use for the use of this function\n",
    "from QQuantLib.utils.data_extracting import get_results\n",
    "from QQuantLib.utils.utils import bitfield_to_int, load_qn_gate"
   ]
  },
  {
   "cell_type": "markdown",
   "id": "55146c4c",
   "metadata": {},
   "source": [
    "## 1. Oracle generation"
   ]
  },
  {
   "cell_type": "markdown",
   "id": "71279f09",
   "metadata": {},
   "source": [
    "Before doing any amplitude estimation we want to load some data into the quantum circuit, as this step is only auxiliary to see how the algorithm works, we are just going to load a discrete probability distribution. In this case we will have a circuit with $n=3$ qubits which makes a total of $N = 2^n = 8$ states. The discrete probability distribution that we are going to load is:\n",
    "$$p_d = \\dfrac{(0,1,2,3,4,5,6,7)}{0+1+2+3+4+5+6+7+8}.$$\n"
   ]
  },
  {
   "cell_type": "code",
   "execution_count": null,
   "id": "d0b21bcf",
   "metadata": {},
   "outputs": [],
   "source": [
    "n = 3\n",
    "N = 2**n\n",
    "x = np.arange(N)\n",
    "probability = x/np.sum(x)"
   ]
  },
  {
   "cell_type": "markdown",
   "id": "716492db",
   "metadata": {},
   "source": [
    "Note that this probability distribution is properly normalised. For loading this probability into the quantum circuit we will use the function *load_probability* from **QQuantLib/DL/data_loading** module. The state that we are going to get is:\n",
    "    $$|\\Psi\\rangle = \\scriptstyle \\dfrac{1}{\\sqrt{0+1+2+3+4+5+6+7+8}}\\left[\\sqrt{0}|0\\rangle+\\sqrt{1}|1\\rangle+\\sqrt{2}|2\\rangle+\\sqrt{3}|3\\rangle+\\sqrt{4}|4\\rangle+\\sqrt{5}|5\\rangle+\\sqrt{6}|6\\rangle+\\sqrt{7}|7\\rangle\\right].$$"
   ]
  },
  {
   "cell_type": "code",
   "execution_count": null,
   "id": "b05056d1",
   "metadata": {},
   "outputs": [],
   "source": [
    "from QQuantLib.DL.data_loading import load_probability"
   ]
  },
  {
   "cell_type": "code",
   "execution_count": null,
   "id": "aab2e90d",
   "metadata": {},
   "outputs": [],
   "source": [
    "oracle = load_probability(probability)"
   ]
  },
  {
   "cell_type": "markdown",
   "id": "08b1fdf8",
   "metadata": {},
   "source": [
    "For more information about loading data into the quantum circuit see the notebook *01_DataLoading_Module_Use*."
   ]
  },
  {
   "cell_type": "code",
   "execution_count": null,
   "id": "4e827ad2",
   "metadata": {},
   "outputs": [],
   "source": [
    "from QQuantLib.AA.amplitude_amplification import grover"
   ]
  },
  {
   "cell_type": "code",
   "execution_count": null,
   "id": "fbec4b14",
   "metadata": {},
   "outputs": [],
   "source": [
    "target = [0,0,1]\n",
    "index = [0,1,2]"
   ]
  },
  {
   "cell_type": "code",
   "execution_count": null,
   "id": "0e8b53f0",
   "metadata": {},
   "outputs": [],
   "source": [
    "Grover_Gate = grover(\n",
    "    oracle=oracle, target=target, index=index\n",
    ")"
   ]
  },
  {
   "cell_type": "code",
   "execution_count": null,
   "id": "28b79380",
   "metadata": {},
   "outputs": [],
   "source": [
    "%qatdisplay Grover_Gate --svg --depth 2"
   ]
  },
  {
   "cell_type": "code",
   "execution_count": null,
   "id": "71089fc2",
   "metadata": {},
   "outputs": [],
   "source": [
    "def find_next_k(k: int,theta_lower: float,theta_upper: float,flag: bool, r: float = 2):\n",
    "    \"\"\"\n",
    "    This is an implementation of Algorithm 2 from the IQAE paper. This function computes\n",
    "    the next suitable k.\n",
    "                                                                                          \n",
    "    Parameters\n",
    "    ----------\n",
    "    k : int\n",
    "        number of times to apply the grover operator to the quantum circuit\n",
    "    theta_lower : float\n",
    "        lower bound for the estimation of the angle\n",
    "    theta_upper : float\n",
    "        upper bound for the estimation of the angle\n",
    "    flag : bool\n",
    "        flag to keep track of weather we are in the\n",
    "        upper or lower half pane\n",
    "    r : float\n",
    "        ratio of amplifications between consecutive iterations\n",
    "                                                                                          \n",
    "    Returns\n",
    "    ----------\n",
    "    k : int\n",
    "        number of times to apply the grover operator to the quantum circuit\n",
    "    flag : bool\n",
    "        flag to keep track of weather we are in the\n",
    "        upper or lower half pane\n",
    "                                                                                          \n",
    "    \"\"\"\n",
    "    print('Dentro Find Next')\n",
    "    K_i = 4*k+2\n",
    "    print('\\t k= ', k, 'K_i= ', K_i)\n",
    "    theta_min = K_i*theta_lower\n",
    "    theta_max = K_i*theta_upper\n",
    "    print('\\t theta_min= ', theta_min)\n",
    "    print('\\t theta_max= ', theta_max)\n",
    "    K_max = np.floor(np.pi/(theta_upper-theta_lower))\n",
    "    print('\\t K_max= ', K_max)\n",
    "    K = K_max-np.mod(K_max-2,4)\n",
    "    print('\\t K= ', K)\n",
    "    print('\\t r*K_i= ', r*K_i)\n",
    "    while (K>r*K_i):\n",
    "        q = K/K_i\n",
    "        print('\\t\\t K= ',K, 'q = ', q)\n",
    "        if (np.mod(q*theta_max,2*np.pi)<=np.pi) and (np.mod(q*theta_min,2*np.pi)<=np.pi):\n",
    "            K_next = K\n",
    "            flag = True\n",
    "            k_next = (K_next-2)/4\n",
    "            print('\\t\\t flag: ', flag, 'k_next: ', k_next)\n",
    "            return [int(k_next),flag]\n",
    "        if (np.mod(q*theta_max,2*np.pi)>=np.pi) and (np.mod(q*theta_min,2*np.pi)>=np.pi):\n",
    "            K_next = K\n",
    "            flag = False\n",
    "            k_next = (K_next-2)/4\n",
    "            print('\\t\\t flag: ', flag, 'k_next: ', k_next)\n",
    "            return [int(k_next),flag]\n",
    "        print('\\t q: ', q, ' no sirve')                                                                            \n",
    "        K = K-4\n",
    "        print('\\t Nuevo K : ', K)\n",
    "    return [int(k),flag]\n",
    "\n",
    "def chebysev_bound(N: int,gamma: float):\n",
    "    r\"\"\"\n",
    "    Computes the length of the confidence interval for a given number of samples\n",
    "    N and an accuracy gamma:\n",
    "                                                                                 \n",
    "    .. math::\n",
    "        \\epsilon = \\dfrac{1}{\\sqrt{2N}}\\log\\left(\\dfrac{2}{\\gamma}\\right)\n",
    "                                                                                 \n",
    "    Parameters\n",
    "    ----------\n",
    "    N : int\n",
    "        number of samples\n",
    "    gamma : float\n",
    "        accuracy\n",
    "                                                                                 \n",
    "    Returns\n",
    "    ----------\n",
    "    length of the confidence interval\n",
    "    \"\"\"\n",
    "    return np.sqrt(1/(2*N)*np.log(2/gamma))\n",
    "\n",
    "def invert_sector(a_min: float ,a_max: float,flag: bool = True):\n",
    "    r\"\"\"\n",
    "    This function inverts the expression:\n",
    "                                                                    \n",
    "    .. math::\n",
    "        a = \\dfrac{1-\\cos(\\theta)}{2}\n",
    "                                                                    \n",
    "    for a pair of bounds (a_min,a_max). The result\n",
    "    belongs to the domain (0,2\\pi)\n",
    "                                                                    \n",
    "    Parameters\n",
    "    ----------\n",
    "    a_min : float\n",
    "        lower bound\n",
    "    a_max : float\n",
    "        upper bound\n",
    "    flag : bool\n",
    "        flag to keep track of weather we are in the\n",
    "        upper or lower half pane\n",
    "                                                                    \n",
    "    Returns\n",
    "    ----------\n",
    "    theta_min : float\n",
    "       lower bound for the associated angle\n",
    "    theta_max : float\n",
    "       upper bound for the associated angle\n",
    "                                                                    \n",
    "    \"\"\"\n",
    "    theta_1 = np.minimum(np.arccos(1-2*a_min),np.arccos(1-2*a_max))\n",
    "    theta_2 = np.maximum(np.arccos(1-2*a_min),np.arccos(1-2*a_max))\n",
    "    if (flag):\n",
    "        theta_min = theta_1\n",
    "        theta_max = theta_2\n",
    "    else:\n",
    "        theta_min = 2*np.pi-theta_2\n",
    "        theta_max = 2*np.pi-theta_1\n",
    "                                                                    \n",
    "    return [theta_min,theta_max]"
   ]
  },
  {
   "cell_type": "code",
   "execution_count": null,
   "id": "63ae2191",
   "metadata": {},
   "outputs": [],
   "source": [
    "def apply(oracle, grover_oracle, m_k, linalg_qpu, nb_shots):\n",
    "    routine = qlm.QRoutine()\n",
    "    wires = routine.new_wires(oracle.arity)\n",
    "    routine.apply(oracle, wires)\n",
    "    routine.apply(load_qn_gate(grover_oracle, m_k), wires)\n",
    "    \n",
    "    results, circuit, q_prog, q_job = get_results(\n",
    "        routine,\n",
    "        linalg_qpu=linalg_qpu,\n",
    "        shots = nb_shots\n",
    "    )\n",
    "    return results, circuit, q_prog, q_job\n"
   ]
  },
  {
   "cell_type": "code",
   "execution_count": null,
   "id": "8d87ac56",
   "metadata": {},
   "outputs": [],
   "source": [
    "#Entradas\n",
    "epsilon = float(0.001)\n",
    "N = int(100)\n",
    "alpha = float(0.05)"
   ]
  },
  {
   "cell_type": "code",
   "execution_count": null,
   "id": "2f417b06",
   "metadata": {},
   "outputs": [],
   "source": [
    "#Inicializaciones\n",
    "i = 0\n",
    "k = int(0)\n",
    "flag = True\n",
    "[theta_l,theta_u] = [0.0,np.pi/2]\n",
    "print([theta_l,theta_u])\n",
    "h_k = 0\n",
    "N_effective = 0\n",
    "\n",
    "T = int(np.ceil(np.log2(np.pi/(8*epsilon)))+1)\n",
    "print('T= ',T)"
   ]
  },
  {
   "cell_type": "code",
   "execution_count": null,
   "id": "bc38be5e",
   "metadata": {},
   "outputs": [],
   "source": [
    "i = i+1\n",
    "k_old = k\n",
    "[k,flag] = find_next_k(\n",
    "    k=k, theta_lower=theta_l, theta_upper=theta_u, flag=flag\n",
    ")\n",
    "print([k,flag])\n",
    "K = 4*k+2\n",
    "#Aplicamos el oraculo k veces\n",
    "results, circuit, q_prog, q_job = apply(oracle, Grover_Gate, k, linalg_qpu, N)\n",
    "#Obtenemos el resultado de aplicar el oraculo\n",
    "a = results[\"Probability\"].iloc[bitfield_to_int(target)]\n",
    "print('a: ',a)\n",
    "print('k: ', k)\n",
    "if (k == k_old):\n",
    "    print('hey')\n",
    "    h_k = h_k+int(a*N)\n",
    "    N_effective = N_effective+N\n",
    "    a = h_k/N_effective \n",
    "    i = i-1\n",
    "else:\n",
    "    h_k = int(a*N)\n",
    "    N_effective = N\n",
    "print('N_effective: ', N_effective)\n",
    "epsilon_a = chebysev_bound(N_effective,alpha/T)\n",
    "print('epsilon_a: ', epsilon_a)"
   ]
  },
  {
   "cell_type": "code",
   "execution_count": null,
   "id": "d199befc",
   "metadata": {},
   "outputs": [],
   "source": [
    "a_max = np.minimum(a+epsilon_a,1.0)\n",
    "a_min = np.maximum(a-epsilon_a,0.0)\n",
    "print(a, a_min, a_max)\n",
    "[theta_min,theta_max] = invert_sector(a_min,a_max,flag)\n",
    "print([theta_min,theta_max])\n",
    "theta_l = (2*np.pi*np.floor(K*theta_l/(2*np.pi))+theta_min)/K\n",
    "theta_u = (2*np.pi*np.floor(K*theta_u/(2*np.pi))+theta_max)/K"
   ]
  },
  {
   "cell_type": "code",
   "execution_count": null,
   "id": "d4131d0c",
   "metadata": {},
   "outputs": [],
   "source": [
    "print((theta_l, theta_u))"
   ]
  },
  {
   "cell_type": "code",
   "execution_count": null,
   "id": "50658de4",
   "metadata": {},
   "outputs": [],
   "source": [
    "i = i+1\n",
    "k_old = k\n",
    "print('k= ', k)\n",
    "[k,flag] = find_next_k(\n",
    "    k=k, theta_lower=theta_l, theta_upper=theta_u, flag=flag\n",
    ")\n",
    "print([k,flag])\n",
    "K = 4*k+2\n",
    "#Aplicamos el oraculo k veces\n",
    "results, circuit, q_prog, q_job = apply(oracle, Grover_Gate, k, linalg_qpu, N)\n",
    "#Obtenemos el resultado de aplicar el oraculo\n",
    "a = results[\"Probability\"].iloc[bitfield_to_int(target)]\n",
    "print('a: ',a)\n",
    "print('k: ', k)\n",
    "if (k == k_old):\n",
    "    print('hey')\n",
    "    h_k = h_k+int(a*N)\n",
    "    N_effective = N_effective+N\n",
    "    a = h_k/N_effective \n",
    "    i = i-1\n",
    "else:\n",
    "    h_k = int(a*N)\n",
    "    N_effective = N\n",
    "print('N_effective: ', N_effective)\n",
    "epsilon_a = chebysev_bound(N_effective,alpha/T)\n",
    "print('epsilon_a: ', epsilon_a)"
   ]
  },
  {
   "cell_type": "code",
   "execution_count": null,
   "id": "fe14366e",
   "metadata": {},
   "outputs": [],
   "source": [
    "a_max = np.minimum(a+epsilon_a,1.0)\n",
    "a_min = np.maximum(a-epsilon_a,0.0)\n",
    "print(a, a_min, a_max)\n",
    "[theta_min,theta_max] = invert_sector(a_min,a_max,flag)\n",
    "print([theta_min,theta_max])\n",
    "theta_l = (2*np.pi*np.floor(K*theta_l/(2*np.pi))+theta_min)/K\n",
    "theta_u = (2*np.pi*np.floor(K*theta_u/(2*np.pi))+theta_max)/K\n"
   ]
  },
  {
   "cell_type": "code",
   "execution_count": null,
   "id": "c1f550f2",
   "metadata": {},
   "outputs": [],
   "source": []
  },
  {
   "cell_type": "code",
   "execution_count": null,
   "id": "95cef315",
   "metadata": {},
   "outputs": [],
   "source": [
    "#Entradas\n",
    "epsilon = float(0.001)\n",
    "N = int(100)\n",
    "alpha = float(0.05)"
   ]
  },
  {
   "cell_type": "code",
   "execution_count": null,
   "id": "fb2d7f05",
   "metadata": {},
   "outputs": [],
   "source": [
    "#Inicializaciones\n",
    "i = 0\n",
    "k = int(0)\n",
    "flag = True\n",
    "[theta_l,theta_u] = [0.0,np.pi/2]\n",
    "print([theta_l,theta_u])\n",
    "h_k = 0\n",
    "N_effective = 0\n",
    "\n",
    "T = int(np.ceil(np.log2(np.pi/(8*epsilon)))+1)\n",
    "print('T= ',T)"
   ]
  },
  {
   "cell_type": "code",
   "execution_count": null,
   "id": "3ceb1145",
   "metadata": {
    "scrolled": true
   },
   "outputs": [],
   "source": [
    "List_theta_l = []\n",
    "List_theta_u = []\n",
    "List_k = []\n",
    "List_eps = []\n",
    "\n",
    "for i in range(15):\n",
    "    print('[theta_l, theta_u]= ', [theta_l,theta_u])\n",
    "    List_theta_l.append(theta_l)\n",
    "    List_theta_u.append(theta_u)\n",
    "    i = i+1\n",
    "    k_old = k\n",
    "    [k,flag] = find_next_k(\n",
    "        k=k, theta_lower=theta_l, theta_upper=theta_u, flag=flag\n",
    "    )\n",
    "    print([k,flag])\n",
    "    K = 4*k+2\n",
    "    #Aplicamos el oraculo k veces\n",
    "    results, circuit, q_prog, q_job = apply(oracle, Grover_Gate, k, linalg_qpu, N)\n",
    "    List_k.append(k)\n",
    "    #Obtenemos el resultado de aplicar el oraculo\n",
    "    a = results[\"Probability\"].iloc[bitfield_to_int(target)]\n",
    "    print('a: ',a)\n",
    "    print('k: ', k)\n",
    "    if (k == k_old):\n",
    "        print('hey')\n",
    "        h_k = h_k+int(a*N)\n",
    "        N_effective = N_effective+N\n",
    "        a = h_k/N_effective \n",
    "        i = i-1\n",
    "    else:\n",
    "        h_k = int(a*N)\n",
    "        N_effective = N\n",
    "    print('N_effective: ', N_effective)\n",
    "    epsilon_a = chebysev_bound(N_effective,alpha/T)\n",
    "    print('epsilon_a: ', epsilon_a)\n",
    "    List_eps.append(epsilon_a)\n",
    "    \n",
    "    a_max = np.minimum(a+epsilon_a,1.0)\n",
    "    a_min = np.maximum(a-epsilon_a,0.0)\n",
    "    print('a_min= ', a_min, 'a_max= ', a_max)\n",
    "    [theta_min,theta_max] = invert_sector(a_min,a_max,flag)\n",
    "    print('[theta_min, theta_max]= ', [theta_min,theta_max])\n",
    "    theta_l = (2*np.pi*np.floor(K*theta_l/(2*np.pi))+theta_min)/K\n",
    "    theta_u = (2*np.pi*np.floor(K*theta_u/(2*np.pi))+theta_max)/K\n",
    "List_theta_l.append(theta_l)\n",
    "List_theta_u.append(theta_u)"
   ]
  },
  {
   "cell_type": "code",
   "execution_count": null,
   "id": "76be4f77",
   "metadata": {},
   "outputs": [],
   "source": []
  },
  {
   "cell_type": "code",
   "execution_count": null,
   "id": "d627a6e7",
   "metadata": {},
   "outputs": [],
   "source": [
    "np.log(2*np.log(np.pi/(8.0*epsilon)))"
   ]
  },
  {
   "cell_type": "code",
   "execution_count": 24,
   "id": "07b16c5e",
   "metadata": {},
   "outputs": [],
   "source": [
    "def CalculateStaff(epsilon, alfa=0.05, N=100):\n",
    "    T_up = np.ceil(np.log2(np.pi/(8*epsilon)))\n",
    "    print(T_up)\n",
    "    T = np.log(2*T_up/alfa)\n",
    "    return np.sqrt(T/(2*N))"
   ]
  },
  {
   "cell_type": "code",
   "execution_count": 27,
   "id": "c64d7540",
   "metadata": {},
   "outputs": [],
   "source": [
    "eps = np.array([i/1000 for i in range(100)])[1:]"
   ]
  },
  {
   "cell_type": "code",
   "execution_count": 30,
   "id": "73a2b41c",
   "metadata": {},
   "outputs": [
    {
     "name": "stdout",
     "output_type": "stream",
     "text": [
      "[9. 8. 8. 7. 7. 7. 6. 6. 6. 6. 6. 6. 5. 5. 5. 5. 5. 5. 5. 5. 5. 5. 5. 5.\n",
      " 4. 4. 4. 4. 4. 4. 4. 4. 4. 4. 4. 4. 4. 4. 4. 4. 4. 4. 4. 4. 4. 4. 4. 4.\n",
      " 4. 3. 3. 3. 3. 3. 3. 3. 3. 3. 3. 3. 3. 3. 3. 3. 3. 3. 3. 3. 3. 3. 3. 3.\n",
      " 3. 3. 3. 3. 3. 3. 3. 3. 3. 3. 3. 3. 3. 3. 3. 3. 3. 3. 3. 3. 3. 3. 3. 3.\n",
      " 3. 3. 2.]\n",
      "[9. 8. 8. 7. 7. 7. 6. 6. 6. 6. 6. 6. 5. 5. 5. 5. 5. 5. 5. 5. 5. 5. 5. 5.\n",
      " 4. 4. 4. 4. 4. 4. 4. 4. 4. 4. 4. 4. 4. 4. 4. 4. 4. 4. 4. 4. 4. 4. 4. 4.\n",
      " 4. 3. 3. 3. 3. 3. 3. 3. 3. 3. 3. 3. 3. 3. 3. 3. 3. 3. 3. 3. 3. 3. 3. 3.\n",
      " 3. 3. 3. 3. 3. 3. 3. 3. 3. 3. 3. 3. 3. 3. 3. 3. 3. 3. 3. 3. 3. 3. 3. 3.\n",
      " 3. 3. 2.]\n"
     ]
    },
    {
     "data": {
      "text/plain": [
       "[<matplotlib.lines.Line2D at 0x7fc031e2b7f0>]"
      ]
     },
     "execution_count": 30,
     "metadata": {},
     "output_type": "execute_result"
    },
    {
     "data": {
      "image/png": "[encoded data removed]",
      "text/plain": [
       "<Figure size 432x288 with 1 Axes>"
      ]
     },
     "metadata": {
      "needs_background": "light"
     },
     "output_type": "display_data"
    }
   ],
   "source": [
    "plt.plot(eps,CalculateStaff(eps))\n",
    "plt.plot(eps,CalculateStaff(eps, N=200))"
   ]
  },
  {
   "cell_type": "code",
   "execution_count": 29,
   "id": "7c7d9b06",
   "metadata": {},
   "outputs": [
    {
     "data": {
      "text/plain": [
       "6.0"
      ]
     },
     "execution_count": 29,
     "metadata": {},
     "output_type": "execute_result"
    }
   ],
   "source": [
    "np.ceil(5.29535232)"
   ]
  },
  {
   "cell_type": "code",
   "execution_count": null,
   "id": "2f8de1c6",
   "metadata": {},
   "outputs": [],
   "source": []
  },
  {
   "cell_type": "markdown",
   "id": "a08e43a5",
   "metadata": {},
   "source": [
    "## 2. IQAE class."
   ]
  },
  {
   "cell_type": "markdown",
   "id": "c977b4c6",
   "metadata": {},
   "source": [
    "The problem of amplitude estimation is the following. Given an oracle:\n",
    "\n",
    "$$\\mathcal{0}|0\\rangle = |\\Psi\\rangle = \\sqrt{a}|\\Psi_0\\rangle +\\sqrt{1-a}|\\Psi_1\\rangle,$$\n",
    "\n",
    "where $|\\Psi_0\\rangle$ and $|\\Psi_1\\rangle$ are orthogonal states, we want to estimate $a$.\n",
    "\n",
    "We have implemented and python class called **IQAE** into the **QQuantLib/AE/iterative_quantum_ae** module that allows us to use the **IQAE** algorithm."
   ]
  },
  {
   "cell_type": "markdown",
   "id": "f8722ea5",
   "metadata": {},
   "source": [
    "### Definition of the problem"
   ]
  },
  {
   "cell_type": "code",
   "execution_count": null,
   "id": "3de946b0",
   "metadata": {},
   "outputs": [],
   "source": [
    "#import the class\n",
    "from QQuantLib.AE.iterative_quantum_ae import IQAE"
   ]
  },
  {
   "cell_type": "markdown",
   "id": "d94f4a5d",
   "metadata": {},
   "source": [
    "For showing how our class and the algorithm works, we will define the following amplitude estimation problem:\n",
    "$$\n",
    "    \\begin{array}{l}\n",
    "    &\\mathcal{O}\\longrightarrow \\mathcal{P}.\\\\\n",
    "    & |\\Psi\\rangle \\longrightarrow \\scriptstyle \\dfrac{1}{\\sqrt{0+1+2+3+4+5+6+7+8}}\\left[\\sqrt{0}|0\\rangle+\\sqrt{1}|1\\rangle+\\sqrt{2}|2\\rangle+\\sqrt{3}|3\\rangle+\\sqrt{4}|4\\rangle+\\sqrt{5}|5\\rangle+\\sqrt{6}|6\\rangle+\\sqrt{7}|7\\rangle\\right].\\\\\n",
    "    & \\sqrt{a}|\\Psi_0\\rangle \\longrightarrow \\dfrac{\\sqrt{1}}{\\sqrt{0+1+2+3+4+5+6+7+8}}|1\\rangle.\\\\\n",
    "    & \\sqrt{1-a}|\\Psi_1\\rangle \\longrightarrow \\scriptstyle \\dfrac{1}{\\sqrt{0+1+2+3+4+5+6+7+8}}\\left[\\sqrt{0}|0\\rangle+\\sqrt{2}|2\\rangle+\\sqrt{3}|3\\rangle+\\sqrt{4}|4\\rangle+\\sqrt{5}|5\\rangle+\\sqrt{6}|6\\rangle+\\sqrt{7}|7\\rangle\\right].\\\\\n",
    "    \\end{array}\n",
    "$$\n",
    "The target state, in this case is $|1\\rangle$. It's binary representation is $001$. This has to be passed to the target variable as a list. Moreover we have to provide the list of qubits where we are acting, in this case is just $[0,1,2]$, the whole register."
   ]
  },
  {
   "cell_type": "code",
   "execution_count": null,
   "id": "b69dc476",
   "metadata": {},
   "outputs": [],
   "source": [
    "target = [0,0,1]\n",
    "index = [0,1,2]\n",
    "a = probability[bitfield_to_int(target)]\n",
    "\n",
    "iqae = IQAE(oracle,target = target,index = [0,1,2])"
   ]
  },
  {
   "cell_type": "markdown",
   "id": "f72b5b48",
   "metadata": {},
   "source": [
    "### Execution"
   ]
  },
  {
   "cell_type": "markdown",
   "id": "77776ef4",
   "metadata": {},
   "source": [
    "The only relevant methods for the end user are *run* and *display_information*. First, the method *run* returns an upper and lower bound estimates of the probability $a$: $(a_{\\min},a_{\\max})$. The output is in the form of a list. The function has three inputs:\n",
    "* epsilon: the precision. Ensures that the width of the interval is, at most, $2\\epsilon$.\n",
    "* N: the number of shots on each iteration of the algorithm.\n",
    "* alpha: the accuracy. Ensures that the probability of $a$ not laying within the given interval is, at most, $\\alpha$."
   ]
  },
  {
   "cell_type": "code",
   "execution_count": null,
   "id": "f710918a",
   "metadata": {},
   "outputs": [],
   "source": [
    "epsilon = 0.001\n",
    "N = 100\n",
    "alpha = 0.05\n",
    "bounds = iqae.run(epsilon = epsilon,N = N, alpha = alpha)"
   ]
  },
  {
   "cell_type": "markdown",
   "id": "983af2f4",
   "metadata": {},
   "source": [
    "Now we will check weather the real value of $a$ lays within the bounds. Most of the times (at least with 95% in this case) it will be the case."
   ]
  },
  {
   "cell_type": "code",
   "execution_count": null,
   "id": "40ffa39d",
   "metadata": {},
   "outputs": [],
   "source": [
    "print(\"Bounds: \",bounds)\n",
    "print(\"Real value: \",a)"
   ]
  },
  {
   "cell_type": "code",
   "execution_count": null,
   "id": "1da7c199",
   "metadata": {},
   "outputs": [],
   "source": [
    "if (a>=bounds[0])&(a<=bounds[1]):\n",
    "    print(\"Correct\")\n",
    "else:\n",
    "    print(\"Incorrect\")"
   ]
  },
  {
   "cell_type": "markdown",
   "id": "6449e115",
   "metadata": {},
   "source": [
    "Second, the method *display_information* displays some informamtion of the inner workings of the method. The function has the same three inputs as in the previous case."
   ]
  },
  {
   "cell_type": "code",
   "execution_count": null,
   "id": "2431ecc1",
   "metadata": {},
   "outputs": [],
   "source": [
    "iqae.display_information(epsilon = epsilon,N = N, alpha = alpha)"
   ]
  },
  {
   "cell_type": "markdown",
   "id": "208218b4",
   "metadata": {},
   "source": [
    "## 3. RQAE class"
   ]
  },
  {
   "cell_type": "markdown",
   "id": "e82c9c6e",
   "metadata": {},
   "source": [
    "The new problem of amplitude estimation is the following. Given an oracle:\n",
    "\n",
    "$$\\mathcal{0}|0\\rangle = |\\Psi\\rangle = a|\\Psi_0\\rangle +\\sqrt{1-a^2}|\\Psi_1\\rangle,$$\n",
    "\n",
    "where $|\\Psi_0\\rangle$ and $|\\Psi_1\\rangle$ are orthogonal states, we want to estimate the real parameter $a$. Note that there is a slight difference with the previous case, now $a$ is not within a square root. Moreover, it is a real parameter, this means that it can take values in the domain $[-1,1]$.\n",
    "\n",
    "We have implemented and python class called **RQAE** into the **QQuantLib/AE/real_quantum_ae** module that allows us to use the **RQAE** algorithm."
   ]
  },
  {
   "cell_type": "markdown",
   "id": "7806f087",
   "metadata": {},
   "source": [
    "### Definition of the problem"
   ]
  },
  {
   "cell_type": "code",
   "execution_count": null,
   "id": "2ec0df89",
   "metadata": {},
   "outputs": [],
   "source": [
    "#import the class\n",
    "from QQuantLib.AE.real_quantum_ae import RQAE"
   ]
  },
  {
   "cell_type": "markdown",
   "id": "f828361a",
   "metadata": {},
   "source": [
    "For showing how our class and the algorithm works, we will define the following amplitude estimation problem:\n",
    "$$\n",
    "    \\begin{array}{l}\n",
    "    &\\mathcal{O}\\longrightarrow \\mathcal{P}.\\\\\n",
    "    & |\\Psi\\rangle \\longrightarrow \\scriptstyle \\dfrac{1}{\\sqrt{0+1+2+3+4+5+6+7+8}}\\left[\\sqrt{0}|0\\rangle+\\sqrt{1}|1\\rangle+\\sqrt{2}|2\\rangle+\\sqrt{3}|3\\rangle+\\sqrt{4}|4\\rangle+\\sqrt{5}|5\\rangle+\\sqrt{6}|6\\rangle+\\sqrt{7}|7\\rangle\\right].\\\\\n",
    "    & a|\\Psi_0\\rangle \\longrightarrow \\dfrac{\\sqrt{1}}{\\sqrt{0+1+2+3+4+5+6+7+8}}|1\\rangle.\\\\\n",
    "    & \\sqrt{1-a^2}|\\Psi_1\\rangle \\longrightarrow \\scriptstyle \\dfrac{1}{\\sqrt{0+1+2+3+4+5+6+7+8}}\\left[\\sqrt{0}|0\\rangle+\\sqrt{2}|2\\rangle+\\sqrt{3}|3\\rangle+\\sqrt{4}|4\\rangle+\\sqrt{5}|5\\rangle+\\sqrt{6}|6\\rangle+\\sqrt{7}|7\\rangle\\right].\\\\\n",
    "    \\end{array}\n",
    "$$\n",
    "The target state, in this case is $|1\\rangle$. It's binary representation is $001$. This has to be passed to the target variable as a list. Moreover we have to provide the list of qubits where we are acting, in this case is just $[0,1,2]$, the whole register."
   ]
  },
  {
   "cell_type": "code",
   "execution_count": null,
   "id": "62f7ee9a",
   "metadata": {},
   "outputs": [],
   "source": [
    "target = [0,0,1]\n",
    "index = [0,1,2]\n",
    "a = np.sqrt(probability[bitfield_to_int(target)])\n",
    "\n",
    "rqae = RQAE(oracle,target = [0,0,1],index = [0,1,2])"
   ]
  },
  {
   "cell_type": "markdown",
   "id": "2f250ed4",
   "metadata": {},
   "source": [
    "Note again that a is now defined as an amplitude, that is why we take it's square root."
   ]
  },
  {
   "cell_type": "markdown",
   "id": "9ce31e84",
   "metadata": {},
   "source": [
    "### Execution"
   ]
  },
  {
   "cell_type": "markdown",
   "id": "2bd8af8d",
   "metadata": {},
   "source": [
    "The only relevant methods for the end user are *run* and *display_information*. First, the method *run* returns an upper and lower bound estimates of the amplitude $a$: $(a_{\\min},a_{\\max})$. The output is in the form of a list. The function has three inputs:\n",
    "* q: the ratio of amplifications between iterations. It's value has to be bigger than one. Rule of thumbs $q=2$.\n",
    "* epsilon: the precision. Ensures that the width of the interval is, at most, $2\\epsilon$.\n",
    "* alpha: the accuracy. Ensures that the probability of $a$ not laying within the given interval is, at most, $\\alpha$."
   ]
  },
  {
   "cell_type": "code",
   "execution_count": null,
   "id": "c085ec63",
   "metadata": {},
   "outputs": [],
   "source": [
    "q = 2\n",
    "epsilon = 0.001\n",
    "gamma = 0.05\n",
    "bounds = rqae.run(q = q,epsilon = epsilon, gamma = gamma)"
   ]
  },
  {
   "cell_type": "markdown",
   "id": "8f3a40a4",
   "metadata": {},
   "source": [
    "Now we will check weather the real value of $a$ lays within the bounds. Most of the times (at least with 95% in this case) it will be the case."
   ]
  },
  {
   "cell_type": "code",
   "execution_count": null,
   "id": "119bb545",
   "metadata": {},
   "outputs": [],
   "source": [
    "print(\"Bounds: \",bounds)\n",
    "print(\"Real value: \",a)"
   ]
  },
  {
   "cell_type": "code",
   "execution_count": null,
   "id": "b495370e",
   "metadata": {},
   "outputs": [],
   "source": [
    "if (a>=bounds[0])&(a<=bounds[1]):\n",
    "    print(\"Correct\")\n",
    "else:\n",
    "    print(\"Incorrect\")"
   ]
  },
  {
   "cell_type": "markdown",
   "id": "7952bfa4",
   "metadata": {},
   "source": [
    "Second, the method *display_information* displays some informamtion of the inner workings of the method. The function has the same three inputs as in the previous case."
   ]
  },
  {
   "cell_type": "code",
   "execution_count": null,
   "id": "0e0f3332",
   "metadata": {},
   "outputs": [],
   "source": [
    "rqae.display_information(q = q,epsilon = epsilon, gamma = gamma)"
   ]
  }
 ],
 "metadata": {
  "kernelspec": {
   "display_name": "Python 3 (ipykernel)",
   "language": "python",
   "name": "python3"
  },
  "language_info": {
   "codemirror_mode": {
    "name": "ipython",
    "version": 3
   },
   "file_extension": ".py",
   "mimetype": "text/x-python",
   "name": "python",
   "nbconvert_exporter": "python",
   "pygments_lexer": "ipython3",
   "version": "3.9.11"
  }
 },
 "nbformat": 4,
 "nbformat_minor": 5
}
