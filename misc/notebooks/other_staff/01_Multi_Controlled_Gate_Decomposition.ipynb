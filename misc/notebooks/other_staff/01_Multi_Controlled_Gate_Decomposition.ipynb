{
 "cells": [
  {
   "cell_type": "markdown",
   "id": "dabd7ebd",
   "metadata": {},
   "source": [
    "# Multicontrolled Z decomposition\n",
    "\n",
    "For creating the Difffusor for the Grover operator is mandatory implement a reflection. The basis of the reflection is Multi-Controlled Z gate. \n",
    "\n",
    "QLM allows a direct definition of this kind of multicontrolled gates, but for us will be interesting create a version of the gate using **C-NOT** and one qbit gates (like rotations for example). \n",
    "\n",
    "For creating this we are going to use multiplexors but used in a different way. We are going to use the building based of the following references:\n",
    "\n",
    "* https://quantumcomputing.stackexchange.com/questions/4078/how-to-construct-a-multi-qubit-controlled-z-from-elementary-gates\n",
    "* https://arxiv.org/abs/quant-ph/0303063\n",
    "* Schuch, Norbert & Siewert, Jens. (2003). Programmable Networks for Quantum Algorithms. Physical review letters. 91. 027902. 10.1103/PhysRevLett.91.027902. (https://www.researchgate.net/publication/10622559_Programmable_Networks_for_Quantum_Algorithms)"
   ]
  },
  {
   "cell_type": "code",
   "execution_count": null,
   "id": "40d1302a",
   "metadata": {},
   "outputs": [],
   "source": [
    "import sys\n",
    "sys.path.append(\"../../../\")\n",
    "import numpy as np\n",
    "import pandas as pd\n",
    "import matplotlib.pyplot as plt\n",
    "import qat.lang.AQASM as qlm"
   ]
  },
  {
   "cell_type": "code",
   "execution_count": null,
   "id": "4aa61d92",
   "metadata": {},
   "outputs": [],
   "source": [
    "#This cell loads the QLM solver.\n",
    "#QLMaaS == False -> uses PyLinalg\n",
    "#QLMaaS == True -> try to use LinAlg (for using QPU as CESGA QLM one)\n",
    "from QQuantLib.utils.qlm_solver import get_qpu\n",
    "QLMaaS = False\n",
    "linalg_qpu = get_qpu(QLMaaS)"
   ]
  },
  {
   "cell_type": "code",
   "execution_count": null,
   "id": "af43367a",
   "metadata": {},
   "outputs": [],
   "source": [
    "#See 01_DataLoading_Module_Use for the use of this function\n",
    "from QQuantLib.utils.data_extracting import get_results"
   ]
  },
  {
   "cell_type": "code",
   "execution_count": null,
   "id": "ca7f85dd",
   "metadata": {},
   "outputs": [],
   "source": [
    "from QQuantLib.DL.data_loading import uniform_distribution\n",
    "#Testing Function. Apply a Uniform distribution and then an input gate\n",
    "def testing_gate(input_gate):\n",
    "    \"\"\"\n",
    "    Function for testing purpouses. Given a QLM gate creates a uniform distribution based\n",
    "    on the arity if the inbput gate and apply the gate.\n",
    "    \n",
    "    Parameters\n",
    "    ----------\n",
    "    \n",
    "    input_gate : QLM routine \n",
    "        QLM routine user want to test\n",
    "        \n",
    "    Returns\n",
    "    _______\n",
    "    \n",
    "    routine : QLM routine \n",
    "        QLM routine for testing input gate. \n",
    "    \n",
    "    \n",
    "    \"\"\"\n",
    "    number_qubits = input_gate.arity\n",
    "    routine = qlm.QRoutine()\n",
    "    register = routine.new_wires(number_qubits)    \n",
    "    routine.apply(uniform_distribution(number_qubits), register)\n",
    "    routine.apply(input_gate, register)\n",
    "    return routine"
   ]
  },
  {
   "cell_type": "markdown",
   "id": "733d0f21",
   "metadata": {},
   "source": [
    "## 1. Outline of the problem\n",
    "\n",
    "The main idea is convert a multicontrolled Z gate ($C^{n-1}Z$) to a circuit that uses only $CNOT$ and 1 qbit gates (like rotatios or phase gates). A $C^{n-1}Z$ an be seen as a multicontrolled phase of $\\pi$: $PH(\\pi)$. So our approximation will be implement a $PH(\\theta)$ using multiplexor techniques. And then apply $\\theta=\\pi$."
   ]
  },
  {
   "cell_type": "markdown",
   "id": "cb900f03",
   "metadata": {},
   "source": [
    "## 2. Controlled Phase Gate\n",
    "\n",
    "In order to develop a $C-PH(2\\theta)$ following circuit can be used\n",
    "\n",
    "![title](CZ_multiplexor.png)\n",
    "\n",
    "The following part of the circuit will be important:\n",
    "\n",
    "![title](Multiplexor_base.png)\n",
    "\n",
    "so we are going to create a function only for generating this part: **phase_multiplexor_base**"
   ]
  },
  {
   "cell_type": "code",
   "execution_count": null,
   "id": "67c62fff",
   "metadata": {},
   "outputs": [],
   "source": [
    "@qlm.build_gate(\"Multiplexor\", [float], arity = 2)\n",
    "def phase_multiplexor_base(theta):\n",
    "    \"\"\"\n",
    "    Implement an initial multiplexor for a controlled phase gate.\n",
    "    \n",
    "    Parameters\n",
    "    ----------\n",
    "    \n",
    "    angle : float\n",
    "        Phase angle to apply\n",
    "        \n",
    "    Returns\n",
    "    _______\n",
    "    \n",
    "    routine : QLM routine \n",
    "        QLM routine wiht the implementation of the basis multiplexor for the controlled phase gate\n",
    "    \n",
    "    \"\"\"\n",
    "    routine = qlm.QRoutine()\n",
    "    # This will be a 2-qbits gate\n",
    "    register = routine.new_wires(2)\n",
    "    #routine.apply(qlm.CNOT, register[0], register[1])\n",
    "    routine.apply(qlm.PH(-theta), register[1])\n",
    "    # Apply the CNOT\n",
    "    routine.apply(qlm.CNOT, register[0], register[1])\n",
    "    #Apply the Phase gate (+)\n",
    "    routine.apply(qlm.PH(theta), register[1])\n",
    "    return routine"
   ]
  },
  {
   "cell_type": "code",
   "execution_count": null,
   "id": "fae7cdfd",
   "metadata": {},
   "outputs": [],
   "source": [
    "base_multiplexor = phase_multiplexor_base(np.pi/2.0)\n",
    "%qatdisplay base_multiplexor --depth 1"
   ]
  },
  {
   "cell_type": "markdown",
   "id": "cda5f571",
   "metadata": {},
   "source": [
    "The rest part of the circuit will be done by the following function:"
   ]
  },
  {
   "cell_type": "code",
   "execution_count": null,
   "id": "c05db486",
   "metadata": {},
   "outputs": [],
   "source": [
    "def controlled_phase(angle):\n",
    "    \"\"\"\n",
    "    Implement controlled phase gate using CNOTs and 1 qbit phase gates.\n",
    "    \n",
    "    Parameters\n",
    "    ----------\n",
    "    \n",
    "    angle : float\n",
    "        Phase angle to apply\n",
    "        \n",
    "    Returns\n",
    "    _______\n",
    "    \n",
    "    routine : QLM routine \n",
    "        QLM routine wiht the implementation controlled_phase gate with cnots and 1 qbit phase gates\n",
    "        \n",
    "    \n",
    "    \"\"\"\n",
    "    number_qubits = 2\n",
    "    # We need to divide the input angle for 2\n",
    "    angle_step = angle/2\n",
    "    routine = qlm.QRoutine()\n",
    "    # This will be a 2-qbits gate\n",
    "    register = routine.new_wires(number_qubits)    \n",
    "    routine.apply(qlm.PH(angle_step), register[0])\n",
    "    routine.apply(qlm.CNOT, register[0], register[1])\n",
    "    base_multiplexor = phase_multiplexor_base(angle_step)\n",
    "    routine.apply(base_multiplexor, register[0], register[1])\n",
    "    return routine"
   ]
  },
  {
   "cell_type": "code",
   "execution_count": null,
   "id": "0a42ee4f",
   "metadata": {},
   "outputs": [],
   "source": [
    "angle = np.pi\n",
    "controlled_phase_gate = controlled_phase(angle)\n",
    "print(\"Controlled Phase Gate\")\n",
    "%qatdisplay controlled_phase_gate\n",
    "print(\"Controlled Phase Gate: decomposition\")\n",
    "%qatdisplay controlled_phase_gate --depth \n",
    "test_controlled_phase_gate = testing_gate(controlled_phase_gate)\n",
    "print(\"Testing Cricuit for Controlled Phase Gate\")\n",
    "%qatdisplay test_controlled_phase_gate\n",
    "results_controlled_phase_gate, _, _, _, _ = get_results(test_controlled_phase_gate, linalg_qpu=linalg_qpu, shots=0)"
   ]
  },
  {
   "cell_type": "code",
   "execution_count": null,
   "id": "d5458cb7",
   "metadata": {},
   "outputs": [],
   "source": [
    "results_controlled_phase_gate"
   ]
  },
  {
   "cell_type": "markdown",
   "id": "594263d5",
   "metadata": {},
   "source": [
    "Now we use the default gates from QLM for controlled-phase"
   ]
  },
  {
   "cell_type": "code",
   "execution_count": null,
   "id": "083c239a",
   "metadata": {},
   "outputs": [],
   "source": [
    "c_phase_qlm = qlm.PH(angle).ctrl(1)\n",
    "print(\"QLM Controlled Phase Gate\")\n",
    "%qatdisplay c_phase_qlm\n",
    "test_c_phase_qlm = testing_gate(c_phase_qlm)\n",
    "print(\"Testing Cricuit for QLM Controlled Phase Gate\")\n",
    "%qatdisplay test_c_phase_qlm\n",
    "results_c_phase_qlm, _, _, _, _ = get_results(test_c_phase_qlm, linalg_qpu=linalg_qpu, shots=0)"
   ]
  },
  {
   "cell_type": "code",
   "execution_count": null,
   "id": "5caedb93",
   "metadata": {},
   "outputs": [],
   "source": [
    "results_c_phase_qlm"
   ]
  },
  {
   "cell_type": "code",
   "execution_count": null,
   "id": "6ee1ea98",
   "metadata": {},
   "outputs": [],
   "source": [
    "Testing_columns = ['Int_lsb', 'Probability', 'Amplitude']\n",
    "np.isclose(results_controlled_phase_gate[Testing_columns], results_c_phase_qlm[Testing_columns])"
   ]
  },
  {
   "cell_type": "markdown",
   "id": "48e205a0",
   "metadata": {},
   "source": [
    "## 3. Recursive Multiplexor creation"
   ]
  },
  {
   "cell_type": "markdown",
   "id": "0cd57818",
   "metadata": {},
   "source": [
    "We have developed a $C-PH(\\theta)$ using $CNOT$ and $PH(\\theta)$. Now we need to create the multicontrolled part. For doing this following steps will be applied:\n",
    "1. Create a new qbit.\n",
    "2. Apply a CNOT controlled by the before qbit over the new qbit.\n",
    "3. Take the complete multiplexor construction that was applied on the before qbit and apply to the new qbit..\n",
    "4. Apply a CNOT that will be controlled by the before qbit and the target will be the created qbit in the step 1.\n",
    "5. Repeat again the step 3.\n",
    "6. Steps 2 to 5 create a new multiplexor operator that will be used in the following iteration.\n",
    "\n",
    "This will be done in an iterative way for the rest of the qbits.\n",
    "\n",
    "In the folowing graph the before steps are ilustrated\n",
    "\n",
    "![title](Recursive_Multiplexor.png)\n",
    "\n",
    "These steps are done in the **recursive_multiplexor** function. The input will be the QLM gate and the before steps will be applied. "
   ]
  },
  {
   "cell_type": "code",
   "execution_count": null,
   "id": "0ae6a8f3",
   "metadata": {},
   "outputs": [],
   "source": [
    "def recursive_multiplexor(input_gate):\n",
    "    \"\"\"\n",
    "    Create a new multiplexor from an input gate. In this case takes the input gate adds a new qbit and creates\n",
    "    a new multiplexor by applyingthe input gate a cnot and the input gate again\n",
    "\n",
    "    Parameters\n",
    "    ----------\n",
    "    \n",
    "    input_gate : QLM routine\n",
    "        QLM routine with the gate we want for multiplexion\n",
    "        \n",
    "    Returns\n",
    "    _______\n",
    "    \n",
    "    routine : QLM routine \n",
    "        QLM routine with a multiplexion of the input_gate\n",
    "    \n",
    "    \"\"\"\n",
    "    routine = qlm.QRoutine()\n",
    "    input_arity = input_gate.arity\n",
    "    # Create the qbits for the input gate\n",
    "    old_qbits = routine.new_wires(input_arity)\n",
    "    # Add a new qbit for multiplexion\n",
    "    new_qbit = routine.new_wires(1)\n",
    "    # routine.apply(qlm.CNOT, old_qbits[input_arity-1], new_qbit)\n",
    "    routine.apply(input_gate, [old_qbits[:input_arity-1], new_qbit])\n",
    "    routine.apply(qlm.CNOT, old_qbits[input_arity-1], new_qbit)\n",
    "    routine.apply(input_gate, [old_qbits[:input_arity-1], new_qbit])\n",
    "    return routine"
   ]
  },
  {
   "cell_type": "code",
   "execution_count": null,
   "id": "05dde8ed",
   "metadata": {},
   "outputs": [],
   "source": [
    "%qatdisplay base_multiplexor\n",
    "print('Base Multiplexor that will be used for the following step')\n",
    "recursive_base_multiplexor = recursive_multiplexor(base_multiplexor)\n",
    "print('New multiplexor when one more qbit is added')\n",
    "%qatdisplay recursive_base_multiplexor --depth  0\n",
    "print('New multiplexor when one more qbit is added. Decomposition')\n",
    "%qatdisplay recursive_base_multiplexor --depth  1"
   ]
  },
  {
   "cell_type": "markdown",
   "id": "a1ce4e28",
   "metadata": {},
   "source": [
    "## 4. Creation of Multi-Controlled Phase Gate\n",
    "\n",
    "Function **multiplexor_controlled_z** creates the complete implementation of a multi-controlled phase gate using hte procedure expalined in the before sections. The input fo the function will be:\n",
    "* angle to phase\n",
    "* number of qbits for the multi controlled gbate.\n",
    "\n",
    "**NOTE**\n",
    "On important question is the the angle of the initial multiplexor. For this procedure will be:\n",
    "\n",
    "$$\\theta_{step} = \\frac{\\theta}{2^{n-1} }$$\n",
    "\n",
    "Where: $\\theta$ is the deisred phase angle and $n$ the number of qbits of the gate"
   ]
  },
  {
   "cell_type": "code",
   "execution_count": null,
   "id": "04be5461",
   "metadata": {},
   "outputs": [],
   "source": [
    "@qlm.build_gate(\"Multiplexor_C_PH\", [float, int], arity=lambda x, y: y)\n",
    "def multiplexor_controlled_ph(angle, number_qubits):\n",
    "    \"\"\"\n",
    "    Multiplexor implementation for a Multi-Controlled-phase gate\n",
    "    \n",
    "    Parameters\n",
    "    ----------\n",
    "    \n",
    "    angle : float\n",
    "        Desired angle for Controlled-Phase application\n",
    "    number_qubits : int\n",
    "        Number of qbits for the multi-controlled phase gate \n",
    "        \n",
    "    Returns\n",
    "    _______\n",
    "    \n",
    "    routine : QLM routine \n",
    "        QLM routine wiht the implementation of a multi-controlled phase gate\n",
    "    \n",
    "    \"\"\"    \n",
    "    routine = qlm.QRoutine()\n",
    "    register = routine.new_wires(number_qubits)\n",
    "    \n",
    "    angle = angle/(2**(number_qubits-1))\n",
    "    for i,r in enumerate(register):\n",
    "        # print('i:', i)\n",
    "        if i == 0:\n",
    "            # In the first qbit we need a Phase rotation\n",
    "            routine.apply(qlm.PH(angle), register[i])\n",
    "        elif i==1:\n",
    "            # In the second qbit we need the base gate for the multiplexor\n",
    "            routine.apply(qlm.CNOT, register[i-1], register[i])\n",
    "            multiplexor = phase_multiplexor_base(angle)\n",
    "            # print(register[:i])\n",
    "            routine.apply(multiplexor, register[:i+1])\n",
    "        else:\n",
    "            # For other qbits we need to create the new multiplexor from the before step multiplexor\n",
    "            routine.apply(qlm.CNOT, register[i-1], register[i])\n",
    "            multiplexor = recursive_multiplexor(multiplexor)\n",
    "            routine.apply(multiplexor, register[:i+1])\n",
    "            \n",
    "    return routine\n"
   ]
  },
  {
   "cell_type": "code",
   "execution_count": null,
   "id": "59257080",
   "metadata": {},
   "outputs": [],
   "source": [
    "number_of_qbits = 4\n",
    "angle = np.pi/2.0\n",
    "multi_plex_ph = multiplexor_controlled_ph(angle, number_of_qbits)\n",
    "print('Recursive application of multiplexors for mutlicontrolle Phase')\n",
    "%qatdisplay multi_plex_ph --depth 1\n",
    "print('Recursive application of multiplexors for mutlicontrolle Phase: Decomposition')\n",
    "%qatdisplay multi_plex_ph --depth \n",
    "test_multi_plex_ph = testing_gate(multi_plex_ph)\n",
    "print(\"Testing Multi-Controlled Phase with Multiplexors\")\n",
    "%qatdisplay test_multi_plex_ph\n",
    "results_multi_plex_ph, _, _, _, _ = get_results(test_multi_plex_ph, linalg_qpu=linalg_qpu, shots=0)"
   ]
  },
  {
   "cell_type": "code",
   "execution_count": null,
   "id": "a31a032d",
   "metadata": {
    "scrolled": false
   },
   "outputs": [],
   "source": [
    "#·Comparison  with QLM implementation\n",
    "c_phase_qlm = qlm.PH(angle).ctrl(number_of_qbits-1)\n",
    "print(\"QLM Controlled Phase Gate\")\n",
    "%qatdisplay c_phase_qlm\n",
    "test_c_phase_qlm = testing_gate(c_phase_qlm)\n",
    "print(\"Testing Cricuit for QLM Controlled Phase Gate\")\n",
    "%qatdisplay test_c_phase_qlm\n",
    "results_c_phase_qlm, _, _, _, _ = get_results(test_c_phase_qlm, linalg_qpu=linalg_qpu, shots=0)"
   ]
  },
  {
   "cell_type": "code",
   "execution_count": null,
   "id": "4ecc3905",
   "metadata": {
    "scrolled": true
   },
   "outputs": [],
   "source": [
    "results_multi_plex_ph"
   ]
  },
  {
   "cell_type": "code",
   "execution_count": null,
   "id": "1b4fa73a",
   "metadata": {},
   "outputs": [],
   "source": [
    "results_c_phase_qlm"
   ]
  },
  {
   "cell_type": "code",
   "execution_count": null,
   "id": "0e4c8b8f",
   "metadata": {
    "scrolled": true
   },
   "outputs": [],
   "source": [
    "Testing_columns = ['Int_lsb', 'Probability', 'Amplitude']\n",
    "np.isclose(results_multi_plex_ph[Testing_columns], results_c_phase_qlm[Testing_columns]).all()"
   ]
  },
  {
   "cell_type": "markdown",
   "id": "dd02c665",
   "metadata": {},
   "source": [
    "## 5. Multi-Controlled-Z\n",
    "\n",
    "The multi controlled-Z is a particular case of the multi controlled phase where the angle is just $\\pi$"
   ]
  },
  {
   "cell_type": "code",
   "execution_count": null,
   "id": "9dfdfe6f",
   "metadata": {},
   "outputs": [],
   "source": [
    "@qlm.build_gate(\"Multiplexor_C_Z\", [int], arity = lambda x: x)\n",
    "def multiplexor_controlled_z(number_qubits):\n",
    "    \"\"\"\n",
    "    Multiplexor implementation for a multi-controlled-Z gate\n",
    "    \n",
    "    Parameters\n",
    "    ----------\n",
    "    \n",
    "\n",
    "    number_qubits : int\n",
    "        Number of qbits for the multi-controlled phase gate gate\n",
    "        \n",
    "    Returns\n",
    "    _______\n",
    "    \n",
    "    routine : QLM routine \n",
    "        QLM routine wiht the implementation of a multi-controlled Z gate\n",
    "    \"\"\"    \n",
    "    return multiplexor_controlled_ph(np.pi, number_qubits)"
   ]
  },
  {
   "cell_type": "code",
   "execution_count": null,
   "id": "2b8695d5",
   "metadata": {},
   "outputs": [],
   "source": [
    "number_of_qbits = 6\n",
    "multiplexor_c_c_z = multiplexor_controlled_z(number_of_qbits)\n",
    "print('Mult Controlled Z gate')\n",
    "%qatdisplay multiplexor_c_c_z --depth 0\n",
    "print('Mult Controlled Z gate: Decomposition')\n",
    "%qatdisplay multiplexor_c_c_z --depth 1\n",
    "test_multiplexor_c_c_z = testing_gate(multiplexor_c_c_z)\n",
    "print(\"Testing Multi-Controlled Z gate with Multiplexors\")\n",
    "%qatdisplay test_multiplexor_c_c_z\n",
    "results_multiplexor_c_c_z, _, _, _, _ = get_results(test_multiplexor_c_c_z, linalg_qpu=linalg_qpu, shots=0)"
   ]
  },
  {
   "cell_type": "code",
   "execution_count": null,
   "id": "06d14545",
   "metadata": {},
   "outputs": [],
   "source": [
    "#·Comparison  with QLM implementation\n",
    "c_Z_qlm = qlm.Z.ctrl(number_of_qbits-1)\n",
    "print(\"QLM Controlled Z Gate\")\n",
    "%qatdisplay c_Z_qlm\n",
    "test_c_Z_qlm = testing_gate(c_Z_qlm)\n",
    "print(\"Testing Cricuit for QLM Controlled Phase Gate\")\n",
    "%qatdisplay test_c_Z_qlm\n",
    "results_c_Z_qlm, _, _, _, _ = get_results(test_c_Z_qlm, linalg_qpu=linalg_qpu, shots=0)"
   ]
  },
  {
   "cell_type": "code",
   "execution_count": null,
   "id": "d0e13f56",
   "metadata": {},
   "outputs": [],
   "source": [
    "results_multiplexor_c_c_z"
   ]
  },
  {
   "cell_type": "code",
   "execution_count": null,
   "id": "73eda6cd",
   "metadata": {},
   "outputs": [],
   "source": [
    "results_c_Z_qlm"
   ]
  },
  {
   "cell_type": "code",
   "execution_count": null,
   "id": "63bfbe55",
   "metadata": {},
   "outputs": [],
   "source": [
    "Testing_columns = ['Int_lsb', 'Probability', 'Amplitude']\n",
    "np.isclose(results_multiplexor_c_c_z[Testing_columns], results_c_Z_qlm[Testing_columns]).all()"
   ]
  }
 ],
 "metadata": {
  "kernelspec": {
   "display_name": "Python 3 (ipykernel)",
   "language": "python",
   "name": "python3"
  },
  "language_info": {
   "codemirror_mode": {
    "name": "ipython",
    "version": 3
   },
   "file_extension": ".py",
   "mimetype": "text/x-python",
   "name": "python",
   "nbconvert_exporter": "python",
   "pygments_lexer": "ipython3",
   "version": "3.9.9"
  }
 },
 "nbformat": 4,
 "nbformat_minor": 5
}
