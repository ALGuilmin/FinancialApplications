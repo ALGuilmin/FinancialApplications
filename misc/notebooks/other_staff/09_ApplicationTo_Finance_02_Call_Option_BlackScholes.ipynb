{
 "cells": [
  {
   "cell_type": "markdown",
   "id": "c3c573ed",
   "metadata": {},
   "source": [
    "# Application of amplitude estimation to Finances: Call Option under Black Scholes model\n",
    "\n",
    "Present Notebook will use **amplification amplitude** techniques as explained in notebook: *08_ApplicationTo_Finance_01_StandardApproach* for solving the price of a *vanilla european Call Option* under the **Black Scholes** model. \n",
    "\n",
    "We have developed the *classical_finance* module inside the package *utils* of the *QQuantLib*  (**QQuantLib/utils/classical_finance.py**) where several *Finance* functions were created.\n",
    "\n"
   ]
  },
  {
   "cell_type": "code",
   "execution_count": null,
   "id": "83bba602",
   "metadata": {},
   "outputs": [],
   "source": [
    "import sys\n",
    "sys.path.append(\"../../\")"
   ]
  },
  {
   "cell_type": "code",
   "execution_count": null,
   "id": "db0cdcb4",
   "metadata": {},
   "outputs": [],
   "source": [
    "import numpy as np\n",
    "import pandas as pd\n",
    "import matplotlib.pyplot as plt\n",
    "import qat.lang.AQASM as qlm"
   ]
  },
  {
   "cell_type": "code",
   "execution_count": null,
   "id": "eb15bf8e",
   "metadata": {},
   "outputs": [],
   "source": [
    "%matplotlib inline"
   ]
  },
  {
   "cell_type": "code",
   "execution_count": null,
   "id": "e6f6574d",
   "metadata": {},
   "outputs": [],
   "source": [
    "#This cell loads the QLM solver.\n",
    "#QLMaaS == False -> uses PyLinalg\n",
    "#QLMaaS == True -> try to use LinAlg (for using QPU as CESGA QLM one)\n",
    "from QQuantLib.utils.qlm_solver import get_qpu\n",
    "QLMaaS = False\n",
    "linalg_qpu = get_qpu(QLMaaS)"
   ]
  },
  {
   "cell_type": "markdown",
   "id": "ffa02964",
   "metadata": {},
   "source": [
    "## 1. The problem\n",
    "\n",
    "We have a **financial asset** whose value at a time $t$ is $S(t)$. The volatility of the asset will be $\\sigma$. The **risk free rate** will be $r$. Under this considerations we are going to create a **derivative contract** based on the evolution of the underlying wich a definite duration time (**maturity**): $T$. This product will be characterized by its **return** that will be a function that will depends of the price of the underlying and of the *maturity*:  $f=f(S(t), T)$. The question is: **What is the 'fair' price of our derivative contract at a time t when underlying is S(t): $V_f(S(t), t)$?**.\n",
    "\n",
    "So we have:\n",
    "\n",
    "* $S = S(t)$ price of the underlying at $t$.\n",
    "* $\\sigma$ volatility of the underlying.\n",
    "* *Risk free rate*: $r$\n",
    "* Return of the financial product: $f=f(S(t), T)$.\n",
    "\n",
    "And we want:\n",
    "\n",
    "* $V_f(S(t), t)$\n"
   ]
  },
  {
   "cell_type": "markdown",
   "id": "b93ca766",
   "metadata": {},
   "source": [
    "## 2. Black-Scholes Model\n",
    "\n",
    "One model for obtaining this $V_f(S(t), t)$ is the **Black-Scholes** which relies in the following assumptions:\n",
    "\n",
    "1. The underlying $S(t)$ follows a lognormal random walk.\n",
    "2. The risk-free interest rate $r$ is a known function of time $t$.\n",
    "3. There are no divindends on the underlying $S$\n",
    "4. Dynamic **delta Hedging** (risk elimination strategy)\n",
    "5. No arbitrage oppotunities.\n",
    "\n",
    "Under this condition the Black-Scholes equation relates underlying $S$ with the price of the financial product $V$:\n",
    "\n",
    "$$\\frac{\\partial V}{\\partial t}+\\frac{1}{2}\\sigma^2S^2\\frac{\\partial^2 V}{\\partial^2 S} + rS\\frac{\\partial V}{ \\partial S} - rV = 0$$"
   ]
  },
  {
   "cell_type": "markdown",
   "id": "2c0f15c9",
   "metadata": {},
   "source": [
    "## 3. Price of derivative contract\n",
    "\n",
    "So far we have:\n",
    "\n",
    "1. Financial asset with value $S(t)$, volatility $\\sigma$, and risk free rate $r$\n",
    "2. **Derivative contract**  over the financial asset $S$ with a maturity $T$ and a return of $f=f(S(t), T)$\n",
    "\n",
    "Under the **Black-Scholes** equation, the value of our **derivative contract**  at time $t$ and correspondient underlying $S(t)$ will be given by the following equation:\n",
    "\n",
    "$$V(t, S(t)) = e^{r(T-t)} \\mathbb{E}_{P_{BS}}[f(S_T)]$$\n",
    "\n",
    "Where \n",
    "\n",
    "* $S_T$ is the value of the underlying asset at the *maturity* time $T$.\n",
    "* $\\mathbb{E}_{P_{BS}}[f(S_T)]$ is the expected value of the return of the *financial product* at maturity time $T$ and asset value $S_T$ when $S_T$ follows a **Black-Scholes** probability density, $P_{BS}$.\n",
    "\n",
    "The **Black-Scholes** probability density, $P_{BS}$ is given by:\n",
    "\n",
    "$$P_{BS} (S_T; t, S(t)) = \\frac{1}{S_T\\sigma\\sqrt{2\\pi(T-t)}}exp\\big({-\\frac{(\\log S_T -\\mu)^2}{2\\sigma^2(T-t)}}\\big)$$\n",
    "\n",
    "and\n",
    "\n",
    "$$\\mu = (r-\\frac{1}{2}\\sigma^2)(T-t)+\\log S(t)$$\n",
    "\n",
    "The $P_{BS}$ give us the probability density of the underlying value at the maturity time $T$, $S_T$, when for a time $t$ the underlaying have a value $S(t)$ (following the **Black-Scholes** equation).\n",
    "\n",
    "So the price of the financial product for $t$ and $S(t)$  will be:\n",
    "\n",
    "$$V(t, S(t))= e^{r(T-t)} \\mathbb{E}_{P_{BS}}[f] =  e^{r(T-t)} \\int_0^\\infty P_{BS} (S_T; t, S(t)) f(S_T)dS_T$$\n",
    "\n",
    "\n",
    "The *return* of the financial product at the maturity time is the **Payoff** of the product: $f(S_T) = Payoff(S_T)$.\n",
    "\n",
    "\n",
    "First we are going to load the **Black-Scholes** probability density. For this we can use the *bs_probability* function from the  *classical_finance* module (**QQuantLib/utils/classical_finance.py**)"
   ]
  },
  {
   "cell_type": "code",
   "execution_count": null,
   "id": "e58efd5e",
   "metadata": {},
   "outputs": [],
   "source": [
    "from QQuantLib.utils.classical_finance import bs_probability"
   ]
  },
  {
   "cell_type": "code",
   "execution_count": null,
   "id": "5ee57bdc",
   "metadata": {},
   "outputs": [],
   "source": [
    "#Parameters of out model\n",
    "S0 = 2\n",
    "r = 0.04\n",
    "sigma = 0.1\n",
    "#maturity time for the derivative contract\n",
    "T = 300/365 #300 days"
   ]
  },
  {
   "cell_type": "code",
   "execution_count": null,
   "id": "799ec883",
   "metadata": {},
   "outputs": [],
   "source": [
    "n_qbits = 5\n",
    "x = np.linspace(1,3,2**n_qbits)\n",
    "prob_bs = bs_probability(s_t=x, s_0=S0,risk_free_rate=r,volatility=sigma,maturity=T)"
   ]
  },
  {
   "cell_type": "code",
   "execution_count": null,
   "id": "5493043e",
   "metadata": {
    "scrolled": true
   },
   "outputs": [],
   "source": [
    "#Black-Scholes Probability density\n",
    "plt.plot(x, prob_bs)\n",
    "plt.xlabel(r'$S_T$')\n",
    "plt.ylabel(r'$P(S_T, S_0)$')\n",
    "plt.title(r'Black-Scholes Probability density. r= {} $\\sigma$= {}. $S_0$= {}'.format(r, sigma, S0))"
   ]
  },
  {
   "cell_type": "markdown",
   "id": "122bcbcf",
   "metadata": {},
   "source": [
    "So in the before graph we plot the probability of the value of the underlying S at maturity time T, following the **Black Scholes** model when risk free rate is $r$ and volatility of S is $\\sigma$ and the initial value of the underlying is $S_0$"
   ]
  },
  {
   "cell_type": "markdown",
   "id": "d653e415",
   "metadata": {},
   "source": [
    "## 4. European Vanilla Call Option\n",
    "\n",
    "We are going to use as **derivative contract** a Vanilla European Call Option. This derivative allows the holder to buy an underlying asset S at a maturity time $T$ at a fixed price $K$ (**strike**) independently of the value of $S_T$. The return of this option at a time $t$ is:\n",
    "\n",
    "$$f(t, K) = \\max(0, S(t)-K)$$\n",
    "\n",
    "And the final payoff (the return at the maturity time $T$) will be:\n",
    "\n",
    "$$Payoff(S_T, T, K)= \\max(0, S_T-K)=(S_T-K)^+$$\n",
    "\n",
    "We are going to use the function *call_payoff* from **QQuantLib/utils/classical_finance** module for the final payoff of the Europan call option."
   ]
  },
  {
   "cell_type": "code",
   "execution_count": null,
   "id": "c0e9700b",
   "metadata": {},
   "outputs": [],
   "source": [
    "from QQuantLib.utils.classical_finance import call_payoff"
   ]
  },
  {
   "cell_type": "code",
   "execution_count": null,
   "id": "962dc997",
   "metadata": {},
   "outputs": [],
   "source": [
    "#Strike\n",
    "K = 1.9\n",
    "payoff_call = call_payoff(x, strike=K)"
   ]
  },
  {
   "cell_type": "code",
   "execution_count": null,
   "id": "32d8c4f3",
   "metadata": {
    "scrolled": true
   },
   "outputs": [],
   "source": [
    "#European Call Option Payoff\n",
    "plt.plot(x, payoff_call)\n",
    "plt.xlabel(r'$S_T$')\n",
    "plt.ylabel(r'$Payoff(S_T, S_0)$')\n",
    "plt.title(r'European Call Option Payoff. K= {}'.format(K))"
   ]
  },
  {
   "cell_type": "markdown",
   "id": "31d5c5a4",
   "metadata": {},
   "source": [
    "## 5. Call Option under Black-Scholes\n",
    "\n",
    "Under the *Black-Scholes* probability density, an asset volatility $\\sigma$ and free risk-rate $r$ the price of a call option at $t=0$ and $S(t=0)=S_0$ will be:\n",
    "\n",
    "$$V(S_0, K, T)=  e^{rT} \\int_0^\\infty P_{BS} (S_T; S_0) Payoff(S_T, K, T)dS_T=e^{rT} \\int_0^\\infty P_{BS} (S_T; S_0)(S_T-K)^+dS_T$$\n",
    "\n",
    "where\n",
    "\n",
    "$$P_{BS} (S_T; S_0) = \\frac{1}{S_T\\sigma\\sqrt{2\\pi T}}exp\\big({-\\frac{(\\log S_T -\\mu)^2}{2\\sigma^2 T}}\\big)$$\n",
    "\n",
    "and \n",
    "$$\\mu = (r-\\frac{1}{2}\\sigma^2)T+\\log S_0$$\n",
    "\n",
    "The value for an European Call Option under the **Black-Scholes** model has an exact solution:\n",
    " \n",
    "$$V(S(t), t)= S(t)*\\Phi(d_1)-Ke^{-r*(T-t)}\\Phi(d_2)$$\n",
    " \n",
    "where:\n",
    "\n",
    "$$d_1 = \\frac{log(\\frac{S(t)}{K})+(r+\\frac{1}{2}\\sigma^2)(T-t)}{\\sigma\\sqrt{T-t}}$$\n",
    "$$d_2 = \\frac{log(\\frac{S(t)}{K})+(r-\\frac{1}{2}\\sigma^2)(T-t)}{\\sigma\\sqrt{T-t}}$$\n",
    "$$\\Phi(x)=\\frac{1}{\\sqrt{2\\pi}}\\int_{-\\infty}^{x} e^{\\frac{-1}{2}\\phi^2}d\\phi$$\n",
    "\n",
    "\n",
    "The function *bs_call_price* from **QQuantLib/utils/classical_finance** module computes this exact solution."
   ]
  },
  {
   "cell_type": "code",
   "execution_count": null,
   "id": "fbace3e3",
   "metadata": {},
   "outputs": [],
   "source": [
    "from QQuantLib.utils.classical_finance import bs_call_price"
   ]
  },
  {
   "cell_type": "code",
   "execution_count": null,
   "id": "793e7e40",
   "metadata": {},
   "outputs": [],
   "source": [
    "exact_price = bs_call_price(s_0=S0, risk_free_rate=r, volatility=sigma, maturity=T, strike=K)\n",
    "print(\"Exact price: \",exact_price)"
   ]
  },
  {
   "cell_type": "markdown",
   "id": "4baaaacf",
   "metadata": {},
   "source": [
    "## 6. Quantum Amplification techniques\n",
    "\n",
    "So for the *Call Option* under the **Black Scholes** model the price will be:\n",
    "\n",
    "$$V(S_0, K, T)= e^{rT} \\int_0^\\infty P_{BS} (S_T; S_0)(S_T-K)^+dS_T$$\n",
    "\n",
    "The integral is the expectation value of the payoff under the **Black-Scholes** probaility density so we can reformulate before equation as:\n",
    "\n",
    "$$V(S_0, K, T)=  e^{-rT}\\mathbb{E}_{P_{BS}}[(S_T-K)^+]$$\n",
    "\n",
    "We can compute the $\\mathbb{E}_{P_{BS}}[(S_T-K)^+]$ in a classical way \n",
    "\n",
    "$$\\mathbb{E}_{P_{BS}}[(S_T-K)^+] = \\sum_{i=0}^{2^n-1} P_{BS}(x_i)(x_i-K)^+$$\n",
    "\n"
   ]
  },
  {
   "cell_type": "code",
   "execution_count": null,
   "id": "5a4b328e",
   "metadata": {},
   "outputs": [],
   "source": [
    "classical_price = np.sum(prob_bs*payoff_call)*np.exp(-r*T)\n",
    "print(\"Classical Price: \",classical_price)"
   ]
  },
  {
   "cell_type": "markdown",
   "id": "12273c10",
   "metadata": {},
   "source": [
    "$\\mathbb{E}_{P_{BS}}[(S_T-K)^+]$ can be calculated using **amplitude amplification** techniques as shown in *08_ApplicationTo_Finance_01_StandardApproach*. Following parts explain how to do this."
   ]
  },
  {
   "cell_type": "markdown",
   "id": "2e9a500e",
   "metadata": {},
   "source": [
    "### 6.1 Normalisation\n",
    "\n",
    "First thing we need to do is check if our probability ($P_{BS}(S_t)$) and our pay off function ($Payoff(S_t, T, K)$) are properly normalised:\n",
    "\n",
    "* For $P_{BS}(x)$ is mandatory that: $\\sum_{i=0}^{2^{n}} P_{BS}(x_i) = 1$\n",
    "* For $Payoff(x, T, K)$ is mandatory that: $Payoff(x_i) \\leq 1 \\forall i$\n",
    "\n",
    "If one of the before conditions is not fullfilled we need to normalised the functions!!\n"
   ]
  },
  {
   "cell_type": "code",
   "execution_count": null,
   "id": "6c8f1883",
   "metadata": {},
   "outputs": [],
   "source": [
    "print('p(x) condition: {}'.format(np.sum(prob_bs) == 1))\n",
    "print('f(x) condition: {}'.format(np.max(payoff_call) <= 1))\n",
    "#Normalisation of Payy Off\n",
    "payoff_normalisation = np.max(payoff_call)\n",
    "\n",
    "payoff_call_normalised = payoff_call/payoff_normalisation\n",
    "print('f(x) condition: {}'.format(np.max(payoff_call_normalised) <= 1))"
   ]
  },
  {
   "cell_type": "markdown",
   "id": "0fd7885f",
   "metadata": {},
   "source": [
    "We need to used *payoff_call_normalised* instead of *payoff_call* as function for our **amplitude amplification** problem"
   ]
  },
  {
   "cell_type": "markdown",
   "id": "4d23ec8e",
   "metadata": {},
   "source": [
    "### 6.2 Loading Data and Oracle creation\n",
    "\n",
    "Second step will be the loading of the functions into the quantum state:"
   ]
  },
  {
   "cell_type": "code",
   "execution_count": null,
   "id": "bcdd50bf",
   "metadata": {},
   "outputs": [],
   "source": [
    "from QQuantLib.DL.data_loading import load_probability, load_array"
   ]
  },
  {
   "cell_type": "code",
   "execution_count": null,
   "id": "ff6257ec",
   "metadata": {
    "scrolled": true
   },
   "outputs": [],
   "source": [
    "p_gate = load_probability(prob_bs)\n",
    "f_gate = load_array(np.sqrt(payoff_call_normalised))\n",
    "\n",
    "\n",
    "call_option_oracle = qlm.QRoutine()\n",
    "call_option_registers = call_option_oracle.new_wires(f_gate.arity)\n",
    "call_option_oracle.apply(p_gate, call_option_registers[:p_gate.arity])\n",
    "call_option_oracle.apply(f_gate, call_option_registers)\n",
    "\n",
    "%qatdisplay call_option_oracle --depth 0 --svg"
   ]
  },
  {
   "cell_type": "markdown",
   "id": "337fd36f",
   "metadata": {},
   "source": [
    "### 6.3 Amplitude Amplification routines\n",
    "\n",
    "Now we can use the *amplitude amplification* routines for solving the **amplitude amplification** problem. Following routines will be used:\n",
    "\n",
    "1. Maximum Likelihood Amplitude Estimation (MLAE)\n",
    "2. Amplitude Estimation using classical Quantum Phase Estimation (PE_QFT_AE)\n",
    "3. Amplitude Estimation using iterative Quantum Phase Estimation (IQPE_AE)\n",
    "4. Iterative Quantum Amplitude Estimation (IQAE)\n",
    "\n",
    "\n",
    "For using the different classes for solving our call option price problem we need to provide always:\n",
    "\n",
    "* Oracle (*call_option_oracle*)\n",
    "* target: $|0\\rangle$ state of the last qbit\n",
    "* index: index of the last qbit"
   ]
  },
  {
   "cell_type": "code",
   "execution_count": null,
   "id": "241fc47d",
   "metadata": {},
   "outputs": [],
   "source": [
    "target = [0]\n",
    "index = [call_option_oracle.arity-1]"
   ]
  },
  {
   "cell_type": "markdown",
   "id": "fc02894a",
   "metadata": {},
   "source": [
    "#### MLAE"
   ]
  },
  {
   "cell_type": "code",
   "execution_count": null,
   "id": "38583993",
   "metadata": {},
   "outputs": [],
   "source": [
    "from QQuantLib.AE.maximum_likelihood_ae import MLAE\n",
    "\n",
    "mlae_dict = {\n",
    "    'qpu': linalg_qpu,\n",
    "    'mcz_qlm': True  \n",
    "}\n",
    "mlae = MLAE(\n",
    "    call_option_oracle,\n",
    "    target = target,\n",
    "    index = index, \n",
    "    **mlae_dict\n",
    ")\n",
    "\n",
    "mlae_a = mlae.run()\n",
    "print('mlae_a: ', mlae_a)"
   ]
  },
  {
   "cell_type": "code",
   "execution_count": null,
   "id": "835c1210",
   "metadata": {},
   "outputs": [],
   "source": [
    "mlae.circuit_statistics"
   ]
  },
  {
   "cell_type": "markdown",
   "id": "2b10d85d",
   "metadata": {},
   "source": [
    "###  CQPE_AE"
   ]
  },
  {
   "cell_type": "code",
   "execution_count": null,
   "id": "304c9560",
   "metadata": {},
   "outputs": [],
   "source": [
    "from QQuantLib.AE.ae_classical_qpe import CQPEAE\n",
    "\n",
    "ae_cqpe_dict = {\n",
    "    'qpu': linalg_qpu,\n",
    "    'auxiliar_qbits_number': 8,\n",
    "    'shots': 100,\n",
    "    'mcz_qlm': True      \n",
    "}\n",
    "\n",
    "ae_cqpe = CQPEAE(\n",
    "    call_option_oracle,\n",
    "    target = target,\n",
    "    index = index, \n",
    "    **ae_cqpe_dict\n",
    ")\n",
    "ae_cqpe_a  = ae_cqpe.run()\n",
    "\n",
    "print('ae_cqpe_a: ', ae_cqpe_a)"
   ]
  },
  {
   "cell_type": "code",
   "execution_count": null,
   "id": "b2f1566b",
   "metadata": {},
   "outputs": [],
   "source": [
    "ae_cqpe.circuit_statistics"
   ]
  },
  {
   "cell_type": "markdown",
   "id": "297775df",
   "metadata": {},
   "source": [
    "#### IQPE_AE"
   ]
  },
  {
   "cell_type": "code",
   "execution_count": null,
   "id": "d5ed45cb",
   "metadata": {},
   "outputs": [],
   "source": [
    "from QQuantLib.AE.ae_iterative_quantum_pe import IQPEAE\n",
    "\n",
    "ae_iqpe_dict = {\n",
    "    'qpu': linalg_qpu,\n",
    "    'cbits_number': 8,\n",
    "    'shots': 10,\n",
    "    'mcz_qlm': True  \n",
    "}\n",
    "\n",
    "ae_iqpe = IQPEAE(\n",
    "    call_option_oracle,\n",
    "    target = target,\n",
    "    index = index, \n",
    "    **ae_iqpe_dict\n",
    ")\n",
    "\n",
    "ae_iqpe_a  = ae_iqpe.run()\n",
    "\n",
    "print('ae_iqpe_a: ', ae_iqpe_a)"
   ]
  },
  {
   "cell_type": "code",
   "execution_count": null,
   "id": "563ace2b",
   "metadata": {},
   "outputs": [],
   "source": [
    "ae_iqpe.run_time"
   ]
  },
  {
   "cell_type": "code",
   "execution_count": null,
   "id": "588efc59",
   "metadata": {},
   "outputs": [],
   "source": [
    "ae_iqpe.circuit_statistics"
   ]
  },
  {
   "cell_type": "markdown",
   "id": "c00b9797",
   "metadata": {},
   "source": [
    "#### IQAE"
   ]
  },
  {
   "cell_type": "code",
   "execution_count": null,
   "id": "ff82f559",
   "metadata": {
    "scrolled": false
   },
   "outputs": [],
   "source": [
    "from QQuantLib.AE.iterative_quantum_ae import IQAE\n",
    "\n",
    "iqae_dict = {\n",
    "    'qpu': linalg_qpu,\n",
    "    'mcz_qlm': True      \n",
    "}\n",
    "\n",
    "iqae = IQAE(\n",
    "    call_option_oracle,\n",
    "    target = target,\n",
    "    index = index, \n",
    "    **iqae_dict\n",
    ")\n",
    "\n",
    "iqae_a = iqae.run()\n",
    "\n",
    "print('iqae_a: ', iqae_a)"
   ]
  },
  {
   "cell_type": "code",
   "execution_count": null,
   "id": "b73f9661",
   "metadata": {},
   "outputs": [],
   "source": [
    "iqae.circuit_statistics"
   ]
  },
  {
   "cell_type": "markdown",
   "id": "9447cc97",
   "metadata": {},
   "source": [
    "### 6.4 Getting the results\n",
    "\n",
    "The *run* method of the different *amplitude amplification* algorithms used allways return the $a$ estimation (see notebook 08_ApplicationTo_Finance_01_StandardApproach).\n",
    "\n",
    "For the european call option under **Black Scholes** we normalized the payoff (section 6.1), so, for getting the correct results wee need to undo this normalization:\n",
    "\n",
    "$$\\mathbb{E}_{P_{BS}}[(S_T-K)^+] = a*\\max(Payoff(x_i))$$  \n",
    "\n",
    "Additionally for calculating the the price of the call option under **Black Scholes** we need:\n",
    "\n",
    "$$V(S_0, K, T)=  e^{-rT}\\mathbb{E}_{P_{BS}}[(S_T-K)^+]$$"
   ]
  },
  {
   "cell_type": "markdown",
   "id": "cc2abc4e",
   "metadata": {},
   "source": [
    "## SUMMARY"
   ]
  },
  {
   "cell_type": "code",
   "execution_count": null,
   "id": "6f05bfc5",
   "metadata": {},
   "outputs": [],
   "source": [
    "methods = ['MLAE', 'CQPEAE', 'IQPEAE', 'IQAE']\n",
    "a_estimated = [mlae.ae, ae_cqpe.ae, ae_iqpe.ae, iqae.ae]\n",
    "\n",
    "\n",
    "dic_staff = {\n",
    "    'AE_a': a_estimated,\n",
    "}\n",
    "\n",
    "Results = pd.DataFrame(dic_staff, index=methods)\n",
    "\n",
    "#For getting the proper results we need to undo the payoff_normalisation\n",
    "\n",
    "Results['AE_Results'] = Results['AE_a']*payoff_normalisation\n",
    "Results['AE_call_option_price'] = Results['AE_Results']*np.exp(-r*T)\n",
    "Results['Exact_call_option_price'] = exact_price\n",
    "Results['classical_price'] = classical_price\n",
    "Results['Error'] = np.abs(Results['Exact_call_option_price']-Results['AE_call_option_price'])"
   ]
  },
  {
   "cell_type": "code",
   "execution_count": null,
   "id": "2cd57286",
   "metadata": {},
   "outputs": [],
   "source": [
    "Results"
   ]
  },
  {
   "cell_type": "code",
   "execution_count": null,
   "id": "5154fd78",
   "metadata": {},
   "outputs": [],
   "source": []
  },
  {
   "cell_type": "code",
   "execution_count": null,
   "id": "87398b7f",
   "metadata": {},
   "outputs": [],
   "source": []
  },
  {
   "cell_type": "code",
   "execution_count": null,
   "id": "769391b9",
   "metadata": {},
   "outputs": [],
   "source": []
  }
 ],
 "metadata": {
  "kernelspec": {
   "display_name": "Python 3 (ipykernel)",
   "language": "python",
   "name": "python3"
  },
  "language_info": {
   "codemirror_mode": {
    "name": "ipython",
    "version": 3
   },
   "file_extension": ".py",
   "mimetype": "text/x-python",
   "name": "python",
   "nbconvert_exporter": "python",
   "pygments_lexer": "ipython3",
   "version": "3.9.9"
  }
 },
 "nbformat": 4,
 "nbformat_minor": 5
}
