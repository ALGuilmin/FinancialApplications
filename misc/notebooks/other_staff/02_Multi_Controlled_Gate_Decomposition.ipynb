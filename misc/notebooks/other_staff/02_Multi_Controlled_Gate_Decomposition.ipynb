{
 "cells": [
  {
   "cell_type": "markdown",
   "id": "b80960a8",
   "metadata": {},
   "source": [
    "# Reflection Gates with multiplexor multi-controlled Z gates.\n",
    "In the **01_Multi_Controlled_Gate_Decomposition.ipynb** notebook hte different functions for creating multi-controlled pahse (and Z) gates were explained.  In this notebook we are going to use this functions for creating the reflection gates mandatory for the Grover-like operator"
   ]
  },
  {
   "cell_type": "code",
   "execution_count": null,
   "id": "74c5a8ea",
   "metadata": {},
   "outputs": [],
   "source": [
    "import sys\n",
    "sys.path.append(\"../../../\")\n",
    "import numpy as np\n",
    "import pandas as pd\n",
    "import matplotlib.pyplot as plt\n",
    "import qat.lang.AQASM as qlm"
   ]
  },
  {
   "cell_type": "code",
   "execution_count": null,
   "id": "4afa15ce",
   "metadata": {},
   "outputs": [],
   "source": [
    "#This cell loads the QLM solver.\n",
    "#QLMaaS == False -> uses PyLinalg\n",
    "#QLMaaS == True -> try to use LinAlg (for using QPU as CESGA QLM one)\n",
    "from QQuantLib.utils.qlm_solver import get_qpu\n",
    "QLMaaS = False\n",
    "linalg_qpu = get_qpu(QLMaaS)"
   ]
  },
  {
   "cell_type": "code",
   "execution_count": null,
   "id": "9dc75de7",
   "metadata": {},
   "outputs": [],
   "source": [
    "#See 01_DataLoading_Module_Use for the use of this function\n",
    "from QQuantLib.utils.data_extracting import get_results"
   ]
  },
  {
   "cell_type": "code",
   "execution_count": null,
   "id": "1557f1d6",
   "metadata": {},
   "outputs": [],
   "source": [
    "from QQuantLib.DL.data_loading import uniform_distribution\n",
    "#Testing Function. Apply a Uniform distribution and then an input gate\n",
    "def testing_gate(input_gate):\n",
    "    \"\"\"\n",
    "    Function for testing purpouses. Given a QLM gate creates a uniform distribution based\n",
    "    on the arity if the inbput gate and apply the gate.\n",
    "    \n",
    "    Parameters\n",
    "    ----------\n",
    "    \n",
    "    input_gate : QLM routine \n",
    "        QLM routine user want to test\n",
    "        \n",
    "    Returns\n",
    "    _______\n",
    "    \n",
    "    routine : QLM routine \n",
    "        QLM routine for testing input gate. \n",
    "    \n",
    "    \n",
    "    \"\"\"\n",
    "    number_qubits = input_gate.arity\n",
    "    routine = qlm.QRoutine()\n",
    "    register = routine.new_wires(number_qubits)    \n",
    "    routine.apply(uniform_distribution(number_qubits), register)\n",
    "    routine.apply(input_gate, register)\n",
    "    return routine"
   ]
  },
  {
   "cell_type": "markdown",
   "id": "5d1dc09b",
   "metadata": {},
   "source": [
    "## 1. Multiplexors functions in library.\n",
    "\n",
    "We have stored following functions from notebook in module **QQuantLib.AA.amplitude_amplification**:\n",
    "* **phase_multiplexor_base**\n",
    "* **recursive_multiplexor**\n",
    "* **multiplexor_controlled_ph**\n",
    "* **multiplexor_controlled_z**\n",
    "\n",
    "In this section we, briefly, test the use of the two necesary functions  *multiplexor_controlled_ph* and  *multiplexor_controlled_z*"
   ]
  },
  {
   "cell_type": "code",
   "execution_count": null,
   "id": "cb40cc0d",
   "metadata": {},
   "outputs": [],
   "source": [
    "from QQuantLib.AA.amplitude_amplification import multiplexor_controlled_ph, multiplexor_controlled_z"
   ]
  },
  {
   "cell_type": "markdown",
   "id": "5ee18ff7",
   "metadata": {},
   "source": [
    "### 1.1 Multi-Controlled Phase Gate"
   ]
  },
  {
   "cell_type": "code",
   "execution_count": null,
   "id": "9ffab228",
   "metadata": {},
   "outputs": [],
   "source": [
    "number_of_qbits = 4\n",
    "phase_angle = np.pi/4.0\n",
    "mc_ph = multiplexor_controlled_ph(phase_angle, number_of_qbits)\n",
    "print('Multi-Controlled Phase with Multiplexors')\n",
    "%qatdisplay mc_ph --depth 0\n",
    "test_mc_ph = testing_gate(mc_ph)\n",
    "print(\"Testing Multi-Controlled Phase with Multiplexors\")\n",
    "%qatdisplay test_mc_ph\n",
    "results_mc_ph, _, _, _ = get_results(test_mc_ph, linalg_qpu=linalg_qpu, shots=0)"
   ]
  },
  {
   "cell_type": "code",
   "execution_count": null,
   "id": "d054a876",
   "metadata": {},
   "outputs": [],
   "source": [
    "#·Comparison  with QLM implementation\n",
    "c_phase_qlm = qlm.PH(phase_angle).ctrl(number_of_qbits-1)\n",
    "print(\"QLM Controlled Phase Gate\")\n",
    "%qatdisplay c_phase_qlm\n",
    "test_c_phase_qlm = testing_gate(c_phase_qlm)\n",
    "print(\"Testing Cricuit for QLM Controlled Phase Gate\")\n",
    "%qatdisplay test_c_phase_qlm\n",
    "results_c_phase_qlm, _, _, _ = get_results(test_c_phase_qlm, linalg_qpu=linalg_qpu, shots=0)"
   ]
  },
  {
   "cell_type": "code",
   "execution_count": null,
   "id": "589e8d2f",
   "metadata": {
    "scrolled": true
   },
   "outputs": [],
   "source": [
    "Testing_columns = ['Int_lsb', 'Probability', 'Amplitude']\n",
    "np.isclose(results_mc_ph[Testing_columns], results_c_phase_qlm[Testing_columns]).all()"
   ]
  },
  {
   "cell_type": "markdown",
   "id": "7e7aa4f9",
   "metadata": {},
   "source": [
    "### 1.2 Multi-Controlled Z Gate"
   ]
  },
  {
   "cell_type": "code",
   "execution_count": null,
   "id": "6dd39846",
   "metadata": {},
   "outputs": [],
   "source": [
    "number_of_qbits = 3\n",
    "phase_angle = np.pi/4.0\n",
    "mc_z = multiplexor_controlled_z(number_of_qbits)\n",
    "print('Multi-Controlled Z with Multiplexors')\n",
    "%qatdisplay mc_z --depth \n",
    "test_mc_z = testing_gate(mc_z)\n",
    "print(\"Testing Multi-Controlled Z with Multiplexors\")\n",
    "%qatdisplay test_mc_ph --depth\n",
    "results_mc_z, c, _, _ = get_results(test_mc_z, linalg_qpu=linalg_qpu, shots=0)"
   ]
  },
  {
   "cell_type": "code",
   "execution_count": null,
   "id": "a581bd5c",
   "metadata": {},
   "outputs": [],
   "source": [
    "c.statistics()"
   ]
  },
  {
   "cell_type": "code",
   "execution_count": null,
   "id": "314802ea",
   "metadata": {},
   "outputs": [],
   "source": [
    "#·Comparison  with QLM implementation\n",
    "c_Z_qlm = qlm.Z.ctrl(number_of_qbits-1)\n",
    "print(\"QLM Controlled Z Gate\")\n",
    "%qatdisplay c_Z_qlm\n",
    "test_c_Z_qlm = testing_gate(c_Z_qlm)\n",
    "print(\"Testing Cricuit for QLM Controlled Phase Gate\")\n",
    "%qatdisplay test_c_Z_qlm\n",
    "results_c_Z_qlm, _, _, _ = get_results(test_c_Z_qlm, linalg_qpu=linalg_qpu, shots=0)"
   ]
  },
  {
   "cell_type": "code",
   "execution_count": null,
   "id": "80c88e42",
   "metadata": {},
   "outputs": [],
   "source": [
    "Testing_columns = ['Int_lsb', 'Probability', 'Amplitude']\n",
    "np.isclose(results_mc_z[Testing_columns], results_c_Z_qlm[Testing_columns]).all()"
   ]
  },
  {
   "cell_type": "markdown",
   "id": "08893297",
   "metadata": {},
   "source": [
    "## 2. Testing Reflection"
   ]
  },
  {
   "cell_type": "code",
   "execution_count": null,
   "id": "c7867c7c",
   "metadata": {},
   "outputs": [],
   "source": [
    "from QQuantLib.DL.data_loading import load_probability, load_array"
   ]
  },
  {
   "cell_type": "markdown",
   "id": "8c9eafff",
   "metadata": {},
   "source": [
    "Creating staff for loading data"
   ]
  },
  {
   "cell_type": "code",
   "execution_count": null,
   "id": "5f4c19a3",
   "metadata": {},
   "outputs": [],
   "source": [
    "n = 3\n",
    "N = 2**n\n",
    "x = np.arange(N)\n",
    "p = x/np.sum(x)\n",
    "probability_routine = qlm.QRoutine()\n",
    "register = probability_routine.new_wires(n)\n",
    "probability_routine.apply(load_probability(p),register)\n",
    "%qatdisplay probability_routine --depth 1 --svg"
   ]
  },
  {
   "cell_type": "code",
   "execution_count": null,
   "id": "7b52fac0",
   "metadata": {},
   "outputs": [],
   "source": [
    "from QQuantLib.AA.amplitude_amplification import reflection"
   ]
  },
  {
   "cell_type": "code",
   "execution_count": null,
   "id": "f76ecdf5",
   "metadata": {},
   "outputs": [],
   "source": [
    "reflection1 = qlm.QRoutine()\n",
    "reflection1_register = reflection1.new_wires(n)\n",
    "reflection1.apply(probability_routine,reflection1_register)\n",
    "#Step 1: Creating reflection QLM Abstract Gate\n",
    "ReflectionGate = reflection([1,1,1], mcz_qlm=False)\n",
    "%qatdisplay ReflectionGate --depth 0 --svg\n",
    "#Step 2: Applying ReflectionGate to the affected qbits: In present case the reflection gate affects all the qbits of the system\n",
    "reflection1.apply(ReflectionGate, reflection1_register)\n",
    "%qatdisplay reflection1 --depth 1 --svg"
   ]
  },
  {
   "cell_type": "code",
   "execution_count": null,
   "id": "8f42cf1c",
   "metadata": {},
   "outputs": [],
   "source": [
    "results_reflection1, _, _, _ = get_results(reflection1, linalg_qpu=linalg_qpu, shots=0)\n",
    "amplitudes_reflection1 = results_reflection1[\"Amplitude\"].values\n",
    "results_reflection1"
   ]
  },
  {
   "cell_type": "code",
   "execution_count": null,
   "id": "d356cd08",
   "metadata": {},
   "outputs": [],
   "source": [
    "print(\"Classical amplitudes: \", np.sqrt(p))\n",
    "print(\"Quantum amplitudes: \",amplitudes_reflection1)"
   ]
  },
  {
   "cell_type": "code",
   "execution_count": null,
   "id": "dd3c5477",
   "metadata": {},
   "outputs": [],
   "source": [
    "print('Test OK: ',\n",
    "    np.isclose(np.sqrt(p)[:-1], amplitudes_reflection1[:-1]).all() and\n",
    "    np.isclose(np.sqrt(p)[-1], -amplitudes_reflection1[-1]).all()\n",
    "     )"
   ]
  },
  {
   "cell_type": "code",
   "execution_count": null,
   "id": "4f233685",
   "metadata": {},
   "outputs": [],
   "source": []
  }
 ],
 "metadata": {
  "kernelspec": {
   "display_name": "Python 3 (ipykernel)",
   "language": "python",
   "name": "python3"
  },
  "language_info": {
   "codemirror_mode": {
    "name": "ipython",
    "version": 3
   },
   "file_extension": ".py",
   "mimetype": "text/x-python",
   "name": "python",
   "nbconvert_exporter": "python",
   "pygments_lexer": "ipython3",
   "version": "3.9.9"
  }
 },
 "nbformat": 4,
 "nbformat_minor": 5
}
