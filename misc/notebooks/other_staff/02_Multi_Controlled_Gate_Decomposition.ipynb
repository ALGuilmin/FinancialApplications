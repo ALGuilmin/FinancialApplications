{
 "cells": [
  {
   "cell_type": "markdown",
   "id": "b80960a8",
   "metadata": {},
   "source": [
    "# Reflection Gates with multiplexor multi-controlled Z gates.\n",
    "In the **01_Multi_Controlled_Gate_Decomposition.ipynb** notebook the different functions for creating multi-controlled pahse (and Z) gates were explained.  In this notebook we are going to use this functions for creating the reflection gates mandatory for the Grover-like operator"
   ]
  },
  {
   "cell_type": "code",
   "execution_count": null,
   "id": "74c5a8ea",
   "metadata": {},
   "outputs": [],
   "source": [
    "import sys\n",
    "sys.path.append(\"../../../\")\n",
    "import numpy as np\n",
    "import pandas as pd\n",
    "import matplotlib.pyplot as plt\n",
    "import qat.lang.AQASM as qlm"
   ]
  },
  {
   "cell_type": "code",
   "execution_count": null,
   "id": "4afa15ce",
   "metadata": {},
   "outputs": [],
   "source": [
    "#This cell loads the QLM solver.\n",
    "#QLMaaS == False -> uses PyLinalg\n",
    "#QLMaaS == True -> try to use LinAlg (for using QPU as CESGA QLM one)\n",
    "from QQuantLib.utils.qlm_solver import get_qpu\n",
    "QLMaaS = False\n",
    "linalg_qpu = get_qpu(QLMaaS)"
   ]
  },
  {
   "cell_type": "code",
   "execution_count": null,
   "id": "9dc75de7",
   "metadata": {},
   "outputs": [],
   "source": [
    "#See 01_DataLoading_Module_Use for the use of this function\n",
    "from QQuantLib.utils.data_extracting import get_results"
   ]
  },
  {
   "cell_type": "code",
   "execution_count": null,
   "id": "1557f1d6",
   "metadata": {},
   "outputs": [],
   "source": [
    "from QQuantLib.DL.data_loading import uniform_distribution\n",
    "#Testing Function. Apply a Uniform distribution and then an input gate\n",
    "def testing_gate(input_gate):\n",
    "    \"\"\"\n",
    "    Function for testing purpouses. Given a QLM gate creates a uniform distribution based\n",
    "    on the arity if the inbput gate and apply the gate.\n",
    "    \n",
    "    Parameters\n",
    "    ----------\n",
    "    \n",
    "    input_gate : QLM routine \n",
    "        QLM routine user want to test\n",
    "        \n",
    "    Returns\n",
    "    _______\n",
    "    \n",
    "    routine : QLM routine \n",
    "        QLM routine for testing input gate. \n",
    "    \n",
    "    \n",
    "    \"\"\"\n",
    "    number_qubits = input_gate.arity\n",
    "    routine = qlm.QRoutine()\n",
    "    register = routine.new_wires(number_qubits)    \n",
    "    routine.apply(uniform_distribution(number_qubits), register)\n",
    "    routine.apply(input_gate, register)\n",
    "    return routine"
   ]
  },
  {
   "cell_type": "markdown",
   "id": "5d1dc09b",
   "metadata": {},
   "source": [
    "## 1. Multiplexors functions in library.\n",
    "\n",
    "We have stored following functions from notebook in module **QQuantLib.AA.amplitude_amplification**:\n",
    "* **phase_multiplexor_base**\n",
    "* **recursive_multiplexor**\n",
    "* **multiplexor_controlled_ph**\n",
    "* **multiplexor_controlled_z**\n",
    "\n",
    "In this section we, briefly, test the use of the two necesary functions  *multiplexor_controlled_ph* and  *multiplexor_controlled_z*"
   ]
  },
  {
   "cell_type": "code",
   "execution_count": null,
   "id": "cb40cc0d",
   "metadata": {},
   "outputs": [],
   "source": [
    "from QQuantLib.AA.amplitude_amplification import multiplexor_controlled_ph, multiplexor_controlled_z"
   ]
  },
  {
   "cell_type": "markdown",
   "id": "5ee18ff7",
   "metadata": {},
   "source": [
    "### 1.1 Multi-Controlled Phase Gate"
   ]
  },
  {
   "cell_type": "code",
   "execution_count": null,
   "id": "9ffab228",
   "metadata": {},
   "outputs": [],
   "source": [
    "number_of_qbits = 4\n",
    "phase_angle = np.pi/4.0\n",
    "mc_ph = multiplexor_controlled_ph(phase_angle, number_of_qbits)\n",
    "print('Multi-Controlled Phase with Multiplexors')\n",
    "%qatdisplay mc_ph --depth 0\n",
    "test_mc_ph = testing_gate(mc_ph)\n",
    "print(\"Testing Multi-Controlled Phase with Multiplexors\")\n",
    "%qatdisplay test_mc_ph\n",
    "results_mc_ph, _, _, _ = get_results(test_mc_ph, linalg_qpu=linalg_qpu, shots=0)"
   ]
  },
  {
   "cell_type": "code",
   "execution_count": null,
   "id": "d054a876",
   "metadata": {},
   "outputs": [],
   "source": [
    "#·Comparison  with QLM implementation\n",
    "c_phase_qlm = qlm.PH(phase_angle).ctrl(number_of_qbits-1)\n",
    "print(\"QLM Controlled Phase Gate\")\n",
    "%qatdisplay c_phase_qlm\n",
    "test_c_phase_qlm = testing_gate(c_phase_qlm)\n",
    "print(\"Testing Cricuit for QLM Controlled Phase Gate\")\n",
    "%qatdisplay test_c_phase_qlm\n",
    "results_c_phase_qlm, _, _, _ = get_results(test_c_phase_qlm, linalg_qpu=linalg_qpu, shots=0)"
   ]
  },
  {
   "cell_type": "code",
   "execution_count": null,
   "id": "589e8d2f",
   "metadata": {
    "scrolled": true
   },
   "outputs": [],
   "source": [
    "Testing_columns = ['Int_lsb', 'Probability', 'Amplitude']\n",
    "np.isclose(results_mc_ph[Testing_columns], results_c_phase_qlm[Testing_columns]).all()"
   ]
  },
  {
   "cell_type": "markdown",
   "id": "7e7aa4f9",
   "metadata": {},
   "source": [
    "### 1.2 Multi-Controlled Z Gate"
   ]
  },
  {
   "cell_type": "code",
   "execution_count": null,
   "id": "6dd39846",
   "metadata": {},
   "outputs": [],
   "source": [
    "number_of_qbits = 3\n",
    "phase_angle = np.pi/4.0\n",
    "mc_z = multiplexor_controlled_z(number_of_qbits)\n",
    "print('Multi-Controlled Z with Multiplexors')\n",
    "%qatdisplay mc_z --depth \n",
    "test_mc_z = testing_gate(mc_z)\n",
    "print(\"Testing Multi-Controlled Z with Multiplexors\")\n",
    "%qatdisplay test_mc_ph --depth\n",
    "results_mc_z, c, _, _ = get_results(test_mc_z, linalg_qpu=linalg_qpu, shots=0)"
   ]
  },
  {
   "cell_type": "code",
   "execution_count": null,
   "id": "a581bd5c",
   "metadata": {},
   "outputs": [],
   "source": [
    "c.statistics()"
   ]
  },
  {
   "cell_type": "code",
   "execution_count": null,
   "id": "314802ea",
   "metadata": {},
   "outputs": [],
   "source": [
    "#·Comparison  with QLM implementation\n",
    "c_Z_qlm = qlm.Z.ctrl(number_of_qbits-1)\n",
    "print(\"QLM Controlled Z Gate\")\n",
    "%qatdisplay c_Z_qlm\n",
    "test_c_Z_qlm = testing_gate(c_Z_qlm)\n",
    "print(\"Testing Cricuit for QLM Controlled Phase Gate\")\n",
    "%qatdisplay test_c_Z_qlm\n",
    "results_c_Z_qlm, _, _, _ = get_results(test_c_Z_qlm, linalg_qpu=linalg_qpu, shots=0)"
   ]
  },
  {
   "cell_type": "code",
   "execution_count": null,
   "id": "80c88e42",
   "metadata": {},
   "outputs": [],
   "source": [
    "Testing_columns = ['Int_lsb', 'Probability', 'Amplitude']\n",
    "np.isclose(results_mc_z[Testing_columns], results_c_Z_qlm[Testing_columns]).all()"
   ]
  },
  {
   "cell_type": "markdown",
   "id": "08893297",
   "metadata": {},
   "source": [
    "## 2. Testing Reflection\n",
    "\n",
    "Now we follow the **02_Amplitude_Amplification_Operators** and testing the reflections. We have included a new key in the **reflections** function from **QQuantLib/AA/amplitude_amplification**: \n",
    "\n",
    "* **mcz_qlm** If True it will use the multicontrolled z mandatory for the reflection using the QLM default. If **False** it will use our construction based in multiplexors!!\n",
    "\n",
    "First we need to load some data"
   ]
  },
  {
   "cell_type": "code",
   "execution_count": null,
   "id": "c7867c7c",
   "metadata": {},
   "outputs": [],
   "source": [
    "from QQuantLib.DL.data_loading import load_probability, load_array"
   ]
  },
  {
   "cell_type": "markdown",
   "id": "8c9eafff",
   "metadata": {},
   "source": [
    "Creating staff for loading data"
   ]
  },
  {
   "cell_type": "code",
   "execution_count": null,
   "id": "d82f0c84",
   "metadata": {},
   "outputs": [],
   "source": [
    "n = 5\n",
    "N = 2**n\n",
    "x = np.arange(N)\n",
    "p = x/np.sum(x)\n",
    "probability_routine = qlm.QRoutine()\n",
    "register = probability_routine.new_wires(n)\n",
    "probability_routine.apply(load_probability(p),register)\n",
    "%qatdisplay probability_routine --depth 1 --svg"
   ]
  },
  {
   "cell_type": "markdown",
   "id": "124e57c1",
   "metadata": {},
   "source": [
    "### 2.1 First Example\n",
    "\n",
    "For a n qbits state we want to flip the sign of the state: $|n-1\\rangle$"
   ]
  },
  {
   "cell_type": "code",
   "execution_count": null,
   "id": "7b52fac0",
   "metadata": {},
   "outputs": [],
   "source": [
    "from QQuantLib.AA.amplitude_amplification import reflection"
   ]
  },
  {
   "cell_type": "code",
   "execution_count": null,
   "id": "f76ecdf5",
   "metadata": {},
   "outputs": [],
   "source": [
    "#Multicontrolled using Multiplexors\n",
    "reflection_multiplex = qlm.QRoutine()\n",
    "reflection_multiplex_register = reflection_multiplex.new_wires(n)\n",
    "reflection_multiplex.apply(probability_routine, reflection_multiplex_register)\n",
    "#Step 1: Creating reflection QLM Abstract Gate\n",
    "ReflectionGate_multiplex = reflection([1 for i in range(n)], mcz_qlm=False)\n",
    "print(\"Reflection with Multiplexors\")\n",
    "%qatdisplay ReflectionGate_multiplex --depth 1 --svg\n",
    "#Step 2: Applying ReflectionGate to the affected qbits: In present case the reflection gate affects all the qbits of the system\n",
    "reflection_multiplex.apply(ReflectionGate_multiplex, reflection_multiplex_register)\n",
    "%qatdisplay reflection_multiplex --depth 1 --svg"
   ]
  },
  {
   "cell_type": "code",
   "execution_count": null,
   "id": "8f42cf1c",
   "metadata": {
    "scrolled": true
   },
   "outputs": [],
   "source": [
    "results_reflection_multiplex, _, _, _ = get_results(reflection_multiplex, linalg_qpu=linalg_qpu, shots=0)"
   ]
  },
  {
   "cell_type": "code",
   "execution_count": null,
   "id": "fcbea8f8",
   "metadata": {
    "scrolled": true
   },
   "outputs": [],
   "source": [
    "results_reflection_multiplex"
   ]
  },
  {
   "cell_type": "code",
   "execution_count": null,
   "id": "d356cd08",
   "metadata": {},
   "outputs": [],
   "source": [
    "print(\"Classical amplitudes: \", np.sqrt(p))\n",
    "print(\"Quantum amplitudes: \",results_reflection_multiplex['Amplitude'].values)"
   ]
  },
  {
   "cell_type": "code",
   "execution_count": null,
   "id": "dd3c5477",
   "metadata": {},
   "outputs": [],
   "source": [
    "#Is the reflection  Correct\n",
    "print('Test OK: ',\n",
    "    np.isclose(np.sqrt(p)[:-1], results_reflection_multiplex['Amplitude'].values[:-1]).all() and\n",
    "    np.isclose(np.sqrt(p)[-1], -results_reflection_multiplex['Amplitude'].values[-1]).all()\n",
    "     )"
   ]
  },
  {
   "cell_type": "code",
   "execution_count": null,
   "id": "1640d460",
   "metadata": {},
   "outputs": [],
   "source": [
    "#Multicontrolled using QLM default\n",
    "reflection_qlm = qlm.QRoutine()\n",
    "reflection_qlm_register = reflection_qlm.new_wires(n)\n",
    "reflection_qlm.apply(probability_routine, reflection_qlm_register)\n",
    "#Step 1: Creating reflection QLM Abstract Gate\n",
    "print(\"Reflection with QLM multicontrolled\")\n",
    "ReflectionGate_QLM = reflection([1 for i in range(n)], mcz_qlm=True)\n",
    "%qatdisplay ReflectionGate_QLM --depth 1 --svg\n",
    "#Step 2: Applying ReflectionGate to the affected qbits: In present case the reflection gate affects all the qbits of the system\n",
    "reflection_qlm.apply(ReflectionGate_QLM, reflection_qlm_register)\n",
    "%qatdisplay reflection_qlm --depth 1 --svg"
   ]
  },
  {
   "cell_type": "code",
   "execution_count": null,
   "id": "8145ebf3",
   "metadata": {},
   "outputs": [],
   "source": [
    "results_reflection_qlm, _, _, _ = get_results(reflection_qlm, linalg_qpu=linalg_qpu, shots=0)"
   ]
  },
  {
   "cell_type": "code",
   "execution_count": null,
   "id": "ba1b0e5d",
   "metadata": {},
   "outputs": [],
   "source": [
    "#Are multiplexor and QLM multicontrolled the same?\n",
    "print(\"Test Probability: \",\n",
    "      np.isclose(results_reflection_qlm['Probability'], results_reflection_multiplex['Probability']).all()\n",
    "     )\n",
    "print(\"Test Amplitude: \", \n",
    "      np.isclose(results_reflection_qlm['Amplitude'], results_reflection_multiplex['Amplitude']).all()\n",
    "     )"
   ]
  },
  {
   "cell_type": "code",
   "execution_count": null,
   "id": "a5afab4d",
   "metadata": {},
   "outputs": [],
   "source": []
  },
  {
   "cell_type": "markdown",
   "id": "c5d4f3fb",
   "metadata": {},
   "source": [
    "## 3. Testing Grover Operator"
   ]
  },
  {
   "cell_type": "markdown",
   "id": "34e3d526",
   "metadata": {},
   "source": [
    "In the grover function from from **QQuantLib/AA/amplitude_amplification** we have include a new key: **mcz_qlm**:\n",
    "\n",
    "* **mcz_qlm** If True it will use the multicontrolled z mandatory for the Grover operator using the QLM default. If **False** it will use our construction based in multiplexors!!"
   ]
  },
  {
   "cell_type": "code",
   "execution_count": null,
   "id": "db54ef52",
   "metadata": {},
   "outputs": [],
   "source": [
    "from QQuantLib.AA.amplitude_amplification import grover"
   ]
  },
  {
   "cell_type": "code",
   "execution_count": null,
   "id": "47f34059",
   "metadata": {},
   "outputs": [],
   "source": [
    "grover_qlm = qlm.QRoutine()\n",
    "grover_qlm_register = grover_qlm.new_wires(n)\n",
    "grover_qlm.apply(probability_routine, grover_qlm_register)\n",
    "#Creating Grover_Gate_gate\n",
    "Grover_Gate_QLM = grover(\n",
    "    probability_routine, #oracle\n",
    "    [0,0,1], #marked state\n",
    "    [0,1,2], #affected qbits\n",
    "    mcz_qlm = True\n",
    ")\n",
    "#Comment before 5 lines and uncoment following for For multiplexor implementation of multi-controlled Z gate\n",
    "#Grover_Gate = grover(probability_routine, [0,0,1], [0,1,2], mcz_qlm=False)\n",
    "print(\"Grover with QLM multicontrolled Z \")\n",
    "%qatdisplay Grover_Gate_QLM --depth 3 --svg\n",
    "#Applying the Grover Gate\n",
    "grover_qlm.apply(Grover_Gate_QLM, grover_qlm_register)\n",
    "%qatdisplay grover_qlm --depth 3 --svg"
   ]
  },
  {
   "cell_type": "code",
   "execution_count": null,
   "id": "6e629d18",
   "metadata": {},
   "outputs": [],
   "source": [
    "grover_multiplexor = qlm.QRoutine()\n",
    "grover_multiplexor_register = grover_multiplexor.new_wires(n)\n",
    "grover_multiplexor.apply(probability_routine, grover_multiplexor_register)\n",
    "#Creating Grover_Gate_gate\n",
    "Grover_Gate_multiplexor = grover(\n",
    "    probability_routine, #oracle\n",
    "    [0,0,1], #marked state\n",
    "    [0,1,2], #affected qbits\n",
    "    mcz_qlm = False\n",
    ")\n",
    "#Comment before 5 lines and uncoment following for For multiplexor implementation of multi-controlled Z gate\n",
    "#Grover_Gate = grover(probability_routine, [0,0,1], [0,1,2], mcz_qlm=False)\n",
    "print(\"Grover with Multiplexor multicontrolled Z \")\n",
    "%qatdisplay Grover_Gate_multiplexor --depth 3 --svg\n",
    "#Applying the Grover Gate\n",
    "grover_multiplexor.apply(Grover_Gate_multiplexor, grover_multiplexor_register)\n",
    "%qatdisplay grover_multiplexor --depth 3 --svg"
   ]
  },
  {
   "cell_type": "code",
   "execution_count": null,
   "id": "37ad1cc8",
   "metadata": {},
   "outputs": [],
   "source": [
    "results_grover_qlm, _, _, _ = get_results(grover_qlm, linalg_qpu=linalg_qpu, shots=0)\n",
    "results_grover_multiplexor, _, _, _ = get_results(grover_multiplexor, linalg_qpu=linalg_qpu, shots=0)"
   ]
  },
  {
   "cell_type": "code",
   "execution_count": null,
   "id": "edc3e06b",
   "metadata": {
    "scrolled": false
   },
   "outputs": [],
   "source": [
    "np.isclose(\n",
    "    results_grover_qlm['Probability'], results_grover_multiplexor['Probability']\n",
    ").all()"
   ]
  },
  {
   "cell_type": "code",
   "execution_count": null,
   "id": "42415165",
   "metadata": {},
   "outputs": [],
   "source": [
    "np.isclose(\n",
    "    results_grover_qlm['Amplitude'], results_grover_multiplexor['Amplitude']\n",
    ").all()"
   ]
  },
  {
   "cell_type": "code",
   "execution_count": null,
   "id": "5b1bc5eb",
   "metadata": {},
   "outputs": [],
   "source": []
  }
 ],
 "metadata": {
  "kernelspec": {
   "display_name": "Python 3 (ipykernel)",
   "language": "python",
   "name": "python3"
  },
  "language_info": {
   "codemirror_mode": {
    "name": "ipython",
    "version": 3
   },
   "file_extension": ".py",
   "mimetype": "text/x-python",
   "name": "python",
   "nbconvert_exporter": "python",
   "pygments_lexer": "ipython3",
   "version": "3.9.9"
  }
 },
 "nbformat": 4,
 "nbformat_minor": 5
}
