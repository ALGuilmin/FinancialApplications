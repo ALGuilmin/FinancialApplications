{
 "cells": [
  {
   "cell_type": "markdown",
   "id": "25f0bbd9",
   "metadata": {},
   "source": [
    "# Application of amplitude estimation to Finances: New Data Loading\n",
    "\n",
    "In notebook *10_ApplicationTo_Finance_03_StandardApproachProblems* we pointed out some major problems of the standard approach when using **amplitude estimation** algorithms to the computation of $\\mathbb{E}[f]=\\int_a^bp(x)f(x)dx$. Additioanlly we stablished 2 main solutions for solving them:\n",
    "\n",
    "1. New Data Loading procedure where the probability distribution $p(x)$ is loaded into the quantum state as a function instead of a probability. \n",
    "2. RQAE algorithm that allows us to recover the sign of the $\\mathbb{E}[f]$.\n",
    "\n",
    "In present notebook we are going to use the first solution for trying to solve several **derivative contracts** pricing problems and we compare all the **amplitude estimation** algorithms, including **RQAE**. Additionally we present some **derivative contracts** where the only correct solution was delivery by the **RQAE** method!!"
   ]
  },
  {
   "cell_type": "code",
   "execution_count": null,
   "id": "1b2534c5",
   "metadata": {},
   "outputs": [],
   "source": [
    "import sys\n",
    "sys.path.append(\"../../\")"
   ]
  },
  {
   "cell_type": "code",
   "execution_count": null,
   "id": "b8c9379f",
   "metadata": {},
   "outputs": [],
   "source": [
    "import numpy as np\n",
    "import pandas as pd\n",
    "import matplotlib.pyplot as plt\n",
    "import qat.lang.AQASM as qlm"
   ]
  },
  {
   "cell_type": "code",
   "execution_count": null,
   "id": "62a2a341",
   "metadata": {},
   "outputs": [],
   "source": [
    "%matplotlib inline"
   ]
  },
  {
   "cell_type": "code",
   "execution_count": null,
   "id": "033f19ae",
   "metadata": {
    "scrolled": true
   },
   "outputs": [],
   "source": [
    "#This cell loads the QLM solver.\n",
    "#QLMaaS == False -> uses PyLinalg\n",
    "#QLMaaS == True -> try to use LinAlg (for using QPU as CESGA QLM one)\n",
    "from QQuantLib.utils.qlm_solver import get_qpu\n",
    "QLMaaS = True\n",
    "linalg_qpu = get_qpu(QLMaaS)"
   ]
  },
  {
   "cell_type": "markdown",
   "id": "652e8dc1",
   "metadata": {},
   "source": [
    "## 1. Call Option under Black-Scholes\n",
    "\n",
    "Now we revisited the *european call option* under the **Black Scholes** model, developed in great detail in notebook *09_ApplicationTo_Finance_02_Call_Option_BlackScholes*, using the new data loading method.\n"
   ]
  },
  {
   "cell_type": "markdown",
   "id": "0c1996e7",
   "metadata": {},
   "source": [
    "### 1.1 Financial functions definition\n",
    "\n",
    "First we use the finace functions we need from the **QQuantLib.utils.classical_finance** module (see notebook: *09_ApplicationTo_Finance_02_Call_Option_BlackScholes* for more information)"
   ]
  },
  {
   "cell_type": "code",
   "execution_count": null,
   "id": "41999194",
   "metadata": {},
   "outputs": [],
   "source": [
    "from QQuantLib.utils.classical_finance import bs_probability, call_payoff"
   ]
  },
  {
   "cell_type": "code",
   "execution_count": null,
   "id": "6c1340e6",
   "metadata": {},
   "outputs": [],
   "source": [
    "#Parameters for the model\n",
    "s_0 = 2\n",
    "risk_free_rate = 0.04\n",
    "volatility = 0.1\n",
    "#maturity time for the derivative contract\n",
    "maturity = 300/365 #300 days\n",
    "#Strike\n",
    "strike = 1.9"
   ]
  },
  {
   "cell_type": "code",
   "execution_count": null,
   "id": "f74f2f2a",
   "metadata": {},
   "outputs": [],
   "source": [
    "#Creating financial model data\n",
    "n_qbits = 5\n",
    "\n",
    "#Domain\n",
    "x = np.linspace(1,3,2**n_qbits)\n",
    "#Black-Scholes probability\n",
    "prob_bs = bs_probability(\n",
    "    x,\n",
    "    s_0=s_0,\n",
    "    risk_free_rate=risk_free_rate,\n",
    "    maturity=maturity,\n",
    "    volatility=volatility\n",
    ")\n",
    "#Return of the european call option\n",
    "payoff_call = call_payoff(x, strike=strike)\n",
    "#normalisation for the pay off\n",
    "payoff_normalisation = np.max(payoff_call)\n",
    "payoff_call_normalised = payoff_call/payoff_normalisation"
   ]
  },
  {
   "cell_type": "markdown",
   "id": "09eb904e",
   "metadata": {},
   "source": [
    "### 1.2 Classical and Exact solutions\n",
    "\n",
    "With the financial functions defined above we can compute the exact solution and the classical solution."
   ]
  },
  {
   "cell_type": "code",
   "execution_count": null,
   "id": "2fb070d7",
   "metadata": {},
   "outputs": [],
   "source": [
    "from QQuantLib.utils.classical_finance import bs_call_price\n",
    "exact_price = bs_call_price(\n",
    "    s_0=s_0, risk_free_rate=risk_free_rate, \n",
    "    volatility=volatility, maturity=maturity, strike=strike)\n",
    "print(\"Exact price: \",exact_price)\n",
    "classical_price = np.sum(prob_bs*payoff_call)*np.exp(-risk_free_rate*maturity)\n",
    "print(\"Classical Price: \",classical_price)"
   ]
  },
  {
   "cell_type": "markdown",
   "id": "1f866a29",
   "metadata": {},
   "source": [
    "### 1.3 Data Loading Procedure\n",
    "\n",
    "We use the new data loading procedure for loading the financial functions into the quantum state."
   ]
  },
  {
   "cell_type": "code",
   "execution_count": null,
   "id": "fe591957",
   "metadata": {},
   "outputs": [],
   "source": [
    "#Testing for mandatory normalisation\n",
    "print('p(x) condition: {}'.format(np.sum(prob_bs) <= 1))\n",
    "print('f(x) condition: {}'.format(np.max(payoff_call_normalised) <= 1))"
   ]
  },
  {
   "cell_type": "code",
   "execution_count": null,
   "id": "145a3e77",
   "metadata": {},
   "outputs": [],
   "source": [
    "from QQuantLib.DL.data_loading import load_probability, load_array, uniform_distribution\n",
    "\n",
    "call_option_oracle = qlm.QRoutine()\n",
    "#For new data loading procedure we need n+2 qbits\n",
    "call_option_registers = call_option_oracle.new_wires(n_qbits+2)\n",
    "#Step 2 of Procedure: apply Uniform distribution \n",
    "call_option_oracle.apply(\n",
    "    uniform_distribution(n_qbits),\n",
    "    call_option_registers[:n_qbits]\n",
    ")\n",
    "#Step 3 of Procedure: apply loading function operator for loading p(x)\n",
    "p_bs_gate = load_array(\n",
    "    prob_bs, \n",
    "    id_name = 'P_BS'\n",
    ")\n",
    "call_option_oracle.apply(\n",
    "    p_bs_gate, \n",
    "    [call_option_registers[:n_qbits], \n",
    "    call_option_registers[n_qbits]]\n",
    ")\n",
    "#Step 5 of Procedure: apply loading function operator for loading f(x)\n",
    "f_call_option_gate = load_array(\n",
    "    payoff_call_normalised,\n",
    "    id_name = 'PayOff_CallOption'\n",
    ")\n",
    "call_option_oracle.apply(\n",
    "    f_call_option_gate, \n",
    "    [call_option_registers[:n_qbits], \n",
    "    call_option_registers[n_qbits+1]]\n",
    ")\n",
    "#Step 7 of Procedure: apply Uniform distribution \n",
    "call_option_oracle.apply(\n",
    "    uniform_distribution(n_qbits), \n",
    "    call_option_registers[:n_qbits]\n",
    ")"
   ]
  },
  {
   "cell_type": "code",
   "execution_count": null,
   "id": "1603bf52",
   "metadata": {},
   "outputs": [],
   "source": [
    "%qatdisplay call_option_oracle --svg"
   ]
  },
  {
   "cell_type": "code",
   "execution_count": null,
   "id": "5dd1dd41",
   "metadata": {},
   "outputs": [],
   "source": [
    "co_target = [0 for i in range(call_option_oracle.arity)]\n",
    "print('co_target: ', co_target)\n",
    "co_index = [i for i in range(call_option_oracle.arity)]\n",
    "print('co_index: ', co_index)"
   ]
  },
  {
   "cell_type": "markdown",
   "id": "a29692fa",
   "metadata": {},
   "source": [
    "Now we can use all the **amplitude estimation** routines to get the proper call option price.\n",
    "\n",
    "**BE AWARE**\n",
    "\n",
    "In order to recover the proper expectation value we need to taking into account the normalisation of the Pay Off!!!"
   ]
  },
  {
   "cell_type": "markdown",
   "id": "0895de09",
   "metadata": {},
   "source": [
    "### 1.4 MLAE"
   ]
  },
  {
   "cell_type": "code",
   "execution_count": null,
   "id": "e1ccb06d",
   "metadata": {},
   "outputs": [],
   "source": [
    "%%time\n",
    "from QQuantLib.AE.maximum_likelihood_ae import MLAE\n",
    "\n",
    "m_k = [1, 100, 110, 120, 125, 130, 135, 140, 145, 150, 155]\n",
    "n_k = [100 for i in m_k]\n",
    "\n",
    "\n",
    "mlae_dict = {\n",
    "    'qpu': linalg_qpu,\n",
    "    'schedule': [m_k, n_k]\n",
    "}\n",
    "mlae_co = MLAE(\n",
    "    call_option_oracle,\n",
    "    target = co_target,\n",
    "    index = co_index, \n",
    "    **mlae_dict\n",
    ")\n",
    "\n",
    "mlae_co_a = mlae_co.run()\n",
    "print('mlae_a: ', mlae_co_a)\n",
    "mlae_co_a = 2**n_qbits*np.sqrt(mlae_co.ae)*payoff_normalisation*np.exp(-risk_free_rate*maturity)\n",
    "print('MLAE European Call Option Price Estimation: ', mlae_co_a)"
   ]
  },
  {
   "cell_type": "markdown",
   "id": "875ed438",
   "metadata": {},
   "source": [
    "### 1.5 CQPEAE"
   ]
  },
  {
   "cell_type": "markdown",
   "id": "cc715ff1",
   "metadata": {},
   "source": [
    "**BE AWARE**\n",
    "\n",
    "For geting a good resolution for the amplitude estimation parameter using classical Quantum Phase Estimation the number of auxiliar qbits should be high (with 14 in this case is enough to get a good parameter). Following cell will be time consuming so is recomended to run it in a computer with good resources or using a QLM QPU."
   ]
  },
  {
   "cell_type": "code",
   "execution_count": null,
   "id": "50b7d954",
   "metadata": {},
   "outputs": [],
   "source": [
    "%%time\n",
    "from QQuantLib.AE.ae_classical_qpe import CQPEAE\n",
    "\n",
    "ae_cqpe_dict = {\n",
    "    'qpu': linalg_qpu,\n",
    "    'auxiliar_qbits_number': 14,\n",
    "    'shots': 100\n",
    "}\n",
    "\n",
    "ae_cqpe = CQPEAE(\n",
    "    call_option_oracle,\n",
    "    target = co_target,\n",
    "    index = co_index, \n",
    "    **ae_cqpe_dict\n",
    ")\n",
    "_  = ae_cqpe.run()\n",
    "\n",
    "print('ae_cqpe_a: ', ae_cqpe.ae)\n",
    "ae_cqpe_a = 2**n_qbits*np.sqrt(ae_cqpe.ae)*payoff_normalisation*np.exp(-risk_free_rate*maturity)\n",
    "print('AE with Clasical QPE European Call Option Price Estimation: ', ae_cqpe_a)"
   ]
  },
  {
   "cell_type": "markdown",
   "id": "9fbca3ac",
   "metadata": {},
   "source": [
    "### 1.6 IQPEAE"
   ]
  },
  {
   "cell_type": "markdown",
   "id": "640691a4",
   "metadata": {},
   "source": [
    "**BE AWARE**\n",
    "\n",
    "For geting a good resolution for the amplitude estimation parameter using iterative Quantum Phase Estimation the number of clasical bits should be high (with 14 in this case is enough to get a good parameter). Following cell will be time consuming so is recomended to run it in a computer with good resources or using a QLM QPU."
   ]
  },
  {
   "cell_type": "code",
   "execution_count": null,
   "id": "09f5d2a0",
   "metadata": {},
   "outputs": [],
   "source": [
    "%%time\n",
    "from QQuantLib.AE.ae_iterative_quantum_pe import IQPEAE\n",
    "\n",
    "ae_iqpe_dict = {\n",
    "    'qpu': linalg_qpu,\n",
    "    'cbits_number': 14,\n",
    "    'shots': 10\n",
    "}\n",
    "\n",
    "ae_iqpe = IQPEAE(\n",
    "    call_option_oracle,\n",
    "    target = co_target,\n",
    "    index = co_index,  \n",
    "    **ae_iqpe_dict\n",
    ")\n",
    "\n",
    "_  = ae_iqpe.run()\n",
    "\n",
    "print('ae_iqpe_a: ', ae_iqpe.ae)\n",
    "ae_iqpe_a = 2**n_qbits*np.sqrt(ae_iqpe.ae)*payoff_normalisation*np.exp(-risk_free_rate*maturity)\n",
    "print('AE with IQPE European Call Option Price Estimation: ', ae_iqpe_a)"
   ]
  },
  {
   "cell_type": "markdown",
   "id": "fe919f61",
   "metadata": {},
   "source": [
    "### 1.7 IQAE"
   ]
  },
  {
   "cell_type": "code",
   "execution_count": null,
   "id": "a03222cd",
   "metadata": {},
   "outputs": [],
   "source": [
    "%%time\n",
    "from QQuantLib.AE.iterative_quantum_ae import IQAE\n",
    "\n",
    "epsilon = 0.001\n",
    "iqae_dict = {\n",
    "    'qpu': linalg_qpu,\n",
    "    'epsilon': epsilon    \n",
    "}\n",
    "\n",
    "iqae = IQAE(\n",
    "    call_option_oracle,\n",
    "    target = co_target,\n",
    "    index = co_index, \n",
    "    **iqae_dict\n",
    ")\n",
    "\n",
    "_ = iqae.run()\n",
    "\n",
    "print('iqae_a: ', iqae.ae)\n",
    "iqae_a = 2**n_qbits*np.sqrt(iqae.ae)*payoff_normalisation*np.exp(-risk_free_rate*maturity)\n",
    "print('IQAE European Call Option Price Estimation: ', iqae_a)"
   ]
  },
  {
   "cell_type": "markdown",
   "id": "30dae325",
   "metadata": {},
   "source": [
    "### 1.8 RQAE"
   ]
  },
  {
   "cell_type": "code",
   "execution_count": null,
   "id": "574fc015",
   "metadata": {},
   "outputs": [],
   "source": [
    "%%time\n",
    "from QQuantLib.AE.real_quantum_ae import RQAE\n",
    "q = 2\n",
    "epsilon = 0.0001\n",
    "gamma = 0.05 \n",
    "rqae_dict = {\n",
    "    'qpu': linalg_qpu,\n",
    "    'epsilon': epsilon,\n",
    "    'gamma': gamma,\n",
    "    'q': q\n",
    "}\n",
    "\n",
    "rqae = RQAE(\n",
    "    call_option_oracle,\n",
    "    target = co_target,\n",
    "    index = co_index, \n",
    "    **rqae_dict\n",
    ")\n",
    "\n",
    "_ = rqae.run()\n",
    "print('rqae_a: ', rqae.ae)\n",
    "rqae_a = 2**n_qbits*rqae.ae*payoff_normalisation*np.exp(-risk_free_rate*maturity)\n",
    "print('RQAE European Call Option Price Estimation: ', rqae_a)"
   ]
  },
  {
   "cell_type": "code",
   "execution_count": null,
   "id": "2a28e79e",
   "metadata": {},
   "outputs": [],
   "source": [
    "rqae.circuit_statistics"
   ]
  },
  {
   "cell_type": "markdown",
   "id": "0d576a82",
   "metadata": {},
   "source": [
    "### 1.9 Result Summary"
   ]
  },
  {
   "cell_type": "code",
   "execution_count": null,
   "id": "11f2dfa5",
   "metadata": {},
   "outputs": [],
   "source": [
    "methods = ['MLAE', 'CQPEAE', 'IQPEAE', 'IQAE', 'RQAE']\n",
    "\n",
    "\n",
    "co_price = [\n",
    "    mlae_co_a, #MLAE\n",
    "    ae_cqpe_a, #AE with QPE\n",
    "    ae_iqpe_a, #AE with IQPE\n",
    "    iqae_a, #IQAE\n",
    "    rqae_a #RQAE\n",
    "]\n",
    "\n",
    "dic_staff = {\n",
    "    'CallOption_Price': co_price,\n",
    "}\n",
    "\n",
    "CallOption_Results = pd.DataFrame(dic_staff, index=methods)\n",
    "CallOption_Results['ExactBS_Price'] = exact_price\n",
    "CallOption_Results['Error_Exact_Price(%)'] = 100*np.abs(\n",
    "    CallOption_Results['CallOption_Price']-exact_price\n",
    ")/exact_price\n",
    "CallOption_Results['Classical_Price'] = classical_price\n",
    "\n",
    "CallOption_Results['Error_Classical_Price(%)'] = 100*np.abs(\n",
    "    CallOption_Results['CallOption_Price']-classical_price\n",
    ")/classical_price"
   ]
  },
  {
   "cell_type": "code",
   "execution_count": null,
   "id": "db7b4aa6",
   "metadata": {},
   "outputs": [],
   "source": [
    "CallOption_Results"
   ]
  },
  {
   "cell_type": "code",
   "execution_count": null,
   "id": "e8fdc2be",
   "metadata": {},
   "outputs": [],
   "source": []
  },
  {
   "cell_type": "code",
   "execution_count": null,
   "id": "0dcdb05a",
   "metadata": {},
   "outputs": [],
   "source": []
  },
  {
   "cell_type": "code",
   "execution_count": null,
   "id": "6d288c5e",
   "metadata": {},
   "outputs": [],
   "source": []
  }
 ],
 "metadata": {
  "kernelspec": {
   "display_name": "Python 3 (ipykernel)",
   "language": "python",
   "name": "python3"
  },
  "language_info": {
   "codemirror_mode": {
    "name": "ipython",
    "version": 3
   },
   "file_extension": ".py",
   "mimetype": "text/x-python",
   "name": "python",
   "nbconvert_exporter": "python",
   "pygments_lexer": "ipython3",
   "version": "3.9.9"
  }
 },
 "nbformat": 4,
 "nbformat_minor": 5
}
