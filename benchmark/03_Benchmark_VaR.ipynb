{
 "cells": [
  {
   "cell_type": "code",
   "execution_count": null,
   "id": "0aa44a54",
   "metadata": {},
   "outputs": [],
   "source": [
    "import sys\n",
    "sys.path.append(\"../\")"
   ]
  },
  {
   "cell_type": "code",
   "execution_count": null,
   "id": "6786289e",
   "metadata": {},
   "outputs": [],
   "source": [
    "import numpy as np\n",
    "import pandas as pd\n",
    "import qat.lang.AQASM as qlm\n",
    "import matplotlib.pyplot as plt\n",
    "%matplotlib inline"
   ]
  },
  {
   "cell_type": "code",
   "execution_count": null,
   "id": "558ca91c",
   "metadata": {},
   "outputs": [],
   "source": [
    "#This cell loads the QLM solver.\n",
    "#QLMaaS == False -> uses PyLinalg\n",
    "#QLMaaS == True -> try to use LinAlg (for using QPU as CESGA QLM one)\n",
    "from QQuantLib.utils.qlm_solver import get_qpu\n",
    "QLMaaS = False\n",
    "linalg_qpu = get_qpu(QLMaaS)"
   ]
  },
  {
   "cell_type": "code",
   "execution_count": null,
   "id": "ba705670",
   "metadata": {},
   "outputs": [],
   "source": [
    "from QQuantLib.utils.data_extracting  import get_results"
   ]
  },
  {
   "cell_type": "markdown",
   "id": "e9dcc359",
   "metadata": {},
   "source": [
    "## 1. Computation of VaR"
   ]
  },
  {
   "cell_type": "markdown",
   "id": "3c0e7e98",
   "metadata": {},
   "source": [
    "For a given confidence level $\\alpha$, $VaR_\\alpha(X)$ is the smallest value $x$ such that \n",
    "$$P[X\\leq x]\\geq (1-\\alpha).$$ To compute this quantity we can do a binary search."
   ]
  },
  {
   "cell_type": "markdown",
   "id": "1b88af3b",
   "metadata": {},
   "source": [
    "### 1.1 Classical binary search\n",
    "\n",
    "\n",
    "A binary search for $N = 2^n$ discrete probabilities works as follows:\n",
    "- We begin by computing the cumulative sum for the first $2^{n-1}$ probabilities.\n",
    "- If the probability is lower than the one we demand, we set $2^{n-1} = 2^{n-1}+2^{n-2}$ entries. Otherwise, we set $2^{n-1} = 2^{n-1}-2^{n-2}$ entries.\n",
    "- Now we can start in the first step until $N = 1$, then we stop.\n",
    "In the following cells we do this process in an iterative fashion to compute the VaR\n",
    "\n",
    "We will do this process with the probability distribution from Black-Scholes equation.\n",
    "\n",
    "For computing the cumulative sum we can compute the convolution of the probability density with a step function:\n",
    "\n",
    "$$P[X\\leq a] = \\int_{-\\infty}^{\\infty} p(x)*f_{step}(a)dx.$$\n",
    "\n",
    "Where \n",
    "$$f_{step}(a) = \\begin{cases} \n",
    "      1 & x\\leq a \\\\\n",
    "      0 & x\\gt a \n",
    "   \\end{cases}\n",
    "$$\n",
    "\n",
    "We can use the **DensityProbability** class for doing this computation"
   ]
  },
  {
   "cell_type": "code",
   "execution_count": null,
   "id": "a9f6cf44",
   "metadata": {},
   "outputs": [],
   "source": [
    "from probability_class import DensityProbability\n",
    "#Configuration  of a probability density\n",
    "probability_type = \"Black-Scholes\"\n",
    "\n",
    "S0 = 2\n",
    "r = 0.04\n",
    "T = 300/365\n",
    "sigma = 0.1\n",
    "density_dict = {\n",
    "    \"s_0\": S0,\n",
    "    \"risk_free_rate\": r,\n",
    "    \"maturity\": T,\n",
    "    \"volatility\": sigma    \n",
    "}\n"
   ]
  },
  {
   "cell_type": "code",
   "execution_count": null,
   "id": "35c9d4ab",
   "metadata": {},
   "outputs": [],
   "source": [
    "bs_pdf = DensityProbability(probability_type, **density_dict)"
   ]
  },
  {
   "cell_type": "code",
   "execution_count": null,
   "id": "91302fa6",
   "metadata": {},
   "outputs": [],
   "source": [
    "alpha = 0.05\n",
    "index = 0\n",
    "sign = 1\n",
    "n_qbits = 5\n",
    "x = np.linspace(1,3,2**n_qbits)\n",
    "probability = bs_pdf.probability(x)"
   ]
  },
  {
   "cell_type": "code",
   "execution_count": null,
   "id": "4cf0544f",
   "metadata": {},
   "outputs": [],
   "source": [
    "alpha = 0.05\n",
    "index = 0\n",
    "sign = 1\n",
    "lista = ['Probability']\n",
    "fig, ax1 = plt.subplots()\n",
    "ax2 = ax1.twinx()\n",
    "ax1.plot(x, probability, '-o')\n",
    "#plt.plot(x, probability, '-o')\n",
    "\n",
    "for i in range(1,n_qbits+1):\n",
    "    index = index+sign*2**(n_qbits-i)\n",
    "    step_function = np.array([1.0 for i in range(len(probability))])\n",
    "    step_function[index:] = 0.0\n",
    "    suma = np.sum(probability*step_function)\n",
    "    ax2.plot(x, step_function, '-')\n",
    "    #plt.axvline(x[index])\n",
    "    if (suma<=1-alpha):\n",
    "        sign = 1\n",
    "    else:\n",
    "        sign = -1\n",
    "    lista.append('a = {}'.format(x[index]))\n",
    "if (sign==1): \n",
    "    index = index+sign\n",
    "\n",
    "print(\"El resultado es: \",index)\n",
    "plt.legend(lista)\n",
    "ax1.set_ylabel('P(x)')\n",
    "ax2.set_ylabel('step functions', color='b')"
   ]
  },
  {
   "cell_type": "code",
   "execution_count": null,
   "id": "f748438b",
   "metadata": {},
   "outputs": [],
   "source": [
    "print(\n",
    "    'The integral of the probability until index: ',\n",
    "    index, 'is: ',np.sum(probability[:index]))\n",
    "print('The VaR value is: ', x[index])\n",
    "print('This value is lower than alpha = ', alpha, ': ', np.sum(probability[:index])>alpha)\n"
   ]
  },
  {
   "cell_type": "markdown",
   "id": "b08127c1",
   "metadata": {},
   "source": [
    "### 1.2 Quantum formulation for VaR"
   ]
  },
  {
   "cell_type": "markdown",
   "id": "85e932f6",
   "metadata": {},
   "source": [
    "For computing the VaR using **Amplitude Estimation** methods the binary search will be uses as before but the the integral of the probability of each step will be computed using the **AE** methods.\n",
    "\n",
    "So we need to transform the computation in a suitable **AE** problem. For doing this we are going to use an operator for loading the probability density and we are going to create a quantum operator for loading a step function."
   ]
  },
  {
   "cell_type": "markdown",
   "id": "fa238964",
   "metadata": {},
   "source": [
    "#### 1.2.1 step_array function\n",
    "\n",
    "The **step_array** from **QQuantLib/DL/data_loading** package creates an Abstract Gate who loads into a quantum state a step function. The inputs of this function are:\n",
    "\n",
    "* index: position where the step is produced.\n",
    "* size : size of the array. It has to be a power of 2\n",
    "\n",
    "The **step_array** function will create an array of *size* elements where first elements until the index will be ones and the rest will be zeros.\n",
    "\n",
    "**BE AWARE:** For the index  position the element of the array **WILL BE ZERO** \n",
    "\n",
    "When the array  is created the **step_array** function will load it into the quantum state using the **load_array** from **QQuantLib/DL/data_loading** package .\n",
    "\n",
    "Following cell show how to use the **step_array** function. "
   ]
  },
  {
   "cell_type": "code",
   "execution_count": null,
   "id": "fadc6868",
   "metadata": {},
   "outputs": [],
   "source": [
    "from QQuantLib.DL.data_loading import step_array, uniform_distribution\n",
    "\n",
    "# Settings for the loading data \n",
    "\n",
    "# number of qbits\n",
    "n_qbits = 3 \n",
    "# Index for the step function remember the value for the index will be 0\n",
    "index = 3 \n",
    "\n",
    "#qlm routine\n",
    "routine = qlm.QRoutine()\n",
    "register = routine.new_wires(n_qbits+1)\n",
    "#Create a uniform distribution\n",
    "routine.apply(uniform_distribution(n_qbits),register[:n_qbits])\n",
    "#Creates the operator for loading the step function\n",
    "step_operator = step_array(index,2**n_qbits)\n",
    "print(\"Abstract Gate for loading step function\")\n",
    "%qatdisplay step_operator --depth 2\n",
    "#Apply the operator for loading the step function to the system\n",
    "routine.apply(step_operator,register)\n",
    "print(\"Complete routine\")\n",
    "%qatdisplay routine --depth 0"
   ]
  },
  {
   "cell_type": "markdown",
   "id": "c13a4fd6",
   "metadata": {},
   "source": [
    "The first operator is the uniform distribution: basically apply a Hadamard gate over the first n-1 qbits, so the state will be:\n",
    "\n",
    "$$|\\Psi\\rangle = \\dfrac{1}{\\sqrt{N}} \\sum_{i=0}^{2^n-1} |i\\rangle  \\otimes |0\\rangle$$\n",
    "\n",
    "The second operator will load the step function so:\n",
    "\n",
    "\n",
    "$$f_{|j\\rangle}(|i\\rangle) = \\begin{cases} \n",
    "      1 & |i\\rangle \\lt |j\\rangle \\\\\n",
    "      0 & |i\\rangle \\geq |j\\rangle  \n",
    "   \\end{cases}\n",
    "$$\n",
    "\n",
    "So the final state will be:\n",
    "\n",
    "$$|\\Psi\\rangle = \\dfrac{1}{\\sqrt{N}} \\sum_{i=0}^{2^n-1} |i\\rangle  \\otimes \\left[f_{|j\\rangle}\\left(|i\\rangle\\right)|0\\rangle + OtherTerms*|1\\rangle\\right]$$\n",
    "\n",
    "We are not interested in the $|1\\rangle$ terms only in the $|0\\rangle$, so:\n",
    "\n",
    "$$|\\Psi\\rangle = \\dfrac{1}{\\sqrt{N}} \\sum_{i=0}^{2^n-1} |i\\rangle  \\otimes f_{|j\\rangle}(|i\\rangle)|0\\rangle + OtherTerms$$\n",
    "\n",
    "For a n=3 qbits with step in $|3\\rangle$ the step function will be:\n",
    "\n",
    "\n",
    "$$f_{|3\\rangle}(|i\\rangle) = \\begin{cases} \n",
    "      1 & |i\\rangle \\lt |3\\rangle \\\\\n",
    "      0 & |i\\rangle \\geq |3\\rangle  \n",
    "   \\end{cases}\n",
    "$$\n",
    "\n",
    "$$|\\Psi\\rangle = \\dfrac{1}{\\sqrt{2^3}}\\left[|0\\rangle +|1\\rangle+|2\\rangle\\right] \\otimes |0\\rangle + OtherStaff \\otimes |1\\rangle$$\n",
    "\n",
    "So, in this case, the probability for getting the state $|0\\rangle$ on the last qbit will be the sum of the probabilities for getting $|0\\rangle\\otimes|0\\rangle$ or $|1\\rangle\\otimes|0\\rangle$ or $|2\\rangle\\otimes|0\\rangle$: $\\frac{1}{2^{3}}+\\frac{1}{2^{3}}+\\frac{1}{2^{3}}=\\frac{3}{2^{3}}=0.375$"
   ]
  },
  {
   "cell_type": "code",
   "execution_count": null,
   "id": "3d34bc99",
   "metadata": {},
   "outputs": [],
   "source": [
    "#First we get the complete state simulation\n",
    "results_loading, _, _, _ = get_results(routine, linalg_qpu=linalg_qpu)\n",
    "results_loading"
   ]
  },
  {
   "cell_type": "code",
   "execution_count": null,
   "id": "49ca11e1",
   "metadata": {
    "scrolled": true
   },
   "outputs": [],
   "source": [
    "#Now we get the probability of the last qbit\n",
    "results_loading, _, _, _ = get_results(routine, linalg_qpu=linalg_qpu, qubits=[n_qbits])\n",
    "print(results_loading)\n",
    "print(\"Is the Probability of getting |0> in the last qbit 0.375? \",np.isclose(\n",
    "    results_loading[results_loading.index==0]['Probability'].iloc[0], \n",
    "    0.375\n",
    "))"
   ]
  },
  {
   "cell_type": "markdown",
   "id": "49c0bed5",
   "metadata": {},
   "source": [
    "So for create a suitable **AE** problem for VaR computations we need to load a density probability and the correspondient step function. Our library allows to do this loading of the density probability:\n",
    "1. Using the **load_probability** function\n",
    "2. Using the **load_array** function \n",
    "\n",
    "Both function are in **QQuantLib/DL/data_loading** package. "
   ]
  },
  {
   "cell_type": "markdown",
   "id": "1efddbaf",
   "metadata": {},
   "source": [
    "#### 1.2.2 Density probability loading using load_probability function.\n",
    "\n",
    "Following cells show how to use **load_probability** and **step_array** functions for creating a suitable **AE** problem for the VaR cumulative sum.\n",
    "\n",
    "This loading data procedure can be used with all the **AE** algorithms except the **RQAE** one.\n",
    "\n",
    "We are going to use the **Black-Schole** probability"
   ]
  },
  {
   "cell_type": "code",
   "execution_count": null,
   "id": "70400421",
   "metadata": {},
   "outputs": [],
   "source": [
    "from QQuantLib.DL.data_loading import load_probability, step_array\n",
    "#Configuration  of a probability density\n",
    "probability_type = \"Black-Scholes\"\n",
    "\n",
    "S0 = 2\n",
    "r = 0.04\n",
    "T = 300/365\n",
    "sigma = 0.1\n",
    "density_dict = {\n",
    "    \"s_0\": S0,\n",
    "    \"risk_free_rate\": r,\n",
    "    \"maturity\": T,\n",
    "    \"volatility\": sigma    \n",
    "}\n",
    "#Congfiguration of the porbability density\n",
    "bs_pdf = DensityProbability(probability_type, **density_dict)\n",
    "n_qbits = 5\n",
    "x = np.linspace(1,3,2**n_qbits)\n",
    "probability = bs_pdf.probability(x)\n",
    "print(\"Probability density to load\")\n",
    "plt.plot(x, probability, '-o')"
   ]
  },
  {
   "cell_type": "code",
   "execution_count": null,
   "id": "89a2da4e",
   "metadata": {},
   "outputs": [],
   "source": [
    "# Now we create the QLM Routine for loading probability using load_probability\n",
    "pl_routine = qlm.QRoutine()\n",
    "# allocating qbits\n",
    "pl_registers = pl_routine.new_wires(n_qbits+1)\n",
    "# Creating the Abstract gate for loading probability density\n",
    "p_gate = load_probability(probability)\n",
    "print(\"Abstract Gate for Probability density loading\")\n",
    "%qatdisplay p_gate\n",
    "# apply abstract gate for probability loading\n",
    "pl_routine.apply(p_gate,pl_registers[:n_qbits])\n",
    "# Our step function.\n",
    "pl_index = 15\n",
    "step_gate = step_array(pl_index, 2**n_qbits) \n",
    "print(\"Abstract Gate for step function loading\")\n",
    "%qatdisplay step_gate\n",
    "pl_routine.apply(step_gate, pl_registers)\n",
    "\n",
    "#For ploting the location of the step function in the probability density\n",
    "print(\"Density Probability and Step function\")\n",
    "plt.plot(x, probability, 'o')\n",
    "plt.axvline(x[pl_index])"
   ]
  },
  {
   "cell_type": "code",
   "execution_count": null,
   "id": "d03cd789",
   "metadata": {},
   "outputs": [],
   "source": [
    "print(\"QLM circuit for sumulative sum copmputation\")\n",
    "%qatdisplay pl_routine"
   ]
  },
  {
   "cell_type": "markdown",
   "id": "105b07fb",
   "metadata": {},
   "source": [
    "Now we can measure the state in order to test if the cumulative sum was properly loaded. In this case of daata loading we need to measure the last qbit and the probability of getting the $|0\\rangle$ is the cumulative sum looked for."
   ]
  },
  {
   "cell_type": "code",
   "execution_count": null,
   "id": "e6a3e9ca",
   "metadata": {},
   "outputs": [],
   "source": [
    "# For getting the results we need to measure the last qbit\n",
    "results_loading, _, _, _ = get_results(pl_routine, linalg_qpu=linalg_qpu, qubits=[n_qbits])\n",
    "results_loading"
   ]
  },
  {
   "cell_type": "code",
   "execution_count": null,
   "id": "b45f1aba",
   "metadata": {},
   "outputs": [],
   "source": [
    "measured_probability = results_loading[results_loading['Int_lsb'] ==0]['Probability'].iloc[0]\n",
    "cum_sum = np.sum(probability[:pl_index])\n",
    "print(\"Quantum Cumulative Sum: \", measured_probability)\n",
    "print(\"Classical Cumulative Sum: \", cum_sum)\n",
    "print('TEST: ', np.isclose(measured_probability, cum_sum))"
   ]
  },
  {
   "cell_type": "markdown",
   "id": "c8f52d34",
   "metadata": {},
   "source": [
    "#### 1.2.3 Density probability loading using load_array function.\n",
    "\n",
    "Following cells show how to use **load_array** and **step_array** functions for creating a suitable **AE** problem for the VaR cumulative sum. \n",
    "\n",
    "This loading data procedure can be used with all the **AE** algorithms (including **RQAE**).\n",
    "\n",
    "We are going to use the **Black-Scholes** probability"
   ]
  },
  {
   "cell_type": "code",
   "execution_count": null,
   "id": "c49ed03e",
   "metadata": {},
   "outputs": [],
   "source": [
    "from QQuantLib.DL.data_loading import load_array, uniform_distribution, step_array\n",
    "from probability_class import DensityProbability\n",
    "#Configuration  of a probability density\n",
    "probability_type = \"Black-Scholes\"\n",
    "\n",
    "S0 = 2\n",
    "r = 0.04\n",
    "T = 300/365\n",
    "sigma = 0.1\n",
    "density_dict = {\n",
    "    \"s_0\": S0,\n",
    "    \"risk_free_rate\": r,\n",
    "    \"maturity\": T,\n",
    "    \"volatility\": sigma    \n",
    "}\n",
    "#Congfiguration of the porbability density\n",
    "bs_pdf = DensityProbability(probability_type, **density_dict)\n",
    "n_qbits = 5\n",
    "x = np.linspace(1,3,2**n_qbits)\n",
    "probability = bs_pdf.probability(x)\n",
    "print(\"Probability density to load\")\n",
    "plt.plot(x, probability, '-o')"
   ]
  },
  {
   "cell_type": "code",
   "execution_count": null,
   "id": "5bd79227",
   "metadata": {},
   "outputs": [],
   "source": [
    "# Now we create the QLM Routine\n",
    "al_routine = qlm.QRoutine()\n",
    "# allocating qbits\n",
    "al_registers = al_routine.new_wires(n_qbits+2)\n",
    "\n",
    "# Loading Uniform Distribution over the first n qbits\n",
    "al_routine.apply(uniform_distribution(n_qbits), al_registers[:n_qbits])\n",
    "\n",
    "# Loding the probability as an array\n",
    "al_p_gate = load_array(probability, id_name='prob')\n",
    "al_routine.apply(al_p_gate, al_registers[:n_qbits+1])\n",
    "\n",
    "print(\"Abstract Gate for Probability density loading\")\n",
    "%qatdisplay al_p_gate\n",
    "\n",
    "#Step Function\n",
    "al_index = 15\n",
    "\n",
    "# Loading Step function\n",
    "step_for_al = step_array(al_index, 2**n_qbits)\n",
    "al_routine.apply(step_for_al, [al_registers[:n_qbits], al_registers[n_qbits+1]])\n",
    "print(\"Abstract Gate for step function loading\")\n",
    "%qatdisplay step_gate\n",
    "\n",
    "# Loading Uniform Distribution again over the first n qbits\n",
    "al_routine.apply(uniform_distribution(n_qbits), al_registers[:n_qbits])\n",
    "\n",
    "print(\"Density Probability and Step function\")\n",
    "plt.plot(x, probability, 'o')\n",
    "plt.axvline(x[al_index])"
   ]
  },
  {
   "cell_type": "code",
   "execution_count": null,
   "id": "59c45bc6",
   "metadata": {},
   "outputs": [],
   "source": [
    "%qatdisplay al_routine"
   ]
  },
  {
   "cell_type": "markdown",
   "id": "41ad5dcd",
   "metadata": {},
   "source": [
    "Now we can measure the state in order to test if the cumulative sum was properly loaded. In this data loading procedure the desired cumulative sum is loaded in the $|0\\rangle^{n}\\otimes |0\\rangle \\otimes |0\\rangle$ stsate. The probability of this state is given by:\n",
    "\n",
    "$$ a= \\left|\\dfrac{1}{N}\\sum_{i=0}^{2^{n}-1}p(i)f(i)\\right|^2,$$\n",
    "\n",
    "where $\\sum_{i=0}^{2^{n}-1}p(i)f(i)$ is the desired value we want to compute"
   ]
  },
  {
   "cell_type": "code",
   "execution_count": null,
   "id": "7b01aebf",
   "metadata": {},
   "outputs": [],
   "source": [
    "#Testing loading protocol\n",
    "results_al, _, _, _ = get_results(al_routine, linalg_qpu=linalg_qpu)\n",
    "cum_sum_al = np.sum(probability[:al_index])\n",
    "measured_al_probability = np.sqrt(results_al['Probability'].iloc[0])*2**n_qbits\n",
    "print(\"Quantum Cumulative Sum: \", measured_probability)\n",
    "print(\"Classical Cumulative Sum: \", cum_sum)\n",
    "print('TEST: ', np.isclose(measured_al_probability, cum_sum_al))"
   ]
  },
  {
   "cell_type": "markdown",
   "id": "f2def0af",
   "metadata": {},
   "source": [
    "## 1.3 Amplitude Estimation Solution for VaR\n",
    "\n",
    "Now we have adapted the cumulative sum VaR to an **AE**. Now we only need to use the different classes for getting results! "
   ]
  },
  {
   "cell_type": "markdown",
   "id": "733a9bef",
   "metadata": {},
   "source": [
    "### 1.3.1 Probabilty loading using load_probability function\n",
    "\n",
    "For the data loading procedure using **load_probability** function we can use all the **AE** methods except the RQAE one.\n",
    "\n",
    "In this case the target and the index for giving to the **AE** class wil be:"
   ]
  },
  {
   "cell_type": "code",
   "execution_count": null,
   "id": "499de381",
   "metadata": {},
   "outputs": [],
   "source": [
    "target_for_pl = [0]\n",
    "print('ae_target: ', target_for_pl)\n",
    "index_for_pl = [pl_routine.arity-1]\n",
    "print('ae_index: ', index_for_pl)"
   ]
  },
  {
   "cell_type": "markdown",
   "id": "b7bf4987",
   "metadata": {},
   "source": [
    "##### MLAE"
   ]
  },
  {
   "cell_type": "code",
   "execution_count": null,
   "id": "20db9561",
   "metadata": {},
   "outputs": [],
   "source": [
    "%%time\n",
    "from QQuantLib.AE.maximum_likelihood_ae import MLAE\n",
    "\n",
    "m_k = [1, 2, 3, 4, 5, 6, 7, 8, 9, 10, 11, 12, 13]\n",
    "n_k = [100 for i in m_k]\n",
    "\n",
    "\n",
    "mlae_dict = {\n",
    "    'qpu': linalg_qpu,\n",
    "    'schedule': [m_k, n_k],\n",
    "    'mcz_qlm': True\n",
    "}\n",
    "\n",
    "\n",
    "\n",
    "mlae_co = MLAE(\n",
    "    pl_routine,\n",
    "    target = target_for_pl,\n",
    "    index = index_for_pl, \n",
    "    **mlae_dict\n",
    ")\n",
    "\n",
    "mlae_co_a = mlae_co.run()"
   ]
  },
  {
   "cell_type": "code",
   "execution_count": null,
   "id": "4b3f9b6e",
   "metadata": {},
   "outputs": [],
   "source": [
    "cumsum_class = np.sum(probability[:pl_index])\n",
    "print('mlae_a: ', mlae_co_a)\n",
    "print('Cumulative Sum classical', cumsum_class)\n",
    "print(\"Error is: \", np.abs(mlae_co_a-cumsum_class))"
   ]
  },
  {
   "cell_type": "markdown",
   "id": "79f1d1c0",
   "metadata": {},
   "source": [
    "##### CQPEAE"
   ]
  },
  {
   "cell_type": "code",
   "execution_count": null,
   "id": "96a47af4",
   "metadata": {},
   "outputs": [],
   "source": [
    "%%time\n",
    "from QQuantLib.AE.ae_classical_qpe import CQPEAE\n",
    "\n",
    "ae_cqpe_dict = {\n",
    "    'qpu': linalg_qpu,\n",
    "    'auxiliar_qbits_number': 10,\n",
    "    'shots': 100,\n",
    "    'mcz_qlm': True      \n",
    "}\n",
    "\n",
    "\n",
    "ae_cqpe = CQPEAE(\n",
    "    pl_routine,\n",
    "    target = target_for_pl,\n",
    "    index = index_for_pl, \n",
    "    **ae_cqpe_dict\n",
    ")\n",
    "ae_cqpe_a  = ae_cqpe.run()"
   ]
  },
  {
   "cell_type": "code",
   "execution_count": null,
   "id": "2fe73914",
   "metadata": {},
   "outputs": [],
   "source": [
    "cumsum_class = np.sum(probability[:pl_index])\n",
    "print('ae_cqpe_a: ', ae_cqpe_a)\n",
    "print('Cumulative Sum classical', cumsum_class)\n",
    "print(\"Error is: \", np.abs(ae_cqpe_a-cumsum_class))"
   ]
  },
  {
   "cell_type": "markdown",
   "id": "9f27887f",
   "metadata": {},
   "source": [
    "##### IQPEAE"
   ]
  },
  {
   "cell_type": "code",
   "execution_count": null,
   "id": "4d987e61",
   "metadata": {},
   "outputs": [],
   "source": [
    "%%time\n",
    "from QQuantLib.AE.ae_iterative_quantum_pe import IQPEAE\n",
    "\n",
    "ae_iqpe_dict = {\n",
    "    'qpu': linalg_qpu,\n",
    "    'cbits_number': 8,\n",
    "    'shots': 10,\n",
    "    'mcz_qlm': True  \n",
    "}\n",
    "\n",
    "ae_iqpe = IQPEAE(\n",
    "    pl_routine,\n",
    "    target = target_for_pl,\n",
    "    index = index_for_pl, \n",
    "    **ae_iqpe_dict\n",
    ")\n",
    "\n",
    "ae_iqpe_a  = ae_iqpe.run()"
   ]
  },
  {
   "cell_type": "code",
   "execution_count": null,
   "id": "d35c91c8",
   "metadata": {},
   "outputs": [],
   "source": [
    "cumsum_class = np.sum(probability[:pl_index])\n",
    "print('ae_iqpe_a: ', ae_iqpe_a)\n",
    "print('Cumulative Sum classical', cumsum_class)\n",
    "print(\"Error is: \", np.abs(ae_iqpe_a-cumsum_class))"
   ]
  },
  {
   "cell_type": "markdown",
   "id": "c5e28e40",
   "metadata": {},
   "source": [
    "##### IQAE"
   ]
  },
  {
   "cell_type": "code",
   "execution_count": null,
   "id": "5b799ea1",
   "metadata": {},
   "outputs": [],
   "source": [
    "%%time\n",
    "from QQuantLib.AE.iterative_quantum_ae import IQAE\n",
    "\n",
    "iqae_dict = {\n",
    "    'qpu': linalg_qpu,\n",
    "    'mcz_qlm': True ,\n",
    "    'epsilon': 0.001,\n",
    "    'alpha': 0.05,\n",
    "    'shots': 100,    \n",
    "}\n",
    "\n",
    "iqae = IQAE(\n",
    "    pl_routine,\n",
    "    target = target_for_pl,\n",
    "    index = index_for_pl, \n",
    "    **iqae_dict\n",
    ")\n",
    "\n",
    "iqae_a = iqae.run()\n"
   ]
  },
  {
   "cell_type": "code",
   "execution_count": null,
   "id": "7d8e5a02",
   "metadata": {},
   "outputs": [],
   "source": [
    "cumsum_class = np.sum(probability[:pl_index])\n",
    "print('iqae_a: ', iqae_a)\n",
    "print('Cumulative Sum classical', cumsum_class)\n",
    "print(\"Error is: \", np.abs(iqae_a-cumsum_class))"
   ]
  },
  {
   "cell_type": "markdown",
   "id": "2a9b04f6",
   "metadata": {},
   "source": [
    "### 1.3.1 Probabilty loading using load_array function\n",
    "\n",
    "For the data loading procedure using **load_array** function we can use all the **AE** methods (including the RQAE one).\n",
    "\n",
    "In this data loading procedure the desired cumulative sum is loaded in the $|0\\rangle^{n}\\otimes |0\\rangle \\otimes |0\\rangle$ state. The probability of this state is given by:\n",
    "\n",
    "$$ a= \\left|\\dfrac{1}{N}\\sum_{i=0}^{2^{n}-1}p(i)f(i)\\right|^2,$$\n",
    "\n",
    "where $\\sum_{i=0}^{2^{n}-1}p(i)f(i)$ is the desired value we want to compute\n",
    "\n",
    "In this case the target and the index for giving to the **AE** class wil be:"
   ]
  },
  {
   "cell_type": "code",
   "execution_count": null,
   "id": "508f21d3",
   "metadata": {
    "scrolled": true
   },
   "outputs": [],
   "source": [
    "target_for_al = [0 for i in range(al_routine.arity)]\n",
    "print('target_for_al: ', target_for_al)\n",
    "index_for_al = [i for i in range(al_routine.arity)]\n",
    "print('index_for_al: ', index_for_al)"
   ]
  },
  {
   "cell_type": "markdown",
   "id": "d889ad98",
   "metadata": {},
   "source": [
    "##### MLAE"
   ]
  },
  {
   "cell_type": "code",
   "execution_count": null,
   "id": "091304da",
   "metadata": {},
   "outputs": [],
   "source": [
    "%%time\n",
    "from QQuantLib.AE.maximum_likelihood_ae import MLAE\n",
    "\n",
    "m_k = [1, 10, 80, 90, 100, 110, 120]\n",
    "n_k = [100 for i in m_k]\n",
    "\n",
    "\n",
    "mlae_dict = {\n",
    "    'qpu': linalg_qpu,\n",
    "    'schedule': [m_k, n_k],\n",
    "    'mcz_qlm': True\n",
    "}\n",
    "\n",
    "\n",
    "\n",
    "mlae_co = MLAE(\n",
    "    al_routine,\n",
    "    target = target_for_al,\n",
    "    index = index_for_al, \n",
    "    **mlae_dict\n",
    ")\n",
    "\n",
    "mlae_co_a = mlae_co.run()"
   ]
  },
  {
   "cell_type": "code",
   "execution_count": null,
   "id": "1c475de8",
   "metadata": {},
   "outputs": [],
   "source": [
    "cumsum_class = np.sum(probability[:al_index])\n",
    "print('mlae_a: ', mlae_co_a)\n",
    "cumsum_mlae = np.sqrt(mlae_co_a)*2**n_qbits\n",
    "print('Cumulative Sum MLAE: ', cumsum_mlae)\n",
    "print('Cumulative Sum classical', cumsum_class)\n",
    "print(\"Error is: \", np.abs(cumsum_mlae-cumsum_class))"
   ]
  },
  {
   "cell_type": "markdown",
   "id": "d83b1a58",
   "metadata": {},
   "source": [
    "##### IQAE"
   ]
  },
  {
   "cell_type": "code",
   "execution_count": null,
   "id": "0462c3af",
   "metadata": {},
   "outputs": [],
   "source": [
    "%%time\n",
    "from QQuantLib.AE.iterative_quantum_ae import IQAE\n",
    "\n",
    "iqae_dict = {\n",
    "    'qpu': linalg_qpu,\n",
    "    'mcz_qlm': True ,\n",
    "    'epsilon': 0.0001,\n",
    "    'alpha': 0.05,\n",
    "    'shots': 100,    \n",
    "}\n",
    "\n",
    "iqae = IQAE(\n",
    "    al_routine,\n",
    "    target = target_for_al,\n",
    "    index = index_for_al, \n",
    "    **iqae_dict\n",
    ")\n",
    "\n",
    "iqae_a = iqae.run()\n"
   ]
  },
  {
   "cell_type": "code",
   "execution_count": null,
   "id": "4a6d8d1e",
   "metadata": {},
   "outputs": [],
   "source": [
    "cumsum_class = np.sum(probability[:al_index])\n",
    "cumsum_iqae = np.sqrt(iqae_a)*2**n_qbits\n",
    "print('iqae_a: ', iqae_a)\n",
    "print('Cumulative Sum IQAE: ', cumsum_iqae)\n",
    "print('Cumulative Sum classical', cumsum_class)\n",
    "print(\"Error is: \", np.abs(cumsum_iqae-cumsum_class))"
   ]
  },
  {
   "cell_type": "markdown",
   "id": "24641759",
   "metadata": {},
   "source": [
    "##### RQAE\n",
    "\n",
    "**BE AWARE!!** In the case of the RQAE method the desired value will be:\n",
    "\n",
    "$$\\sum_{i=0}^{2^{n}-1}p(i)f(i) = 2^n * a$$\n",
    "\n",
    "Where a is the probabilty of the $|0\\rangle^{n}\\otimes |0\\rangle \\otimes |0\\rangle$ state"
   ]
  },
  {
   "cell_type": "code",
   "execution_count": null,
   "id": "429ed9ec",
   "metadata": {},
   "outputs": [],
   "source": [
    "%%time\n",
    "#Now we can apply de RQAE method\n",
    "from QQuantLib.AE.real_quantum_ae import RQAE\n",
    "q = 2\n",
    "epsilon = 0.001\n",
    "gamma = 0.05 \n",
    "rqae_dict = {\n",
    "    'qpu': linalg_qpu,\n",
    "    'epsilon': epsilon,\n",
    "    'gamma': gamma,\n",
    "    'q': q,\n",
    "    'mcz_qlm': True  \n",
    "}\n",
    "\n",
    "\n",
    "\n",
    "rqae = RQAE(\n",
    "    al_routine,\n",
    "    target = target_for_al,\n",
    "    index = index_for_al, \n",
    "    **rqae_dict\n",
    ")\n",
    "\n",
    "_ = rqae.run()\n"
   ]
  },
  {
   "cell_type": "code",
   "execution_count": null,
   "id": "91a79f0e",
   "metadata": {},
   "outputs": [],
   "source": [
    "cumsum_class = np.sum(probability[:al_index])\n",
    "cumsum_rqae = rqae.ae*2**n_qbits\n",
    "print('rqae_a: ', rqae.ae)\n",
    "print('Cumulative Sum RQAE: ', cumsum_rqae)\n",
    "print('Cumulative Sum classical', cumsum_class)\n",
    "print(\"Error is: \", np.abs(cumsum_rqae-cumsum_class))"
   ]
  },
  {
   "cell_type": "markdown",
   "id": "8eab701a",
   "metadata": {},
   "source": [
    "##### CQPEAE"
   ]
  },
  {
   "cell_type": "code",
   "execution_count": null,
   "id": "08587aff",
   "metadata": {},
   "outputs": [],
   "source": [
    "%%time\n",
    "from QQuantLib.AE.ae_classical_qpe import CQPEAE\n",
    "\n",
    "ae_cqpe_dict = {\n",
    "    'qpu': linalg_qpu,\n",
    "    'auxiliar_qbits_number': 10,\n",
    "    'shots': 10,\n",
    "    'mcz_qlm': True      \n",
    "}\n",
    "\n",
    "\n",
    "ae_cqpe = CQPEAE(\n",
    "    al_routine,\n",
    "    target = target_for_al,\n",
    "    index = index_for_al, \n",
    "    **ae_cqpe_dict\n",
    ")\n",
    "ae_cqpe_a  = ae_cqpe.run()"
   ]
  },
  {
   "cell_type": "code",
   "execution_count": null,
   "id": "a41b1e31",
   "metadata": {
    "scrolled": true
   },
   "outputs": [],
   "source": [
    "cumsum_class = np.sum(probability[:pl_index])\n",
    "cumsum_cqpeae = np.sqrt(ae_cqpe_a)*2**n_qbits\n",
    "print('ae_cqpe_a: ', ae_cqpe_a)\n",
    "print('Cumulative Sum CQPEAE: ', cumsum_cqpeae)\n",
    "print('Cumulative Sum classical', cumsum_class)\n",
    "print(\"Error is: \", np.abs(cumsum_cqpeae-cumsum_class))"
   ]
  },
  {
   "cell_type": "markdown",
   "id": "113eceb8",
   "metadata": {},
   "source": [
    "##### IQPEAE"
   ]
  },
  {
   "cell_type": "code",
   "execution_count": null,
   "id": "57f85ecf",
   "metadata": {},
   "outputs": [],
   "source": [
    "%%time\n",
    "from QQuantLib.AE.ae_iterative_quantum_pe import IQPEAE\n",
    "\n",
    "ae_iqpe_dict = {\n",
    "    'qpu': linalg_qpu,\n",
    "    'cbits_number': 12,\n",
    "    'shots': 10,\n",
    "    'mcz_qlm': True  \n",
    "}\n",
    "\n",
    "ae_iqpe = IQPEAE(\n",
    "    al_routine,\n",
    "    target = target_for_al,\n",
    "    index = index_for_al, \n",
    "    **ae_iqpe_dict\n",
    ")\n",
    "\n",
    "ae_iqpe_a  = ae_iqpe.run()"
   ]
  },
  {
   "cell_type": "code",
   "execution_count": null,
   "id": "78028327",
   "metadata": {},
   "outputs": [],
   "source": [
    "cumsum_class = np.sum(probability[:pl_index])\n",
    "cumsum_iqpeae = np.sqrt(ae_iqpe_a)*2**n_qbits\n",
    "print('ae_iqpe_a: ', ae_iqpe_a)\n",
    "print('Cumulative Sum IQPEAE: ', cumsum_iqpeae)\n",
    "print('Cumulative Sum classical', cumsum_class)\n",
    "print(\"Error is: \", np.abs(cumsum_iqpeae-cumsum_class))"
   ]
  },
  {
   "cell_type": "markdown",
   "id": "6a2190df",
   "metadata": {},
   "source": [
    "Until now we have adapted the cumulative sum problem to an **AE** problem (for the 2 data loading procedures we have). For computing the **VaR** we only need to use the classical strategy and substitute the the way we perform the cumulative sum. \n",
    "\n",
    "We have developed a class for computing in an easy way this cumlative sum for the VaR (**CumulativeSumVaR** class) and a class for computing the VaR usig the beforementioned class.\n",
    "\n",
    "In  notebook **04_Benchmark_Var** we show how this works"
   ]
  },
  {
   "cell_type": "code",
   "execution_count": null,
   "id": "30741da1",
   "metadata": {},
   "outputs": [],
   "source": []
  }
 ],
 "metadata": {
  "kernelspec": {
   "display_name": "Python 3 (ipykernel)",
   "language": "python",
   "name": "python3"
  },
  "language_info": {
   "codemirror_mode": {
    "name": "ipython",
    "version": 3
   },
   "file_extension": ".py",
   "mimetype": "text/x-python",
   "name": "python",
   "nbconvert_exporter": "python",
   "pygments_lexer": "ipython3",
   "version": "3.9.9"
  }
 },
 "nbformat": 4,
 "nbformat_minor": 5
}
