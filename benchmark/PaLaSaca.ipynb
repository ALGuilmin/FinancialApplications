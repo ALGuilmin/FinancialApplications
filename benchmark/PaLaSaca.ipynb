{
 "cells": [
  {
   "cell_type": "code",
   "execution_count": null,
   "id": "7aa091c2",
   "metadata": {},
   "outputs": [],
   "source": [
    "import sys\n",
    "sys.path.append(\"../\")\n",
    "sys.path.append(\"../../benchmark/\")\n",
    "import numpy as np\n",
    "import pandas as pd\n",
    "import qat.lang.AQASM as qlm\n",
    "import matplotlib.pyplot as plt\n",
    "%matplotlib inline"
   ]
  },
  {
   "cell_type": "code",
   "execution_count": null,
   "id": "3cc6e6e2",
   "metadata": {},
   "outputs": [],
   "source": [
    "#This cell loads the QLM solver.\n",
    "#QLMaaS == False -> uses PyLinalg\n",
    "#QLMaaS == True -> try to use LinAlg (for using QPU as CESGA QLM one)\n",
    "from QQuantLib.utils.qlm_solver import get_qpu\n",
    "QLMaaS = False\n",
    "linalg_qpu = get_qpu(QLMaaS)"
   ]
  },
  {
   "cell_type": "code",
   "execution_count": null,
   "id": "465bd310",
   "metadata": {},
   "outputs": [],
   "source": [
    "from ae_class import AE"
   ]
  },
  {
   "cell_type": "code",
   "execution_count": null,
   "id": "43e3eb5a",
   "metadata": {},
   "outputs": [],
   "source": [
    "def f(x):\n",
    "    return np.sin(x)\n",
    "def p(x):\n",
    "    return x\n",
    "def MonteCarlo(f, x0, xf, N):\n",
    "    mc_domain = (xf-x0)*np.random.rand(N) + x0\n",
    "    mc_integration = (xf-x0) * np.mean(f(mc_domain))\n",
    "    return mc_integration\n",
    "def sin_integral(a,b):\n",
    "    return np.cos(a)-np.cos(b)"
   ]
  },
  {
   "cell_type": "code",
   "execution_count": null,
   "id": "347ffac1",
   "metadata": {
    "scrolled": true
   },
   "outputs": [],
   "source": [
    "a = np.pi/4.0\n",
    "b = np.pi/2.0\n",
    "\n",
    "n = 3\n",
    "domain_x = np.linspace(a, b, 2**n+1)\n",
    "\n",
    "delta_x = np.diff(domain_x)\n",
    "f_x = []\n",
    "p_x = []\n",
    "x_ = []\n",
    "for i in range(1, len(domain_x)):\n",
    "    step_f = (f(domain_x[i]) + f(domain_x[i-1]))/2.0\n",
    "    step_p = (p(domain_x[i]) + p(domain_x[i-1]))/2.0\n",
    "    #print(i)\n",
    "    f_x.append(step_f)\n",
    "    p_x.append(step_p)\n",
    "    x_.append((domain_x[i] + domain_x[i-1])/2.0)\n",
    "f_x = np.array(f_x)\n",
    "p_x = np.array(p_x)\n",
    "x_ = np.array(x_)\n",
    "\n",
    "plt.plot(domain_x, f(domain_x), 'o')\n",
    "plt.plot(x_, f_x, 'o')\n",
    "\n",
    "g_x = f_x*delta_x\n",
    "\n",
    "normalization= max(g_x)\n",
    "print(normalization)\n",
    "#normalization = 1.0\n",
    "g_norm_x = g_x/normalization"
   ]
  },
  {
   "cell_type": "code",
   "execution_count": null,
   "id": "5700898d",
   "metadata": {},
   "outputs": [],
   "source": [
    "plt.plot(domain_x, p(domain_x), 'o')\n",
    "plt.plot(x_, p_x, 'o')\n",
    "norm_p = np.sum(p_x)\n",
    "p_norm_p = p_x/norm_p"
   ]
  },
  {
   "cell_type": "code",
   "execution_count": null,
   "id": "d9e54ada",
   "metadata": {},
   "outputs": [],
   "source": [
    "p_norm_p"
   ]
  },
  {
   "cell_type": "code",
   "execution_count": null,
   "id": "1ad86b17",
   "metadata": {},
   "outputs": [],
   "source": [
    "np.sum(p_norm_p)"
   ]
  },
  {
   "cell_type": "code",
   "execution_count": null,
   "id": "7f5872c5",
   "metadata": {},
   "outputs": [],
   "source": [
    "np.sum(p_norm_p*g_norm_x)"
   ]
  },
  {
   "cell_type": "code",
   "execution_count": null,
   "id": "00d56124",
   "metadata": {},
   "outputs": [],
   "source": [
    "encoding_dict = {\n",
    "    \"array_function\": g_norm_x,\n",
    "    \"array_probability\": p_norm_p,\n",
    "    \"encoding\": 2,\n",
    "    \"multiplexor\": True\n",
    "\n",
    "}\n",
    "\n",
    "m_k = [i for i in range(12)]\n",
    "\n",
    "ae_dict = {\n",
    "    #QPU\n",
    "    'qpu': linalg_qpu,\n",
    "    #Multicontrolate decomposition\n",
    "    'mcz_qlm': False, \n",
    "    \n",
    "    #Amplitude Estimation selection\n",
    "    'ae_type': 'RQAE',    \n",
    "    #shots\n",
    "    'shots': 100,\n",
    "    \n",
    "    #MLAE\n",
    "    'schedule': [\n",
    "        m_k,\n",
    "        [100]*len(m_k)\n",
    "    ],\n",
    "    'delta' : 1.0e-6,\n",
    "    'ns' : 10000,\n",
    "    \n",
    "    #CQPEAE\n",
    "    'auxiliar_qbits_number': 10,\n",
    "    #IQPEAE\n",
    "    'cbits_number': 6,\n",
    "    #IQAE & RQAQE\n",
    "    'epsilon': 0.001,\n",
    "    #IQAE\n",
    "    'alpha': 0.05,\n",
    "    #RQAE\n",
    "    'gamma': 0.05,\n",
    "    'q': 1.2\n",
    "}"
   ]
  },
  {
   "cell_type": "code",
   "execution_count": null,
   "id": "0b803857",
   "metadata": {},
   "outputs": [],
   "source": [
    "ae_dict.update(encoding_dict)"
   ]
  },
  {
   "cell_type": "code",
   "execution_count": null,
   "id": "c8058bbd",
   "metadata": {},
   "outputs": [],
   "source": [
    "ae_object = AE(**ae_dict)"
   ]
  },
  {
   "cell_type": "code",
   "execution_count": null,
   "id": "3c52b11f",
   "metadata": {},
   "outputs": [],
   "source": [
    "pdf = ae_object.run()"
   ]
  },
  {
   "cell_type": "code",
   "execution_count": null,
   "id": "b19b31e9",
   "metadata": {
    "scrolled": true
   },
   "outputs": [],
   "source": [
    "pdf"
   ]
  },
  {
   "cell_type": "code",
   "execution_count": null,
   "id": "a8658c92",
   "metadata": {},
   "outputs": [],
   "source": [
    "np.sum(g_norm_x)"
   ]
  },
  {
   "cell_type": "code",
   "execution_count": null,
   "id": "f99a9d1c",
   "metadata": {},
   "outputs": [],
   "source": [
    "pdf*normalization"
   ]
  },
  {
   "cell_type": "code",
   "execution_count": null,
   "id": "2768ee73",
   "metadata": {},
   "outputs": [],
   "source": [
    "np.sum(g_norm_x)*normalization"
   ]
  },
  {
   "cell_type": "code",
   "execution_count": null,
   "id": "d3e1da4a",
   "metadata": {},
   "outputs": [],
   "source": []
  },
  {
   "cell_type": "code",
   "execution_count": null,
   "id": "6ec4a848",
   "metadata": {},
   "outputs": [],
   "source": []
  },
  {
   "cell_type": "code",
   "execution_count": null,
   "id": "de36d087",
   "metadata": {},
   "outputs": [],
   "source": []
  },
  {
   "cell_type": "code",
   "execution_count": null,
   "id": "b35257a4",
   "metadata": {},
   "outputs": [],
   "source": []
  },
  {
   "cell_type": "code",
   "execution_count": null,
   "id": "f2c29af8",
   "metadata": {},
   "outputs": [],
   "source": []
  },
  {
   "cell_type": "code",
   "execution_count": null,
   "id": "a43b7804",
   "metadata": {},
   "outputs": [],
   "source": [
    "np.sum(p_norm_p*g_norm_x)"
   ]
  },
  {
   "cell_type": "code",
   "execution_count": null,
   "id": "796e5f8e",
   "metadata": {},
   "outputs": [],
   "source": [
    "np.sum(p_norm_p*g_x)"
   ]
  },
  {
   "cell_type": "code",
   "execution_count": null,
   "id": "8d9b9f3a",
   "metadata": {},
   "outputs": [],
   "source": []
  },
  {
   "cell_type": "code",
   "execution_count": null,
   "id": "eec2ed58",
   "metadata": {},
   "outputs": [],
   "source": []
  },
  {
   "cell_type": "code",
   "execution_count": null,
   "id": "c860a55c",
   "metadata": {},
   "outputs": [],
   "source": []
  },
  {
   "cell_type": "code",
   "execution_count": null,
   "id": "5adaf109",
   "metadata": {},
   "outputs": [],
   "source": [
    "ae_object.solver_ae.alpha"
   ]
  },
  {
   "cell_type": "code",
   "execution_count": null,
   "id": "c716aebb",
   "metadata": {},
   "outputs": [],
   "source": []
  },
  {
   "cell_type": "code",
   "execution_count": null,
   "id": "466428ad",
   "metadata": {},
   "outputs": [],
   "source": []
  },
  {
   "cell_type": "code",
   "execution_count": null,
   "id": "99d4a5fc",
   "metadata": {},
   "outputs": [],
   "source": [
    "pdf*normalization"
   ]
  },
  {
   "cell_type": "code",
   "execution_count": null,
   "id": "22ab2755",
   "metadata": {},
   "outputs": [],
   "source": [
    "ae_object.ae_type"
   ]
  },
  {
   "cell_type": "code",
   "execution_count": null,
   "id": "653c7e2b",
   "metadata": {},
   "outputs": [],
   "source": [
    "np.sum(g_x)"
   ]
  },
  {
   "cell_type": "code",
   "execution_count": null,
   "id": "18d7b119",
   "metadata": {},
   "outputs": [],
   "source": []
  },
  {
   "cell_type": "code",
   "execution_count": null,
   "id": "1f781c02",
   "metadata": {},
   "outputs": [],
   "source": [
    "ae_object.encode_class.probability"
   ]
  },
  {
   "cell_type": "code",
   "execution_count": null,
   "id": "8ee47e0a",
   "metadata": {},
   "outputs": [],
   "source": [
    "ae_object.encode_class.run()"
   ]
  },
  {
   "cell_type": "code",
   "execution_count": null,
   "id": "4d1656a6",
   "metadata": {},
   "outputs": [],
   "source": [
    "oracle = ae_object.encode_class.oracle\n",
    "%qatdisplay oracle --depth"
   ]
  },
  {
   "cell_type": "code",
   "execution_count": null,
   "id": "71913d97",
   "metadata": {},
   "outputs": [],
   "source": []
  }
 ],
 "metadata": {
  "kernelspec": {
   "display_name": "Python 3 (ipykernel)",
   "language": "python",
   "name": "python3"
  },
  "language_info": {
   "codemirror_mode": {
    "name": "ipython",
    "version": 3
   },
   "file_extension": ".py",
   "mimetype": "text/x-python",
   "name": "python",
   "nbconvert_exporter": "python",
   "pygments_lexer": "ipython3",
   "version": "3.9.9"
  }
 },
 "nbformat": 4,
 "nbformat_minor": 5
}
