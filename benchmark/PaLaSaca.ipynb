{
 "cells": [
  {
   "cell_type": "code",
   "execution_count": 1,
   "id": "7aa091c2",
   "metadata": {},
   "outputs": [],
   "source": [
    "import sys\n",
    "sys.path.append(\"../\")\n",
    "sys.path.append(\"../../benchmark/\")\n",
    "import numpy as np\n",
    "import pandas as pd\n",
    "import qat.lang.AQASM as qlm\n",
    "import matplotlib.pyplot as plt\n",
    "%matplotlib inline"
   ]
  },
  {
   "cell_type": "code",
   "execution_count": 2,
   "id": "3cc6e6e2",
   "metadata": {},
   "outputs": [
    {
     "name": "stdout",
     "output_type": "stream",
     "text": [
      "Using default qpu\n"
     ]
    }
   ],
   "source": [
    "#This cell loads the QLM solver.\n",
    "#QLMaaS == False -> uses PyLinalg\n",
    "#QLMaaS == True -> try to use LinAlg (for using QPU as CESGA QLM one)\n",
    "from QQuantLib.utils.qlm_solver import get_qpu\n",
    "QLMaaS = False\n",
    "linalg_qpu = get_qpu(QLMaaS)"
   ]
  },
  {
   "cell_type": "code",
   "execution_count": 3,
   "id": "465bd310",
   "metadata": {},
   "outputs": [],
   "source": [
    "from ae_integration_class import IntegrationAE"
   ]
  },
  {
   "cell_type": "code",
   "execution_count": 4,
   "id": "43e3eb5a",
   "metadata": {},
   "outputs": [],
   "source": [
    "def f(x):\n",
    "    return np.sin(x)\n",
    "def p(x):\n",
    "    return x\n",
    "def MonteCarlo(f, x0, xf, N):\n",
    "    mc_domain = (xf-x0)*np.random.rand(N) + x0\n",
    "    mc_integration = (xf-x0) * np.mean(f(mc_domain))\n",
    "    return mc_integration\n",
    "def sin_integral(a,b):\n",
    "    return np.cos(a)-np.cos(b)"
   ]
  },
  {
   "cell_type": "code",
   "execution_count": 5,
   "id": "347ffac1",
   "metadata": {
    "scrolled": true
   },
   "outputs": [
    {
     "name": "stdout",
     "output_type": "stream",
     "text": [
      "0.09793840124793655\n"
     ]
    },
    {
     "data": {
      "image/png": "[encoded data removed]",
      "text/plain": [
       "<Figure size 432x288 with 1 Axes>"
      ]
     },
     "metadata": {
      "needs_background": "light"
     },
     "output_type": "display_data"
    }
   ],
   "source": [
    "a = np.pi/4.0\n",
    "b = np.pi/2.0\n",
    "\n",
    "n = 3\n",
    "domain_x = np.linspace(a, b, 2**n+1)\n",
    "\n",
    "delta_x = np.diff(domain_x)\n",
    "f_x = []\n",
    "p_x = []\n",
    "x_ = []\n",
    "for i in range(1, len(domain_x)):\n",
    "    step_f = (f(domain_x[i]) + f(domain_x[i-1]))/2.0\n",
    "    step_p = (p(domain_x[i]) + p(domain_x[i-1]))/2.0\n",
    "    #print(i)\n",
    "    f_x.append(step_f)\n",
    "    p_x.append(step_p)\n",
    "    x_.append((domain_x[i] + domain_x[i-1])/2.0)\n",
    "f_x = np.array(f_x)\n",
    "p_x = np.array(p_x)\n",
    "x_ = np.array(x_)\n",
    "\n",
    "plt.plot(domain_x, f(domain_x), 'o')\n",
    "plt.plot(x_, f_x, 'o')\n",
    "\n",
    "g_x = f_x*delta_x\n",
    "\n",
    "normalization= max(g_x)\n",
    "print(normalization)\n",
    "#normalization = 1.0\n",
    "g_norm_x = g_x/normalization"
   ]
  },
  {
   "cell_type": "code",
   "execution_count": 6,
   "id": "5700898d",
   "metadata": {},
   "outputs": [
    {
     "data": {
      "image/png": "[encoded data removed]",
      "text/plain": [
       "<Figure size 432x288 with 1 Axes>"
      ]
     },
     "metadata": {
      "needs_background": "light"
     },
     "output_type": "display_data"
    }
   ],
   "source": [
    "plt.plot(domain_x, p(domain_x), 'o')\n",
    "plt.plot(x_, p_x, 'o')\n",
    "norm_p = np.sum(p_x)\n",
    "p_norm_p = p_x/norm_p"
   ]
  },
  {
   "cell_type": "code",
   "execution_count": 7,
   "id": "d9e54ada",
   "metadata": {},
   "outputs": [
    {
     "data": {
      "text/plain": [
       "array([0.08854167, 0.09895833, 0.109375  , 0.11979167, 0.13020833,\n",
       "       0.140625  , 0.15104167, 0.16145833])"
      ]
     },
     "execution_count": 7,
     "metadata": {},
     "output_type": "execute_result"
    }
   ],
   "source": [
    "p_norm_p"
   ]
  },
  {
   "cell_type": "code",
   "execution_count": 8,
   "id": "1ad86b17",
   "metadata": {},
   "outputs": [
    {
     "data": {
      "text/plain": [
       "1.0"
      ]
     },
     "execution_count": 8,
     "metadata": {},
     "output_type": "execute_result"
    }
   ],
   "source": [
    "np.sum(p_norm_p)"
   ]
  },
  {
   "cell_type": "code",
   "execution_count": 14,
   "id": "7f5872c5",
   "metadata": {},
   "outputs": [
    {
     "data": {
      "text/plain": [
       "6.566383775672125"
      ]
     },
     "execution_count": 14,
     "metadata": {},
     "output_type": "execute_result"
    }
   ],
   "source": [
    "np.sum(g_norm_x*g_norm_x)"
   ]
  },
  {
   "cell_type": "code",
   "execution_count": 10,
   "id": "00d56124",
   "metadata": {},
   "outputs": [],
   "source": [
    "encoding_dict = {\n",
    "    \"array_function\": g_norm_x,\n",
    "    \"array_probability\": p_norm_p,\n",
    "    \"encoding\": 2,\n",
    "    \"multiplexor\": True\n",
    "\n",
    "}\n",
    "\n",
    "m_k = [i for i in range(12)]\n",
    "\n",
    "ae_dict = {\n",
    "    #QPU\n",
    "    'qpu': linalg_qpu,\n",
    "    #Multicontrolate decomposition\n",
    "    'mcz_qlm': False, \n",
    "    \n",
    "    #Amplitude Estimation selection\n",
    "    'ae_type': 'RQAE',    \n",
    "    #shots\n",
    "    'shots': 100,\n",
    "    \n",
    "    #MLAE\n",
    "    'schedule': [\n",
    "        m_k,\n",
    "        [100]*len(m_k)\n",
    "    ],\n",
    "    'delta' : 1.0e-6,\n",
    "    'ns' : 10000,\n",
    "    \n",
    "    #CQPEAE\n",
    "    'auxiliar_qbits_number': 10,\n",
    "    #IQPEAE\n",
    "    'cbits_number': 6,\n",
    "    #IQAE & RQAQE\n",
    "    'epsilon': 0.001,\n",
    "    #IQAE\n",
    "    'alpha': 0.05,\n",
    "    #RQAE\n",
    "    'gamma': 0.05,\n",
    "    'q': 1.2\n",
    "}"
   ]
  },
  {
   "cell_type": "code",
   "execution_count": 11,
   "id": "0b803857",
   "metadata": {},
   "outputs": [],
   "source": [
    "ae_dict.update(encoding_dict)"
   ]
  },
  {
   "cell_type": "code",
   "execution_count": 12,
   "id": "c8058bbd",
   "metadata": {},
   "outputs": [],
   "source": [
    "ae_object = IntegrationAE(**ae_dict)"
   ]
  },
  {
   "cell_type": "code",
   "execution_count": 13,
   "id": "ffa82d76",
   "metadata": {},
   "outputs": [
    {
     "data": {
      "text/html": [
       "<div>\n",
       "<style scoped>\n",
       "    .dataframe tbody tr th:only-of-type {\n",
       "        vertical-align: middle;\n",
       "    }\n",
       "\n",
       "    .dataframe tbody tr th {\n",
       "        vertical-align: top;\n",
       "    }\n",
       "\n",
       "    .dataframe thead th {\n",
       "        text-align: right;\n",
       "    }\n",
       "</style>\n",
       "<table border=\"1\" class=\"dataframe\">\n",
       "  <thead>\n",
       "    <tr style=\"text-align: right;\">\n",
       "      <th></th>\n",
       "      <th>ae</th>\n",
       "      <th>ae_l</th>\n",
       "      <th>ae_u</th>\n",
       "    </tr>\n",
       "  </thead>\n",
       "  <tbody>\n",
       "    <tr>\n",
       "      <th>0</th>\n",
       "      <td>0.958064</td>\n",
       "      <td>0.957718</td>\n",
       "      <td>0.958409</td>\n",
       "    </tr>\n",
       "  </tbody>\n",
       "</table>\n",
       "</div>"
      ],
      "text/plain": [
       "        ae     ae_l     ae_u\n",
       "0 0.958064 0.957718 0.958409"
      ]
     },
     "execution_count": 13,
     "metadata": {},
     "output_type": "execute_result"
    }
   ],
   "source": [
    "ae_object.run()"
   ]
  },
  {
   "cell_type": "code",
   "execution_count": null,
   "id": "3c52b11f",
   "metadata": {},
   "outputs": [],
   "source": [
    "pdf = ae_object.run()"
   ]
  },
  {
   "cell_type": "code",
   "execution_count": null,
   "id": "b19b31e9",
   "metadata": {
    "scrolled": true
   },
   "outputs": [],
   "source": [
    "pdf"
   ]
  },
  {
   "cell_type": "code",
   "execution_count": null,
   "id": "a8658c92",
   "metadata": {},
   "outputs": [],
   "source": [
    "np.sum(g_norm_x)"
   ]
  },
  {
   "cell_type": "code",
   "execution_count": null,
   "id": "f99a9d1c",
   "metadata": {},
   "outputs": [],
   "source": [
    "pdf*normalization"
   ]
  },
  {
   "cell_type": "code",
   "execution_count": null,
   "id": "2768ee73",
   "metadata": {},
   "outputs": [],
   "source": [
    "np.sum(g_norm_x)*normalization"
   ]
  },
  {
   "cell_type": "code",
   "execution_count": null,
   "id": "d3e1da4a",
   "metadata": {},
   "outputs": [],
   "source": []
  },
  {
   "cell_type": "code",
   "execution_count": null,
   "id": "6ec4a848",
   "metadata": {},
   "outputs": [],
   "source": []
  },
  {
   "cell_type": "code",
   "execution_count": null,
   "id": "de36d087",
   "metadata": {},
   "outputs": [],
   "source": []
  },
  {
   "cell_type": "code",
   "execution_count": null,
   "id": "b35257a4",
   "metadata": {},
   "outputs": [],
   "source": []
  },
  {
   "cell_type": "code",
   "execution_count": null,
   "id": "f2c29af8",
   "metadata": {},
   "outputs": [],
   "source": []
  },
  {
   "cell_type": "code",
   "execution_count": null,
   "id": "a43b7804",
   "metadata": {},
   "outputs": [],
   "source": [
    "np.sum(p_norm_p*g_norm_x)"
   ]
  },
  {
   "cell_type": "code",
   "execution_count": null,
   "id": "796e5f8e",
   "metadata": {},
   "outputs": [],
   "source": [
    "np.sum(p_norm_p*g_x)"
   ]
  },
  {
   "cell_type": "code",
   "execution_count": null,
   "id": "8d9b9f3a",
   "metadata": {},
   "outputs": [],
   "source": []
  },
  {
   "cell_type": "code",
   "execution_count": null,
   "id": "eec2ed58",
   "metadata": {},
   "outputs": [],
   "source": []
  },
  {
   "cell_type": "code",
   "execution_count": null,
   "id": "c860a55c",
   "metadata": {},
   "outputs": [],
   "source": []
  },
  {
   "cell_type": "code",
   "execution_count": null,
   "id": "5adaf109",
   "metadata": {},
   "outputs": [],
   "source": [
    "ae_object.solver_ae.alpha"
   ]
  },
  {
   "cell_type": "code",
   "execution_count": null,
   "id": "c716aebb",
   "metadata": {},
   "outputs": [],
   "source": []
  },
  {
   "cell_type": "code",
   "execution_count": null,
   "id": "466428ad",
   "metadata": {},
   "outputs": [],
   "source": []
  },
  {
   "cell_type": "code",
   "execution_count": null,
   "id": "99d4a5fc",
   "metadata": {},
   "outputs": [],
   "source": [
    "pdf*normalization"
   ]
  },
  {
   "cell_type": "code",
   "execution_count": null,
   "id": "22ab2755",
   "metadata": {},
   "outputs": [],
   "source": [
    "ae_object.ae_type"
   ]
  },
  {
   "cell_type": "code",
   "execution_count": null,
   "id": "653c7e2b",
   "metadata": {},
   "outputs": [],
   "source": [
    "np.sum(g_x)"
   ]
  },
  {
   "cell_type": "code",
   "execution_count": null,
   "id": "18d7b119",
   "metadata": {},
   "outputs": [],
   "source": []
  },
  {
   "cell_type": "code",
   "execution_count": null,
   "id": "1f781c02",
   "metadata": {},
   "outputs": [],
   "source": [
    "ae_object.encode_class.probability"
   ]
  },
  {
   "cell_type": "code",
   "execution_count": null,
   "id": "8ee47e0a",
   "metadata": {},
   "outputs": [],
   "source": [
    "ae_object.encode_class.run()"
   ]
  },
  {
   "cell_type": "code",
   "execution_count": null,
   "id": "4d1656a6",
   "metadata": {},
   "outputs": [],
   "source": [
    "oracle = ae_object.encode_class.oracle\n",
    "%qatdisplay oracle --depth"
   ]
  },
  {
   "cell_type": "code",
   "execution_count": null,
   "id": "71913d97",
   "metadata": {},
   "outputs": [],
   "source": []
  }
 ],
 "metadata": {
  "kernelspec": {
   "display_name": "Python 3 (ipykernel)",
   "language": "python",
   "name": "python3"
  },
  "language_info": {
   "codemirror_mode": {
    "name": "ipython",
    "version": 3
   },
   "file_extension": ".py",
   "mimetype": "text/x-python",
   "name": "python",
   "nbconvert_exporter": "python",
   "pygments_lexer": "ipython3",
   "version": "3.9.11"
  }
 },
 "nbformat": 4,
 "nbformat_minor": 5
}
