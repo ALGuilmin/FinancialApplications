{
 "cells": [
  {
   "cell_type": "code",
   "execution_count": null,
   "id": "0aa44a54",
   "metadata": {},
   "outputs": [],
   "source": [
    "import sys\n",
    "sys.path.append(\"../\")"
   ]
  },
  {
   "cell_type": "code",
   "execution_count": null,
   "id": "6786289e",
   "metadata": {},
   "outputs": [],
   "source": [
    "import numpy as np\n",
    "import pandas as pd\n",
    "import qat.lang.AQASM as qlm\n",
    "import matplotlib.pyplot as plt\n",
    "%matplotlib inline"
   ]
  },
  {
   "cell_type": "code",
   "execution_count": null,
   "id": "558ca91c",
   "metadata": {},
   "outputs": [],
   "source": [
    "#This cell loads the QLM solver.\n",
    "#QLMaaS == False -> uses PyLinalg\n",
    "#QLMaaS == True -> try to use LinAlg (for using QPU as CESGA QLM one)\n",
    "from QQuantLib.utils.qlm_solver import get_qpu\n",
    "QLMaaS = False\n",
    "linalg_qpu = get_qpu(QLMaaS)"
   ]
  },
  {
   "cell_type": "code",
   "execution_count": null,
   "id": "1528070d",
   "metadata": {},
   "outputs": [],
   "source": [
    "from QQuantLib.utils.data_extracting  import get_results"
   ]
  },
  {
   "cell_type": "markdown",
   "id": "f927fdf3",
   "metadata": {},
   "source": [
    "## 1. CumulativeSumVar class"
   ]
  },
  {
   "cell_type": "markdown",
   "id": "9b46a8ef",
   "metadata": {},
   "source": [
    "In order to simplify the conversion from the cumulative sum for var to a amplitude estimation we have developed the **CumulativeSumVaR** which is stored in the **var_benchmark.py** script.\n",
    "\n",
    "For create the class we have to pass 2 arguments:\n",
    "\n",
    "1. index: this is the index until we need to compute the cumulative sum \n",
    "2. An input dictionary where we can configure the complete VaR problem.\n",
    "\n",
    "We can split the configuration info of the input dictionary in 4 main parts:\n",
    "\n",
    "1. *Domain configuration*: this are the keys related where the domain of the problem (the x). The keys will be:\n",
    "    * x0: initial value of the domain\n",
    "    * xf: final value of the domain\n",
    "    * n_qbits: for setting the number of parts for splitting the domain interval: $2^{n\\_qbits}$\n",
    "2. *Probability Configuration*: this are the keys for configurate the **DensityProbability** class of the *probability_class.py*. \n",
    "    * probability_type: string with the id of the porbability type. At this moment only the **Black-Scholes** is available. Users can add more distributions in the **DensityProbability** class.\n",
    "    * s_0: parameter for the **Black-Scholes** density distribution (price of the active at time 0)\n",
    "    * risk_free_rate: parameter for the **Black-Scholes** density distribution (risk free rate)\n",
    "    * maturity: parameter for the **Black-Scholes** density distribution (time for evaluating the density distribution)\n",
    "    * volatility: parameter for the **Black-Scholes** density distribution (volatility of the active)\n",
    "3. *Data loadding Procedure*: This is only one key: **probability_loading** if True the **load_probability** function will be use for loading the probability and is False the **load_array** function will be used.\n",
    "4. *Amplitude Estimation Configuration*: the main key is **ae_type** one where we select the AE method (can be: MLAE, CQPEAE, IQPEAE and RQAE). Additionally all the keys mandatory for configuring the method should be provided.\n",
    "\n",
    "Following cell shows a typical dictionary for a **CumulativeSumVaR**.\n"
   ]
  },
  {
   "cell_type": "code",
   "execution_count": null,
   "id": "bd165fd6",
   "metadata": {},
   "outputs": [],
   "source": [
    "#Dictionary for CumulativeSumVaR class. In this case we are going to load the probability using the load_probability function\n",
    "# and we are going to use the the MLAE class for solving the AE problem\n",
    "\n",
    "m_k = [1, 100, 150, 200, 250, 300, 310, 320]\n",
    "\n",
    "var_dict = {\n",
    "    #Domain Configuration\n",
    "    'x0': 0.01,\n",
    "    'xf': 2.0,\n",
    "    'n_qbits': 7,    \n",
    " \n",
    "    #Probability density configuration\n",
    "    'probability_type': 'Black-Scholes',\n",
    "    's_0': 1,\n",
    "    'risk_free_rate': 0.05,\n",
    "    'maturity': 1.0,\n",
    "    'volatility': 0.1,\n",
    "    # Data loading Procedure\n",
    "    'probability_loading': True,\n",
    "    \n",
    "    #Amplitude Estimation selection\n",
    "    'ae_type': 'MLAE',    \n",
    "    'mcz_qlm': False, #For using QLM multicontrolled Z\n",
    "    #MLAE configuration\n",
    "    'schedule': [\n",
    "        m_k,\n",
    "        [100 for i in m_k]\n",
    "    ],  \n",
    "    'delta' : 1.0e-6,\n",
    "    'ns' : 10000,\n",
    "    #CQPE_AE configuration\n",
    "    'auxiliar_qbits_number': None,    \n",
    "    #IQPE_AE configuration\n",
    "    'cbits_number': None,\n",
    "    #IQAE configuration\n",
    "    'alpha': None, \n",
    "    #RQAE configuration    \n",
    "    'gamma': None,\n",
    "    'q': None,\n",
    "    #IQAE and RQAE configuration    \n",
    "    'epsilon': None,\n",
    "    'shots': None    \n",
    "\n",
    "}"
   ]
  },
  {
   "cell_type": "code",
   "execution_count": null,
   "id": "93b66f23",
   "metadata": {},
   "outputs": [],
   "source": [
    "from var_benchmark import CumulativeSumVaR"
   ]
  },
  {
   "cell_type": "markdown",
   "id": "22844e2f",
   "metadata": {},
   "source": [
    "Now we can call the class given the dictionary and an index until the cumulative sum want to be computed. \n",
    "\n",
    "**BE AWARE** The index **MUST BE** lower than the maximum lengh of the domain. If not a exception will be raised"
   ]
  },
  {
   "cell_type": "code",
   "execution_count": null,
   "id": "6f4aecac",
   "metadata": {
    "scrolled": true
   },
   "outputs": [],
   "source": [
    "cumVar = CumulativeSumVaR(128, **var_dict)"
   ]
  },
  {
   "cell_type": "markdown",
   "id": "cda1a030",
   "metadata": {},
   "source": [
    "When the class is called the following properties will be available:\n",
    "\n",
    "* domain: array with the complete domain.\n",
    "* probability: array with the probability properly configured following input keys\n",
    "* index: input index"
   ]
  },
  {
   "cell_type": "code",
   "execution_count": null,
   "id": "4dcb23b0",
   "metadata": {},
   "outputs": [],
   "source": [
    "cumVar = CumulativeSumVaR(60, **var_dict)"
   ]
  },
  {
   "cell_type": "code",
   "execution_count": null,
   "id": "09efd053",
   "metadata": {},
   "outputs": [],
   "source": [
    "plt.plot(cumVar.domain, cumVar.probability, '-')\n",
    "plt.axvline(cumVar.domain[cumVar.index],)"
   ]
  },
  {
   "cell_type": "markdown",
   "id": "5049654b",
   "metadata": {},
   "source": [
    "## 2. The create oracle method.\n",
    "\n",
    "Once the class is called we can invoque the **create_oracle** method that will create the oracle with the problem. Following properties are populated:\n",
    "\n",
    "* var_oracle: QLM routine where the probability and the step function was loaded (this will be the oracle of the **AE** problem).\n",
    "* p_gate: QLM routine for porbability loading\n",
    "* step_gate: QLM routine for step function loading"
   ]
  },
  {
   "cell_type": "code",
   "execution_count": null,
   "id": "8de098de",
   "metadata": {},
   "outputs": [],
   "source": [
    "cumVar.create_oracle()"
   ]
  },
  {
   "cell_type": "code",
   "execution_count": null,
   "id": "5d49b2a4",
   "metadata": {},
   "outputs": [],
   "source": [
    "print(\"Abstract Gate for Probability loading\")\n",
    "c = cumVar.p_gate\n",
    "%qatdisplay c\n",
    "print(\"Abstract Gate for step loading\")\n",
    "c = cumVar.step_gate\n",
    "%qatdisplay c\n",
    "print(\"Oracle QLM routine\")\n",
    "c = cumVar.var_oracle\n",
    "%qatdisplay c"
   ]
  },
  {
   "cell_type": "code",
   "execution_count": null,
   "id": "33544d8d",
   "metadata": {},
   "outputs": [],
   "source": [
    "results_loading, _, _, _ = get_results(cumVar.var_oracle, linalg_qpu=linalg_qpu, qubits=cumVar.co_index)"
   ]
  },
  {
   "cell_type": "code",
   "execution_count": null,
   "id": "f2773926",
   "metadata": {},
   "outputs": [],
   "source": [
    "results_loading"
   ]
  },
  {
   "cell_type": "code",
   "execution_count": null,
   "id": "730a04f6",
   "metadata": {
    "scrolled": true
   },
   "outputs": [],
   "source": [
    "np.sum(cumVar.probability[:cumVar.index])"
   ]
  },
  {
   "cell_type": "markdown",
   "id": "3be2462b",
   "metadata": {},
   "source": [
    "### Loading Probability with load_array"
   ]
  },
  {
   "cell_type": "code",
   "execution_count": null,
   "id": "c22f60d2",
   "metadata": {},
   "outputs": [],
   "source": [
    "#Dictionary for CumulativeSumVaR class. In this case we are going to load the probability using the load_array function\n",
    "# and we are going to use the the MLAE class for solving the AE problem\n",
    "\n",
    "m_k = [1, 100, 150, 200, 250, 300, 310, 320]\n",
    "\n",
    "var_dict_2 = {\n",
    "    #Domain Configuration\n",
    "    'x0': 0.01,\n",
    "    'xf': 2.0,\n",
    "    'n_qbits': 7,    \n",
    " \n",
    "    #Probability density configuration\n",
    "    'probability_type': 'Black-Scholes',\n",
    "    's_0': 1,\n",
    "    'risk_free_rate': 0.05,\n",
    "    'maturity': 1.0,\n",
    "    'volatility': 0.1,\n",
    "    # Data loading Procedure\n",
    "    'probability_loading': False,\n",
    "    \n",
    "    #Amplitude Estimation selection\n",
    "    'ae_type': 'MLAE',    \n",
    "    'mcz_qlm': False, #For using QLM multicontrolled Z\n",
    "    #MLAE configuration\n",
    "    'schedule': [\n",
    "        m_k,\n",
    "        [100 for i in m_k]\n",
    "    ],  \n",
    "    'delta' : 1.0e-6,\n",
    "    'ns' : 10000,\n",
    "    #CQPE_AE configuration\n",
    "    'auxiliar_qbits_number': None,    \n",
    "    #IQPE_AE configuration\n",
    "    'cbits_number': None,\n",
    "    #IQAE configuration\n",
    "    'alpha': None, \n",
    "    #RQAE configuration    \n",
    "    'gamma': None,\n",
    "    'q': None,\n",
    "    #IQAE and RQAE configuration    \n",
    "    'epsilon': None,\n",
    "    'shots': None    \n",
    "\n",
    "}"
   ]
  },
  {
   "cell_type": "code",
   "execution_count": null,
   "id": "f7786c75",
   "metadata": {},
   "outputs": [],
   "source": [
    "cumVar_2 = CumulativeSumVaR(60, **var_dict_2)"
   ]
  },
  {
   "cell_type": "code",
   "execution_count": null,
   "id": "b3847db0",
   "metadata": {},
   "outputs": [],
   "source": [
    "plt.plot(cumVar_2.domain, cumVar_2.probability, '-')\n",
    "plt.axvline(cumVar_2.domain[cumVar_2.index],)"
   ]
  },
  {
   "cell_type": "code",
   "execution_count": null,
   "id": "bcea1cc4",
   "metadata": {},
   "outputs": [],
   "source": [
    "cumVar_2.create_oracle()"
   ]
  },
  {
   "cell_type": "code",
   "execution_count": null,
   "id": "0d14d679",
   "metadata": {},
   "outputs": [],
   "source": [
    "print(\"Abstract Gate for Probability loading\")\n",
    "c = cumVar_2.p_gate\n",
    "%qatdisplay c\n",
    "print(\"Abstract Gate for step loading\")\n",
    "c = cumVar_2.step_gate\n",
    "%qatdisplay c\n",
    "print(\"Oracle QLM routine\")\n",
    "c = cumVar_2.var_oracle\n",
    "%qatdisplay c"
   ]
  },
  {
   "cell_type": "code",
   "execution_count": null,
   "id": "49d750c9",
   "metadata": {},
   "outputs": [],
   "source": [
    "results_loading, _, _, _ = get_results(cumVar_2.var_oracle, linalg_qpu=linalg_qpu)"
   ]
  },
  {
   "cell_type": "code",
   "execution_count": null,
   "id": "5249c189",
   "metadata": {},
   "outputs": [],
   "source": [
    "results_loading"
   ]
  },
  {
   "cell_type": "code",
   "execution_count": null,
   "id": "d711b82b",
   "metadata": {},
   "outputs": [],
   "source": [
    "#Classical Result\n",
    "np.sum(cumVar_2.probability[:cumVar_2.index])"
   ]
  },
  {
   "cell_type": "code",
   "execution_count": null,
   "id": "32efa6ee",
   "metadata": {},
   "outputs": [],
   "source": [
    "#Quantum Result\n",
    "np.sqrt(results_loading.iloc[0]['Probability'])*2**cumVar_2.n_qbits"
   ]
  },
  {
   "cell_type": "markdown",
   "id": "345246bb",
   "metadata": {},
   "source": [
    "## 3. The run method.\n",
    "\n",
    "The run method allows to compute (and return) the cumulative sum problem. The method can use an **AE** algorithm or the classical way dependign on the **ae_type** key. If this key is *MLAE, IQAE, RQAE, CQPEAE or IQPEAE* the correspondient algorithm will be used. Otherwise the classical computation will be used.\n",
    "\n",
    "When a **AE** method is selecte a lot of properties are populated. Most important are:\n",
    "\n",
    "* ae_pdf: This is the pure amplitude estimation results. It is a pandas dataframe with 3 columns:\n",
    "    * ae : value of the pure **AE** estimation results\n",
    "    * ae_l: lower limit for pure **AE** estimation results (only RQAE and IQAE)\n",
    "    * ae_up: upper limit for pure **AE** estimation results (only RQAE and IQAE)\n",
    "\n",
    "* ae_var: This is the resuls for the cumulative sum of the VaR (this is taking into account the way of the loading the probability and the **AE** method. Is a pandas dataframe with 3 columns:\n",
    "    * Var_ae: value of cumulative sum for the Var\n",
    "    * Var_ae_l: lower limit for the value of cumulative sum for the Var (only RQAE and IQAE)\n",
    "    * Var_ae_u: upper limit for the value of cumulative sum for the Var (only RQAE and IQAE)\n",
    "* classical_var : classical calculation of the cumulative sum    \n",
    "* pdf: pandas DataFrame with the complete information of the VaR calculations. Most intersting columns are:\n",
    "    * error_classical: difference between *Var_ae* and *classical_var*\n",
    "    * relative_error_classical: ratio betwenn *error_classical* and *classical_var*\n",
    "    * circuit_stasts: dictioanry with different statistics of the QLM ciruci\n",
    "    * run_time: simulation time for running the **AE** algorithm"
   ]
  },
  {
   "cell_type": "code",
   "execution_count": null,
   "id": "b2ae7630",
   "metadata": {},
   "outputs": [],
   "source": [
    "from var_benchmark import CumulativeSumVaR"
   ]
  },
  {
   "cell_type": "markdown",
   "id": "984449d0",
   "metadata": {},
   "source": [
    "### 3.1 Classical Computation\n",
    "\n",
    "For computing the cumulative sum using classical calculation only the info for the domain and the probability are mandatory. The **ae_type** is mandatory but CAN NOT BE *MLAE, IQAE, RQAE, CQPEAE or IQPEAE*. \n",
    "\n",
    "Following cell shows the input dictionary for classical computation."
   ]
  },
  {
   "cell_type": "code",
   "execution_count": null,
   "id": "41c5c4c3",
   "metadata": {},
   "outputs": [],
   "source": [
    "classical_dict = {\n",
    "    #Domain Configuration\n",
    "    'x0': 0.1,\n",
    "    'xf': 2.0,\n",
    "    'n_qbits': 5,    \n",
    " \n",
    "    #Probability density configuration\n",
    "    'probability_type': 'Black-Scholes',\n",
    "    's_0': 1,\n",
    "    'risk_free_rate': 0.05,\n",
    "    'maturity': 1.0,\n",
    "    'volatility': 0.1,\n",
    "    # Data loading Procedure\n",
    "    'probability_loading': True,\n",
    "    \n",
    "    #Amplitude Estimation selection\n",
    "    'ae_type': None,    \n",
    "    \n",
    "}"
   ]
  },
  {
   "cell_type": "code",
   "execution_count": null,
   "id": "fb02135f",
   "metadata": {},
   "outputs": [],
   "source": [
    "class_var = CumulativeSumVaR(15, **classical_dict)"
   ]
  },
  {
   "cell_type": "code",
   "execution_count": null,
   "id": "50df4736",
   "metadata": {},
   "outputs": [],
   "source": [
    "cum_sum = class_var.run()\n",
    "\n",
    "print(\"Classical Cumulative Sum is: \", cum_sum)"
   ]
  },
  {
   "cell_type": "markdown",
   "id": "05434431",
   "metadata": {},
   "source": [
    "### 3.2 AE methods: Loading Probability with load_probability\n",
    "\n",
    "Now we can show how to use the class for different **AE** methods when the probability is loaded with the *load_probability* function (key **probability_loading** MUST BE True)"
   ]
  },
  {
   "cell_type": "markdown",
   "id": "440bc5c8",
   "metadata": {},
   "source": [
    "### MLAE"
   ]
  },
  {
   "cell_type": "code",
   "execution_count": null,
   "id": "e1f7bb93",
   "metadata": {},
   "outputs": [],
   "source": [
    "m_k = [1, 2, 3, 4, 5, 6, 7, 8, 9, 10]\n",
    "\n",
    "mlae_dict = {\n",
    "    #Domain Configuration\n",
    "    'x0': 0.1,\n",
    "    'xf': 2.0,\n",
    "    'n_qbits': 5,    \n",
    " \n",
    "    #Probability density configuration\n",
    "    'probability_type': 'Black-Scholes',\n",
    "    's_0': 1,\n",
    "    'risk_free_rate': 0.05,\n",
    "    'maturity': 1.0,\n",
    "    'volatility': 0.1,\n",
    "    # Data loading Procedure\n",
    "    'probability_loading': True,\n",
    "    \n",
    "    #Amplitude Estimation selection\n",
    "    'ae_type': 'MLAE',    \n",
    "    'mcz_qlm': False, #For using QLM multicontrolled Z\n",
    "    #MLAE configuration\n",
    "    'schedule': [\n",
    "        m_k,\n",
    "        [100 for i in m_k]\n",
    "    ],  \n",
    "    'delta' : 1.0e-6,\n",
    "    'ns' : 10000,\n",
    "    #CQPE_AE configuration\n",
    "    'auxiliar_qbits_number': None,    \n",
    "    #IQPE_AE configuration\n",
    "    'cbits_number': None,\n",
    "    #IQAE configuration\n",
    "    'alpha': None, \n",
    "    #RQAE configuration    \n",
    "    'gamma': None,\n",
    "    'q': None,\n",
    "    #IQAE and RQAE configuration    \n",
    "    'epsilon': None,\n",
    "    'shots': None,\n",
    "    \n",
    "    \"qpu\": linalg_qpu,\n",
    "    \"save\": False\n",
    "    \n",
    "\n",
    "}"
   ]
  },
  {
   "cell_type": "code",
   "execution_count": null,
   "id": "e8487f5e",
   "metadata": {},
   "outputs": [],
   "source": [
    "mlae_var = CumulativeSumVaR(15, **mlae_dict)"
   ]
  },
  {
   "cell_type": "code",
   "execution_count": null,
   "id": "a034ee09",
   "metadata": {},
   "outputs": [],
   "source": [
    "plt.plot(mlae_var.domain, mlae_var.probability, '-')\n",
    "plt.axvline(mlae_var.domain[mlae_var.index],)"
   ]
  },
  {
   "cell_type": "code",
   "execution_count": null,
   "id": "327899e0",
   "metadata": {},
   "outputs": [],
   "source": [
    "cum_sum = mlae_var.run()\n",
    "print(\"MLAE Cumulative Sum is: \", cum_sum)"
   ]
  },
  {
   "cell_type": "code",
   "execution_count": null,
   "id": "eedfd0d6",
   "metadata": {},
   "outputs": [],
   "source": [
    "#Pure AE result\n",
    "mlae_var.ae_pdf"
   ]
  },
  {
   "cell_type": "code",
   "execution_count": null,
   "id": "fe73c1a7",
   "metadata": {},
   "outputs": [],
   "source": [
    "#VaR computed using AE\n",
    "mlae_var.ae_var"
   ]
  },
  {
   "cell_type": "code",
   "execution_count": null,
   "id": "f23b9638",
   "metadata": {},
   "outputs": [],
   "source": [
    "#Classical VaR computation\n",
    "mlae_var.classical_var"
   ]
  },
  {
   "cell_type": "code",
   "execution_count": null,
   "id": "73c56cb4",
   "metadata": {},
   "outputs": [],
   "source": [
    "#Pandas DataFrame with the resuls\n",
    "mlae_var.pdf"
   ]
  },
  {
   "cell_type": "code",
   "execution_count": null,
   "id": "333286ba",
   "metadata": {
    "scrolled": true
   },
   "outputs": [],
   "source": [
    "mlae_var.pdf[\n",
    "    [\n",
    "        'ae_type', 'ae', 'Var_ae', 'classical_var', 'error_classical', 'relative_error_classical'\n",
    "    ]\n",
    "    \n",
    "]"
   ]
  },
  {
   "cell_type": "markdown",
   "id": "e5297c6a",
   "metadata": {},
   "source": [
    "### IQAE"
   ]
  },
  {
   "cell_type": "code",
   "execution_count": null,
   "id": "614ce8ec",
   "metadata": {},
   "outputs": [],
   "source": [
    "iqae_dict = {\n",
    "    #Domain Configuration\n",
    "    'x0': 0.1,\n",
    "    'xf': 2.0,\n",
    "    'n_qbits': 5,    \n",
    " \n",
    "    #Probability density configuration\n",
    "    'probability_type': 'Black-Scholes',\n",
    "    's_0': 1,\n",
    "    'risk_free_rate': 0.05,\n",
    "    'maturity': 1.0,\n",
    "    'volatility': 0.1,\n",
    "    # Data loading Procedure\n",
    "    'probability_loading': True,\n",
    "    \n",
    "    #Amplitude Estimation selection\n",
    "    'ae_type': 'IQAE',    \n",
    "    'mcz_qlm': False, #For using QLM multicontrolled Z\n",
    "    #MLAE configuration\n",
    "    'schedule': [\n",
    "        None,\n",
    "        None\n",
    "    ],  \n",
    "    'delta' : None,\n",
    "    'ns' : None,\n",
    "    #CQPE_AE configuration\n",
    "    'auxiliar_qbits_number': None,    \n",
    "    #IQPE_AE configuration\n",
    "    'cbits_number': None,\n",
    "    #IQAE configuration\n",
    "    'alpha': 0.05, \n",
    "    #RQAE configuration    \n",
    "    'gamma': None,\n",
    "    'q': None,\n",
    "    #IQAE and RQAE configuration    \n",
    "    'epsilon': 0.001,\n",
    "    'shots': 100,\n",
    "    \n",
    "    \"qpu\": linalg_qpu,\n",
    "    \"save\": False\n",
    "    \n",
    "\n",
    "}"
   ]
  },
  {
   "cell_type": "code",
   "execution_count": null,
   "id": "1ec7677a",
   "metadata": {},
   "outputs": [],
   "source": [
    "iqae_var = CumulativeSumVaR(15, **iqae_dict)\n",
    "cum_sum = iqae_var.run()\n",
    "print(\"IQAE Cumulative Sum is: \", cum_sum)"
   ]
  },
  {
   "cell_type": "code",
   "execution_count": null,
   "id": "5468f7e2",
   "metadata": {},
   "outputs": [],
   "source": [
    "iqae_var.pdf[\n",
    "    [\n",
    "        'ae_type', 'ae', 'ae_l', 'ae_u',\n",
    "        'Var_ae', 'Var_ae_l', 'Var_ae_u',\n",
    "        'classical_var', 'error_classical', 'relative_error_classical'\n",
    "    ]\n",
    "    \n",
    "]"
   ]
  },
  {
   "cell_type": "markdown",
   "id": "1458b067",
   "metadata": {},
   "source": [
    "### CQPEAE"
   ]
  },
  {
   "cell_type": "code",
   "execution_count": null,
   "id": "02ecdae0",
   "metadata": {},
   "outputs": [],
   "source": [
    "cqpeae_dict = {\n",
    "    #Domain Configuration\n",
    "    'x0': 0.1,\n",
    "    'xf': 2.0,\n",
    "    'n_qbits': 5,    \n",
    " \n",
    "    #Probability density configuration\n",
    "    'probability_type': 'Black-Scholes',\n",
    "    's_0': 1,\n",
    "    'risk_free_rate': 0.05,\n",
    "    'maturity': 1.0,\n",
    "    'volatility': 0.1,\n",
    "    # Data loading Procedure\n",
    "    'probability_loading': True,\n",
    "    \n",
    "    #Amplitude Estimation selection\n",
    "    'ae_type': 'CQPEAE',    \n",
    "    'mcz_qlm': False, #For using QLM multicontrolled Z\n",
    "    #MLAE configuration\n",
    "    'schedule': [\n",
    "        None,\n",
    "        None\n",
    "    ],  \n",
    "    'delta' : None,\n",
    "    'ns' : None,\n",
    "    #CQPE_AE configuration\n",
    "    'auxiliar_qbits_number': 8,    \n",
    "    #IQPE_AE configuration\n",
    "    'cbits_number': None,\n",
    "    #IQAE configuration\n",
    "    'alpha': None, \n",
    "    #RQAE configuration    \n",
    "    'gamma': None,\n",
    "    'q': None,\n",
    "    #IQAE and RQAE configuration    \n",
    "    'epsilon': None,\n",
    "    'shots': 100,\n",
    "    \n",
    "    \"qpu\": linalg_qpu,\n",
    "    \"save\": False\n",
    "    \n",
    "\n",
    "}"
   ]
  },
  {
   "cell_type": "code",
   "execution_count": null,
   "id": "717e7409",
   "metadata": {},
   "outputs": [],
   "source": [
    "cqpeae_var = CumulativeSumVaR(15, **cqpeae_dict)\n",
    "cum_sum = cqpeae_var.run()\n",
    "print(\"CQPEAE Cumulative Sum is: \", cum_sum)"
   ]
  },
  {
   "cell_type": "code",
   "execution_count": null,
   "id": "3a5f3586",
   "metadata": {},
   "outputs": [],
   "source": [
    "cqpeae_var.pdf[\n",
    "    [\n",
    "        'ae_type', 'ae', 'ae_l', 'ae_u',\n",
    "        'Var_ae', 'Var_ae_l', 'Var_ae_u',\n",
    "        'classical_var', 'error_classical', 'relative_error_classical'\n",
    "    ]\n",
    "    \n",
    "]"
   ]
  },
  {
   "cell_type": "markdown",
   "id": "245a1282",
   "metadata": {},
   "source": [
    "### IQPEAE"
   ]
  },
  {
   "cell_type": "code",
   "execution_count": null,
   "id": "d88330e9",
   "metadata": {},
   "outputs": [],
   "source": [
    "iqpeae_dict = {\n",
    "    #Domain Configuration\n",
    "    'x0': 0.1,\n",
    "    'xf': 2.0,\n",
    "    'n_qbits': 5,    \n",
    " \n",
    "    #Probability density configuration\n",
    "    'probability_type': 'Black-Scholes',\n",
    "    's_0': 1,\n",
    "    'risk_free_rate': 0.05,\n",
    "    'maturity': 1.0,\n",
    "    'volatility': 0.1,\n",
    "    # Data loading Procedure\n",
    "    'probability_loading': True,\n",
    "    \n",
    "    #Amplitude Estimation selection\n",
    "    'ae_type': 'IQPEAE',    \n",
    "    'mcz_qlm': False, #For using QLM multicontrolled Z\n",
    "    #MLAE configuration\n",
    "    'schedule': [\n",
    "        None,\n",
    "        None\n",
    "    ],  \n",
    "    'delta' : None,\n",
    "    'ns' : None,\n",
    "    #CQPE_AE configuration\n",
    "    'auxiliar_qbits_number': None,    \n",
    "    #IQPE_AE configuration\n",
    "    'cbits_number': 8,\n",
    "    #IQAE configuration\n",
    "    'alpha': None, \n",
    "    #RQAE configuration    \n",
    "    'gamma': None,\n",
    "    'q': None,\n",
    "    #IQAE and RQAE configuration    \n",
    "    'epsilon': None,\n",
    "    'shots': 20,\n",
    "    \n",
    "    \"qpu\": linalg_qpu,\n",
    "    \"save\": False\n",
    "    \n",
    "\n",
    "}"
   ]
  },
  {
   "cell_type": "code",
   "execution_count": null,
   "id": "b466325c",
   "metadata": {},
   "outputs": [],
   "source": [
    "iqpeae_var = CumulativeSumVaR(15, **iqpeae_dict)\n",
    "cum_sum = iqpeae_var.run()\n",
    "print(\"IQPEAE Cumulative Sum is: \", cum_sum)"
   ]
  },
  {
   "cell_type": "code",
   "execution_count": null,
   "id": "8bb41a85",
   "metadata": {},
   "outputs": [],
   "source": [
    "iqpeae_var.pdf[\n",
    "    [\n",
    "        'ae_type', 'ae', 'ae_l', 'ae_u',\n",
    "        'Var_ae', 'Var_ae_l', 'Var_ae_u',\n",
    "        'classical_var', 'error_classical', 'relative_error_classical'\n",
    "    ]\n",
    "    \n",
    "]"
   ]
  },
  {
   "cell_type": "markdown",
   "id": "2401b9f4",
   "metadata": {},
   "source": [
    "### 3.2 Loading Probability with load_array"
   ]
  },
  {
   "cell_type": "markdown",
   "id": "78811b2c",
   "metadata": {},
   "source": [
    "Now we can show how to use the class for different **AE** methods when the probability is loaded with the *load_probability* function (key **probability_loading** MUST BE False)"
   ]
  },
  {
   "cell_type": "markdown",
   "id": "67050c52",
   "metadata": {},
   "source": [
    "#### MLAE"
   ]
  },
  {
   "cell_type": "code",
   "execution_count": null,
   "id": "9bfa2e24",
   "metadata": {},
   "outputs": [],
   "source": [
    "m_k = [1, 10, 50, 70, 90, 100, 110, 120]\n",
    "\n",
    "mlae_dict = {\n",
    "    #Domain Configuration\n",
    "    'x0': 0.1,\n",
    "    'xf': 2.0,\n",
    "    'n_qbits': 5,    \n",
    " \n",
    "    #Probability density configuration\n",
    "    'probability_type': 'Black-Scholes',\n",
    "    's_0': 1,\n",
    "    'risk_free_rate': 0.05,\n",
    "    'maturity': 1.0,\n",
    "    'volatility': 0.1,\n",
    "    # Data loading Procedure\n",
    "    'probability_loading': False,\n",
    "    \n",
    "    #Amplitude Estimation selection\n",
    "    'ae_type': 'MLAE',    \n",
    "    'mcz_qlm': False, #For using QLM multicontrolled Z\n",
    "    #MLAE configuration\n",
    "    'schedule': [\n",
    "        m_k,\n",
    "        [100 for i in m_k]\n",
    "    ],  \n",
    "    'delta' : 1.0e-6,\n",
    "    'ns' : 10000,\n",
    "    #CQPE_AE configuration\n",
    "    'auxiliar_qbits_number': None,    \n",
    "    #IQPE_AE configuration\n",
    "    'cbits_number': None,\n",
    "    #IQAE configuration\n",
    "    'alpha': None, \n",
    "    #RQAE configuration    \n",
    "    'gamma': None,\n",
    "    'q': None,\n",
    "    #IQAE and RQAE configuration    \n",
    "    'epsilon': None,\n",
    "    'shots': None,\n",
    "    \n",
    "    \"qpu\": linalg_qpu,\n",
    "    \"save\": False\n",
    "    \n",
    "\n",
    "}"
   ]
  },
  {
   "cell_type": "code",
   "execution_count": null,
   "id": "ac46711a",
   "metadata": {},
   "outputs": [],
   "source": [
    "mlae_var = CumulativeSumVaR(15, **mlae_dict)\n",
    "cum_sum = mlae_var.run()\n",
    "print(\"MLAE Cumulative Sum is: \", cum_sum)"
   ]
  },
  {
   "cell_type": "code",
   "execution_count": null,
   "id": "879abf4a",
   "metadata": {},
   "outputs": [],
   "source": [
    "mlae_var.pdf[\n",
    "    [\n",
    "        'ae_type', 'ae', 'ae_l', 'ae_u',\n",
    "        'Var_ae', 'Var_ae_l', 'Var_ae_u',\n",
    "        'classical_var', 'error_classical', 'relative_error_classical'\n",
    "    ]\n",
    "    \n",
    "]"
   ]
  },
  {
   "cell_type": "markdown",
   "id": "037a268e",
   "metadata": {},
   "source": [
    "### IQAE"
   ]
  },
  {
   "cell_type": "code",
   "execution_count": null,
   "id": "4b474677",
   "metadata": {},
   "outputs": [],
   "source": [
    "iqae_dict = {\n",
    "    #Domain Configuration\n",
    "    'x0': 0.1,\n",
    "    'xf': 2.0,\n",
    "    'n_qbits': 5,    \n",
    " \n",
    "    #Probability density configuration\n",
    "    'probability_type': 'Black-Scholes',\n",
    "    's_0': 1,\n",
    "    'risk_free_rate': 0.05,\n",
    "    'maturity': 1.0,\n",
    "    'volatility': 0.1,\n",
    "    # Data loading Procedure\n",
    "    'probability_loading': False,\n",
    "    \n",
    "    #Amplitude Estimation selection\n",
    "    'ae_type': 'IQAE',    \n",
    "    'mcz_qlm': False, #For using QLM multicontrolled Z\n",
    "    #MLAE configuration\n",
    "    'schedule': [\n",
    "        None,\n",
    "        None\n",
    "    ],  \n",
    "    'delta' : None,\n",
    "    'ns' : None,\n",
    "    #CQPE_AE configuration\n",
    "    'auxiliar_qbits_number': None,    \n",
    "    #IQPE_AE configuration\n",
    "    'cbits_number': None,\n",
    "    #IQAE configuration\n",
    "    'alpha': 0.05, \n",
    "    #RQAE configuration    \n",
    "    'gamma': None,\n",
    "    'q': None,\n",
    "    #IQAE and RQAE configuration    \n",
    "    'epsilon': 0.0001,\n",
    "    'shots': 100,\n",
    "    \n",
    "    \"qpu\": linalg_qpu,\n",
    "    \"save\": False\n",
    "    \n",
    "\n",
    "}"
   ]
  },
  {
   "cell_type": "code",
   "execution_count": null,
   "id": "f075198a",
   "metadata": {},
   "outputs": [],
   "source": [
    "iqae_var = CumulativeSumVaR(15, **iqae_dict)\n",
    "cum_sum = iqae_var.run()\n",
    "print(\"IQAE Cumulative Sum is: \", cum_sum)"
   ]
  },
  {
   "cell_type": "code",
   "execution_count": null,
   "id": "7748b48b",
   "metadata": {},
   "outputs": [],
   "source": [
    "iqae_var.pdf[\n",
    "    [\n",
    "        'ae_type', 'ae', 'ae_l', 'ae_u',\n",
    "        'Var_ae', 'Var_ae_l', 'Var_ae_u',\n",
    "        'classical_var', 'error_classical', 'relative_error_classical', 'run_time'\n",
    "    ]\n",
    "    \n",
    "]"
   ]
  },
  {
   "cell_type": "markdown",
   "id": "1cc858e5",
   "metadata": {},
   "source": [
    "### RQAE"
   ]
  },
  {
   "cell_type": "code",
   "execution_count": null,
   "id": "854f3753",
   "metadata": {},
   "outputs": [],
   "source": [
    "rqae_dict = {\n",
    "    #Domain Configuration\n",
    "    'x0': 0.1,\n",
    "    'xf': 2.0,\n",
    "    'n_qbits': 5,    \n",
    " \n",
    "    #Probability density configuration\n",
    "    'probability_type': 'Black-Scholes',\n",
    "    's_0': 1,\n",
    "    'risk_free_rate': 0.05,\n",
    "    'maturity': 1.0,\n",
    "    'volatility': 0.1,\n",
    "    # Data loading Procedure\n",
    "    'probability_loading': False,\n",
    "    \n",
    "    #Amplitude Estimation selection\n",
    "    'ae_type': 'RQAE',    \n",
    "    'mcz_qlm': False, #For using QLM multicontrolled Z\n",
    "    #MLAE configuration\n",
    "    'schedule': [\n",
    "        None,\n",
    "        None\n",
    "    ],  \n",
    "    'delta' : None,\n",
    "    'ns' : None,\n",
    "    #CQPE_AE configuration\n",
    "    'auxiliar_qbits_number': None,    \n",
    "    #IQPE_AE configuration\n",
    "    'cbits_number': None,\n",
    "    #IQAE configuration\n",
    "    'alpha': None, \n",
    "    #RQAE configuration    \n",
    "    'gamma': 0.05,\n",
    "    'q': 2.0,\n",
    "    #IQAE and RQAE configuration    \n",
    "    'epsilon': 0.0001,\n",
    "    'shots': 100,\n",
    "    \n",
    "    \"qpu\": linalg_qpu,\n",
    "    \"save\": False\n",
    "    \n",
    "\n",
    "}"
   ]
  },
  {
   "cell_type": "code",
   "execution_count": null,
   "id": "c4f1e0e2",
   "metadata": {},
   "outputs": [],
   "source": [
    "rqae_var = CumulativeSumVaR(15, **rqae_dict)\n",
    "cum_sum = rqae_var.run()\n",
    "print(\"RQAE Cumulative Sum is: \", cum_sum)"
   ]
  },
  {
   "cell_type": "code",
   "execution_count": null,
   "id": "5eb9f137",
   "metadata": {},
   "outputs": [],
   "source": [
    "rqae_var.pdf[\n",
    "    [\n",
    "        'ae_type', 'ae', 'ae_l', 'ae_u',\n",
    "        'Var_ae', 'Var_ae_l', 'Var_ae_u',\n",
    "        'classical_var', 'error_classical', 'relative_error_classical', 'run_time'\n",
    "    ]\n",
    "    \n",
    "]"
   ]
  },
  {
   "cell_type": "markdown",
   "id": "640cb3ae",
   "metadata": {},
   "source": [
    "### CQPEAE"
   ]
  },
  {
   "cell_type": "markdown",
   "id": "d0fa217a",
   "metadata": {},
   "source": [
    "**BE AWARE**\n",
    "For the probability loading using **load_array** the **CQPEAE** will need more *auxiliar_qbits_number* for getting a good precision. So the simulation in this case could be very long!!"
   ]
  },
  {
   "cell_type": "code",
   "execution_count": null,
   "id": "11197ad7",
   "metadata": {},
   "outputs": [],
   "source": [
    "cqpeae_dict = {\n",
    "    #Domain Configuration\n",
    "    'x0': 0.1,\n",
    "    'xf': 2.0,\n",
    "    'n_qbits': 5,    \n",
    " \n",
    "    #Probability density configuration\n",
    "    'probability_type': 'Black-Scholes',\n",
    "    's_0': 1,\n",
    "    'risk_free_rate': 0.05,\n",
    "    'maturity': 1.0,\n",
    "    'volatility': 0.1,\n",
    "    # Data loading Procedure\n",
    "    'probability_loading': False,\n",
    "    \n",
    "    #Amplitude Estimation selection\n",
    "    'ae_type': 'CQPEAE',    \n",
    "    'mcz_qlm': False, #For using QLM multicontrolled Z\n",
    "    #MLAE configuration\n",
    "    'schedule': [\n",
    "        None,\n",
    "        None\n",
    "    ],  \n",
    "    'delta' : None,\n",
    "    'ns' : None,\n",
    "    #CQPE_AE configuration\n",
    "    'auxiliar_qbits_number': 8,    \n",
    "    #IQPE_AE configuration\n",
    "    'cbits_number': None,\n",
    "    #IQAE configuration\n",
    "    'alpha': None, \n",
    "    #RQAE configuration    \n",
    "    'gamma': None,\n",
    "    'q': None,\n",
    "    #IQAE and RQAE configuration    \n",
    "    'epsilon': None,\n",
    "    'shots': 100,\n",
    "    \n",
    "    \"qpu\": linalg_qpu,\n",
    "    \"save\": False\n",
    "    \n",
    "\n",
    "}"
   ]
  },
  {
   "cell_type": "code",
   "execution_count": null,
   "id": "4f691a07",
   "metadata": {},
   "outputs": [],
   "source": [
    "cqpeae_var = CumulativeSumVaR(15, **cqpeae_dict)\n",
    "cum_sum = cqpeae_var.run()\n",
    "print(\"CQPEAE Cumulative Sum is: \", cum_sum)"
   ]
  },
  {
   "cell_type": "code",
   "execution_count": null,
   "id": "8a70b567",
   "metadata": {},
   "outputs": [],
   "source": [
    "cqpeae_var.pdf[\n",
    "    [\n",
    "        'ae_type', 'ae', 'ae_l', 'ae_u',\n",
    "        'Var_ae', 'Var_ae_l', 'Var_ae_u',\n",
    "        'classical_var', 'error_classical', 'relative_error_classical', 'run_time'\n",
    "    ]\n",
    "    \n",
    "]"
   ]
  },
  {
   "cell_type": "markdown",
   "id": "6f40ee33",
   "metadata": {},
   "source": [
    "### IQPEAE"
   ]
  },
  {
   "cell_type": "markdown",
   "id": "d4bc2a3c",
   "metadata": {},
   "source": [
    "**BE AWARE**\n",
    "For the probability loading using **load_array** the **IQPEAE** will need more *cbits_number* for getting a good precision. So the simulation in this case could be very long!!"
   ]
  },
  {
   "cell_type": "code",
   "execution_count": null,
   "id": "16ba613d",
   "metadata": {},
   "outputs": [],
   "source": [
    "iqpeae_dict = {\n",
    "    #Domain Configuration\n",
    "    'x0': 0.1,\n",
    "    'xf': 2.0,\n",
    "    'n_qbits': 5,    \n",
    " \n",
    "    #Probability density configuration\n",
    "    'probability_type': 'Black-Scholes',\n",
    "    's_0': 1,\n",
    "    'risk_free_rate': 0.05,\n",
    "    'maturity': 1.0,\n",
    "    'volatility': 0.1,\n",
    "    # Data loading Procedure\n",
    "    'probability_loading': False,\n",
    "    \n",
    "    #Amplitude Estimation selection\n",
    "    'ae_type': 'IQPEAE',    \n",
    "    'mcz_qlm': False, #For using QLM multicontrolled Z\n",
    "    #MLAE configuration\n",
    "    'schedule': [\n",
    "        None,\n",
    "        None\n",
    "    ],  \n",
    "    'delta' : None,\n",
    "    'ns' : None,\n",
    "    #CQPE_AE configuration\n",
    "    'auxiliar_qbits_number': None,    \n",
    "    #IQPE_AE configuration\n",
    "    'cbits_number': 12,\n",
    "    #IQAE configuration\n",
    "    'alpha': None, \n",
    "    #RQAE configuration    \n",
    "    'gamma': None,\n",
    "    'q': None,\n",
    "    #IQAE and RQAE configuration    \n",
    "    'epsilon': None,\n",
    "    'shots': 20,\n",
    "    \n",
    "    \"qpu\": linalg_qpu,\n",
    "    \"save\": False\n",
    "    \n",
    "\n",
    "}"
   ]
  },
  {
   "cell_type": "code",
   "execution_count": null,
   "id": "cb5959ef",
   "metadata": {},
   "outputs": [],
   "source": [
    "iqpeae_var = CumulativeSumVaR(15, **iqpeae_dict)\n",
    "cum_sum = iqpeae_var.run()\n",
    "print(\"IQPEAE Cumulative Sum is: \", cum_sum)"
   ]
  },
  {
   "cell_type": "code",
   "execution_count": null,
   "id": "0f161127",
   "metadata": {},
   "outputs": [],
   "source": [
    "iqpeae_var.pdf[\n",
    "    [\n",
    "        'ae_type', 'ae', 'ae_l', 'ae_u',\n",
    "        'Var_ae', 'Var_ae_l', 'Var_ae_u',\n",
    "        'classical_var', 'error_classical', 'relative_error_classical'\n",
    "    ]\n",
    "    \n",
    "]"
   ]
  },
  {
   "cell_type": "markdown",
   "id": "3d94c353",
   "metadata": {},
   "source": [
    "## 4. The VaR class\n",
    "\n",
    "Finally for doing the rest of the calculation mandatory for VaR the **VaR** class in the *var_benchmark* was created. \n",
    "The inputs for this class are:\n",
    "\n",
    "1. alpha: is the $\\alpha$ in the VaR problem.\n",
    "2. input dictionary for configurate the **AE** problem for VaR. This dictionary is the same that the input dictionary for the **CumulativeSumVaR** class.\n",
    "\n",
    "The run method of the **VaR** class executes the loop for computing the *VaR* as explained in the **03_Benchmark_VaR** notebook. For each step of the a **CumulativeSumVaR** class with the correspondient step index is created and its correspondient *run* method executed for getting the mandatory cumulative sum value. \n",
    "\n",
    "Several Properties are populated when the *run* method of the **VaR** class is executed:\n",
    "\n",
    "* var_index: index of the probability arry that satisfy the VaR condition (the $\\alpha$).\n",
    "* var: value x of the domain that verifies: $P[X\\leq x]\\geq (1-\\alpha)$.\n",
    "* cumsum_var: is the cumulative sum of the probability until the VaR value: $P[X\\leq x]$.\n",
    "* list_cumsum: list with all the cumulative sums calculated during the VaR computation loop.\n",
    "* cumsum_classes: list with all the **CumulativeSumVaR** class created during the VaR computation loop.\n"
   ]
  },
  {
   "cell_type": "code",
   "execution_count": null,
   "id": "e253ca83",
   "metadata": {},
   "outputs": [],
   "source": [
    "from var_benchmark import VaR"
   ]
  },
  {
   "cell_type": "markdown",
   "id": "8e434a77",
   "metadata": {},
   "source": [
    "### 4.1 Classic Var Computation\n",
    "\n",
    "If *ae_type* kyey is different from *MLAE, IQAE, RQAE, CQPEAE or IQPEAE* the Var will be calculated using classical computation of cumulative sums"
   ]
  },
  {
   "cell_type": "code",
   "execution_count": null,
   "id": "e75ddbda",
   "metadata": {},
   "outputs": [],
   "source": [
    "classical_dict = {\n",
    "    #Domain Configuration\n",
    "    'x0': 0.1,\n",
    "    'xf': 2.0,\n",
    "    'n_qbits': 5,    \n",
    " \n",
    "    #Probability density configuration\n",
    "    'probability_type': 'Black-Scholes',\n",
    "    's_0': 1,\n",
    "    'risk_free_rate': 0.05,\n",
    "    'maturity': 1.0,\n",
    "    'volatility': 0.1,\n",
    "    # Data loading Procedure\n",
    "    'probability_loading': True,\n",
    "    \n",
    "    #Amplitude Estimation selection\n",
    "    'ae_type': None,    \n",
    "    \n",
    "}"
   ]
  },
  {
   "cell_type": "code",
   "execution_count": null,
   "id": "758d83c9",
   "metadata": {},
   "outputs": [],
   "source": [
    "classic_var = VaR(0.05, **classical_dict)"
   ]
  },
  {
   "cell_type": "code",
   "execution_count": null,
   "id": "03e5b9db",
   "metadata": {},
   "outputs": [],
   "source": [
    "classic_var.run()"
   ]
  },
  {
   "cell_type": "code",
   "execution_count": null,
   "id": "2a6263da",
   "metadata": {
    "scrolled": true
   },
   "outputs": [],
   "source": [
    "print('Index for Var: ',classic_var.var_index)\n",
    "print('Var: ',classic_var.var)\n",
    "print('Cum sum Var: ',classic_var.cumsum_var)\n",
    "print('Test: ', classic_var.cumsum_var > 1.0- classic_var.alpha_var)"
   ]
  },
  {
   "cell_type": "code",
   "execution_count": null,
   "id": "0f95bf54",
   "metadata": {},
   "outputs": [],
   "source": [
    "#Cumulative intermediate sums\n",
    "classic_var.list_cumsum"
   ]
  },
  {
   "cell_type": "code",
   "execution_count": null,
   "id": "78b2cb5d",
   "metadata": {},
   "outputs": [],
   "source": [
    "#We can access to all the CumulativeSumVar class created durin VaR computation\n",
    "cumsum_class = classic_var.cumsum_classes[0]\n",
    "\n",
    "plt.plot(cumsum_class.domain, cumsum_class.probability)\n",
    "plt.axvline(cumsum_class.domain[classic_var.var_index])"
   ]
  },
  {
   "cell_type": "markdown",
   "id": "481df8ca",
   "metadata": {},
   "source": [
    "### 4.2 AE VaR computation\n",
    "\n",
    "When the *ae_type* kyey is *MLAE, IQAE, RQAE, CQPEAE or IQPEAE* then the cumulative sums will be calculated using the correspondient AE method."
   ]
  },
  {
   "cell_type": "code",
   "execution_count": null,
   "id": "c6917d50",
   "metadata": {},
   "outputs": [],
   "source": [
    "iqae_dict = {\n",
    "    #Domain Configuration\n",
    "    'x0': 0.1,\n",
    "    'xf': 2.0,\n",
    "    'n_qbits': 5,    \n",
    " \n",
    "    #Probability density configuration\n",
    "    'probability_type': 'Black-Scholes',\n",
    "    's_0': 1,\n",
    "    'risk_free_rate': 0.05,\n",
    "    'maturity': 1.0,\n",
    "    'volatility': 0.1,\n",
    "    # Data loading Procedure\n",
    "    'probability_loading': True,\n",
    "    \n",
    "    #Amplitude Estimation selection\n",
    "    'ae_type': 'IQAE',    \n",
    "    'mcz_qlm': False, #For using QLM multicontrolled Z\n",
    "    #MLAE configuration\n",
    "    'schedule': [\n",
    "        None,\n",
    "        None\n",
    "    ],  \n",
    "    'delta' : None,\n",
    "    'ns' : None,\n",
    "    #CQPE_AE configuration\n",
    "    'auxiliar_qbits_number': None,    \n",
    "    #IQPE_AE configuration\n",
    "    'cbits_number': None,\n",
    "    #IQAE configuration\n",
    "    'alpha': 0.05, \n",
    "    #RQAE configuration    \n",
    "    'gamma': None,\n",
    "    'q': None,\n",
    "    #IQAE and RQAE configuration    \n",
    "    'epsilon': 0.001,\n",
    "    'shots': 100,\n",
    "    \n",
    "    \"qpu\": linalg_qpu,\n",
    "    \"save\": False\n",
    "    \n",
    "\n",
    "}"
   ]
  },
  {
   "cell_type": "code",
   "execution_count": null,
   "id": "6f092487",
   "metadata": {},
   "outputs": [],
   "source": [
    "iqae_var = VaR(0.05, **iqae_dict)\n",
    "iqae_var.run()"
   ]
  },
  {
   "cell_type": "code",
   "execution_count": null,
   "id": "e65fd602",
   "metadata": {},
   "outputs": [],
   "source": [
    "print('Index for Var: ',iqae_var.var_index)\n",
    "print('Var: ',iqae_var.var)\n",
    "print('Cum sum Var: ',iqae_var.cumsum_var)\n",
    "print('Test: ', iqae_var.cumsum_var > 1.0- iqae_var.alpha_var)"
   ]
  },
  {
   "cell_type": "code",
   "execution_count": null,
   "id": "5a32c03d",
   "metadata": {},
   "outputs": [],
   "source": [
    "rqae_dict = {\n",
    "    #Domain Configuration\n",
    "    'x0': 0.1,\n",
    "    'xf': 2.0,\n",
    "    'n_qbits': 5,    \n",
    " \n",
    "    #Probability density configuration\n",
    "    'probability_type': 'Black-Scholes',\n",
    "    's_0': 1,\n",
    "    'risk_free_rate': 0.05,\n",
    "    'maturity': 1.0,\n",
    "    'volatility': 0.1,\n",
    "    # Data loading Procedure\n",
    "    'probability_loading': False,\n",
    "    \n",
    "    #Amplitude Estimation selection\n",
    "    'ae_type': 'RQAE',    \n",
    "    'mcz_qlm': False, #For using QLM multicontrolled Z\n",
    "    #MLAE configuration\n",
    "    'schedule': [\n",
    "        None,\n",
    "        None\n",
    "    ],  \n",
    "    'delta' : None,\n",
    "    'ns' : None,\n",
    "    #CQPE_AE configuration\n",
    "    'auxiliar_qbits_number': None,    \n",
    "    #IQPE_AE configuration\n",
    "    'cbits_number': None,\n",
    "    #IQAE configuration\n",
    "    'alpha': None, \n",
    "    #RQAE configuration    \n",
    "    'gamma': 0.05,\n",
    "    'q': 2.0,\n",
    "    #IQAE and RQAE configuration    \n",
    "    'epsilon': 0.0001,\n",
    "    'shots': 100,\n",
    "    \n",
    "    \"qpu\": linalg_qpu,\n",
    "    \"save\": False\n",
    "    \n",
    "\n",
    "}"
   ]
  },
  {
   "cell_type": "code",
   "execution_count": null,
   "id": "ee9abcfe",
   "metadata": {},
   "outputs": [],
   "source": [
    "rqae_var = VaR(0.05, **rqae_dict)\n",
    "rqae_var.run()"
   ]
  },
  {
   "cell_type": "code",
   "execution_count": null,
   "id": "91884d81",
   "metadata": {},
   "outputs": [],
   "source": [
    "print('Index for Var: ',rqae_var.var_index)\n",
    "print('Var: ',rqae_var.var)\n",
    "print('Cum sum Var: ',rqae_var.cumsum_var)\n",
    "print('Test: ', rqae_var.cumsum_var > 1.0- rqae_var.alpha_var)"
   ]
  },
  {
   "cell_type": "code",
   "execution_count": null,
   "id": "21fab64f",
   "metadata": {},
   "outputs": [],
   "source": [
    "m_k = [1, 2, 3, 4, 5, 6, 7, 8, 9, 10]\n",
    "\n",
    "mlae_dict = {\n",
    "    #Domain Configuration\n",
    "    'x0': 0.1,\n",
    "    'xf': 2.0,\n",
    "    'n_qbits': 5,    \n",
    " \n",
    "    #Probability density configuration\n",
    "    'probability_type': 'Black-Scholes',\n",
    "    's_0': 1,\n",
    "    'risk_free_rate': 0.05,\n",
    "    'maturity': 1.0,\n",
    "    'volatility': 0.1,\n",
    "    # Data loading Procedure\n",
    "    'probability_loading': True,\n",
    "    \n",
    "    #Amplitude Estimation selection\n",
    "    'ae_type': 'MLAE',    \n",
    "    'mcz_qlm': False, #For using QLM multicontrolled Z\n",
    "    #MLAE configuration\n",
    "    'schedule': [\n",
    "        m_k,\n",
    "        [100 for i in m_k]\n",
    "    ],  \n",
    "    'delta' : 1.0e-6,\n",
    "    'ns' : 10000,\n",
    "    #CQPE_AE configuration\n",
    "    'auxiliar_qbits_number': None,    \n",
    "    #IQPE_AE configuration\n",
    "    'cbits_number': None,\n",
    "    #IQAE configuration\n",
    "    'alpha': None, \n",
    "    #RQAE configuration    \n",
    "    'gamma': None,\n",
    "    'q': None,\n",
    "    #IQAE and RQAE configuration    \n",
    "    'epsilon': None,\n",
    "    'shots': None,\n",
    "    \n",
    "    \"qpu\": linalg_qpu,\n",
    "    \"save\": False\n",
    "    \n",
    "\n",
    "}"
   ]
  },
  {
   "cell_type": "code",
   "execution_count": null,
   "id": "008ce92f",
   "metadata": {},
   "outputs": [],
   "source": [
    "mlae_var = VaR(0.05, **mlae_dict)\n",
    "mlae_var.run()"
   ]
  },
  {
   "cell_type": "code",
   "execution_count": null,
   "id": "e4562cc0",
   "metadata": {},
   "outputs": [],
   "source": [
    "print('Index for Var: ',mlae_var.var_index)\n",
    "print('Var: ',mlae_var.var)\n",
    "print('Cum sum Var: ',mlae_var.cumsum_var)\n",
    "print('Test: ', mlae_var.cumsum_var > 1.0- mlae_var.alpha_var)"
   ]
  },
  {
   "cell_type": "markdown",
   "id": "4e723b32",
   "metadata": {},
   "source": [
    "## FINAL NOTES\n",
    "\n",
    "Due to the high simulation times for **CQPEAE** and **IQPEAE** this methods are not recommende to use with a complete VaR computation!!!"
   ]
  }
 ],
 "metadata": {
  "kernelspec": {
   "display_name": "Python 3 (ipykernel)",
   "language": "python",
   "name": "python3"
  },
  "language_info": {
   "codemirror_mode": {
    "name": "ipython",
    "version": 3
   },
   "file_extension": ".py",
   "mimetype": "text/x-python",
   "name": "python",
   "nbconvert_exporter": "python",
   "pygments_lexer": "ipython3",
   "version": "3.9.9"
  }
 },
 "nbformat": 4,
 "nbformat_minor": 5
}
