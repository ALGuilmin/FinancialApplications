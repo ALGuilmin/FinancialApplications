{
 "cells": [
  {
   "cell_type": "markdown",
   "id": "37092e3f",
   "metadata": {},
   "source": [
    "# Quantum Integral Computation using AE"
   ]
  },
  {
   "cell_type": "markdown",
   "id": "5c9b8d35",
   "metadata": {},
   "source": [
    "We are going to define a Benchmark for *Amplitude Estimation* (**AE**) techniques.\n",
    "\n",
    "## Formal description of the problem \n",
    "\n",
    "The problem we proposed for the benchamark is the computation of the integral of function $f$ in a closed interval $[a, b] \\subset \\mathbf{R}$:\n",
    "\n",
    "$$I = \\int_a^bf(x)dx$$\n",
    "\n",
    "For computing this integral in a numeric way we are going to use a Monte Carlo integration approach. Let $L$ be:\n",
    "\n",
    "$$L = \\int_a^bdx$$\n",
    "\n",
    "The naive Monte Carlo aproximation consists in sample $N$ points, in an uniform way, from interval $[a,b]$:\n",
    "\n",
    "$$x_0, x_2, ..., x_{N-1} \\in [a,b]$$\n",
    "\n",
    "The desired integral can be approximated by:\n",
    "\n",
    "\n",
    "$$I= \\int_a^bf(x)dx \\approx I_{MC} = \\frac{L}{N}\\sum_{i=0}^{i=N-1}f(x_i)$$\n",
    "\n",
    "The error of the Monte Carlo integration estimation  will be:\n",
    "\n",
    "$$\\epsilon_{MC} = \\frac{1}{\\sqrt{N}}$$\n",
    "\n",
    "When using $\\textbf{AE}$ techniques is expected that the error of this aproximation scales as\n",
    "\n",
    "$$\\epsilon_{AE} = \\frac{1}{N}$$\n",
    "\n",
    "In order to use $\\textbf{AE}$ techniques we need to approximate the integral as a Riemman sum: let \n",
    "\n",
    "$$P=\\{[x_0, x_1], [x_1, x_2], ..., [x_{n-1}, x_n]\\}$$ \n",
    "\n",
    "such that:\n",
    "\n",
    "$$a = x_0 < x_1 < x_2 < ... < x_n=b$$\n",
    "\n",
    "Then \n",
    "\n",
    "$$I= \\int_a^bf(x)dx \\approx S = \\sum_i^nf(x_i)*\\Delta x_i$$"
   ]
  },
  {
   "cell_type": "code",
   "execution_count": null,
   "id": "a9ef41c8",
   "metadata": {},
   "outputs": [],
   "source": [
    "import sys\n",
    "sys.path.append(\"../\")\n",
    "sys.path.append(\"../../benchmark/\")\n",
    "import numpy as np\n",
    "import pandas as pd\n",
    "import qat.lang.AQASM as qlm\n",
    "import matplotlib.pyplot as plt\n",
    "%matplotlib inline\n",
    "from scipy import integrate"
   ]
  },
  {
   "cell_type": "code",
   "execution_count": null,
   "id": "d649f23a",
   "metadata": {},
   "outputs": [],
   "source": [
    "#This cell loads the QLM solver.\n",
    "#QLMaaS == False -> uses PyLinalg\n",
    "#QLMaaS == True -> try to use LinAlg (for using QPU as CESGA QLM one)\n",
    "from QQuantLib.utils.qlm_solver import get_qpu\n",
    "QLMaaS = False\n",
    "linalg_qpu = get_qpu(QLMaaS)"
   ]
  },
  {
   "cell_type": "code",
   "execution_count": null,
   "id": "474ffd67",
   "metadata": {},
   "outputs": [],
   "source": [
    "from QQuantLib.utils.data_extracting  import get_results"
   ]
  },
  {
   "cell_type": "markdown",
   "id": "460a5b0e",
   "metadata": {},
   "source": [
    "## 1.Monte Carlo clásico"
   ]
  },
  {
   "cell_type": "markdown",
   "id": "6e0ebd8b",
   "metadata": {},
   "source": [
    "De momento vamos a lanzar una cosa tonta para ajustar todo lo que podemos necesitar:\n",
    "\n",
    "$$f(x) = \\sin x$$\n",
    "\n",
    "$$I = \\int_a^{b}\\sin(x)dx = -\\cos x |_a^b = \\cos(a)-\\cos(b)$$"
   ]
  },
  {
   "cell_type": "code",
   "execution_count": null,
   "id": "4763616b",
   "metadata": {},
   "outputs": [],
   "source": [
    "def f(x):\n",
    "    return np.sin(x)\n",
    "def MonteCarlo(f, x0, xf, N):\n",
    "    mc_domain = (xf-x0)*np.random.rand(N) + x0\n",
    "    mc_integration = (xf-x0) * np.mean(f(mc_domain))\n",
    "    return mc_integration\n",
    "def sin_integral(a,b):\n",
    "    return np.cos(a)-np.cos(b)"
   ]
  },
  {
   "cell_type": "code",
   "execution_count": null,
   "id": "4432e5f4",
   "metadata": {},
   "outputs": [],
   "source": [
    "a = np.pi/4.0\n",
    "b = np.pi/2.0"
   ]
  },
  {
   "cell_type": "code",
   "execution_count": null,
   "id": "86ff48c2",
   "metadata": {
    "scrolled": true
   },
   "outputs": [],
   "source": [
    "MonteCarlo(np.sin, a, b, 1000)"
   ]
  },
  {
   "cell_type": "code",
   "execution_count": null,
   "id": "424cd45d",
   "metadata": {},
   "outputs": [],
   "source": [
    "sin_integral(a,b)"
   ]
  },
  {
   "cell_type": "markdown",
   "id": "e26404b4",
   "metadata": {},
   "source": [
    "In the following cell we show the behaviour of the MC integration when number of samples is increased."
   ]
  },
  {
   "cell_type": "code",
   "execution_count": null,
   "id": "88e2c858",
   "metadata": {},
   "outputs": [],
   "source": [
    "ListOfShots_MC = [1.0e3, 1.0e4, 1.0e5, 1.0e6, 1.0e7, 1.0e8]\n",
    "\n",
    "MC = []\n",
    "for shots in ListOfShots:\n",
    "    MC.append(MonteCarlo(np.sin, a, b, int(shots)))\n",
    "    \n",
    "plt.plot(ListOfShots, abs(MC-sin_integral(a,b)), 'o-')\n",
    "plt.plot(ListOfShots, 1.0/np.array(ListOfShots))\n",
    "plt.plot(ListOfShots, 1/np.sqrt(np.array(ListOfShots)))\n",
    "plt.xlabel('Shots')\n",
    "plt.xscale('log')\n",
    "plt.ylabel('Absolute Erros')\n",
    "plt.yscale('log')    \n",
    "plt.legend(['MC', r'$\\frac{1}{shots}$', r'$\\frac{1}{\\sqrt{shots}}$'])"
   ]
  },
  {
   "cell_type": "code",
   "execution_count": null,
   "id": "695df92a",
   "metadata": {},
   "outputs": [],
   "source": [
    "ListOfShots_MC = [1.0e3, 1.0e4, 1.0e5, 1.0e6, 1.0e7, 1.0e8]\n",
    "MC = []\n",
    "for shots in ListOfShots_MC:\n",
    "    MC.append(MonteCarlo(np.sin, a, b, int(shots)))\n",
    "plt.plot(ListOfShots_MC, abs(MC-sin_integral(a,b)), 'o-')"
   ]
  },
  {
   "cell_type": "markdown",
   "id": "7acab9ca",
   "metadata": {},
   "source": [
    "## 3. MonteCarlo Cuántico"
   ]
  },
  {
   "cell_type": "markdown",
   "id": "e201d4de",
   "metadata": {},
   "source": [
    "Vamos a codificar la función que tenemos que integrar $f(x)$ en un circuito cuántico con el fin de poder posteriormente aplicar técnicas de $\\textbf{AE}$ que me permitan obtener la integral deseada. Lo pirmero que necesitamos es codificar adecuadamente la función a integrar $f(x)$ en un circuito."
   ]
  },
  {
   "cell_type": "markdown",
   "id": "6030d80d",
   "metadata": {},
   "source": [
    "### 3.1 Discretización del Dominio.\n",
    "\n",
    "Como nos interesa calcula el valor de la integral en el dominio $[a,b]$ lo primero que necesitamos es discretizar dicho dominio en $2^n$ intervalos:\n",
    "\n",
    "$$P=\\{[x_0, x_1], [x_1, x_2], ..., [x_{2^n-1}, x_{2^n}]\\}$$ \n",
    "\n",
    "Verificándose que:\n",
    "\n",
    "1. $x_{i+1} < x_{i}$\n",
    "2. $a = x_0$\n",
    "3. $b = x_{2^n}$\n"
   ]
  },
  {
   "cell_type": "code",
   "execution_count": null,
   "id": "8505351e",
   "metadata": {},
   "outputs": [],
   "source": [
    "n = 6"
   ]
  },
  {
   "cell_type": "code",
   "execution_count": null,
   "id": "ebecc1da",
   "metadata": {
    "scrolled": true
   },
   "outputs": [],
   "source": [
    "domain_x = np.linspace(a, b, 2**n+1)"
   ]
  },
  {
   "cell_type": "code",
   "execution_count": null,
   "id": "19b9c5da",
   "metadata": {},
   "outputs": [],
   "source": [
    "type(domain_x)"
   ]
  },
  {
   "cell_type": "code",
   "execution_count": null,
   "id": "7b4ce098",
   "metadata": {},
   "outputs": [],
   "source": [
    "type(domain_x) is np.ndarray"
   ]
  },
  {
   "cell_type": "markdown",
   "id": "5a834c5d",
   "metadata": {},
   "source": [
    "### 3.2 Discretización de la función\n",
    "\n",
    "Utilizando la discretización del dominio procedemos a calcular los dos siguientes arrays de valores:\n",
    "\n",
    "1. $\\Delta x_i = x_{i+1} - x_{i}$\n",
    "2. $f_{x_i} = \\frac{f(x_{i+1}) + f(x_{i})}{2}$\n",
    "\n",
    "A partir de estos dos arrays podriamos crear una suma de Riemman:\n",
    "\n",
    "$$S_{[a,b]} = \\sum_{i=0}^{2^n-1} f_{x_i} \\Delta x_i$$\n",
    "\n",
    "De tal modo que $\\Delta x_i \\rightarrow 0$ entonces $I \\approx S_{[a,b]}$\n",
    "\n",
    "Procedemos a crear el siguiente array \n",
    "\n",
    "$$\n",
    "    g_{x_i} = f_{x_i} \\Delta x_i \n",
    "\\tag{1}\n",
    "$$ \n"
   ]
  },
  {
   "cell_type": "code",
   "execution_count": null,
   "id": "93f5cebe",
   "metadata": {},
   "outputs": [],
   "source": [
    "delta_x = np.diff(domain_x)\n",
    "f_x = []\n",
    "x_ = []\n",
    "for i in range(1, len(domain_x)):\n",
    "    step_f = (f(domain_x[i]) + f(domain_x[i-1]))/2.0\n",
    "    #print(i)\n",
    "    f_x.append(step_f)\n",
    "    x_.append((domain_x[i] + domain_x[i-1])/2.0)\n",
    "f_x = np.array(f_x)\n",
    "x_ = np.array(x_)\n",
    "\n",
    "plt.plot(domain_x, f(domain_x), 'o')\n",
    "plt.plot(x_, f_x, 'o')\n",
    "\n",
    "g_x = f_x*delta_x"
   ]
  },
  {
   "cell_type": "code",
   "execution_count": null,
   "id": "aa75308d",
   "metadata": {},
   "outputs": [],
   "source": [
    "#Numerical integral\n",
    "np.sum(g_x)"
   ]
  },
  {
   "cell_type": "markdown",
   "id": "dad22a82",
   "metadata": {},
   "source": [
    "### 3.3 Normalizacion de la función\n",
    "\n",
    "Antes de continuar es conveniente realizar una normalización del array $g_{x_i}$ de tal modo que:\n",
    "\n",
    "$$g\\_norm_{x_i} = \\frac{g_{x_i}}{\\max(g_{x_i})} \\tag{2} $$"
   ]
  },
  {
   "cell_type": "code",
   "execution_count": null,
   "id": "2de5af12",
   "metadata": {},
   "outputs": [],
   "source": [
    "normalization= max(g_x)\n",
    "print(normalization)\n",
    "#normalization = 1.0\n",
    "g_norm_x = g_x/normalization"
   ]
  },
  {
   "cell_type": "markdown",
   "id": "f4552c8b",
   "metadata": {},
   "source": [
    "### 3.4 Codificacion en el circuito cuántico.\n",
    "\n",
    "La idea es codificar la función $g\\_norm_{x_i}$ en un circuito cuántico. \n",
    "\n"
   ]
  },
  {
   "cell_type": "code",
   "execution_count": null,
   "id": "e73ce67f",
   "metadata": {},
   "outputs": [],
   "source": [
    "from encoding_protocols import Encoding"
   ]
  },
  {
   "cell_type": "markdown",
   "id": "8687550b",
   "metadata": {},
   "source": [
    "#### 3.4.1. Standard Encoding procedure\n",
    "\n",
    "El procedimiento de carga será:\n",
    "\n",
    "1. Se Inicializan $n+1$ qbits: \n",
    "\n",
    "$$|0\\rangle^n\\otimes|0\\rangle$$\n",
    "\n",
    "2. Se Aplican puertas Haddamard sobre los $n$ primeros qbits: \n",
    "\n",
    "$$(H^{\\otimes n} \\otimes I)|0\\rangle^n\\otimes|0\\rangle = \\frac{1}{\\sqrt{2^n}} \\sum_{i=0}^{2^n+1}|i\\rangle\\otimes|0\\rangle \\tag{3}$$\n",
    "\n",
    "3. Se utiliza un operador $\\mathbf{U}_f$ que permita la carga del array el operador $g\\_norm_{x_i}$ en el circuito cuántico. Sea $f(x)$ una función dicho operador realizaría la siguiente transformación:\n",
    "\n",
    "$$\\mathbf{U}_f|x\\rangle|0\\rangle = |x\\rangle\\left(\\sqrt{f(x)}|0\\rangle + \\sqrt{1-f(x)}|1\\rangle \\right) \\tag{4}$$\n",
    "\n",
    "\n",
    "Así pues si ejcutamos los 3 anteriores pasos obtendríamos un estado $|\\Psi\\rangle$ tal que:\n",
    "\n",
    "\n",
    "$$|\\Psi\\rangle = \\mathbf{U}_{g\\_norm_{x_i}}\\left( \\left( H^{\\otimes n} \\otimes I \\right) |0\\rangle^n\\otimes|0\\rangle \\right) \\tag{5}$$\n",
    "\n",
    "\n",
    "Vamos a desarrollar el estado $|\\Psi \\rangle$. Aplicando $(3)$ en $(5)$:\n",
    "\n",
    "$$|\\Psi\\rangle = \\mathbf{U}_{g\\_norm_{x_i}} \\left( \\frac{1}{\\sqrt{2^n}} \\sum_{i=0}^{2^n+1}|i\\rangle\\otimes|0\\rangle  \\right) = \\frac{1}{\\sqrt{2^n}} \\sum_{i=0}^{2^n+1} \\mathbf{U}_{g\\_norm_{x_i}}|i\\rangle\\otimes|0\\rangle $$\n",
    "\n",
    "Si aplicamos $(4)$:\n",
    "\n",
    "\n",
    "$$|\\Psi\\rangle = \\frac{1}{\\sqrt{2^n}} \\sum_{i=0}^{2^n+1}|i\\rangle \\left[ \\sqrt{g\\_norm_{x_i}}|0\\rangle + \\sqrt{1-g\\_norm_{x_i}} |1\\rangle \\right] = $$\n",
    "\n",
    "Separando las contribuciones del qbit adicional en $|0\\rangle$ y $|1\\rangle$:\n",
    "\n",
    "$$|\\Psi\\rangle = \\frac{1}{\\sqrt{2^n}} \\sum_{i=0}^{2^n+1}\\sqrt{g\\_norm_{x_i}} |i\\rangle |0\\rangle + \\frac{1}{\\sqrt{2^n}} \\sum_{i=0}^{2^n+1}\\sqrt{1-g\\_norm_{x_i}} |i\\rangle |1\\rangle \\tag{6}$$\n",
    "\n",
    " \n",
    "La probabililidad de medir el estado $|0\\rangle$ cuando se mide el qbit adiciobal vendrá dada por:\n",
    "\n",
    "$$\\mathbf{P}_{|0 \\rangle} = \\sum_{j=0}^{2^n-1}\\mathbf{P}_{|j\\rangle^n|0\\rangle} \\tag{7}$$\n",
    "Donde:\n",
    "\n",
    "$$\\mathbf{P}_{|j\\rangle^n|0\\rangle} =\\left| \\; ^n\\langle j | \\otimes \\langle 0|\\Psi\\rangle \\; \\right|^2$$\n",
    "\n",
    "Utilizando $(6)$ y que $\\langle 1|0\\rangle = 0$:\n",
    "\n",
    "$$\\mathbf{P}_{|j\\rangle^n|0\\rangle} = \\left| \\frac{1}{\\sqrt{2^n}} \\sum_{x=0}^{2^n+1}\\sqrt{g\\_norm_{x_i}}\\; ^n\\langle j|i\\rangle^n \\langle 0|0\\rangle \\right|^2 $$\n",
    "\n",
    "Utilizando que $^n\\langle j|i\\rangle^n = \\delta_{ji}$:\n",
    "\n",
    "$$\\mathbf{P}_{|j\\rangle^n|0\\rangle} = \\left| \\frac{1}{\\sqrt{2^n}}\\sqrt{g\\_norm_{x_j}}\\right|^2 = \\left|\\frac{g\\_norm_{x_j}}{2^n}\\right| \\tag{8}$$\n",
    "\n",
    "Así pues utilizando $(8)$ en $(7)$:\n",
    "\n",
    "$$\\mathbf{P}_{|0 \\rangle} =  \\sum_{j=0}^{2^n-1} \\left|\\frac{g\\_norm_{x_j}}{2^n}\\right|$$\n",
    "\n",
    "Si ahora deshacemos $(2)$\n",
    "\n",
    "$$\\mathbf{P}_{|0 \\rangle} =  \\sum_{j=0}^{2^n-1} \\left| \\frac{g_{x_j}}{\\max(g_{x_j})2^n} \\right|$$\n",
    "\n",
    "Si ahora deshacemos $(1)$:\n",
    "\n",
    "$$\\mathbf{P}_{|0 \\rangle} =  \\sum_{j=0}^{2^n-1} \\left| \\frac{f_{x_j}\\Delta x_j}{\\max(g_{x_j})2^n} \\right|$$\n",
    "\n",
    "Así pues en la amplitud del estado $|0\\rangle$ del qbit adicional se ha conseguido codificar un valor proporcional a la integral de Riemman!!:\n",
    "\n",
    "\n",
    "$$S_{[a,b]} = \\sum_{i=0}^{2^n-1} f_{x_i} \\Delta x_i = 2^n \\max(g_{x_i}) \\mathbf{P}_{|0 \\rangle} \\tag{9}$$"
   ]
  },
  {
   "cell_type": "code",
   "execution_count": null,
   "id": "4a8922fd",
   "metadata": {},
   "outputs": [],
   "source": [
    "#Standard Encoding\n",
    "standard_encoding = Encoding(array_function=g_norm_x, array_probability=None)\n",
    "standard_encoding.oracle_encoding_01()"
   ]
  },
  {
   "cell_type": "code",
   "execution_count": null,
   "id": "c262da10",
   "metadata": {},
   "outputs": [],
   "source": [
    "oracle = standard_encoding.oracle\n",
    "%qatdisplay oracle"
   ]
  },
  {
   "cell_type": "markdown",
   "id": "0f921cb4",
   "metadata": {},
   "source": [
    "Now the desired result is enconding in the state $|0\\rangle$ of the additional qbit. Using $(9)$"
   ]
  },
  {
   "cell_type": "code",
   "execution_count": null,
   "id": "9c71f469",
   "metadata": {},
   "outputs": [],
   "source": [
    "encoding01_results,_,_,_ = get_results(standard_encoding.oracle, linalg_qpu= linalg_qpu , qubits=standard_encoding.co_index)"
   ]
  },
  {
   "cell_type": "code",
   "execution_count": null,
   "id": "65b4e9ae",
   "metadata": {
    "scrolled": true
   },
   "outputs": [],
   "source": [
    "encoding01_results"
   ]
  },
  {
   "cell_type": "code",
   "execution_count": null,
   "id": "003fb3e6",
   "metadata": {},
   "outputs": [],
   "source": [
    "P_0 = encoding01_results['Probability'].iloc[0]\n",
    "quantum_integral = normalization*(2**n)*P_0\n",
    "print(\"Integral encoding in the |0> state of the additional qbits: {}\".format(quantum_integral))\n",
    "print(\"Integral by pure Riemman sum: {}\".format(np.sum(g_x)))\n",
    "N_MC = 1e8\n",
    "print(\"Integral by Classical Monte Carlo ({}): {}\".format(N_MC, MonteCarlo(np.sin, a, b, int(N_MC))))\n",
    "print(\"Exact Integral: {}\".format(sin_integral(a,b)))"
   ]
  },
  {
   "cell_type": "code",
   "execution_count": null,
   "id": "d0ce4d0b",
   "metadata": {},
   "outputs": [],
   "source": [
    "print(\"Error for exact integral: {}\".format(abs(quantum_integral-sin_integral(a,b))))\n",
    "N_MC = 1e8\n",
    "print(\"Error for Classical Monte Carlo ({}): {}\".format(N_MC, abs(quantum_integral-MonteCarlo(np.sin, a, b, int(N_MC)))))\n",
    "print(\"Error for pure Riemman sum: {}\".format(abs(quantum_integral-np.sum(g_x))))"
   ]
  },
  {
   "cell_type": "markdown",
   "id": "77afaf54",
   "metadata": {},
   "source": [
    "#### 3.4.2 New Encoding Procedure\n",
    "\n",
    "Encoding protocol:\n",
    "\n",
    "1. $n+1$ qbits will be initialised: \n",
    "\n",
    "$$|0\\rangle^n\\otimes|0\\rangle$$\n",
    "\n",
    "2. Haddamard gates will be applied over the $n$ first qbits: \n",
    "\n",
    "$$(H^{\\otimes n} \\otimes I)|0\\rangle^n\\otimes|0\\rangle = \\frac{1}{\\sqrt{2^n}} \\sum_{i=0}^{2^n+1}|i\\rangle\\otimes|0\\rangle \\tag{10}$$\n",
    "\n",
    "3. Let be $f(x)$ a function the operator $\\mathbf{U}_f$ will be defined following $(10)$ (**BE AWARE** in equation $(4)$ the $\\sqrt{f(x)}$ was used for the operator)\n",
    "\n",
    "$$\\mathbf{U}_f|x\\rangle|0\\rangle = |x\\rangle\\left(f(x)|0\\rangle + \\sqrt{1-f^2(x)}|1\\rangle \\right) \\tag{11}$$\n",
    "\n",
    "4. Using opertator $\\mathbf{U}_f$ and let $f(x) = g\\_norm_{x_i}$ on the quantum circuit following $(12)$:\n",
    "\n",
    "$$\\mathbf{U}_{g\\_norm_{x_i}}\\left( \\left( H^{\\otimes n} \\otimes I \\right) |0\\rangle^n\\otimes|0\\rangle \\right) \\tag{12}$$\n",
    "\n",
    "5. Haddamard gates will be applied over the $n$ first qbits again:\n",
    "\n",
    "$$|\\Psi\\rangle = \\left( \\left( H^{\\otimes n} \\otimes I \\right) \\mathbf{U}_{g\\_norm_{x_i}} \\left( H^{\\otimes n} \\otimes I \\right)\\right) |0\\rangle^n\\otimes|0\\rangle  \\tag{13}$$\n",
    "\n",
    "So using $(10)$ in $(13)$:\n",
    "\n",
    "$$|\\Psi\\rangle =\\left( \\left( H^{\\otimes n} \\otimes I \\right) \\mathbf{U}_{g\\_norm_{x_i}} \\right) \\left( \\frac{1}{\\sqrt{2^n}} \\sum_{i=0}^{2^n+1}|i\\rangle\\otimes|0\\rangle  \\right) =  \\left( H^{\\otimes n} \\otimes I \\right) \\left(  \\frac{1}{\\sqrt{2^n}} \\sum_{i=0}^{2^n+1} \\mathbf{U}_{g\\_norm_{x_i}}|i\\rangle\\otimes|0\\rangle \\right) \\tag{14}$$\n",
    "\n",
    "Now $(11)$ will be applied on $(14)$:\n",
    "\n",
    "\n",
    "$$|\\Psi\\rangle = \\left( H^{\\otimes n} \\otimes I \\right)  \\frac{1}{\\sqrt{2^n}} \\sum_{i=0}^{2^n+1}|i\\rangle \\left[ g\\_norm_{x_i}|0\\rangle + \\sqrt{1-g^2\\_norm_{x_i}} |1\\rangle \\right] \\tag{15}$$\n",
    "\n",
    "So\n",
    "\n",
    "$$|\\Psi\\rangle = \\frac{1}{\\sqrt{2^n}} \\sum_{i=0}^{2^n+1} g\\_norm_{x_i} \\left( H^{\\otimes n} \\otimes I \\right) |i\\rangle |0\\rangle + \\frac{1}{\\sqrt{2^n}} \\sum_{i=0}^{2^n+1} \\sqrt{1-g^2\\_norm_{x_i}} \\left( H^{\\otimes n} \\otimes I \\right) |i\\rangle |0\\rangle $$\n",
    "\n",
    "The secon term ($\\frac{1}{\\sqrt{2^n}} \\sum_{i=0}^{2^n+1} \\sqrt{1-g^2\\_norm_{x_i}} \\left( H^{\\otimes n} \\otimes I \\right) |i\\rangle |0\\rangle$) is not interested for our purpouses so we can write following equation:\n",
    "\n",
    "$$|\\Psi\\rangle = \\frac{1}{\\sqrt{2^n}} \\sum_{i=0}^{2^n+1} g\\_norm_{x_i} \\left( H^{\\otimes n} \\otimes I \\right) |i\\rangle |0\\rangle + ... \\tag{16}$$\n",
    "\n",
    "Using:\n",
    "\n",
    "$$H^{\\otimes n} |i\\rangle = \\frac{1}{\\sqrt{2^n}} \\sum_{j=0}^{2^n}\\sum_{k=0}^{2^n} (-1)^{jk} |j\\rangle \\langle k|i\\rangle = \\frac{1}{\\sqrt{2^n}} \\sum_{j=0}^{2^n} (-1)^{ji} |j\\rangle$$\n",
    "\n",
    "in $(16)$:\n",
    "\n",
    "$$|\\Psi\\rangle = \\frac{1}{2^n} \\sum_{i=0}^{2^n+1} g\\_norm_{x_i} \\sum_{j=0}^{2^n} (-1)^{ji} |j\\rangle |0\\rangle + ... \\tag{17}$$\n",
    "\n",
    "Expliciting the $j$ sumation:\n",
    "\n",
    "$$|\\Psi\\rangle = \\frac{1}{2^n} \\sum_{i=0}^{2^n+1} g\\_norm_{x_i} |0\\rangle^n |0\\rangle + \\sum_{j=1}^{2^n} (-1)^{ji} |j\\rangle |0\\rangle + ... $$\n",
    "\n",
    "Again sumation for $j\\geq1$ are not interested for us so we can write down the equation $(18)$:\n",
    "\n",
    "$$|\\Psi\\rangle = \\frac{1}{2^n} \\sum_{i=0}^{2^n+1} g\\_norm_{x_i} |0\\rangle^n |0\\rangle  + ...  = \\frac{1}{2^n} \\sum_{i=0}^{2^n+1} g\\_norm_{x_i} |0\\rangle^{n+1} + ... \\tag{18}$$\n",
    "\n",
    "Now the probability of measuring the state $|0\\rangle^n |0\\rangle$ will be:\n",
    "\n",
    "\n",
    "$$\\mathbf{P}_{|0\\rangle^n|0\\rangle} = \\mathbf{P}_{|0\\rangle^{n+1}} =\\left| \\; ^{n+1}\\langle 0 |\\Psi\\rangle \\; \\right|^2 $$\n",
    "\n",
    "Using $(18)$:\n",
    "\n",
    "$$ \\mathbf{P}_{|0\\rangle^{n+1}} = \\left| \\; ^{n+1}\\langle 0 | \\frac{1}{2^n} \\sum_{i=0}^{2^n+1} g\\_norm_{x_i} |0\\rangle^{n+1}\\; \\right|^2$$\n",
    "\n",
    "$$\\mathbf{P}_{|0\\rangle^{n+1}} = \\left| \\; \\frac{1}{2^n} \\sum_{i=0}^{2^n+1} \\; g\\_norm_{x_i} \\right|^2$$\n",
    "\n",
    "So:\n",
    "\n",
    "$$2^n \\sqrt{\\mathbf{P}_{|0\\rangle^{n+1}}} =  \\sum_{i=0}^{2^n+1} \\; g\\_norm_{x_i} $$\n",
    "\n",
    "Using $(2)$:\n",
    "\n",
    "\n",
    "$$2^n \\sqrt{\\mathbf{P}_{|0\\rangle^{n+1}}} =  \\sum_{i=0}^{2^n+1} \\; \\frac{g_{x_i}}{\\max(g_{x_i})} $$\n",
    "  \n",
    "And using $(1)$:\n",
    "\n",
    "\n",
    "$$2^n \\sqrt{\\mathbf{P}_{|0\\rangle^{n+1}}} =  \\sum_{i=0}^{2^n+1} \\; \\frac{f_{x_i} \\Delta x_i }{\\max(g_{x_i})} $$\n",
    "\n",
    "So finally the amplitud of the state $|0\\rangle^{n+1}$ codifies the desired integral using equation $(19)$:\n",
    "\n",
    "\n",
    "$$S_{[a,b]} = \\sum_{i=0}^{2^n-1} f_{x_i} \\Delta x_i = 2^n \\max(g_{x_i}) \\sqrt{\\mathbf{P}_{|0 \\rangle^{n+1}}} \\tag{19}$$"
   ]
  },
  {
   "cell_type": "code",
   "execution_count": null,
   "id": "fc17bf12",
   "metadata": {},
   "outputs": [],
   "source": [
    "#New Encoding\n",
    "new_encoding = Encoding(array_function=g_norm_x, array_probability=None)\n",
    "new_encoding.oracle_encoding_03()"
   ]
  },
  {
   "cell_type": "code",
   "execution_count": null,
   "id": "970d94ee",
   "metadata": {},
   "outputs": [],
   "source": [
    "oracle = new_encoding.oracle\n",
    "%qatdisplay oracle"
   ]
  },
  {
   "cell_type": "code",
   "execution_count": null,
   "id": "83300ba8",
   "metadata": {},
   "outputs": [],
   "source": [
    "encoding02_results,_,_,_ = get_results(new_encoding.oracle, linalg_qpu= linalg_qpu , qubits=new_encoding.co_index)"
   ]
  },
  {
   "cell_type": "code",
   "execution_count": null,
   "id": "0a7a15c6",
   "metadata": {},
   "outputs": [],
   "source": [
    "encoding02_results"
   ]
  },
  {
   "cell_type": "code",
   "execution_count": null,
   "id": "48234cec",
   "metadata": {},
   "outputs": [],
   "source": [
    "P_encoding_2_0 = encoding02_results['Probability'].iloc[0]\n",
    "quantum_integral_02 = normalization*(2**n)*np.sqrt(P_encoding_2_0)\n",
    "print(\"Integral encoding in the |0> state of the additional qbits: {}\".format(quantum_integral_02))\n",
    "print(\"Integral by pure Riemman sum: {}\".format(np.sum(g_x)))\n",
    "N_MC = 1e8\n",
    "print(\"Integral by Classical Monte Carlo ({}): {}\".format(N_MC, MonteCarlo(np.sin, a, b, int(N_MC))))\n",
    "print(\"Exact Integral: {}\".format(sin_integral(a,b)))"
   ]
  },
  {
   "cell_type": "code",
   "execution_count": null,
   "id": "14a39a0a",
   "metadata": {},
   "outputs": [],
   "source": [
    "print(\"Error for exact integral: {}\".format(abs(quantum_integral_02-sin_integral(a,b))))\n",
    "N_MC = 1e8\n",
    "print(\"Error for Classical Monte Carlo ({}): {}\".format(N_MC, abs(quantum_integral_02-MonteCarlo(np.sin, a, b, int(N_MC)))))\n",
    "print(\"Error for pure Riemman sum: {}\".format(abs(quantum_integral_02-np.sum(g_x))))"
   ]
  },
  {
   "cell_type": "markdown",
   "id": "193c4955",
   "metadata": {},
   "source": [
    "### 3.5 Monte Carlo Cuántico"
   ]
  },
  {
   "cell_type": "code",
   "execution_count": null,
   "id": "cfacb162",
   "metadata": {},
   "outputs": [],
   "source": [
    "QMC_01 = []\n",
    "ListOfShots = [1.0e1, 1.0e2, 1.0e3, 1.0e4, 1.0e5, 1.0e6, 1.0e7]\n",
    "for shots in ListOfShots:\n",
    "    results_loading, _, _, _ = get_results(standard_encoding.oracle, linalg_qpu=linalg_qpu, qubits=standard_encoding.co_index, shots = int(shots))\n",
    "    P_0 = results_loading['Probability'].values[0]\n",
    "    quantum_integral = normalization*(2**n)*P_0\n",
    "    QMC_01.append(quantum_integral)"
   ]
  },
  {
   "cell_type": "code",
   "execution_count": null,
   "id": "12b3ea18",
   "metadata": {},
   "outputs": [],
   "source": [
    "QMC_01"
   ]
  },
  {
   "cell_type": "code",
   "execution_count": null,
   "id": "c34a1360",
   "metadata": {},
   "outputs": [],
   "source": [
    "QMC_03 = []\n",
    "ListOfShots = [1.0e1, 1.0e2, 1.0e3, 1.0e4, 1.0e5, 1.0e6, 1.0e7]\n",
    "for shots in ListOfShots:\n",
    "    results_loading, _, _, _ = get_results(new_encoding.oracle, linalg_qpu=linalg_qpu, qubits=new_encoding.co_index, shots = int(shots))\n",
    "    P_0 = results_loading['Probability'].values[0]\n",
    "    quantum_integral = normalization*(2**n)*np.sqrt(P_0)\n",
    "    QMC_03.append(quantum_integral)"
   ]
  },
  {
   "cell_type": "code",
   "execution_count": null,
   "id": "d097ed6b",
   "metadata": {},
   "outputs": [],
   "source": [
    "plt.plot(ListOfShots, abs(QMC_01-sin_integral(a,b)), 'o-')\n",
    "plt.plot(ListOfShots, abs(QMC_03-sin_integral(a,b)), 'o-')\n",
    "plt.plot(ListOfShots_MC, abs(MC-sin_integral(a,b)), 'o-')\n",
    "plt.plot(ListOfShots, 1.0/np.array(ListOfShots))\n",
    "plt.plot(ListOfShots, 1.0/np.sqrt(np.array(ListOfShots)))\n",
    "plt.xlabel('Shots')\n",
    "plt.xscale('log')\n",
    "plt.ylabel('Absolute Erros')\n",
    "plt.yscale('log')    \n",
    "plt.legend(['QMC_01', 'QMC_02', 'MC', r'$\\frac{1}{shots}$', r'$\\frac{1}{\\sqrt{shots}}$'])"
   ]
  },
  {
   "cell_type": "markdown",
   "id": "bb3855ec",
   "metadata": {},
   "source": [
    "Como se puede ver en la gráfica anterior la convergencia de la integral buscada escala como $\\frac{1}{\\sqrt{N}}$ para el **Monte Carlo** clásico como para la verisión **cuántica**. Así que de momento no hemos ganado nada.\n",
    "\n",
    "La idea es utilizar técnicas de $\\textbf{AE}$ para mejorar esta convergencia!!"
   ]
  },
  {
   "cell_type": "markdown",
   "id": "a286d483",
   "metadata": {},
   "source": [
    "## 4. Algorithmos AE\n",
    "\n",
    "Utilizando la librería **QQuantLib** podemos calcular la integral deseada sin más que proporcionar el oráculo!!"
   ]
  },
  {
   "cell_type": "markdown",
   "id": "f5c0165a",
   "metadata": {},
   "source": [
    "### 4.1 MLAE"
   ]
  },
  {
   "cell_type": "code",
   "execution_count": null,
   "id": "ad94a154",
   "metadata": {},
   "outputs": [],
   "source": [
    "from QQuantLib.AE.maximum_likelihood_ae import MLAE"
   ]
  },
  {
   "cell_type": "code",
   "execution_count": null,
   "id": "81de1cd8",
   "metadata": {},
   "outputs": [],
   "source": [
    "target = standard_encoding.co_target\n",
    "index = standard_encoding.co_index"
   ]
  },
  {
   "cell_type": "code",
   "execution_count": null,
   "id": "c41cf06e",
   "metadata": {},
   "outputs": [],
   "source": [
    "index"
   ]
  },
  {
   "cell_type": "code",
   "execution_count": null,
   "id": "32fbac89",
   "metadata": {
    "scrolled": true
   },
   "outputs": [],
   "source": [
    "mk_sched = [0, 4, 5, 9, 10, 14, 15, 19, 24, 29, 34, 39, 44, 49, 54, 59]\n",
    "nk_sched = [200]*len(mk_sched)\n",
    "\n",
    "mlae_dict = {\n",
    "    'qpu': linalg_qpu,\n",
    "    'mcz_qlm': True,\n",
    "    'schedule': [mk_sched, nk_sched]\n",
    "}\n",
    "mlae = MLAE(\n",
    "    standard_encoding.oracle,\n",
    "    target = standard_encoding.co_target,\n",
    "    index = standard_encoding.co_index, \n",
    "    **mlae_dict\n",
    ")\n",
    "ae = mlae.run()\n",
    "integral_MLAE = ae*normalization*(2**n)\n",
    "mlae_results = pd.DataFrame([mlae.m_k, mlae.n_k, mlae.h_k], index=['m_k', 'n_k', 'h_k']).T"
   ]
  },
  {
   "cell_type": "code",
   "execution_count": null,
   "id": "bc4e375f",
   "metadata": {},
   "outputs": [],
   "source": [
    "from functools import partial\n",
    "import scipy.optimize as so\n",
    "def IncreasingSplitting(number_of_elements, number_of_slices = 5):\n",
    "    \n",
    "    if number_of_elements <= number_of_slices:\n",
    "        raise ValueError('El numero de slices es menor que el de elementos.')   \n",
    "    SplittingList = []\n",
    "    #Initial Splitting\n",
    "    Test = True\n",
    "    division = 2\n",
    "    while Test:\n",
    "        #number of elements inside of the first split\n",
    "        inner_elements = int(np.floor(number_of_elements / division))\n",
    "        #print(half_elements)\n",
    "        if number_of_elements - inner_elements < (number_of_slices-1):\n",
    "            #If the number of elements in the outer part is lower than the \n",
    "            #number of slices - 1 we can not do the following splits\n",
    "            #we need to change the initial splittings\n",
    "            division = division + 1\n",
    "        else:\n",
    "            #If there is enough outer elements we can continue with the splitting\n",
    "            Test = False\n",
    "    #print('Initial inner_elements: '+ str(inner_elements))    \n",
    "    #this is the mark for ending the spliting\n",
    "    shift = inner_elements\n",
    "    SplittingList.append(shift)\n",
    "    #Rest of the splitings will be done iteratively\n",
    "    Test = True\n",
    "    division = 2\n",
    "    number_of_slices = number_of_slices - 1\n",
    "    i = 0\n",
    "    while Test:\n",
    "        #print('\\t i: '+str(i))\n",
    "        if number_of_slices == 1:\n",
    "            SplittingList.append(number_of_elements)\n",
    "            Test = False\n",
    "        else:\n",
    "            outer_elements = number_of_elements - shift\n",
    "            #print('\\t\\t outer_elements: '+str(outer_elements))\n",
    "            #print('\\t\\t remaining slices: '+str(number_of_slices-1))                          \n",
    "            adding_elements = int(outer_elements / division) \n",
    "            inner_elements = shift + adding_elements\n",
    "            future_outer_elements = number_of_elements - inner_elements \n",
    "            #print('\\t\\t future_outer_elements: '+str(future_outer_elements))\n",
    "            if future_outer_elements < (number_of_slices - 1):\n",
    "                #We need another try\n",
    "                division = division + 1 \n",
    "            else:\n",
    "                #The splitting is good enough\n",
    "                SplittingList.append(inner_elements)\n",
    "                number_of_slices = number_of_slices - 1\n",
    "                shift = inner_elements\n",
    "                division = 2        \n",
    "        i = i + 1\n",
    "    return SplittingList\n",
    "\n",
    "def log_likelihood(theta: float, m_k: int, n_k: int, h_k: int) -> float:\n",
    "    r\"\"\"\n",
    "    Calculates log of the likelihood from Suzuki papper.\n",
    "\n",
    "    Notes\n",
    "    -----\n",
    "    .. math::\n",
    "        \\log{l_k(\\theta|h_k)} = 2h_k\\log\\big[\\sin\\left((2m_k+1)\\theta\\right)\\big]\n",
    "        +2(n_k-h_k)\\log\\big[\\cos\\left((2m_k+1)\\theta\\right)\\big]\n",
    "\n",
    "    Parameters\n",
    "    ----------\n",
    "\n",
    "    theta : float\n",
    "        Angle (radians) for calculating the probability of measure a\n",
    "        positive event.\n",
    "    m_k : int\n",
    "        number of times the grover operator was applied.\n",
    "    n_k : int\n",
    "        number of total events measured for the specific  m_k\n",
    "    h_k : int\n",
    "        number of positive events measured for each m_k\n",
    "\n",
    "    Returns\n",
    "    ----------\n",
    "\n",
    "    float\n",
    "        Gives the log Likelihood p(h_k with m_k amplifications|theta)\n",
    "\n",
    "    \"\"\"\n",
    "    theta_ = (2 * m_k + 1) * theta\n",
    "    p_0 = np.sin(theta_) ** 2\n",
    "    p_1 = np.cos(theta_) ** 2\n",
    "    l_k = h_k * np.log(p_0) + (n_k - h_k) * np.log(p_1)\n",
    "    return l_k\n",
    "\n",
    "def cost_function(angle: float, m_k: list, n_k: list, h_k: list) -> float:\n",
    "    r\"\"\"\n",
    "    This method calculates the -Likelihood of angle theta\n",
    "    for a given schedule m_k,n_k\n",
    "\n",
    "    Notes\n",
    "    -----\n",
    "    .. math::\n",
    "        L(\\theta,\\mathbf{h}) = -\\sum_{k = 0}^M\\log{l_k(\\theta|h_k)}\n",
    "\n",
    "    Parameters\n",
    "    ----------\n",
    "\n",
    "    angle: float\n",
    "        Angle (radians) for calculating the probability of measure a\n",
    "        positive event.\n",
    "    m_k : list of ints\n",
    "        number of times the grover operator was applied.\n",
    "    n_k : list of ints\n",
    "        number of total events measured for the specific  m_k\n",
    "    h_k : list of ints\n",
    "        number of positive events measured for each m_k\n",
    "\n",
    "    Returns\n",
    "    ----------\n",
    "\n",
    "    cost : float\n",
    "        the aggregation of the individual likelihoods\n",
    "    \"\"\"\n",
    "    log_cost = 0\n",
    "    # for i in range(len(m_k)):\n",
    "    for i, _ in enumerate(m_k):\n",
    "        log_l_k = log_likelihood(angle, m_k[i], n_k[i], h_k[i])\n",
    "        log_cost = log_cost + log_l_k\n",
    "    return -log_cost\n",
    "\n",
    "def do_mlae_computations(mlae_pdf, delta = 1e-7, ns = 10000, optimizer=None):\n",
    "    #Creamos la funcion parcial a partir de la Cost Function y de los resultados del MLAE\n",
    "    cost_function_partial = partial(\n",
    "        cost_function,\n",
    "        m_k = list(mlae_pdf['m_k']),\n",
    "        n_k = list(mlae_pdf['n_k']),\n",
    "        h_k = list(mlae_pdf['h_k'])             \n",
    "    )\n",
    "    #configuramos el optimizador\n",
    "    theta_domain = [(0 + delta, 0.5 * np.pi - delta)]\n",
    "    if optimizer is None:\n",
    "        optimizer = lambda x: so.brute(x, ranges = theta_domain, Ns=ns)\n",
    "        #Optimizamos\n",
    "        theta = optimizer(cost_function_partial)[0]\n",
    "    else:\n",
    "        theta = optimizer(cost_function_partial).x[0]\n",
    "        print(theta)\n",
    "        \n",
    "    #print(theta)\n",
    "    ae = np.sin(theta)**2\n",
    "    return ae\n",
    "\n",
    "\n",
    "\n",
    "def do_staff(mlae_results, delta = 1e-7, ns = 10000, number_of_slices = 5, min_meas = None, optimizer=None):\n",
    "    \n",
    "    if min_meas is not None:\n",
    "        mlae_results = mlae_results[mlae_results['h_k'] >= min_meas]\n",
    "    splits = IncreasingSplitting(len(mlae_results), number_of_slices = number_of_slices)\n",
    "    #print(mlae_results)\n",
    "    list_of_mlae = []\n",
    "    list_of_ae = []\n",
    "    for i in range(len(mlae_results)):\n",
    "        list_of_mlae.append(mlae_results[:i+1])\n",
    "        step_ae = do_mlae_computations(mlae_results[:i], delta = delta, ns = ns, optimizer = optimizer)\n",
    "        oracle_call_shots = np.sum(mlae_results[:i]['n_k']*(2*mlae_results[:i]['m_k']+1))\n",
    "        list_of_ae.append([oracle_call_shots, step_ae])\n",
    "    pdf = pd.DataFrame(list_of_ae)\n",
    "    pdf.rename(columns = {0: 'oracle_calls', 1:'ae'}, inplace=True)\n",
    "    return pdf"
   ]
  },
  {
   "cell_type": "code",
   "execution_count": null,
   "id": "e2c9e014",
   "metadata": {},
   "outputs": [],
   "source": [
    "bounds = [[0.+mlae.delta,np.pi/2-mlae.delta]]\n",
    "differential_evolution = lambda f: so.differential_evolution(f,bounds = bounds)\n",
    "kk = do_staff(mlae_results, number_of_slices=6, delta = 1e-8, ns = 10000, min_meas = 50, optimizer = differential_evolution)\n",
    "kk['integral_mlae'] = kk['ae']*normalization*(2**n)\n",
    "kk['error'] = np.abs(kk['integral_mlae']-np.sum(g_x))"
   ]
  },
  {
   "cell_type": "code",
   "execution_count": null,
   "id": "65685636",
   "metadata": {},
   "outputs": [],
   "source": [
    "plt.plot(ListOfShots, abs(QMC_01-sin_integral(a,b)), 'o-')\n",
    "plt.plot(ListOfShots, abs(QMC_03-sin_integral(a,b)), 'o-')\n",
    "plt.plot(ListOfShots_MC, abs(MC-sin_integral(a,b)), 'o-')\n",
    "plt.plot(kk['oracle_calls'], kk['error'], 'o-')\n",
    "plt.plot(ListOfShots, 1.0/np.array(ListOfShots))\n",
    "plt.plot(ListOfShots, 1.0/np.sqrt(np.array(ListOfShots)))\n",
    "plt.xlabel('Shots')\n",
    "plt.xscale('log')\n",
    "plt.ylabel('Absolute Erros')\n",
    "plt.yscale('log')    \n",
    "plt.legend(['QMC_01', 'QMC_02', 'MC', 'MLAE', r'$\\frac{1}{shots}$', r'$\\frac{1}{\\sqrt{shots}}$'])"
   ]
  },
  {
   "cell_type": "markdown",
   "id": "1a9106f1",
   "metadata": {},
   "source": [
    "## IQAE"
   ]
  },
  {
   "cell_type": "code",
   "execution_count": null,
   "id": "7cf53766",
   "metadata": {},
   "outputs": [],
   "source": [
    "from QQuantLib.AE.iterative_quantum_ae import IQAE"
   ]
  },
  {
   "cell_type": "code",
   "execution_count": null,
   "id": "4b865d40",
   "metadata": {},
   "outputs": [],
   "source": [
    "epsilon_list = [0.01, 0.01, 0.001, 0.0001, 0.00001]\n",
    "\n",
    "\n",
    "shots = 100\n",
    "alpha = 0.05\n",
    "iqae_list = []\n",
    "for epsilon in epsilon_list:\n",
    "    iqae_dict = {\n",
    "        'epsilon': epsilon,\n",
    "        'shots': shots,\n",
    "        'alpha': alpha,\n",
    "        'qpu': linalg_qpu,\n",
    "        'mcz_qlm': True       \n",
    "    }\n",
    "    iqae = IQAE(standard_encoding.oracle, target = standard_encoding.co_target, index = standard_encoding.co_index, **iqae_dict)\n",
    "    iqae.run()\n",
    "    step_pdf = pd.DataFrame.from_dict(iqae.schedule, orient='index', columns=['shots']).reset_index()\n",
    "    step_pdf.rename(columns={'index': 'm_k'}, inplace=True)\n",
    "    oracle_shots = np.sum((2*step_pdf['m_k']+1)*step_pdf['shots'])\n",
    "    step = iqae.ae *normalization*(2**n)\n",
    "    iqae_list.append([oracle_shots, step])"
   ]
  },
  {
   "cell_type": "raw",
   "id": "12aa6f02",
   "metadata": {},
   "source": [
    "step_pdf"
   ]
  },
  {
   "cell_type": "code",
   "execution_count": null,
   "id": "3877a66d",
   "metadata": {},
   "outputs": [],
   "source": [
    "iqae.ae"
   ]
  },
  {
   "cell_type": "code",
   "execution_count": null,
   "id": "e2a6e75b",
   "metadata": {},
   "outputs": [],
   "source": []
  },
  {
   "cell_type": "code",
   "execution_count": null,
   "id": "5a6719d9",
   "metadata": {},
   "outputs": [],
   "source": [
    "iqae_pdf = pd.DataFrame(iqae_list)"
   ]
  },
  {
   "cell_type": "code",
   "execution_count": null,
   "id": "26106086",
   "metadata": {},
   "outputs": [],
   "source": [
    "iqae_pdf[2] = np.abs(iqae_pdf[1]-np.sum(g_x))"
   ]
  },
  {
   "cell_type": "code",
   "execution_count": null,
   "id": "344366b7",
   "metadata": {},
   "outputs": [],
   "source": [
    "np.sum(g_x)"
   ]
  },
  {
   "cell_type": "code",
   "execution_count": null,
   "id": "11d6328c",
   "metadata": {
    "scrolled": true
   },
   "outputs": [],
   "source": [
    "iqae_pdf"
   ]
  },
  {
   "cell_type": "code",
   "execution_count": null,
   "id": "77ffd191",
   "metadata": {},
   "outputs": [],
   "source": [
    "plt.plot(ListOfShots, abs(QMC_01-sin_integral(a,b)), 'o-')\n",
    "plt.plot(ListOfShots, abs(QMC_03-sin_integral(a,b)), 'o-')\n",
    "plt.plot(ListOfShots_MC, abs(MC-sin_integral(a,b)), 'o-')\n",
    "plt.plot(kk['oracle_calls'], kk['error'], 'o-')\n",
    "plt.plot(iqae_pdf[0], iqae_pdf[2], 'o-')\n",
    "\n",
    "plt.plot(ListOfShots, 1.0/np.array(ListOfShots))\n",
    "plt.plot(ListOfShots, 1.0/np.sqrt(np.array(ListOfShots)))\n",
    "plt.xlabel('Shots')\n",
    "plt.xscale('log')\n",
    "plt.ylabel('Absolute Erros')\n",
    "plt.yscale('log')    \n",
    "plt.legend(['QMC_01', 'QMC_02', 'MC', 'MLAE', 'IQAE', r'$\\frac{1}{shots}$', r'$\\frac{1}{\\sqrt{shots}}$'])"
   ]
  },
  {
   "cell_type": "code",
   "execution_count": null,
   "id": "3b6e90a9",
   "metadata": {},
   "outputs": [],
   "source": [
    "oracle_shots"
   ]
  },
  {
   "cell_type": "code",
   "execution_count": null,
   "id": "9cba4c2a",
   "metadata": {},
   "outputs": [],
   "source": [
    "[step-np.sum(g_x)]"
   ]
  },
  {
   "cell_type": "code",
   "execution_count": null,
   "id": "6d6a2c12",
   "metadata": {},
   "outputs": [],
   "source": []
  }
 ],
 "metadata": {
  "kernelspec": {
   "display_name": "Python 3 (ipykernel)",
   "language": "python",
   "name": "python3"
  },
  "language_info": {
   "codemirror_mode": {
    "name": "ipython",
    "version": 3
   },
   "file_extension": ".py",
   "mimetype": "text/x-python",
   "name": "python",
   "nbconvert_exporter": "python",
   "pygments_lexer": "ipython3",
   "version": "3.9.9"
  }
 },
 "nbformat": 4,
 "nbformat_minor": 5
}
